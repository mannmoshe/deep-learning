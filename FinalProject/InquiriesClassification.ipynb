{
  "nbformat": 4,
  "nbformat_minor": 0,
  "metadata": {
    "colab": {
      "name": "InquiriesClassification.ipynb",
      "provenance": [],
      "toc_visible": true,
      "authorship_tag": "ABX9TyPCO3Pt5ujfZMRFLeDNeFs/",
      "include_colab_link": true
    },
    "kernelspec": {
      "name": "python3",
      "display_name": "Python 3"
    },
    "language_info": {
      "name": "python"
    }
  },
  "cells": [
    {
      "cell_type": "markdown",
      "metadata": {
        "id": "view-in-github",
        "colab_type": "text"
      },
      "source": [
        "<a href=\"https://colab.research.google.com/github/mannmoshe/deep-learning/blob/main/FinalProject/InquiriesClassification.ipynb\" target=\"_parent\"><img src=\"https://colab.research.google.com/assets/colab-badge.svg\" alt=\"Open In Colab\"/></a>"
      ]
    },
    {
      "cell_type": "markdown",
      "source": [
        "# Deep Learning Final Project<br>\n",
        "## Classify inquieries for customer assistant<br>\n",
        "By Moshe Mann"
      ],
      "metadata": {
        "id": "niDtBTyvEclK"
      }
    },
    {
      "cell_type": "markdown",
      "source": [
        "The goal is to classify inquiries for treatment group."
      ],
      "metadata": {
        "id": "D_pTuaLKFDsg"
      }
    },
    {
      "cell_type": "code",
      "execution_count": 38,
      "metadata": {
        "id": "3NyMTJ_0D3nl"
      },
      "outputs": [],
      "source": [
        "import pandas as pd\n",
        "import numpy as np\n",
        "from itertools import islice\n",
        "from sklearn.model_selection import train_test_split\n",
        "\n",
        "filepath = 'https://raw.githubusercontent.com/mannmoshe/deep-learning/main/FinalProject/ca_data.csv'\n",
        "ca_data = pd.read_csv(filepath, sep=',')"
      ]
    },
    {
      "cell_type": "code",
      "source": [
        "ca_data.head()"
      ],
      "metadata": {
        "colab": {
          "base_uri": "https://localhost:8080/",
          "height": 206
        },
        "id": "YKQ2FUa_FLIw",
        "outputId": "0829709b-4d50-4b95-b07a-c088af12edf3"
      },
      "execution_count": 39,
      "outputs": [
        {
          "output_type": "execute_result",
          "data": {
            "text/plain": [
              "   ticketNum                                        Description  \\\n",
              "0  I-5280814  נושא: RE: 352-0723635    בהוראות התכנית המקוונ...   \n",
              "1  I-5347670  נושא: עדכון תכנית מישיבות  היי אלי   כבר דיברת...   \n",
              "2  I-5393789  נושא: אפשרות חיפוש בחלונית בחירת ישויות  מאוחד...   \n",
              "3  I-6139329  נושא: FW: צרופה לתכנית 553-0674457 ממערכת מבאת...   \n",
              "4  I-5544212  שלום רב, נושא: השמשת מולטימדיה בחדרי החקירות צ...   \n",
              "\n",
              "                groupTreatment  groupTreatmentCode  \n",
              "0  צוות הדרכה והטמעה אפליקטיבי                   2  \n",
              "1  צוות הדרכה והטמעה אפליקטיבי                   2  \n",
              "2  צוות הדרכה והטמעה אפליקטיבי                   2  \n",
              "3  צוות הדרכה והטמעה אפליקטיבי                   2  \n",
              "4                  צוות טכנאים                   1  "
            ],
            "text/html": [
              "\n",
              "  <div id=\"df-0f9f6391-e707-4104-885d-818c7b8d8e6f\">\n",
              "    <div class=\"colab-df-container\">\n",
              "      <div>\n",
              "<style scoped>\n",
              "    .dataframe tbody tr th:only-of-type {\n",
              "        vertical-align: middle;\n",
              "    }\n",
              "\n",
              "    .dataframe tbody tr th {\n",
              "        vertical-align: top;\n",
              "    }\n",
              "\n",
              "    .dataframe thead th {\n",
              "        text-align: right;\n",
              "    }\n",
              "</style>\n",
              "<table border=\"1\" class=\"dataframe\">\n",
              "  <thead>\n",
              "    <tr style=\"text-align: right;\">\n",
              "      <th></th>\n",
              "      <th>ticketNum</th>\n",
              "      <th>Description</th>\n",
              "      <th>groupTreatment</th>\n",
              "      <th>groupTreatmentCode</th>\n",
              "    </tr>\n",
              "  </thead>\n",
              "  <tbody>\n",
              "    <tr>\n",
              "      <th>0</th>\n",
              "      <td>I-5280814</td>\n",
              "      <td>נושא: RE: 352-0723635    בהוראות התכנית המקוונ...</td>\n",
              "      <td>צוות הדרכה והטמעה אפליקטיבי</td>\n",
              "      <td>2</td>\n",
              "    </tr>\n",
              "    <tr>\n",
              "      <th>1</th>\n",
              "      <td>I-5347670</td>\n",
              "      <td>נושא: עדכון תכנית מישיבות  היי אלי   כבר דיברת...</td>\n",
              "      <td>צוות הדרכה והטמעה אפליקטיבי</td>\n",
              "      <td>2</td>\n",
              "    </tr>\n",
              "    <tr>\n",
              "      <th>2</th>\n",
              "      <td>I-5393789</td>\n",
              "      <td>נושא: אפשרות חיפוש בחלונית בחירת ישויות  מאוחד...</td>\n",
              "      <td>צוות הדרכה והטמעה אפליקטיבי</td>\n",
              "      <td>2</td>\n",
              "    </tr>\n",
              "    <tr>\n",
              "      <th>3</th>\n",
              "      <td>I-6139329</td>\n",
              "      <td>נושא: FW: צרופה לתכנית 553-0674457 ממערכת מבאת...</td>\n",
              "      <td>צוות הדרכה והטמעה אפליקטיבי</td>\n",
              "      <td>2</td>\n",
              "    </tr>\n",
              "    <tr>\n",
              "      <th>4</th>\n",
              "      <td>I-5544212</td>\n",
              "      <td>שלום רב, נושא: השמשת מולטימדיה בחדרי החקירות צ...</td>\n",
              "      <td>צוות טכנאים</td>\n",
              "      <td>1</td>\n",
              "    </tr>\n",
              "  </tbody>\n",
              "</table>\n",
              "</div>\n",
              "      <button class=\"colab-df-convert\" onclick=\"convertToInteractive('df-0f9f6391-e707-4104-885d-818c7b8d8e6f')\"\n",
              "              title=\"Convert this dataframe to an interactive table.\"\n",
              "              style=\"display:none;\">\n",
              "        \n",
              "  <svg xmlns=\"http://www.w3.org/2000/svg\" height=\"24px\"viewBox=\"0 0 24 24\"\n",
              "       width=\"24px\">\n",
              "    <path d=\"M0 0h24v24H0V0z\" fill=\"none\"/>\n",
              "    <path d=\"M18.56 5.44l.94 2.06.94-2.06 2.06-.94-2.06-.94-.94-2.06-.94 2.06-2.06.94zm-11 1L8.5 8.5l.94-2.06 2.06-.94-2.06-.94L8.5 2.5l-.94 2.06-2.06.94zm10 10l.94 2.06.94-2.06 2.06-.94-2.06-.94-.94-2.06-.94 2.06-2.06.94z\"/><path d=\"M17.41 7.96l-1.37-1.37c-.4-.4-.92-.59-1.43-.59-.52 0-1.04.2-1.43.59L10.3 9.45l-7.72 7.72c-.78.78-.78 2.05 0 2.83L4 21.41c.39.39.9.59 1.41.59.51 0 1.02-.2 1.41-.59l7.78-7.78 2.81-2.81c.8-.78.8-2.07 0-2.86zM5.41 20L4 18.59l7.72-7.72 1.47 1.35L5.41 20z\"/>\n",
              "  </svg>\n",
              "      </button>\n",
              "      \n",
              "  <style>\n",
              "    .colab-df-container {\n",
              "      display:flex;\n",
              "      flex-wrap:wrap;\n",
              "      gap: 12px;\n",
              "    }\n",
              "\n",
              "    .colab-df-convert {\n",
              "      background-color: #E8F0FE;\n",
              "      border: none;\n",
              "      border-radius: 50%;\n",
              "      cursor: pointer;\n",
              "      display: none;\n",
              "      fill: #1967D2;\n",
              "      height: 32px;\n",
              "      padding: 0 0 0 0;\n",
              "      width: 32px;\n",
              "    }\n",
              "\n",
              "    .colab-df-convert:hover {\n",
              "      background-color: #E2EBFA;\n",
              "      box-shadow: 0px 1px 2px rgba(60, 64, 67, 0.3), 0px 1px 3px 1px rgba(60, 64, 67, 0.15);\n",
              "      fill: #174EA6;\n",
              "    }\n",
              "\n",
              "    [theme=dark] .colab-df-convert {\n",
              "      background-color: #3B4455;\n",
              "      fill: #D2E3FC;\n",
              "    }\n",
              "\n",
              "    [theme=dark] .colab-df-convert:hover {\n",
              "      background-color: #434B5C;\n",
              "      box-shadow: 0px 1px 3px 1px rgba(0, 0, 0, 0.15);\n",
              "      filter: drop-shadow(0px 1px 2px rgba(0, 0, 0, 0.3));\n",
              "      fill: #FFFFFF;\n",
              "    }\n",
              "  </style>\n",
              "\n",
              "      <script>\n",
              "        const buttonEl =\n",
              "          document.querySelector('#df-0f9f6391-e707-4104-885d-818c7b8d8e6f button.colab-df-convert');\n",
              "        buttonEl.style.display =\n",
              "          google.colab.kernel.accessAllowed ? 'block' : 'none';\n",
              "\n",
              "        async function convertToInteractive(key) {\n",
              "          const element = document.querySelector('#df-0f9f6391-e707-4104-885d-818c7b8d8e6f');\n",
              "          const dataTable =\n",
              "            await google.colab.kernel.invokeFunction('convertToInteractive',\n",
              "                                                     [key], {});\n",
              "          if (!dataTable) return;\n",
              "\n",
              "          const docLinkHtml = 'Like what you see? Visit the ' +\n",
              "            '<a target=\"_blank\" href=https://colab.research.google.com/notebooks/data_table.ipynb>data table notebook</a>'\n",
              "            + ' to learn more about interactive tables.';\n",
              "          element.innerHTML = '';\n",
              "          dataTable['output_type'] = 'display_data';\n",
              "          await google.colab.output.renderOutput(dataTable, element);\n",
              "          const docLink = document.createElement('div');\n",
              "          docLink.innerHTML = docLinkHtml;\n",
              "          element.appendChild(docLink);\n",
              "        }\n",
              "      </script>\n",
              "    </div>\n",
              "  </div>\n",
              "  "
            ]
          },
          "metadata": {},
          "execution_count": 39
        }
      ]
    },
    {
      "cell_type": "markdown",
      "source": [
        "The ticketNum is shuffeled (Not true data)."
      ],
      "metadata": {
        "id": "38XsbfWFHN6f"
      }
    },
    {
      "cell_type": "code",
      "source": [
        "counts = ca_data['groupTreatment'].value_counts()\n",
        "percent = counts / counts.sum()\n",
        "fmt = '{:.1%}'.format\n",
        "print('all data distribution:')\n",
        "pd.DataFrame({'counts': counts, 'per': percent.map(fmt)})"
      ],
      "metadata": {
        "colab": {
          "base_uri": "https://localhost:8080/",
          "height": 318
        },
        "id": "v8egkpBRJC1d",
        "outputId": "5b6f495a-80e7-45b0-b610-897783d6cf9d"
      },
      "execution_count": 40,
      "outputs": [
        {
          "output_type": "stream",
          "name": "stdout",
          "text": [
            "all data distribution:\n"
          ]
        },
        {
          "output_type": "execute_result",
          "data": {
            "text/plain": [
              "                                  counts    per\n",
              "7878 מרכז שירות ותמיכה טכנולוגית    4455  65.0%\n",
              "צוות טכנאים                         1397  20.4%\n",
              "צוות הדרכה והטמעה אפליקטיבי          845  12.3%\n",
              "צוות תשתיות/סיסטם                    142   2.1%\n",
              "תקשורת ואבטחת מידע                     8   0.1%\n",
              "צוות פיקוח על הבניה                    3   0.0%\n",
              "צוות אינטגרציה                         2   0.0%\n",
              "צוות מרכז תמיכה URD                    1   0.0%"
            ],
            "text/html": [
              "\n",
              "  <div id=\"df-8b7fb23a-ef5e-427e-a0ba-79832522912b\">\n",
              "    <div class=\"colab-df-container\">\n",
              "      <div>\n",
              "<style scoped>\n",
              "    .dataframe tbody tr th:only-of-type {\n",
              "        vertical-align: middle;\n",
              "    }\n",
              "\n",
              "    .dataframe tbody tr th {\n",
              "        vertical-align: top;\n",
              "    }\n",
              "\n",
              "    .dataframe thead th {\n",
              "        text-align: right;\n",
              "    }\n",
              "</style>\n",
              "<table border=\"1\" class=\"dataframe\">\n",
              "  <thead>\n",
              "    <tr style=\"text-align: right;\">\n",
              "      <th></th>\n",
              "      <th>counts</th>\n",
              "      <th>per</th>\n",
              "    </tr>\n",
              "  </thead>\n",
              "  <tbody>\n",
              "    <tr>\n",
              "      <th>7878 מרכז שירות ותמיכה טכנולוגית</th>\n",
              "      <td>4455</td>\n",
              "      <td>65.0%</td>\n",
              "    </tr>\n",
              "    <tr>\n",
              "      <th>צוות טכנאים</th>\n",
              "      <td>1397</td>\n",
              "      <td>20.4%</td>\n",
              "    </tr>\n",
              "    <tr>\n",
              "      <th>צוות הדרכה והטמעה אפליקטיבי</th>\n",
              "      <td>845</td>\n",
              "      <td>12.3%</td>\n",
              "    </tr>\n",
              "    <tr>\n",
              "      <th>צוות תשתיות/סיסטם</th>\n",
              "      <td>142</td>\n",
              "      <td>2.1%</td>\n",
              "    </tr>\n",
              "    <tr>\n",
              "      <th>תקשורת ואבטחת מידע</th>\n",
              "      <td>8</td>\n",
              "      <td>0.1%</td>\n",
              "    </tr>\n",
              "    <tr>\n",
              "      <th>צוות פיקוח על הבניה</th>\n",
              "      <td>3</td>\n",
              "      <td>0.0%</td>\n",
              "    </tr>\n",
              "    <tr>\n",
              "      <th>צוות אינטגרציה</th>\n",
              "      <td>2</td>\n",
              "      <td>0.0%</td>\n",
              "    </tr>\n",
              "    <tr>\n",
              "      <th>צוות מרכז תמיכה URD</th>\n",
              "      <td>1</td>\n",
              "      <td>0.0%</td>\n",
              "    </tr>\n",
              "  </tbody>\n",
              "</table>\n",
              "</div>\n",
              "      <button class=\"colab-df-convert\" onclick=\"convertToInteractive('df-8b7fb23a-ef5e-427e-a0ba-79832522912b')\"\n",
              "              title=\"Convert this dataframe to an interactive table.\"\n",
              "              style=\"display:none;\">\n",
              "        \n",
              "  <svg xmlns=\"http://www.w3.org/2000/svg\" height=\"24px\"viewBox=\"0 0 24 24\"\n",
              "       width=\"24px\">\n",
              "    <path d=\"M0 0h24v24H0V0z\" fill=\"none\"/>\n",
              "    <path d=\"M18.56 5.44l.94 2.06.94-2.06 2.06-.94-2.06-.94-.94-2.06-.94 2.06-2.06.94zm-11 1L8.5 8.5l.94-2.06 2.06-.94-2.06-.94L8.5 2.5l-.94 2.06-2.06.94zm10 10l.94 2.06.94-2.06 2.06-.94-2.06-.94-.94-2.06-.94 2.06-2.06.94z\"/><path d=\"M17.41 7.96l-1.37-1.37c-.4-.4-.92-.59-1.43-.59-.52 0-1.04.2-1.43.59L10.3 9.45l-7.72 7.72c-.78.78-.78 2.05 0 2.83L4 21.41c.39.39.9.59 1.41.59.51 0 1.02-.2 1.41-.59l7.78-7.78 2.81-2.81c.8-.78.8-2.07 0-2.86zM5.41 20L4 18.59l7.72-7.72 1.47 1.35L5.41 20z\"/>\n",
              "  </svg>\n",
              "      </button>\n",
              "      \n",
              "  <style>\n",
              "    .colab-df-container {\n",
              "      display:flex;\n",
              "      flex-wrap:wrap;\n",
              "      gap: 12px;\n",
              "    }\n",
              "\n",
              "    .colab-df-convert {\n",
              "      background-color: #E8F0FE;\n",
              "      border: none;\n",
              "      border-radius: 50%;\n",
              "      cursor: pointer;\n",
              "      display: none;\n",
              "      fill: #1967D2;\n",
              "      height: 32px;\n",
              "      padding: 0 0 0 0;\n",
              "      width: 32px;\n",
              "    }\n",
              "\n",
              "    .colab-df-convert:hover {\n",
              "      background-color: #E2EBFA;\n",
              "      box-shadow: 0px 1px 2px rgba(60, 64, 67, 0.3), 0px 1px 3px 1px rgba(60, 64, 67, 0.15);\n",
              "      fill: #174EA6;\n",
              "    }\n",
              "\n",
              "    [theme=dark] .colab-df-convert {\n",
              "      background-color: #3B4455;\n",
              "      fill: #D2E3FC;\n",
              "    }\n",
              "\n",
              "    [theme=dark] .colab-df-convert:hover {\n",
              "      background-color: #434B5C;\n",
              "      box-shadow: 0px 1px 3px 1px rgba(0, 0, 0, 0.15);\n",
              "      filter: drop-shadow(0px 1px 2px rgba(0, 0, 0, 0.3));\n",
              "      fill: #FFFFFF;\n",
              "    }\n",
              "  </style>\n",
              "\n",
              "      <script>\n",
              "        const buttonEl =\n",
              "          document.querySelector('#df-8b7fb23a-ef5e-427e-a0ba-79832522912b button.colab-df-convert');\n",
              "        buttonEl.style.display =\n",
              "          google.colab.kernel.accessAllowed ? 'block' : 'none';\n",
              "\n",
              "        async function convertToInteractive(key) {\n",
              "          const element = document.querySelector('#df-8b7fb23a-ef5e-427e-a0ba-79832522912b');\n",
              "          const dataTable =\n",
              "            await google.colab.kernel.invokeFunction('convertToInteractive',\n",
              "                                                     [key], {});\n",
              "          if (!dataTable) return;\n",
              "\n",
              "          const docLinkHtml = 'Like what you see? Visit the ' +\n",
              "            '<a target=\"_blank\" href=https://colab.research.google.com/notebooks/data_table.ipynb>data table notebook</a>'\n",
              "            + ' to learn more about interactive tables.';\n",
              "          element.innerHTML = '';\n",
              "          dataTable['output_type'] = 'display_data';\n",
              "          await google.colab.output.renderOutput(dataTable, element);\n",
              "          const docLink = document.createElement('div');\n",
              "          docLink.innerHTML = docLinkHtml;\n",
              "          element.appendChild(docLink);\n",
              "        }\n",
              "      </script>\n",
              "    </div>\n",
              "  </div>\n",
              "  "
            ]
          },
          "metadata": {},
          "execution_count": 40
        }
      ]
    },
    {
      "cell_type": "markdown",
      "source": [
        "This is the code of every group, <br>\n",
        "all the groups with less than 10% of the inquiries have been grouped to one group (\"other\") <br> and got the same code.  "
      ],
      "metadata": {
        "id": "az3BpLcG-b38"
      }
    },
    {
      "cell_type": "code",
      "source": [
        "ca_data[['groupTreatment', 'groupTreatmentCode']].drop_duplicates().sort_values(by=['groupTreatmentCode'])"
      ],
      "metadata": {
        "colab": {
          "base_uri": "https://localhost:8080/",
          "height": 300
        },
        "id": "e_9ncvI5Hl0N",
        "outputId": "391d0937-29e2-45ea-f0fc-71545d1e5596"
      },
      "execution_count": 41,
      "outputs": [
        {
          "output_type": "execute_result",
          "data": {
            "text/plain": [
              "                        groupTreatment  groupTreatmentCode\n",
              "26    7878 מרכז שירות ותמיכה טכנולוגית                   0\n",
              "4                          צוות טכנאים                   1\n",
              "0          צוות הדרכה והטמעה אפליקטיבי                   2\n",
              "6                    צוות תשתיות/סיסטם                   3\n",
              "13                 צוות מרכז תמיכה URD                   3\n",
              "14                      צוות אינטגרציה                   3\n",
              "22                 צוות פיקוח על הבניה                   3\n",
              "1888                תקשורת ואבטחת מידע                   3"
            ],
            "text/html": [
              "\n",
              "  <div id=\"df-327b5479-4b55-4048-86c5-f8312503bf92\">\n",
              "    <div class=\"colab-df-container\">\n",
              "      <div>\n",
              "<style scoped>\n",
              "    .dataframe tbody tr th:only-of-type {\n",
              "        vertical-align: middle;\n",
              "    }\n",
              "\n",
              "    .dataframe tbody tr th {\n",
              "        vertical-align: top;\n",
              "    }\n",
              "\n",
              "    .dataframe thead th {\n",
              "        text-align: right;\n",
              "    }\n",
              "</style>\n",
              "<table border=\"1\" class=\"dataframe\">\n",
              "  <thead>\n",
              "    <tr style=\"text-align: right;\">\n",
              "      <th></th>\n",
              "      <th>groupTreatment</th>\n",
              "      <th>groupTreatmentCode</th>\n",
              "    </tr>\n",
              "  </thead>\n",
              "  <tbody>\n",
              "    <tr>\n",
              "      <th>26</th>\n",
              "      <td>7878 מרכז שירות ותמיכה טכנולוגית</td>\n",
              "      <td>0</td>\n",
              "    </tr>\n",
              "    <tr>\n",
              "      <th>4</th>\n",
              "      <td>צוות טכנאים</td>\n",
              "      <td>1</td>\n",
              "    </tr>\n",
              "    <tr>\n",
              "      <th>0</th>\n",
              "      <td>צוות הדרכה והטמעה אפליקטיבי</td>\n",
              "      <td>2</td>\n",
              "    </tr>\n",
              "    <tr>\n",
              "      <th>6</th>\n",
              "      <td>צוות תשתיות/סיסטם</td>\n",
              "      <td>3</td>\n",
              "    </tr>\n",
              "    <tr>\n",
              "      <th>13</th>\n",
              "      <td>צוות מרכז תמיכה URD</td>\n",
              "      <td>3</td>\n",
              "    </tr>\n",
              "    <tr>\n",
              "      <th>14</th>\n",
              "      <td>צוות אינטגרציה</td>\n",
              "      <td>3</td>\n",
              "    </tr>\n",
              "    <tr>\n",
              "      <th>22</th>\n",
              "      <td>צוות פיקוח על הבניה</td>\n",
              "      <td>3</td>\n",
              "    </tr>\n",
              "    <tr>\n",
              "      <th>1888</th>\n",
              "      <td>תקשורת ואבטחת מידע</td>\n",
              "      <td>3</td>\n",
              "    </tr>\n",
              "  </tbody>\n",
              "</table>\n",
              "</div>\n",
              "      <button class=\"colab-df-convert\" onclick=\"convertToInteractive('df-327b5479-4b55-4048-86c5-f8312503bf92')\"\n",
              "              title=\"Convert this dataframe to an interactive table.\"\n",
              "              style=\"display:none;\">\n",
              "        \n",
              "  <svg xmlns=\"http://www.w3.org/2000/svg\" height=\"24px\"viewBox=\"0 0 24 24\"\n",
              "       width=\"24px\">\n",
              "    <path d=\"M0 0h24v24H0V0z\" fill=\"none\"/>\n",
              "    <path d=\"M18.56 5.44l.94 2.06.94-2.06 2.06-.94-2.06-.94-.94-2.06-.94 2.06-2.06.94zm-11 1L8.5 8.5l.94-2.06 2.06-.94-2.06-.94L8.5 2.5l-.94 2.06-2.06.94zm10 10l.94 2.06.94-2.06 2.06-.94-2.06-.94-.94-2.06-.94 2.06-2.06.94z\"/><path d=\"M17.41 7.96l-1.37-1.37c-.4-.4-.92-.59-1.43-.59-.52 0-1.04.2-1.43.59L10.3 9.45l-7.72 7.72c-.78.78-.78 2.05 0 2.83L4 21.41c.39.39.9.59 1.41.59.51 0 1.02-.2 1.41-.59l7.78-7.78 2.81-2.81c.8-.78.8-2.07 0-2.86zM5.41 20L4 18.59l7.72-7.72 1.47 1.35L5.41 20z\"/>\n",
              "  </svg>\n",
              "      </button>\n",
              "      \n",
              "  <style>\n",
              "    .colab-df-container {\n",
              "      display:flex;\n",
              "      flex-wrap:wrap;\n",
              "      gap: 12px;\n",
              "    }\n",
              "\n",
              "    .colab-df-convert {\n",
              "      background-color: #E8F0FE;\n",
              "      border: none;\n",
              "      border-radius: 50%;\n",
              "      cursor: pointer;\n",
              "      display: none;\n",
              "      fill: #1967D2;\n",
              "      height: 32px;\n",
              "      padding: 0 0 0 0;\n",
              "      width: 32px;\n",
              "    }\n",
              "\n",
              "    .colab-df-convert:hover {\n",
              "      background-color: #E2EBFA;\n",
              "      box-shadow: 0px 1px 2px rgba(60, 64, 67, 0.3), 0px 1px 3px 1px rgba(60, 64, 67, 0.15);\n",
              "      fill: #174EA6;\n",
              "    }\n",
              "\n",
              "    [theme=dark] .colab-df-convert {\n",
              "      background-color: #3B4455;\n",
              "      fill: #D2E3FC;\n",
              "    }\n",
              "\n",
              "    [theme=dark] .colab-df-convert:hover {\n",
              "      background-color: #434B5C;\n",
              "      box-shadow: 0px 1px 3px 1px rgba(0, 0, 0, 0.15);\n",
              "      filter: drop-shadow(0px 1px 2px rgba(0, 0, 0, 0.3));\n",
              "      fill: #FFFFFF;\n",
              "    }\n",
              "  </style>\n",
              "\n",
              "      <script>\n",
              "        const buttonEl =\n",
              "          document.querySelector('#df-327b5479-4b55-4048-86c5-f8312503bf92 button.colab-df-convert');\n",
              "        buttonEl.style.display =\n",
              "          google.colab.kernel.accessAllowed ? 'block' : 'none';\n",
              "\n",
              "        async function convertToInteractive(key) {\n",
              "          const element = document.querySelector('#df-327b5479-4b55-4048-86c5-f8312503bf92');\n",
              "          const dataTable =\n",
              "            await google.colab.kernel.invokeFunction('convertToInteractive',\n",
              "                                                     [key], {});\n",
              "          if (!dataTable) return;\n",
              "\n",
              "          const docLinkHtml = 'Like what you see? Visit the ' +\n",
              "            '<a target=\"_blank\" href=https://colab.research.google.com/notebooks/data_table.ipynb>data table notebook</a>'\n",
              "            + ' to learn more about interactive tables.';\n",
              "          element.innerHTML = '';\n",
              "          dataTable['output_type'] = 'display_data';\n",
              "          await google.colab.output.renderOutput(dataTable, element);\n",
              "          const docLink = document.createElement('div');\n",
              "          docLink.innerHTML = docLinkHtml;\n",
              "          element.appendChild(docLink);\n",
              "        }\n",
              "      </script>\n",
              "    </div>\n",
              "  </div>\n",
              "  "
            ]
          },
          "metadata": {},
          "execution_count": 41
        }
      ]
    },
    {
      "cell_type": "code",
      "source": [
        "X = ca_data['Description']\n",
        "y = ca_data['groupTreatmentCode']"
      ],
      "metadata": {
        "id": "xju9M_hSJN56"
      },
      "execution_count": 42,
      "outputs": []
    },
    {
      "cell_type": "code",
      "source": [
        "x_train_temp, x_test_temp, y_train, y_test = train_test_split(X, y, test_size=0.33, random_state=4, stratify=y)"
      ],
      "metadata": {
        "id": "PpnVJy2CJWGc"
      },
      "execution_count": 43,
      "outputs": []
    },
    {
      "cell_type": "markdown",
      "source": [
        "stratify=y for keeping the same distribution at the train and the test."
      ],
      "metadata": {
        "id": "sXmZcjELXMRK"
      }
    },
    {
      "cell_type": "code",
      "source": [
        "print(x_train_temp.head(1), y_train.head(1))\n",
        "print(x_train_temp.shape, y_train.shape)"
      ],
      "metadata": {
        "colab": {
          "base_uri": "https://localhost:8080/"
        },
        "id": "E4uIVJjNLTwo",
        "outputId": "b091019a-c9ae-4571-bb3f-32f082ccd284"
      },
      "execution_count": 44,
      "outputs": [
        {
          "output_type": "stream",
          "name": "stdout",
          "text": [
            "405    נושא: דוח של נוכחות חברי ועדה משנה ב' מחוז תל ...\n",
            "Name: Description, dtype: object 405    0\n",
            "Name: groupTreatmentCode, dtype: int64\n",
            "(4591,) (4591,)\n"
          ]
        }
      ]
    },
    {
      "cell_type": "code",
      "source": [
        "print(x_test_temp.head(1), y_test.head(1))\n",
        "print(x_test_temp.shape, y_test.shape)"
      ],
      "metadata": {
        "colab": {
          "base_uri": "https://localhost:8080/"
        },
        "id": "goikODuKLdLC",
        "outputId": "0eec0c1c-ffda-41ae-ed74-3f3615b4e320"
      },
      "execution_count": 45,
      "outputs": [
        {
          "output_type": "stream",
          "name": "stdout",
          "text": [
            "455    נושא: היי , אודה לעזרתכם בדבר שליחת הודעה מה H...\n",
            "Name: Description, dtype: object 455    0\n",
            "Name: groupTreatmentCode, dtype: int64\n",
            "(2262,) (2262,)\n"
          ]
        }
      ]
    },
    {
      "cell_type": "code",
      "source": [
        "counts = y_train.value_counts()\n",
        "percent = counts / counts.sum()\n",
        "fmt = '{:.1%}'.format\n",
        "print('y_train distribution:')\n",
        "pd.DataFrame({'counts': counts, 'per': percent.map(fmt)})"
      ],
      "metadata": {
        "colab": {
          "base_uri": "https://localhost:8080/",
          "height": 192
        },
        "id": "jvhHYaGBL0B6",
        "outputId": "84edbcb3-a524-44f7-8715-afdb3e0dcdc6"
      },
      "execution_count": 46,
      "outputs": [
        {
          "output_type": "stream",
          "name": "stdout",
          "text": [
            "y_train distribution:\n"
          ]
        },
        {
          "output_type": "execute_result",
          "data": {
            "text/plain": [
              "   counts    per\n",
              "0    2985  65.0%\n",
              "1     936  20.4%\n",
              "2     566  12.3%\n",
              "3     104   2.3%"
            ],
            "text/html": [
              "\n",
              "  <div id=\"df-88bd00d7-d08c-473e-bdb0-921561a331ca\">\n",
              "    <div class=\"colab-df-container\">\n",
              "      <div>\n",
              "<style scoped>\n",
              "    .dataframe tbody tr th:only-of-type {\n",
              "        vertical-align: middle;\n",
              "    }\n",
              "\n",
              "    .dataframe tbody tr th {\n",
              "        vertical-align: top;\n",
              "    }\n",
              "\n",
              "    .dataframe thead th {\n",
              "        text-align: right;\n",
              "    }\n",
              "</style>\n",
              "<table border=\"1\" class=\"dataframe\">\n",
              "  <thead>\n",
              "    <tr style=\"text-align: right;\">\n",
              "      <th></th>\n",
              "      <th>counts</th>\n",
              "      <th>per</th>\n",
              "    </tr>\n",
              "  </thead>\n",
              "  <tbody>\n",
              "    <tr>\n",
              "      <th>0</th>\n",
              "      <td>2985</td>\n",
              "      <td>65.0%</td>\n",
              "    </tr>\n",
              "    <tr>\n",
              "      <th>1</th>\n",
              "      <td>936</td>\n",
              "      <td>20.4%</td>\n",
              "    </tr>\n",
              "    <tr>\n",
              "      <th>2</th>\n",
              "      <td>566</td>\n",
              "      <td>12.3%</td>\n",
              "    </tr>\n",
              "    <tr>\n",
              "      <th>3</th>\n",
              "      <td>104</td>\n",
              "      <td>2.3%</td>\n",
              "    </tr>\n",
              "  </tbody>\n",
              "</table>\n",
              "</div>\n",
              "      <button class=\"colab-df-convert\" onclick=\"convertToInteractive('df-88bd00d7-d08c-473e-bdb0-921561a331ca')\"\n",
              "              title=\"Convert this dataframe to an interactive table.\"\n",
              "              style=\"display:none;\">\n",
              "        \n",
              "  <svg xmlns=\"http://www.w3.org/2000/svg\" height=\"24px\"viewBox=\"0 0 24 24\"\n",
              "       width=\"24px\">\n",
              "    <path d=\"M0 0h24v24H0V0z\" fill=\"none\"/>\n",
              "    <path d=\"M18.56 5.44l.94 2.06.94-2.06 2.06-.94-2.06-.94-.94-2.06-.94 2.06-2.06.94zm-11 1L8.5 8.5l.94-2.06 2.06-.94-2.06-.94L8.5 2.5l-.94 2.06-2.06.94zm10 10l.94 2.06.94-2.06 2.06-.94-2.06-.94-.94-2.06-.94 2.06-2.06.94z\"/><path d=\"M17.41 7.96l-1.37-1.37c-.4-.4-.92-.59-1.43-.59-.52 0-1.04.2-1.43.59L10.3 9.45l-7.72 7.72c-.78.78-.78 2.05 0 2.83L4 21.41c.39.39.9.59 1.41.59.51 0 1.02-.2 1.41-.59l7.78-7.78 2.81-2.81c.8-.78.8-2.07 0-2.86zM5.41 20L4 18.59l7.72-7.72 1.47 1.35L5.41 20z\"/>\n",
              "  </svg>\n",
              "      </button>\n",
              "      \n",
              "  <style>\n",
              "    .colab-df-container {\n",
              "      display:flex;\n",
              "      flex-wrap:wrap;\n",
              "      gap: 12px;\n",
              "    }\n",
              "\n",
              "    .colab-df-convert {\n",
              "      background-color: #E8F0FE;\n",
              "      border: none;\n",
              "      border-radius: 50%;\n",
              "      cursor: pointer;\n",
              "      display: none;\n",
              "      fill: #1967D2;\n",
              "      height: 32px;\n",
              "      padding: 0 0 0 0;\n",
              "      width: 32px;\n",
              "    }\n",
              "\n",
              "    .colab-df-convert:hover {\n",
              "      background-color: #E2EBFA;\n",
              "      box-shadow: 0px 1px 2px rgba(60, 64, 67, 0.3), 0px 1px 3px 1px rgba(60, 64, 67, 0.15);\n",
              "      fill: #174EA6;\n",
              "    }\n",
              "\n",
              "    [theme=dark] .colab-df-convert {\n",
              "      background-color: #3B4455;\n",
              "      fill: #D2E3FC;\n",
              "    }\n",
              "\n",
              "    [theme=dark] .colab-df-convert:hover {\n",
              "      background-color: #434B5C;\n",
              "      box-shadow: 0px 1px 3px 1px rgba(0, 0, 0, 0.15);\n",
              "      filter: drop-shadow(0px 1px 2px rgba(0, 0, 0, 0.3));\n",
              "      fill: #FFFFFF;\n",
              "    }\n",
              "  </style>\n",
              "\n",
              "      <script>\n",
              "        const buttonEl =\n",
              "          document.querySelector('#df-88bd00d7-d08c-473e-bdb0-921561a331ca button.colab-df-convert');\n",
              "        buttonEl.style.display =\n",
              "          google.colab.kernel.accessAllowed ? 'block' : 'none';\n",
              "\n",
              "        async function convertToInteractive(key) {\n",
              "          const element = document.querySelector('#df-88bd00d7-d08c-473e-bdb0-921561a331ca');\n",
              "          const dataTable =\n",
              "            await google.colab.kernel.invokeFunction('convertToInteractive',\n",
              "                                                     [key], {});\n",
              "          if (!dataTable) return;\n",
              "\n",
              "          const docLinkHtml = 'Like what you see? Visit the ' +\n",
              "            '<a target=\"_blank\" href=https://colab.research.google.com/notebooks/data_table.ipynb>data table notebook</a>'\n",
              "            + ' to learn more about interactive tables.';\n",
              "          element.innerHTML = '';\n",
              "          dataTable['output_type'] = 'display_data';\n",
              "          await google.colab.output.renderOutput(dataTable, element);\n",
              "          const docLink = document.createElement('div');\n",
              "          docLink.innerHTML = docLinkHtml;\n",
              "          element.appendChild(docLink);\n",
              "        }\n",
              "      </script>\n",
              "    </div>\n",
              "  </div>\n",
              "  "
            ]
          },
          "metadata": {},
          "execution_count": 46
        }
      ]
    },
    {
      "cell_type": "code",
      "source": [
        "counts = y_test.value_counts()\n",
        "percent = counts / counts.sum()\n",
        "fmt = '{:.1%}'.format\n",
        "print('y_test distribution:')\n",
        "pd.DataFrame({'counts': counts, 'per': percent.map(fmt)})"
      ],
      "metadata": {
        "colab": {
          "base_uri": "https://localhost:8080/",
          "height": 192
        },
        "id": "sP1Q741bR4AC",
        "outputId": "23f7a367-34cd-49cc-9f70-b5c8cae3e396"
      },
      "execution_count": 47,
      "outputs": [
        {
          "output_type": "stream",
          "name": "stdout",
          "text": [
            "y_test distribution:\n"
          ]
        },
        {
          "output_type": "execute_result",
          "data": {
            "text/plain": [
              "   counts    per\n",
              "0    1470  65.0%\n",
              "1     461  20.4%\n",
              "2     279  12.3%\n",
              "3      52   2.3%"
            ],
            "text/html": [
              "\n",
              "  <div id=\"df-6c63fd21-03d6-429d-8c9c-7e104d716774\">\n",
              "    <div class=\"colab-df-container\">\n",
              "      <div>\n",
              "<style scoped>\n",
              "    .dataframe tbody tr th:only-of-type {\n",
              "        vertical-align: middle;\n",
              "    }\n",
              "\n",
              "    .dataframe tbody tr th {\n",
              "        vertical-align: top;\n",
              "    }\n",
              "\n",
              "    .dataframe thead th {\n",
              "        text-align: right;\n",
              "    }\n",
              "</style>\n",
              "<table border=\"1\" class=\"dataframe\">\n",
              "  <thead>\n",
              "    <tr style=\"text-align: right;\">\n",
              "      <th></th>\n",
              "      <th>counts</th>\n",
              "      <th>per</th>\n",
              "    </tr>\n",
              "  </thead>\n",
              "  <tbody>\n",
              "    <tr>\n",
              "      <th>0</th>\n",
              "      <td>1470</td>\n",
              "      <td>65.0%</td>\n",
              "    </tr>\n",
              "    <tr>\n",
              "      <th>1</th>\n",
              "      <td>461</td>\n",
              "      <td>20.4%</td>\n",
              "    </tr>\n",
              "    <tr>\n",
              "      <th>2</th>\n",
              "      <td>279</td>\n",
              "      <td>12.3%</td>\n",
              "    </tr>\n",
              "    <tr>\n",
              "      <th>3</th>\n",
              "      <td>52</td>\n",
              "      <td>2.3%</td>\n",
              "    </tr>\n",
              "  </tbody>\n",
              "</table>\n",
              "</div>\n",
              "      <button class=\"colab-df-convert\" onclick=\"convertToInteractive('df-6c63fd21-03d6-429d-8c9c-7e104d716774')\"\n",
              "              title=\"Convert this dataframe to an interactive table.\"\n",
              "              style=\"display:none;\">\n",
              "        \n",
              "  <svg xmlns=\"http://www.w3.org/2000/svg\" height=\"24px\"viewBox=\"0 0 24 24\"\n",
              "       width=\"24px\">\n",
              "    <path d=\"M0 0h24v24H0V0z\" fill=\"none\"/>\n",
              "    <path d=\"M18.56 5.44l.94 2.06.94-2.06 2.06-.94-2.06-.94-.94-2.06-.94 2.06-2.06.94zm-11 1L8.5 8.5l.94-2.06 2.06-.94-2.06-.94L8.5 2.5l-.94 2.06-2.06.94zm10 10l.94 2.06.94-2.06 2.06-.94-2.06-.94-.94-2.06-.94 2.06-2.06.94z\"/><path d=\"M17.41 7.96l-1.37-1.37c-.4-.4-.92-.59-1.43-.59-.52 0-1.04.2-1.43.59L10.3 9.45l-7.72 7.72c-.78.78-.78 2.05 0 2.83L4 21.41c.39.39.9.59 1.41.59.51 0 1.02-.2 1.41-.59l7.78-7.78 2.81-2.81c.8-.78.8-2.07 0-2.86zM5.41 20L4 18.59l7.72-7.72 1.47 1.35L5.41 20z\"/>\n",
              "  </svg>\n",
              "      </button>\n",
              "      \n",
              "  <style>\n",
              "    .colab-df-container {\n",
              "      display:flex;\n",
              "      flex-wrap:wrap;\n",
              "      gap: 12px;\n",
              "    }\n",
              "\n",
              "    .colab-df-convert {\n",
              "      background-color: #E8F0FE;\n",
              "      border: none;\n",
              "      border-radius: 50%;\n",
              "      cursor: pointer;\n",
              "      display: none;\n",
              "      fill: #1967D2;\n",
              "      height: 32px;\n",
              "      padding: 0 0 0 0;\n",
              "      width: 32px;\n",
              "    }\n",
              "\n",
              "    .colab-df-convert:hover {\n",
              "      background-color: #E2EBFA;\n",
              "      box-shadow: 0px 1px 2px rgba(60, 64, 67, 0.3), 0px 1px 3px 1px rgba(60, 64, 67, 0.15);\n",
              "      fill: #174EA6;\n",
              "    }\n",
              "\n",
              "    [theme=dark] .colab-df-convert {\n",
              "      background-color: #3B4455;\n",
              "      fill: #D2E3FC;\n",
              "    }\n",
              "\n",
              "    [theme=dark] .colab-df-convert:hover {\n",
              "      background-color: #434B5C;\n",
              "      box-shadow: 0px 1px 3px 1px rgba(0, 0, 0, 0.15);\n",
              "      filter: drop-shadow(0px 1px 2px rgba(0, 0, 0, 0.3));\n",
              "      fill: #FFFFFF;\n",
              "    }\n",
              "  </style>\n",
              "\n",
              "      <script>\n",
              "        const buttonEl =\n",
              "          document.querySelector('#df-6c63fd21-03d6-429d-8c9c-7e104d716774 button.colab-df-convert');\n",
              "        buttonEl.style.display =\n",
              "          google.colab.kernel.accessAllowed ? 'block' : 'none';\n",
              "\n",
              "        async function convertToInteractive(key) {\n",
              "          const element = document.querySelector('#df-6c63fd21-03d6-429d-8c9c-7e104d716774');\n",
              "          const dataTable =\n",
              "            await google.colab.kernel.invokeFunction('convertToInteractive',\n",
              "                                                     [key], {});\n",
              "          if (!dataTable) return;\n",
              "\n",
              "          const docLinkHtml = 'Like what you see? Visit the ' +\n",
              "            '<a target=\"_blank\" href=https://colab.research.google.com/notebooks/data_table.ipynb>data table notebook</a>'\n",
              "            + ' to learn more about interactive tables.';\n",
              "          element.innerHTML = '';\n",
              "          dataTable['output_type'] = 'display_data';\n",
              "          await google.colab.output.renderOutput(dataTable, element);\n",
              "          const docLink = document.createElement('div');\n",
              "          docLink.innerHTML = docLinkHtml;\n",
              "          element.appendChild(docLink);\n",
              "        }\n",
              "      </script>\n",
              "    </div>\n",
              "  </div>\n",
              "  "
            ]
          },
          "metadata": {},
          "execution_count": 47
        }
      ]
    },
    {
      "cell_type": "markdown",
      "source": [
        "# PreProcessing"
      ],
      "metadata": {
        "id": "eaI_RqNl_4L_"
      }
    },
    {
      "cell_type": "markdown",
      "source": [
        "Get top 10,000 frequent words from train data."
      ],
      "metadata": {
        "id": "3HbZa6soKCp5"
      }
    },
    {
      "cell_type": "code",
      "source": [
        "train_samples = x_train_temp.tolist()\n",
        "test_samples = x_test_temp.tolist()"
      ],
      "metadata": {
        "id": "xzxAI5wSQ1Wu"
      },
      "execution_count": 48,
      "outputs": []
    },
    {
      "cell_type": "code",
      "source": [
        "from keras.preprocessing.text import Tokenizer"
      ],
      "metadata": {
        "id": "bZN1s85HQFw5"
      },
      "execution_count": 49,
      "outputs": []
    },
    {
      "cell_type": "code",
      "source": [
        "# We create a tokenizer, configured to only take\n",
        "# into account the top-10000 most common words\n",
        "tokenizer = Tokenizer(num_words=10000)\n",
        "# This builds the word index\n",
        "tokenizer.fit_on_texts(train_samples)\n",
        "\n",
        "# This turns strings into lists of integer indices.\n",
        "train_sequences = tokenizer.texts_to_sequences(train_samples)\n",
        "\n",
        "# You could also directly get the one-hot binary representations.\n",
        "# Note that other vectorization modes than one-hot encoding are supported!\n",
        "x_train = tokenizer.texts_to_matrix(train_samples, mode='binary')\n",
        "x_test = tokenizer.texts_to_matrix(test_samples, mode='binary')\n",
        "\n",
        "# This is how you can recover the word index that was computed\n",
        "word_index = tokenizer.word_index\n",
        "print('Found %s unique tokens.' % len(word_index))"
      ],
      "metadata": {
        "colab": {
          "base_uri": "https://localhost:8080/"
        },
        "id": "6OrTdcetQPIu",
        "outputId": "113d71bb-ab5a-4e7d-af04-691454dc672a"
      },
      "execution_count": 50,
      "outputs": [
        {
          "output_type": "stream",
          "name": "stdout",
          "text": [
            "Found 15923 unique tokens.\n"
          ]
        }
      ]
    },
    {
      "cell_type": "code",
      "source": [
        "x_train[0]"
      ],
      "metadata": {
        "colab": {
          "base_uri": "https://localhost:8080/"
        },
        "id": "diIutoXqRzeP",
        "outputId": "6a68564c-942f-4256-d51d-a8e6fd88d076"
      },
      "execution_count": 51,
      "outputs": [
        {
          "output_type": "execute_result",
          "data": {
            "text/plain": [
              "array([0., 1., 1., ..., 0., 0., 0.])"
            ]
          },
          "metadata": {},
          "execution_count": 51
        }
      ]
    },
    {
      "cell_type": "code",
      "source": [
        "len(x_train[0])"
      ],
      "metadata": {
        "colab": {
          "base_uri": "https://localhost:8080/"
        },
        "id": "CGx3bXuuTEyN",
        "outputId": "1cd9d2ec-860b-4818-f4da-c8855875827e"
      },
      "execution_count": 52,
      "outputs": [
        {
          "output_type": "execute_result",
          "data": {
            "text/plain": [
              "10000"
            ]
          },
          "metadata": {},
          "execution_count": 52
        }
      ]
    },
    {
      "cell_type": "markdown",
      "source": [
        "**Encoding the labels**"
      ],
      "metadata": {
        "id": "mN8m5YfAaKxI"
      }
    },
    {
      "cell_type": "code",
      "source": [
        "train_labels = y_train.to_numpy()\n",
        "test_labels = y_test.to_numpy()"
      ],
      "metadata": {
        "id": "sys2jE8BUOiy"
      },
      "execution_count": 53,
      "outputs": []
    },
    {
      "cell_type": "code",
      "source": [
        "def to_one_hot(labels, dimension=4):\n",
        "    results = np.zeros((len(labels), dimension))\n",
        "    for i, label in enumerate(labels):\n",
        "        results[i, label] = 1.\n",
        "    return results\n",
        "y_train = to_one_hot(train_labels)\n",
        "y_test = to_one_hot(test_labels)"
      ],
      "metadata": {
        "id": "iaXJKTfyWNh8"
      },
      "execution_count": 54,
      "outputs": []
    },
    {
      "cell_type": "code",
      "source": [
        "print(train_labels[0], train_labels[5])\n",
        "print(y_train[0], y_train[5]) "
      ],
      "metadata": {
        "colab": {
          "base_uri": "https://localhost:8080/"
        },
        "id": "s5WWFLHRahz4",
        "outputId": "fc76364b-490b-4144-b112-3ca13b131f7e"
      },
      "execution_count": 55,
      "outputs": [
        {
          "output_type": "stream",
          "name": "stdout",
          "text": [
            "0 2\n",
            "[1. 0. 0. 0.] [0. 0. 1. 0.]\n"
          ]
        }
      ]
    },
    {
      "cell_type": "markdown",
      "source": [
        "# Model definition"
      ],
      "metadata": {
        "id": "gHCIpzlrWevl"
      }
    },
    {
      "cell_type": "markdown",
      "source": [
        "![softmax.png](data:image/png;base64,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)"
      ],
      "metadata": {
        "id": "Gd1jz2dfiigh"
      }
    },
    {
      "cell_type": "code",
      "source": [
        "import keras\n",
        "from keras import layers\n",
        "\n",
        "model = keras.Sequential([\n",
        "    layers.Dense(64, activation=\"relu\", input_shape=(10000,)),\n",
        "    layers.Dense(64, activation=\"relu\"),\n",
        "    layers.Dense(4, activation=\"softmax\")\n",
        "])"
      ],
      "metadata": {
        "id": "9OwimW8dWbT9"
      },
      "execution_count": 56,
      "outputs": []
    },
    {
      "cell_type": "code",
      "source": [
        "model.compile(optimizer='rmsprop',\n",
        "              loss='categorical_crossentropy',\n",
        "              metrics=['accuracy'])"
      ],
      "metadata": {
        "id": "kgHDbUDGYYjt"
      },
      "execution_count": 57,
      "outputs": []
    },
    {
      "cell_type": "code",
      "source": [
        "x_val = x_train[:1000]\n",
        "partial_x_train = x_train[1000:]\n",
        "\n",
        "y_val = y_train[:1000]\n",
        "partial_y_train = y_train[1000:]"
      ],
      "metadata": {
        "id": "lXQMt2BSYhKZ"
      },
      "execution_count": 58,
      "outputs": []
    },
    {
      "cell_type": "code",
      "source": [
        "history = model.fit(partial_x_train,\n",
        "                    partial_y_train,\n",
        "                    epochs=20,\n",
        "                    batch_size=512,\n",
        "                    validation_data=(x_val, y_val))"
      ],
      "metadata": {
        "colab": {
          "base_uri": "https://localhost:8080/"
        },
        "id": "ctG6WpprYp5p",
        "outputId": "a2938109-37f9-4343-f69e-65b7ff48c60a"
      },
      "execution_count": 59,
      "outputs": [
        {
          "output_type": "stream",
          "name": "stdout",
          "text": [
            "Epoch 1/20\n",
            "8/8 [==============================] - 1s 73ms/step - loss: 1.0953 - accuracy: 0.6179 - val_loss: 0.8774 - val_accuracy: 0.6740\n",
            "Epoch 2/20\n",
            "8/8 [==============================] - 0s 50ms/step - loss: 0.7738 - accuracy: 0.6895 - val_loss: 0.7585 - val_accuracy: 0.7010\n",
            "Epoch 3/20\n",
            "8/8 [==============================] - 0s 50ms/step - loss: 0.5979 - accuracy: 0.7803 - val_loss: 0.6981 - val_accuracy: 0.7500\n",
            "Epoch 4/20\n",
            "8/8 [==============================] - 0s 46ms/step - loss: 0.4677 - accuracy: 0.8574 - val_loss: 0.6669 - val_accuracy: 0.7500\n",
            "Epoch 5/20\n",
            "8/8 [==============================] - 0s 47ms/step - loss: 0.3666 - accuracy: 0.8914 - val_loss: 0.6564 - val_accuracy: 0.7500\n",
            "Epoch 6/20\n",
            "8/8 [==============================] - 0s 48ms/step - loss: 0.2925 - accuracy: 0.9195 - val_loss: 0.6689 - val_accuracy: 0.7510\n",
            "Epoch 7/20\n",
            "8/8 [==============================] - 0s 47ms/step - loss: 0.2331 - accuracy: 0.9354 - val_loss: 0.7042 - val_accuracy: 0.7040\n",
            "Epoch 8/20\n",
            "8/8 [==============================] - 0s 47ms/step - loss: 0.1924 - accuracy: 0.9468 - val_loss: 0.7353 - val_accuracy: 0.7470\n",
            "Epoch 9/20\n",
            "8/8 [==============================] - 0s 48ms/step - loss: 0.1564 - accuracy: 0.9546 - val_loss: 0.7739 - val_accuracy: 0.7440\n",
            "Epoch 10/20\n",
            "8/8 [==============================] - 0s 47ms/step - loss: 0.1262 - accuracy: 0.9655 - val_loss: 0.7659 - val_accuracy: 0.7220\n",
            "Epoch 11/20\n",
            "8/8 [==============================] - 0s 48ms/step - loss: 0.1057 - accuracy: 0.9772 - val_loss: 0.7933 - val_accuracy: 0.7120\n",
            "Epoch 12/20\n",
            "8/8 [==============================] - 0s 48ms/step - loss: 0.0872 - accuracy: 0.9841 - val_loss: 0.8394 - val_accuracy: 0.7360\n",
            "Epoch 13/20\n",
            "8/8 [==============================] - 0s 47ms/step - loss: 0.0742 - accuracy: 0.9833 - val_loss: 0.8742 - val_accuracy: 0.7310\n",
            "Epoch 14/20\n",
            "8/8 [==============================] - 0s 48ms/step - loss: 0.0563 - accuracy: 0.9908 - val_loss: 0.9442 - val_accuracy: 0.7330\n",
            "Epoch 15/20\n",
            "8/8 [==============================] - 0s 50ms/step - loss: 0.0491 - accuracy: 0.9903 - val_loss: 0.9449 - val_accuracy: 0.7150\n",
            "Epoch 16/20\n",
            "8/8 [==============================] - 0s 47ms/step - loss: 0.0383 - accuracy: 0.9922 - val_loss: 1.0313 - val_accuracy: 0.7320\n",
            "Epoch 17/20\n",
            "8/8 [==============================] - 0s 48ms/step - loss: 0.0304 - accuracy: 0.9953 - val_loss: 1.0501 - val_accuracy: 0.7340\n",
            "Epoch 18/20\n",
            "8/8 [==============================] - 0s 47ms/step - loss: 0.0245 - accuracy: 0.9961 - val_loss: 1.1272 - val_accuracy: 0.7320\n",
            "Epoch 19/20\n",
            "8/8 [==============================] - 0s 48ms/step - loss: 0.0205 - accuracy: 0.9969 - val_loss: 1.2561 - val_accuracy: 0.7350\n",
            "Epoch 20/20\n",
            "8/8 [==============================] - 0s 46ms/step - loss: 0.0194 - accuracy: 0.9964 - val_loss: 1.2226 - val_accuracy: 0.7240\n"
          ]
        }
      ]
    },
    {
      "cell_type": "code",
      "source": [
        "import matplotlib.pyplot as plt\n",
        "\n",
        "loss = history.history['loss']\n",
        "val_loss = history.history['val_loss']\n",
        "\n",
        "epochs = range(1, len(loss) + 1)\n",
        "\n",
        "plt.plot(epochs, loss, 'bo', label='Training loss')\n",
        "plt.plot(epochs, val_loss, 'b', label='Validation loss')\n",
        "plt.title('Training and validation loss')\n",
        "plt.xlabel('Epochs')\n",
        "plt.ylabel('Loss')\n",
        "plt.legend()\n",
        "\n",
        "plt.show()"
      ],
      "metadata": {
        "colab": {
          "base_uri": "https://localhost:8080/",
          "height": 295
        },
        "id": "aqD70JF3i6EA",
        "outputId": "9214e5a6-b739-42d9-b42e-d87fe7166d94"
      },
      "execution_count": 60,
      "outputs": [
        {
          "output_type": "display_data",
          "data": {
            "text/plain": [
              "<Figure size 432x288 with 1 Axes>"
            ],
            "image/png": "[encoded data removed]"
          },
          "metadata": {
            "needs_background": "light"
          }
        }
      ]
    },
    {
      "cell_type": "code",
      "source": [
        "plt.clf() # clear figure\n",
        "\n",
        "acc = history.history['accuracy']\n",
        "val_acc = history.history['val_accuracy']\n",
        "\n",
        "plt.plot(epochs, acc, 'bo', label='Training acc')\n",
        "plt.plot(epochs, val_acc, 'b', label='Validation acc')\n",
        "plt.title('Training and validation accuracy')\n",
        "plt.xlabel('Epochs')\n",
        "plt.ylabel('Loss')\n",
        "plt.legend()\n",
        "\n",
        "plt.show()"
      ],
      "metadata": {
        "colab": {
          "base_uri": "https://localhost:8080/",
          "height": 295
        },
        "id": "SfQlGS-bjFEH",
        "outputId": "66c08584-51a4-4094-f577-acf14997c725"
      },
      "execution_count": 61,
      "outputs": [
        {
          "output_type": "display_data",
          "data": {
            "text/plain": [
              "<Figure size 432x288 with 1 Axes>"
            ],
            "image/png": "[encoded data removed]"
          },
          "metadata": {
            "needs_background": "light"
          }
        }
      ]
    },
    {
      "cell_type": "code",
      "source": [
        "model = keras.Sequential([\n",
        "  layers.Dense(64, activation=\"relu\"),\n",
        "  layers.Dense(64, activation=\"relu\"),\n",
        "  layers.Dense(4, activation=\"softmax\")\n",
        "])\n",
        "model.compile(optimizer=\"rmsprop\",\n",
        "              loss=\"categorical_crossentropy\",\n",
        "              metrics=[\"accuracy\"])\n",
        "model.fit(x_train,\n",
        "          y_train,\n",
        "          epochs=5,\n",
        "          batch_size=512)\n",
        "results = model.evaluate(x_test, y_test)"
      ],
      "metadata": {
        "colab": {
          "base_uri": "https://localhost:8080/"
        },
        "id": "-Bonkac1kOAY",
        "outputId": "a8753ac1-6636-4fb6-c5dd-46217d771953"
      },
      "execution_count": 62,
      "outputs": [
        {
          "output_type": "stream",
          "name": "stdout",
          "text": [
            "Epoch 1/5\n",
            "9/9 [==============================] - 1s 46ms/step - loss: 1.0680 - accuracy: 0.6236\n",
            "Epoch 2/5\n",
            "9/9 [==============================] - 0s 43ms/step - loss: 0.7229 - accuracy: 0.7214\n",
            "Epoch 3/5\n",
            "9/9 [==============================] - 0s 44ms/step - loss: 0.5377 - accuracy: 0.8048\n",
            "Epoch 4/5\n",
            "9/9 [==============================] - 0s 44ms/step - loss: 0.4073 - accuracy: 0.8769\n",
            "Epoch 5/5\n",
            "9/9 [==============================] - 0s 41ms/step - loss: 0.3140 - accuracy: 0.9052\n",
            "71/71 [==============================] - 0s 3ms/step - loss: 0.6111 - accuracy: 0.7546\n"
          ]
        }
      ]
    },
    {
      "cell_type": "code",
      "source": [
        "print('loss:' ,results[0])\n",
        "print('acc:' ,results[1])"
      ],
      "metadata": {
        "colab": {
          "base_uri": "https://localhost:8080/"
        },
        "id": "bFwABmYrlawn",
        "outputId": "7f1afa82-be0a-44d3-f049-8eefad2f3a68"
      },
      "execution_count": 63,
      "outputs": [
        {
          "output_type": "stream",
          "name": "stdout",
          "text": [
            "loss: 0.6111011505126953\n",
            "acc: 0.7546418905258179\n"
          ]
        }
      ]
    },
    {
      "cell_type": "markdown",
      "source": [
        "\n",
        "This approach reaches an accuracy of ~76%.<br>\n",
        "Pretty good, at least when compared to\n",
        "a random baseline:"
      ],
      "metadata": {
        "id": "C0mPUkihls5v"
      }
    },
    {
      "cell_type": "code",
      "source": [
        "import copy\n",
        "test_labels_copy = copy.copy(test_labels)\n",
        "np.random.shuffle(test_labels_copy)\n",
        "hits_array = np.array(test_labels) == np.array(test_labels_copy)\n",
        "print('random baseline:')\n",
        "hits_array.mean()"
      ],
      "metadata": {
        "colab": {
          "base_uri": "https://localhost:8080/"
        },
        "id": "bkn4wh3qld1P",
        "outputId": "76016ce2-609e-4795-afd9-97ad62951dfd"
      },
      "execution_count": 64,
      "outputs": [
        {
          "output_type": "stream",
          "name": "stdout",
          "text": [
            "random baseline:\n"
          ]
        },
        {
          "output_type": "execute_result",
          "data": {
            "text/plain": [
              "0.46595932802829354"
            ]
          },
          "metadata": {},
          "execution_count": 64
        }
      ]
    },
    {
      "cell_type": "code",
      "source": [
        "predictions = model.predict(x_test)"
      ],
      "metadata": {
        "id": "oWdLREX3mNl1"
      },
      "execution_count": 65,
      "outputs": []
    },
    {
      "cell_type": "code",
      "source": [
        "len(predictions)"
      ],
      "metadata": {
        "colab": {
          "base_uri": "https://localhost:8080/"
        },
        "id": "U0TlIQ45mV09",
        "outputId": "45116505-301a-41c4-bcfd-8c9813d9c862"
      },
      "execution_count": 66,
      "outputs": [
        {
          "output_type": "execute_result",
          "data": {
            "text/plain": [
              "2262"
            ]
          },
          "metadata": {},
          "execution_count": 66
        }
      ]
    },
    {
      "cell_type": "code",
      "source": [
        "treatment_group_predictions = np.array([np.argmax(predictions[i]) for i in range(len(predictions))])"
      ],
      "metadata": {
        "id": "MW-2NACCmjaG"
      },
      "execution_count": 67,
      "outputs": []
    },
    {
      "cell_type": "code",
      "source": [
        "treatment_group_predictions[:20]"
      ],
      "metadata": {
        "colab": {
          "base_uri": "https://localhost:8080/"
        },
        "id": "gDXIP6g6no25",
        "outputId": "5861a9d0-dc72-46d6-c922-a007102f1fd9"
      },
      "execution_count": 68,
      "outputs": [
        {
          "output_type": "execute_result",
          "data": {
            "text/plain": [
              "array([0, 0, 0, 0, 0, 0, 0, 0, 0, 0, 2, 2, 0, 2, 0, 0, 0, 0, 0, 0])"
            ]
          },
          "metadata": {},
          "execution_count": 68
        }
      ]
    },
    {
      "cell_type": "code",
      "source": [
        "test_labels[:20]"
      ],
      "metadata": {
        "colab": {
          "base_uri": "https://localhost:8080/"
        },
        "id": "uqWfTNqfm1hN",
        "outputId": "2ff05a0e-3e1f-4bb8-f298-8d42be679ea3"
      },
      "execution_count": 69,
      "outputs": [
        {
          "output_type": "execute_result",
          "data": {
            "text/plain": [
              "array([0, 0, 0, 1, 0, 0, 0, 0, 0, 1, 2, 2, 0, 1, 0, 0, 0, 0, 0, 0])"
            ]
          },
          "metadata": {},
          "execution_count": 69
        }
      ]
    },
    {
      "cell_type": "code",
      "source": [
        "from sklearn.metrics import accuracy_score\n",
        "accuracy_score(test_labels, treatment_group_predictions)"
      ],
      "metadata": {
        "colab": {
          "base_uri": "https://localhost:8080/"
        },
        "id": "-1hcKFEHoR0l",
        "outputId": "d038f9b2-21e2-4f50-df7e-f48c2a0b8a36"
      },
      "execution_count": 70,
      "outputs": [
        {
          "output_type": "execute_result",
          "data": {
            "text/plain": [
              "0.7546419098143236"
            ]
          },
          "metadata": {},
          "execution_count": 70
        }
      ]
    },
    {
      "cell_type": "code",
      "source": [
        "from sklearn.metrics import confusion_matrix\n",
        "confusion_matrix(test_labels, treatment_group_predictions)"
      ],
      "metadata": {
        "colab": {
          "base_uri": "https://localhost:8080/"
        },
        "id": "yrDZmtosLvXM",
        "outputId": "9038498e-d1d6-42c8-d7de-4473d0b8d9f5"
      },
      "execution_count": 71,
      "outputs": [
        {
          "output_type": "execute_result",
          "data": {
            "text/plain": [
              "array([[1313,   81,   76,    0],\n",
              "       [ 201,  259,    1,    0],\n",
              "       [ 140,    4,  135,    0],\n",
              "       [  32,   18,    2,    0]])"
            ]
          },
          "metadata": {},
          "execution_count": 71
        }
      ]
    },
    {
      "cell_type": "markdown",
      "source": [
        "Now instead of one-hot encoding let's try using embedding layer"
      ],
      "metadata": {
        "id": "aA7dcID44OCM"
      }
    },
    {
      "cell_type": "code",
      "source": [
        "lens = [len(s) for s in train_sequences]"
      ],
      "metadata": {
        "id": "1CP5ausb4Wkv"
      },
      "execution_count": 75,
      "outputs": []
    },
    {
      "cell_type": "code",
      "source": [
        "lens[:20]"
      ],
      "metadata": {
        "colab": {
          "base_uri": "https://localhost:8080/"
        },
        "id": "gxo13jsq6Vpw",
        "outputId": "2c48b5e7-1811-4e72-dbbd-564edaa54afc"
      },
      "execution_count": 84,
      "outputs": [
        {
          "output_type": "execute_result",
          "data": {
            "text/plain": [
              "[41, 7, 31, 9, 26, 37, 23, 35, 41, 32, 38, 34, 39, 7, 37, 11, 17, 27, 27, 26]"
            ]
          },
          "metadata": {},
          "execution_count": 84
        }
      ]
    },
    {
      "cell_type": "code",
      "source": [
        "sum(lens)/len(lens)"
      ],
      "metadata": {
        "colab": {
          "base_uri": "https://localhost:8080/"
        },
        "id": "Xc4Dkac84zJ-",
        "outputId": "99abb156-ca48-4999-a3c8-244adc14521e"
      },
      "execution_count": 82,
      "outputs": [
        {
          "output_type": "execute_result",
          "data": {
            "text/plain": [
              "26.93944674362884"
            ]
          },
          "metadata": {},
          "execution_count": 82
        }
      ]
    },
    {
      "cell_type": "markdown",
      "source": [
        "average of 27 words to inquiery."
      ],
      "metadata": {
        "id": "3LkPXLM95_-x"
      }
    },
    {
      "cell_type": "code",
      "source": [
        "# preprocess train_sequences for embedding layer\n",
        "# if inquiery is shorter than 27 words we will add zeros\n",
        "max_len = 27\n",
        "x_train_embedding = []\n",
        "\n",
        "for s in train_sequences:\n",
        "  if len(s) >= 27:\n",
        "    x_train_embedding.append(s[:27])\n",
        "  else:\n",
        "    x_train_embedding.append(s + [0]*(max_len-len(s)))\n",
        "\n",
        "x_train_embedding = np.array(x_train_embedding)"
      ],
      "metadata": {
        "id": "udrZDEAz6L7P"
      },
      "execution_count": 101,
      "outputs": []
    },
    {
      "cell_type": "code",
      "source": [
        "x_train_embedding[1]"
      ],
      "metadata": {
        "colab": {
          "base_uri": "https://localhost:8080/"
        },
        "id": "8I_POwTu98RH",
        "outputId": "a8c0ea81-73c7-4002-e2ac-55edebb378f6"
      },
      "execution_count": 106,
      "outputs": [
        {
          "output_type": "execute_result",
          "data": {
            "text/plain": [
              "array([   1, 1476,  160, 1771,   63,    6,  341,    0,    0,    0,    0,\n",
              "          0,    0,    0,    0,    0,    0,    0,    0,    0,    0,    0,\n",
              "          0,    0,    0,    0,    0])"
            ]
          },
          "metadata": {},
          "execution_count": 106
        }
      ]
    },
    {
      "cell_type": "code",
      "source": [
        "from keras.layers import Embedding\n",
        "from keras.models import Sequential\n",
        "from keras.layers import Flatten, Dense\n",
        "\n",
        "model = Sequential()\n",
        "# We specify the maximum input length to our Embedding layer\n",
        "# so we can later flatten the embedded inputs\n",
        "model.add(Embedding(10000, 8, input_length=max_len))\n",
        "# After the Embedding layer, \n",
        "# our activations have shape `(samples, maxlen, 8)`.\n",
        "\n",
        "# We flatten the 3D tensor of embeddings \n",
        "# into a 2D tensor of shape `(samples, maxlen * 8)`\n",
        "model.add(Flatten())\n",
        "\n",
        "model.add(Dense(16, activation='relu'))\n",
        "model.add(Dense(4, activation='softmax'))\n",
        "model.compile(optimizer='rmsprop', loss='categorical_crossentropy', metrics=['acc'])\n",
        "model.summary()\n",
        "\n",
        "history = model.fit(x_train_embedding, y_train,\n",
        "                    epochs=10,\n",
        "                    batch_size=32,\n",
        "                    validation_split=0.33)"
      ],
      "metadata": {
        "colab": {
          "base_uri": "https://localhost:8080/"
        },
        "id": "FhliowTy8KMt",
        "outputId": "636583ad-9edd-443d-d5f0-3cb33c60d7df"
      },
      "execution_count": 117,
      "outputs": [
        {
          "output_type": "stream",
          "name": "stdout",
          "text": [
            "Model: \"sequential_15\"\n",
            "_________________________________________________________________\n",
            " Layer (type)                Output Shape              Param #   \n",
            "=================================================================\n",
            " embedding_12 (Embedding)    (None, 27, 8)             80000     \n",
            "                                                                 \n",
            " flatten_11 (Flatten)        (None, 216)               0         \n",
            "                                                                 \n",
            " dense_27 (Dense)            (None, 16)                3472      \n",
            "                                                                 \n",
            " dense_28 (Dense)            (None, 4)                 68        \n",
            "                                                                 \n",
            "=================================================================\n",
            "Total params: 83,540\n",
            "Trainable params: 83,540\n",
            "Non-trainable params: 0\n",
            "_________________________________________________________________\n",
            "Epoch 1/10\n",
            "97/97 [==============================] - 1s 4ms/step - loss: 1.0378 - acc: 0.6478 - val_loss: 0.8826 - val_acc: 0.6491\n",
            "Epoch 2/10\n",
            "97/97 [==============================] - 0s 3ms/step - loss: 0.8155 - acc: 0.6706 - val_loss: 0.8228 - val_acc: 0.6873\n",
            "Epoch 3/10\n",
            "97/97 [==============================] - 0s 3ms/step - loss: 0.7201 - acc: 0.7210 - val_loss: 0.7887 - val_acc: 0.7038\n",
            "Epoch 4/10\n",
            "97/97 [==============================] - 0s 3ms/step - loss: 0.6179 - acc: 0.7685 - val_loss: 0.7627 - val_acc: 0.7025\n",
            "Epoch 5/10\n",
            "97/97 [==============================] - 0s 3ms/step - loss: 0.5081 - acc: 0.8029 - val_loss: 0.7454 - val_acc: 0.7071\n",
            "Epoch 6/10\n",
            "97/97 [==============================] - 0s 3ms/step - loss: 0.4015 - acc: 0.8556 - val_loss: 0.7414 - val_acc: 0.7157\n",
            "Epoch 7/10\n",
            "97/97 [==============================] - 0s 3ms/step - loss: 0.3054 - acc: 0.9034 - val_loss: 0.7511 - val_acc: 0.7243\n",
            "Epoch 8/10\n",
            "97/97 [==============================] - 0s 3ms/step - loss: 0.2256 - acc: 0.9385 - val_loss: 0.7701 - val_acc: 0.7210\n",
            "Epoch 9/10\n",
            "97/97 [==============================] - 0s 3ms/step - loss: 0.1643 - acc: 0.9538 - val_loss: 0.8019 - val_acc: 0.7216\n",
            "Epoch 10/10\n",
            "97/97 [==============================] - 0s 3ms/step - loss: 0.1202 - acc: 0.9646 - val_loss: 0.8465 - val_acc: 0.7190\n"
          ]
        }
      ]
    },
    {
      "cell_type": "markdown",
      "source": [
        "# RNN with LSTM"
      ],
      "metadata": {
        "id": "8mIOwFbVWRQT"
      }
    },
    {
      "cell_type": "code",
      "source": [
        "from keras.layers import SimpleRNN\n",
        "from keras.layers import LSTM\n",
        "from keras.layers import Dropout"
      ],
      "metadata": {
        "id": "heqea_S8WWq5"
      },
      "execution_count": 121,
      "outputs": []
    },
    {
      "cell_type": "code",
      "source": [
        "model = Sequential()\n",
        "model.add(Embedding(10000, 8, input_length=max_len))\n",
        "# model.add(LSTM(32, return_sequences = True))\n",
        "# model.add(Dropout(0.2)) \n",
        "# model.add(LSTM(32, return_sequences = True))\n",
        "# model.add(Dropout(0.2))\n",
        "# model.add(LSTM(32, return_sequences = True))\n",
        "# model.add(Dropout(0.2))\n",
        "model.add(LSTM(64))\n",
        "\n",
        "model.add(Dense(4, activation='softmax'))\n",
        "model.compile(optimizer='rmsprop', loss='categorical_crossentropy', metrics=['acc'])\n",
        "model.summary()\n",
        "\n",
        "history = model.fit(x_train_embedding, y_train,\n",
        "                    epochs=10,\n",
        "                    batch_size=32,\n",
        "                    validation_split=0.33)"
      ],
      "metadata": {
        "id": "UOFdKuy4XCeu",
        "outputId": "d021352c-fe44-4976-b068-f12eba650f0c",
        "colab": {
          "base_uri": "https://localhost:8080/"
        }
      },
      "execution_count": 125,
      "outputs": [
        {
          "output_type": "stream",
          "name": "stdout",
          "text": [
            "Model: \"sequential_21\"\n",
            "_________________________________________________________________\n",
            " Layer (type)                Output Shape              Param #   \n",
            "=================================================================\n",
            " embedding_18 (Embedding)    (None, 27, 8)             80000     \n",
            "                                                                 \n",
            " lstm_8 (LSTM)               (None, 64)                18688     \n",
            "                                                                 \n",
            " dense_34 (Dense)            (None, 4)                 260       \n",
            "                                                                 \n",
            "=================================================================\n",
            "Total params: 98,948\n",
            "Trainable params: 98,948\n",
            "Non-trainable params: 0\n",
            "_________________________________________________________________\n",
            "Epoch 1/10\n",
            "97/97 [==============================] - 4s 25ms/step - loss: 0.9505 - acc: 0.6452 - val_loss: 0.8384 - val_acc: 0.6497\n",
            "Epoch 2/10\n",
            "97/97 [==============================] - 2s 20ms/step - loss: 0.8019 - acc: 0.6670 - val_loss: 0.8535 - val_acc: 0.6893\n",
            "Epoch 3/10\n",
            "97/97 [==============================] - 2s 19ms/step - loss: 0.7225 - acc: 0.7138 - val_loss: 0.8928 - val_acc: 0.6788\n",
            "Epoch 4/10\n",
            "97/97 [==============================] - 2s 19ms/step - loss: 0.6251 - acc: 0.7460 - val_loss: 1.0688 - val_acc: 0.6979\n",
            "Epoch 5/10\n",
            "97/97 [==============================] - 2s 19ms/step - loss: 0.5557 - acc: 0.7756 - val_loss: 0.8894 - val_acc: 0.6511\n",
            "Epoch 6/10\n",
            "97/97 [==============================] - 2s 20ms/step - loss: 0.4739 - acc: 0.8159 - val_loss: 0.9723 - val_acc: 0.7111\n",
            "Epoch 7/10\n",
            "97/97 [==============================] - 2s 20ms/step - loss: 0.3841 - acc: 0.8605 - val_loss: 0.8375 - val_acc: 0.7137\n",
            "Epoch 8/10\n",
            "97/97 [==============================] - 2s 20ms/step - loss: 0.3207 - acc: 0.8940 - val_loss: 1.2739 - val_acc: 0.6108\n",
            "Epoch 9/10\n",
            "97/97 [==============================] - 2s 19ms/step - loss: 0.2638 - acc: 0.9128 - val_loss: 1.0899 - val_acc: 0.7018\n",
            "Epoch 10/10\n",
            "97/97 [==============================] - 2s 19ms/step - loss: 0.2326 - acc: 0.9220 - val_loss: 1.0223 - val_acc: 0.6748\n"
          ]
        }
      ]
    }
  ]
}