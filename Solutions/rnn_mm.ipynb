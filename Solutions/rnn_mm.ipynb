{
  "nbformat": 4,
  "nbformat_minor": 0,
  "metadata": {
    "colab": {
      "name": "rnn.ipynb",
      "provenance": [],
      "collapsed_sections": [],
      "include_colab_link": true
    },
    "kernelspec": {
      "name": "python3",
      "display_name": "Python 3"
    }
  },
  "cells": [
    {
      "cell_type": "markdown",
      "metadata": {
        "id": "view-in-github",
        "colab_type": "text"
      },
      "source": [
        "<a href=\"https://colab.research.google.com/github/mannmoshe/deep-learning/blob/main/Solutions/rnn_mm.ipynb\" target=\"_parent\"><img src=\"https://colab.research.google.com/assets/colab-badge.svg\" alt=\"Open In Colab\"/></a>"
      ]
    },
    {
      "cell_type": "markdown",
      "metadata": {
        "id": "xpAuMVCwfWs8"
      },
      "source": [
        "# Recurrent Neural Network"
      ]
    },
    {
      "cell_type": "markdown",
      "source": [
        "***All the cells that start with \"MM\" written or edited by Moshe Mann.***"
      ],
      "metadata": {
        "id": "zeLmzYBVMhj_"
      }
    },
    {
      "cell_type": "markdown",
      "source": [
        "MM: the next script and data based on the RNN example from https://www.udemy.com/course/deeplearning/ course."
      ],
      "metadata": {
        "id": "GcBChxQEMiMX"
      }
    },
    {
      "cell_type": "markdown",
      "source": [
        "MM: In this notebook we will try to predict Google stock's open price.<br>\n",
        "\n",
        "> Train data contains the stock's price from 2012 to 2016;<br>\n",
        "> Test data contains the stock's price at January 2017."
      ],
      "metadata": {
        "id": "9ghrdHD6Mlff"
      }
    },
    {
      "cell_type": "markdown",
      "metadata": {
        "id": "nxJfRe4bfYVA"
      },
      "source": [
        "## Part 1 - Data Preprocessing"
      ]
    },
    {
      "cell_type": "markdown",
      "metadata": {
        "id": "ir9zwETrfbrp"
      },
      "source": [
        "### Importing the libraries"
      ]
    },
    {
      "cell_type": "code",
      "metadata": {
        "id": "ZT1f24vHffuf"
      },
      "source": [
        "import numpy as np\n",
        "import matplotlib.pyplot as plt\n",
        "import pandas as pd"
      ],
      "execution_count": 1,
      "outputs": []
    },
    {
      "cell_type": "markdown",
      "metadata": {
        "id": "nQ47JAxrgmaL"
      },
      "source": [
        "### Importing the training set"
      ]
    },
    {
      "cell_type": "code",
      "metadata": {
        "id": "1xiv3pJOgqY3"
      },
      "source": [
        "dataset_train = pd.read_csv('Google_Stock_Price_Train.csv')\n",
        "training_set = dataset_train.iloc[:, 1:2].values"
      ],
      "execution_count": 2,
      "outputs": []
    },
    {
      "cell_type": "code",
      "source": [
        "#MM:\n",
        "print(type(dataset_train))\n",
        "dataset_train.head()"
      ],
      "metadata": {
        "colab": {
          "base_uri": "https://localhost:8080/",
          "height": 224
        },
        "id": "Ka-yfaW5PUsF",
        "outputId": "5e1aa593-c140-4156-bd3e-29d0e26da129"
      },
      "execution_count": 3,
      "outputs": [
        {
          "output_type": "stream",
          "name": "stdout",
          "text": [
            "<class 'pandas.core.frame.DataFrame'>\n"
          ]
        },
        {
          "output_type": "execute_result",
          "data": {
            "text/plain": [
              "       Date    Open    High     Low   Close      Volume\n",
              "0  1/3/2012  325.25  332.83  324.97  663.59   7,380,500\n",
              "1  1/4/2012  331.27  333.87  329.08  666.45   5,749,400\n",
              "2  1/5/2012  329.83  330.75  326.89  657.21   6,590,300\n",
              "3  1/6/2012  328.34  328.77  323.68  648.24   5,405,900\n",
              "4  1/9/2012  322.04  322.29  309.46  620.76  11,688,800"
            ],
            "text/html": [
              "\n",
              "  <div id=\"df-e38faf7f-bad4-4db7-ba27-50f15c1290e8\">\n",
              "    <div class=\"colab-df-container\">\n",
              "      <div>\n",
              "<style scoped>\n",
              "    .dataframe tbody tr th:only-of-type {\n",
              "        vertical-align: middle;\n",
              "    }\n",
              "\n",
              "    .dataframe tbody tr th {\n",
              "        vertical-align: top;\n",
              "    }\n",
              "\n",
              "    .dataframe thead th {\n",
              "        text-align: right;\n",
              "    }\n",
              "</style>\n",
              "<table border=\"1\" class=\"dataframe\">\n",
              "  <thead>\n",
              "    <tr style=\"text-align: right;\">\n",
              "      <th></th>\n",
              "      <th>Date</th>\n",
              "      <th>Open</th>\n",
              "      <th>High</th>\n",
              "      <th>Low</th>\n",
              "      <th>Close</th>\n",
              "      <th>Volume</th>\n",
              "    </tr>\n",
              "  </thead>\n",
              "  <tbody>\n",
              "    <tr>\n",
              "      <th>0</th>\n",
              "      <td>1/3/2012</td>\n",
              "      <td>325.25</td>\n",
              "      <td>332.83</td>\n",
              "      <td>324.97</td>\n",
              "      <td>663.59</td>\n",
              "      <td>7,380,500</td>\n",
              "    </tr>\n",
              "    <tr>\n",
              "      <th>1</th>\n",
              "      <td>1/4/2012</td>\n",
              "      <td>331.27</td>\n",
              "      <td>333.87</td>\n",
              "      <td>329.08</td>\n",
              "      <td>666.45</td>\n",
              "      <td>5,749,400</td>\n",
              "    </tr>\n",
              "    <tr>\n",
              "      <th>2</th>\n",
              "      <td>1/5/2012</td>\n",
              "      <td>329.83</td>\n",
              "      <td>330.75</td>\n",
              "      <td>326.89</td>\n",
              "      <td>657.21</td>\n",
              "      <td>6,590,300</td>\n",
              "    </tr>\n",
              "    <tr>\n",
              "      <th>3</th>\n",
              "      <td>1/6/2012</td>\n",
              "      <td>328.34</td>\n",
              "      <td>328.77</td>\n",
              "      <td>323.68</td>\n",
              "      <td>648.24</td>\n",
              "      <td>5,405,900</td>\n",
              "    </tr>\n",
              "    <tr>\n",
              "      <th>4</th>\n",
              "      <td>1/9/2012</td>\n",
              "      <td>322.04</td>\n",
              "      <td>322.29</td>\n",
              "      <td>309.46</td>\n",
              "      <td>620.76</td>\n",
              "      <td>11,688,800</td>\n",
              "    </tr>\n",
              "  </tbody>\n",
              "</table>\n",
              "</div>\n",
              "      <button class=\"colab-df-convert\" onclick=\"convertToInteractive('df-e38faf7f-bad4-4db7-ba27-50f15c1290e8')\"\n",
              "              title=\"Convert this dataframe to an interactive table.\"\n",
              "              style=\"display:none;\">\n",
              "        \n",
              "  <svg xmlns=\"http://www.w3.org/2000/svg\" height=\"24px\"viewBox=\"0 0 24 24\"\n",
              "       width=\"24px\">\n",
              "    <path d=\"M0 0h24v24H0V0z\" fill=\"none\"/>\n",
              "    <path d=\"M18.56 5.44l.94 2.06.94-2.06 2.06-.94-2.06-.94-.94-2.06-.94 2.06-2.06.94zm-11 1L8.5 8.5l.94-2.06 2.06-.94-2.06-.94L8.5 2.5l-.94 2.06-2.06.94zm10 10l.94 2.06.94-2.06 2.06-.94-2.06-.94-.94-2.06-.94 2.06-2.06.94z\"/><path d=\"M17.41 7.96l-1.37-1.37c-.4-.4-.92-.59-1.43-.59-.52 0-1.04.2-1.43.59L10.3 9.45l-7.72 7.72c-.78.78-.78 2.05 0 2.83L4 21.41c.39.39.9.59 1.41.59.51 0 1.02-.2 1.41-.59l7.78-7.78 2.81-2.81c.8-.78.8-2.07 0-2.86zM5.41 20L4 18.59l7.72-7.72 1.47 1.35L5.41 20z\"/>\n",
              "  </svg>\n",
              "      </button>\n",
              "      \n",
              "  <style>\n",
              "    .colab-df-container {\n",
              "      display:flex;\n",
              "      flex-wrap:wrap;\n",
              "      gap: 12px;\n",
              "    }\n",
              "\n",
              "    .colab-df-convert {\n",
              "      background-color: #E8F0FE;\n",
              "      border: none;\n",
              "      border-radius: 50%;\n",
              "      cursor: pointer;\n",
              "      display: none;\n",
              "      fill: #1967D2;\n",
              "      height: 32px;\n",
              "      padding: 0 0 0 0;\n",
              "      width: 32px;\n",
              "    }\n",
              "\n",
              "    .colab-df-convert:hover {\n",
              "      background-color: #E2EBFA;\n",
              "      box-shadow: 0px 1px 2px rgba(60, 64, 67, 0.3), 0px 1px 3px 1px rgba(60, 64, 67, 0.15);\n",
              "      fill: #174EA6;\n",
              "    }\n",
              "\n",
              "    [theme=dark] .colab-df-convert {\n",
              "      background-color: #3B4455;\n",
              "      fill: #D2E3FC;\n",
              "    }\n",
              "\n",
              "    [theme=dark] .colab-df-convert:hover {\n",
              "      background-color: #434B5C;\n",
              "      box-shadow: 0px 1px 3px 1px rgba(0, 0, 0, 0.15);\n",
              "      filter: drop-shadow(0px 1px 2px rgba(0, 0, 0, 0.3));\n",
              "      fill: #FFFFFF;\n",
              "    }\n",
              "  </style>\n",
              "\n",
              "      <script>\n",
              "        const buttonEl =\n",
              "          document.querySelector('#df-e38faf7f-bad4-4db7-ba27-50f15c1290e8 button.colab-df-convert');\n",
              "        buttonEl.style.display =\n",
              "          google.colab.kernel.accessAllowed ? 'block' : 'none';\n",
              "\n",
              "        async function convertToInteractive(key) {\n",
              "          const element = document.querySelector('#df-e38faf7f-bad4-4db7-ba27-50f15c1290e8');\n",
              "          const dataTable =\n",
              "            await google.colab.kernel.invokeFunction('convertToInteractive',\n",
              "                                                     [key], {});\n",
              "          if (!dataTable) return;\n",
              "\n",
              "          const docLinkHtml = 'Like what you see? Visit the ' +\n",
              "            '<a target=\"_blank\" href=https://colab.research.google.com/notebooks/data_table.ipynb>data table notebook</a>'\n",
              "            + ' to learn more about interactive tables.';\n",
              "          element.innerHTML = '';\n",
              "          dataTable['output_type'] = 'display_data';\n",
              "          await google.colab.output.renderOutput(dataTable, element);\n",
              "          const docLink = document.createElement('div');\n",
              "          docLink.innerHTML = docLinkHtml;\n",
              "          element.appendChild(docLink);\n",
              "        }\n",
              "      </script>\n",
              "    </div>\n",
              "  </div>\n",
              "  "
            ]
          },
          "metadata": {},
          "execution_count": 3
        }
      ]
    },
    {
      "cell_type": "code",
      "source": [
        "#MM:\n",
        "print(type(training_set))\n",
        "training_set[:5]"
      ],
      "metadata": {
        "colab": {
          "base_uri": "https://localhost:8080/"
        },
        "id": "x6ri_wHkPY8d",
        "outputId": "8e28d389-1a27-47c3-cadc-e065c51570ff"
      },
      "execution_count": 4,
      "outputs": [
        {
          "output_type": "stream",
          "name": "stdout",
          "text": [
            "<class 'numpy.ndarray'>\n"
          ]
        },
        {
          "output_type": "execute_result",
          "data": {
            "text/plain": [
              "array([[325.25],\n",
              "       [331.27],\n",
              "       [329.83],\n",
              "       [328.34],\n",
              "       [322.04]])"
            ]
          },
          "metadata": {},
          "execution_count": 4
        }
      ]
    },
    {
      "cell_type": "markdown",
      "metadata": {
        "id": "HT8_2UJegtG5"
      },
      "source": [
        "### Feature Scaling"
      ]
    },
    {
      "cell_type": "markdown",
      "source": [
        "![‏‏sn.PNG](data:image/png;base64,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)"
      ],
      "metadata": {
        "id": "bTVG9u-qRkPT"
      }
    },
    {
      "cell_type": "code",
      "metadata": {
        "id": "OTrF2kR7gx9x"
      },
      "source": [
        "from sklearn.preprocessing import MinMaxScaler\n",
        "#MM: applying normalisation\n",
        "sc = MinMaxScaler(feature_range = (0, 1))\n",
        "training_set_scaled = sc.fit_transform(training_set)"
      ],
      "execution_count": 5,
      "outputs": []
    },
    {
      "cell_type": "code",
      "source": [
        "#MM:\n",
        "training_set_scaled[:5]"
      ],
      "metadata": {
        "colab": {
          "base_uri": "https://localhost:8080/"
        },
        "id": "heRTlxPmQ2jt",
        "outputId": "c55ca814-9e20-4e91-a6c2-a08e1ba8b227"
      },
      "execution_count": 6,
      "outputs": [
        {
          "output_type": "execute_result",
          "data": {
            "text/plain": [
              "array([[0.08581368],\n",
              "       [0.09701243],\n",
              "       [0.09433366],\n",
              "       [0.09156187],\n",
              "       [0.07984225]])"
            ]
          },
          "metadata": {},
          "execution_count": 6
        }
      ]
    },
    {
      "cell_type": "markdown",
      "metadata": {
        "id": "JyYgYocqhNUg"
      },
      "source": [
        "### Creating a data structure with 60 timesteps and 1 output"
      ]
    },
    {
      "cell_type": "code",
      "source": [
        "#MM:\n",
        "len(training_set_scaled)"
      ],
      "metadata": {
        "colab": {
          "base_uri": "https://localhost:8080/"
        },
        "id": "1U-VjttSU7pI",
        "outputId": "ae6a5ece-5ce8-4a84-9cdd-a7ce6c1f3dfa"
      },
      "execution_count": 7,
      "outputs": [
        {
          "output_type": "execute_result",
          "data": {
            "text/plain": [
              "1258"
            ]
          },
          "metadata": {},
          "execution_count": 7
        }
      ]
    },
    {
      "cell_type": "markdown",
      "source": [
        "MM:<br> \n",
        "Since there is 20 trading days per month, we will look at the 3 previous month - 60 days.<br>\n",
        "Less than 60 will lead to underfitting."
      ],
      "metadata": {
        "id": "kJmvY5A8R-nq"
      }
    },
    {
      "cell_type": "code",
      "metadata": {
        "id": "iofU21B0i6ST"
      },
      "source": [
        "X_train = [] #MM: X_train is the input\n",
        "y_train = [] #MM: y_train is the output\n",
        "for i in range(60, 1258):\n",
        "    X_train.append(training_set_scaled[i-60:i, 0]) #MM: the input is the last 60 trading days stock's price. \n",
        "    y_train.append(training_set_scaled[i, 0]) #MM: the output is the 61 trading day stock's price. \n",
        "X_train, y_train = np.array(X_train), np.array(y_train)"
      ],
      "execution_count": 8,
      "outputs": []
    },
    {
      "cell_type": "code",
      "source": [
        "#MM:\n",
        "print(X_train[0], y_train[0])"
      ],
      "metadata": {
        "colab": {
          "base_uri": "https://localhost:8080/"
        },
        "id": "6XazfxXXV48Z",
        "outputId": "f9091207-83ba-4a88-efe0-d2d469d70c0a"
      },
      "execution_count": 9,
      "outputs": [
        {
          "output_type": "stream",
          "name": "stdout",
          "text": [
            "[0.08581368 0.09701243 0.09433366 0.09156187 0.07984225 0.0643277\n",
            " 0.0585423  0.06568569 0.06109085 0.06639259 0.0614257  0.07474514\n",
            " 0.02797827 0.02379269 0.02409033 0.0159238  0.01078949 0.00967334\n",
            " 0.01642607 0.02100231 0.02280676 0.02273235 0.02810849 0.03212665\n",
            " 0.0433812  0.04475779 0.04790163 0.0440695  0.04648783 0.04745517\n",
            " 0.04873875 0.03936305 0.04137213 0.04034898 0.04784582 0.04325099\n",
            " 0.04356723 0.04286033 0.04602277 0.05398467 0.05738894 0.05714711\n",
            " 0.05569611 0.04421832 0.04514845 0.04605997 0.04412531 0.03675869\n",
            " 0.04486941 0.05065481 0.05214302 0.05612397 0.05818885 0.06540665\n",
            " 0.06882953 0.07243843 0.07993526 0.07846566 0.08034452 0.08497656] 0.08627874097775134\n"
          ]
        }
      ]
    },
    {
      "cell_type": "markdown",
      "metadata": {
        "id": "D8yaN7Zvi95l"
      },
      "source": [
        "### Reshaping"
      ]
    },
    {
      "cell_type": "markdown",
      "source": [
        "MM:<br>\n",
        "Reshaping in order to enable use more dimensions except of open stock's price.\n"
      ],
      "metadata": {
        "id": "umYwemt6XKt-"
      }
    },
    {
      "cell_type": "code",
      "source": [
        "#MM:\n",
        "X_train.shape"
      ],
      "metadata": {
        "colab": {
          "base_uri": "https://localhost:8080/"
        },
        "id": "3EHHIKWlXvDQ",
        "outputId": "71b62995-8482-4e85-fac8-b212026e5680"
      },
      "execution_count": 10,
      "outputs": [
        {
          "output_type": "execute_result",
          "data": {
            "text/plain": [
              "(1198, 60)"
            ]
          },
          "metadata": {},
          "execution_count": 10
        }
      ]
    },
    {
      "cell_type": "code",
      "metadata": {
        "id": "FOXqJHmNjBkz"
      },
      "source": [
        "X_train = np.reshape(X_train, (X_train.shape[0], X_train.shape[1], 1))"
      ],
      "execution_count": 11,
      "outputs": []
    },
    {
      "cell_type": "code",
      "source": [
        "#MM:\n",
        "X_train.shape"
      ],
      "metadata": {
        "colab": {
          "base_uri": "https://localhost:8080/"
        },
        "id": "kmdiDa8bXnsd",
        "outputId": "a67abbbd-9b20-4a05-f683-c5576e6f9873"
      },
      "execution_count": 12,
      "outputs": [
        {
          "output_type": "execute_result",
          "data": {
            "text/plain": [
              "(1198, 60, 1)"
            ]
          },
          "metadata": {},
          "execution_count": 12
        }
      ]
    },
    {
      "cell_type": "markdown",
      "source": [
        "MM:<br>\n",
        "In this notebook we will use only open price."
      ],
      "metadata": {
        "id": "Ytx93mp_YPn1"
      }
    },
    {
      "cell_type": "markdown",
      "metadata": {
        "id": "ZRRSOJeVjEWV"
      },
      "source": [
        "## Part 2 - Building and Training the RNN"
      ]
    },
    {
      "cell_type": "markdown",
      "metadata": {
        "id": "k4XV88JMjHXG"
      },
      "source": [
        "### Importing the Keras libraries and packages"
      ]
    },
    {
      "cell_type": "code",
      "metadata": {
        "id": "9JRnqsxEjKsD"
      },
      "source": [
        "from keras.models import Sequential\n",
        "from keras.layers import Dense\n",
        "from keras.layers import LSTM\n",
        "from keras.layers import Dropout"
      ],
      "execution_count": 13,
      "outputs": []
    },
    {
      "cell_type": "markdown",
      "metadata": {
        "id": "FEIE-1s9jNzC"
      },
      "source": [
        "### Initialising the RNN"
      ]
    },
    {
      "cell_type": "code",
      "metadata": {
        "id": "1338dJ0UjRKH"
      },
      "source": [
        "regressor = Sequential()"
      ],
      "execution_count": 14,
      "outputs": []
    },
    {
      "cell_type": "markdown",
      "metadata": {
        "id": "62eg1OPGjT8z"
      },
      "source": [
        "### Adding the first LSTM layer and some Dropout regularisation"
      ]
    },
    {
      "cell_type": "code",
      "metadata": {
        "id": "2hIinyXUjbVU"
      },
      "source": [
        "regressor.add(LSTM(units = 50, return_sequences = True, input_shape = (X_train.shape[1], 1)))\n",
        "regressor.add(Dropout(0.2)) #MM: adding dropout regularization"
      ],
      "execution_count": 16,
      "outputs": []
    },
    {
      "cell_type": "markdown",
      "source": [
        "MM:<br>\n",
        "50 units means 50 neurons, less than that is not enough to catch the trends,<br>\n",
        "return_sequences True because after we will add another LSTM layer,<br>\n",
        "input sahpe consists of number of timestamps and number of predictors.\n"
      ],
      "metadata": {
        "id": "63FphaRuZtXt"
      }
    },
    {
      "cell_type": "markdown",
      "metadata": {
        "id": "3XBIYLyOjlMx"
      },
      "source": [
        "### Adding a second LSTM layer and some Dropout regularisation"
      ]
    },
    {
      "cell_type": "code",
      "metadata": {
        "id": "UG7nrVaSjuZ2"
      },
      "source": [
        "regressor.add(LSTM(units = 50, return_sequences = True))\n",
        "regressor.add(Dropout(0.2))"
      ],
      "execution_count": null,
      "outputs": []
    },
    {
      "cell_type": "markdown",
      "metadata": {
        "id": "Ey3fHVnGj1cu"
      },
      "source": [
        "### Adding a third LSTM layer and some Dropout regularisation"
      ]
    },
    {
      "cell_type": "code",
      "metadata": {
        "id": "PuNi6PgFj7jO"
      },
      "source": [
        "regressor.add(LSTM(units = 50, return_sequences = True))\n",
        "regressor.add(Dropout(0.2))"
      ],
      "execution_count": null,
      "outputs": []
    },
    {
      "cell_type": "markdown",
      "metadata": {
        "id": "SYTrtfTmj933"
      },
      "source": [
        "### Adding a fourth LSTM layer and some Dropout regularisation"
      ]
    },
    {
      "cell_type": "code",
      "metadata": {
        "id": "Jp4Ty8fRkBYV"
      },
      "source": [
        "regressor.add(LSTM(units = 50))\n",
        "regressor.add(Dropout(0.2))"
      ],
      "execution_count": null,
      "outputs": []
    },
    {
      "cell_type": "markdown",
      "metadata": {
        "id": "9ABI6rOIkHhk"
      },
      "source": [
        "### Adding the output layer"
      ]
    },
    {
      "cell_type": "code",
      "metadata": {
        "id": "aM6R1z4WkME8"
      },
      "source": [
        "regressor.add(Dense(units = 1))"
      ],
      "execution_count": null,
      "outputs": []
    },
    {
      "cell_type": "markdown",
      "metadata": {
        "id": "zLx4K7uUkPSh"
      },
      "source": [
        "### Compiling the RNN"
      ]
    },
    {
      "cell_type": "code",
      "metadata": {
        "id": "XTrhVN-tkbko"
      },
      "source": [
        "regressor.compile(optimizer = 'adam', loss = 'mean_squared_error')"
      ],
      "execution_count": null,
      "outputs": []
    },
    {
      "cell_type": "markdown",
      "metadata": {
        "id": "-mPhwKGkkebi"
      },
      "source": [
        "### Fitting the RNN to the Training set"
      ]
    },
    {
      "cell_type": "code",
      "metadata": {
        "id": "I06Nkrz5kkb-",
        "colab": {
          "base_uri": "https://localhost:8080/",
          "height": 1000
        },
        "outputId": "dc9d947a-4d5c-4dbc-ed45-31bf44b98dfb"
      },
      "source": [
        "regressor.fit(X_train, y_train, epochs = 100, batch_size = 32)"
      ],
      "execution_count": null,
      "outputs": [
        {
          "output_type": "stream",
          "text": [
            "Epoch 1/100\n",
            "1198/1198 [==============================] - 6s 5ms/step - loss: 0.0437\n",
            "Epoch 2/100\n",
            "1198/1198 [==============================] - 5s 4ms/step - loss: 0.0062\n",
            "Epoch 3/100\n",
            "1198/1198 [==============================] - 5s 4ms/step - loss: 0.0056\n",
            "Epoch 4/100\n",
            "1198/1198 [==============================] - 5s 4ms/step - loss: 0.0053\n",
            "Epoch 5/100\n",
            "1198/1198 [==============================] - 5s 4ms/step - loss: 0.0050\n",
            "Epoch 6/100\n",
            "1198/1198 [==============================] - 5s 4ms/step - loss: 0.0054\n",
            "Epoch 7/100\n",
            "1198/1198 [==============================] - 5s 4ms/step - loss: 0.0043\n",
            "Epoch 8/100\n",
            "1198/1198 [==============================] - 5s 4ms/step - loss: 0.0045\n",
            "Epoch 9/100\n",
            "1198/1198 [==============================] - 5s 4ms/step - loss: 0.0039\n",
            "Epoch 10/100\n",
            "1198/1198 [==============================] - 5s 4ms/step - loss: 0.0042\n",
            "Epoch 11/100\n",
            "1198/1198 [==============================] - 5s 4ms/step - loss: 0.0040\n",
            "Epoch 12/100\n",
            "1198/1198 [==============================] - 5s 4ms/step - loss: 0.0039\n",
            "Epoch 13/100\n",
            "1198/1198 [==============================] - 5s 4ms/step - loss: 0.0038\n",
            "Epoch 14/100\n",
            "1198/1198 [==============================] - 5s 4ms/step - loss: 0.0036\n",
            "Epoch 15/100\n",
            "1198/1198 [==============================] - 5s 4ms/step - loss: 0.0040\n",
            "Epoch 16/100\n",
            "1198/1198 [==============================] - 5s 4ms/step - loss: 0.0039\n",
            "Epoch 17/100\n",
            "1198/1198 [==============================] - 5s 4ms/step - loss: 0.0037\n",
            "Epoch 18/100\n",
            "1198/1198 [==============================] - 5s 4ms/step - loss: 0.0033\n",
            "Epoch 19/100\n",
            "1198/1198 [==============================] - 5s 4ms/step - loss: 0.0037\n",
            "Epoch 20/100\n",
            "1198/1198 [==============================] - 5s 4ms/step - loss: 0.0038\n",
            "Epoch 21/100\n",
            "1198/1198 [==============================] - 5s 4ms/step - loss: 0.0034\n",
            "Epoch 22/100\n",
            "1198/1198 [==============================] - 5s 4ms/step - loss: 0.0038\n",
            "Epoch 23/100\n",
            "1198/1198 [==============================] - 5s 4ms/step - loss: 0.0035\n",
            "Epoch 24/100\n",
            "1198/1198 [==============================] - 5s 4ms/step - loss: 0.0033\n",
            "Epoch 25/100\n",
            "1198/1198 [==============================] - 5s 4ms/step - loss: 0.0031\n",
            "Epoch 26/100\n",
            "1198/1198 [==============================] - 5s 4ms/step - loss: 0.0030\n",
            "Epoch 27/100\n",
            "1198/1198 [==============================] - 5s 4ms/step - loss: 0.0030\n",
            "Epoch 28/100\n",
            "1198/1198 [==============================] - 5s 4ms/step - loss: 0.0029\n",
            "Epoch 29/100\n",
            "1198/1198 [==============================] - 5s 4ms/step - loss: 0.0030\n",
            "Epoch 30/100\n",
            "1198/1198 [==============================] - 5s 4ms/step - loss: 0.0030\n",
            "Epoch 31/100\n",
            "1198/1198 [==============================] - 5s 4ms/step - loss: 0.0026\n",
            "Epoch 32/100\n",
            "1198/1198 [==============================] - 5s 4ms/step - loss: 0.0028\n",
            "Epoch 33/100\n",
            "1198/1198 [==============================] - 5s 4ms/step - loss: 0.0030\n",
            "Epoch 34/100\n",
            "1198/1198 [==============================] - 5s 4ms/step - loss: 0.0028\n",
            "Epoch 35/100\n",
            "1198/1198 [==============================] - 5s 4ms/step - loss: 0.0028\n",
            "Epoch 36/100\n",
            "1198/1198 [==============================] - 5s 4ms/step - loss: 0.0025\n",
            "Epoch 37/100\n",
            "1198/1198 [==============================] - 5s 4ms/step - loss: 0.0032\n",
            "Epoch 38/100\n",
            "1198/1198 [==============================] - 5s 4ms/step - loss: 0.0025\n",
            "Epoch 39/100\n",
            "1198/1198 [==============================] - 5s 4ms/step - loss: 0.0025\n",
            "Epoch 40/100\n",
            "1198/1198 [==============================] - 5s 4ms/step - loss: 0.0025\n",
            "Epoch 41/100\n",
            "1198/1198 [==============================] - 5s 4ms/step - loss: 0.0024\n",
            "Epoch 42/100\n",
            "1198/1198 [==============================] - 5s 4ms/step - loss: 0.0026\n",
            "Epoch 43/100\n",
            "1198/1198 [==============================] - 5s 4ms/step - loss: 0.0026\n",
            "Epoch 44/100\n",
            "1198/1198 [==============================] - 5s 4ms/step - loss: 0.0026\n",
            "Epoch 45/100\n",
            "1198/1198 [==============================] - 5s 4ms/step - loss: 0.0023\n",
            "Epoch 46/100\n",
            "1198/1198 [==============================] - 5s 4ms/step - loss: 0.0023\n",
            "Epoch 47/100\n",
            "1198/1198 [==============================] - 5s 4ms/step - loss: 0.0027\n",
            "Epoch 48/100\n",
            "1198/1198 [==============================] - 5s 4ms/step - loss: 0.0024\n",
            "Epoch 49/100\n",
            "1198/1198 [==============================] - 5s 4ms/step - loss: 0.0025\n",
            "Epoch 50/100\n",
            "1198/1198 [==============================] - 5s 4ms/step - loss: 0.0025\n",
            "Epoch 51/100\n",
            "1198/1198 [==============================] - 5s 4ms/step - loss: 0.0026\n",
            "Epoch 52/100\n",
            "1198/1198 [==============================] - 5s 4ms/step - loss: 0.0023\n",
            "Epoch 53/100\n",
            "1198/1198 [==============================] - 5s 4ms/step - loss: 0.0024\n",
            "Epoch 54/100\n",
            "1198/1198 [==============================] - 5s 4ms/step - loss: 0.0024\n",
            "Epoch 55/100\n",
            "1198/1198 [==============================] - 5s 4ms/step - loss: 0.0025\n",
            "Epoch 56/100\n",
            "1198/1198 [==============================] - 5s 4ms/step - loss: 0.0025\n",
            "Epoch 57/100\n",
            "1198/1198 [==============================] - 5s 4ms/step - loss: 0.0023\n",
            "Epoch 58/100\n",
            "1198/1198 [==============================] - 5s 4ms/step - loss: 0.0020\n",
            "Epoch 59/100\n",
            "1198/1198 [==============================] - 5s 4ms/step - loss: 0.0023\n",
            "Epoch 60/100\n",
            "1198/1198 [==============================] - 5s 4ms/step - loss: 0.0020\n",
            "Epoch 61/100\n",
            "1198/1198 [==============================] - 5s 4ms/step - loss: 0.0021\n",
            "Epoch 62/100\n",
            "1198/1198 [==============================] - 5s 4ms/step - loss: 0.0021\n",
            "Epoch 63/100\n",
            "1198/1198 [==============================] - 5s 4ms/step - loss: 0.0021\n",
            "Epoch 64/100\n",
            "1198/1198 [==============================] - 5s 4ms/step - loss: 0.0019\n",
            "Epoch 65/100\n",
            "1198/1198 [==============================] - 5s 4ms/step - loss: 0.0022\n",
            "Epoch 66/100\n",
            "1198/1198 [==============================] - 5s 4ms/step - loss: 0.0020\n",
            "Epoch 67/100\n",
            "1198/1198 [==============================] - 5s 4ms/step - loss: 0.0017\n",
            "Epoch 68/100\n",
            "1198/1198 [==============================] - 5s 4ms/step - loss: 0.0018\n",
            "Epoch 69/100\n",
            "1198/1198 [==============================] - 5s 4ms/step - loss: 0.0021\n",
            "Epoch 70/100\n",
            "1198/1198 [==============================] - 5s 4ms/step - loss: 0.0019\n",
            "Epoch 71/100\n",
            "1198/1198 [==============================] - 5s 4ms/step - loss: 0.0019\n",
            "Epoch 72/100\n",
            "1198/1198 [==============================] - 5s 4ms/step - loss: 0.0018\n",
            "Epoch 73/100\n",
            "1198/1198 [==============================] - 5s 4ms/step - loss: 0.0017\n",
            "Epoch 74/100\n",
            "1198/1198 [==============================] - 5s 4ms/step - loss: 0.0019\n",
            "Epoch 75/100\n",
            "1198/1198 [==============================] - 5s 4ms/step - loss: 0.0017\n",
            "Epoch 76/100\n",
            "1198/1198 [==============================] - 5s 4ms/step - loss: 0.0018\n",
            "Epoch 77/100\n",
            "1198/1198 [==============================] - 5s 4ms/step - loss: 0.0018\n",
            "Epoch 78/100\n",
            "1198/1198 [==============================] - 5s 4ms/step - loss: 0.0019\n",
            "Epoch 79/100\n",
            "1198/1198 [==============================] - 5s 4ms/step - loss: 0.0017\n",
            "Epoch 80/100\n",
            "1198/1198 [==============================] - 5s 4ms/step - loss: 0.0018\n",
            "Epoch 81/100\n",
            "1198/1198 [==============================] - 5s 4ms/step - loss: 0.0019\n",
            "Epoch 82/100\n",
            "1198/1198 [==============================] - 5s 4ms/step - loss: 0.0020\n",
            "Epoch 83/100\n",
            "1198/1198 [==============================] - 5s 4ms/step - loss: 0.0017\n",
            "Epoch 84/100\n",
            "1198/1198 [==============================] - 5s 4ms/step - loss: 0.0019\n",
            "Epoch 85/100\n",
            "1198/1198 [==============================] - 5s 4ms/step - loss: 0.0016\n",
            "Epoch 86/100\n",
            "1198/1198 [==============================] - 5s 4ms/step - loss: 0.0018\n",
            "Epoch 87/100\n",
            "1198/1198 [==============================] - 5s 4ms/step - loss: 0.0016\n",
            "Epoch 88/100\n",
            "1198/1198 [==============================] - 5s 4ms/step - loss: 0.0016\n",
            "Epoch 89/100\n",
            "1198/1198 [==============================] - 5s 4ms/step - loss: 0.0016\n",
            "Epoch 90/100\n",
            "1198/1198 [==============================] - 5s 4ms/step - loss: 0.0016\n",
            "Epoch 91/100\n",
            "1198/1198 [==============================] - 5s 4ms/step - loss: 0.0016\n",
            "Epoch 92/100\n",
            "1198/1198 [==============================] - 5s 4ms/step - loss: 0.0014\n",
            "Epoch 93/100\n",
            "1198/1198 [==============================] - 5s 4ms/step - loss: 0.0014\n",
            "Epoch 94/100\n",
            "1198/1198 [==============================] - 5s 4ms/step - loss: 0.0015\n",
            "Epoch 95/100\n",
            "1198/1198 [==============================] - 5s 4ms/step - loss: 0.0014\n",
            "Epoch 96/100\n",
            "1198/1198 [==============================] - 5s 4ms/step - loss: 0.0014\n",
            "Epoch 97/100\n",
            "1198/1198 [==============================] - 5s 4ms/step - loss: 0.0015\n",
            "Epoch 98/100\n",
            "1198/1198 [==============================] - 5s 4ms/step - loss: 0.0014\n",
            "Epoch 99/100\n",
            "1198/1198 [==============================] - 5s 4ms/step - loss: 0.0014\n",
            "Epoch 100/100\n",
            "1198/1198 [==============================] - 5s 4ms/step - loss: 0.0013\n"
          ],
          "name": "stdout"
        },
        {
          "output_type": "execute_result",
          "data": {
            "text/plain": [
              "<keras.callbacks.callbacks.History at 0x7f09cd4ae160>"
            ]
          },
          "metadata": {
            "tags": []
          },
          "execution_count": 14
        }
      ]
    },
    {
      "cell_type": "markdown",
      "metadata": {
        "id": "4hRau_lIkrE8"
      },
      "source": [
        "## Part 3 - Making the predictions and visualising the results"
      ]
    },
    {
      "cell_type": "markdown",
      "metadata": {
        "id": "SgJO6qEDksxD"
      },
      "source": [
        "### Getting the real stock price of 2017"
      ]
    },
    {
      "cell_type": "code",
      "metadata": {
        "id": "FmBT2zqukxTz"
      },
      "source": [
        "dataset_test = pd.read_csv('Google_Stock_Price_Test.csv')\n",
        "real_stock_price = dataset_test.iloc[:, 1:2].values"
      ],
      "execution_count": null,
      "outputs": []
    },
    {
      "cell_type": "markdown",
      "metadata": {
        "id": "GrvrLblxkz42"
      },
      "source": [
        "### Getting the predicted stock price of 2017"
      ]
    },
    {
      "cell_type": "code",
      "metadata": {
        "id": "emikTvUpk3Ck"
      },
      "source": [
        "dataset_total = pd.concat((dataset_train['Open'], dataset_test['Open']), axis = 0)\n",
        "inputs = dataset_total[len(dataset_total) - len(dataset_test) - 60:].values\n",
        "inputs = inputs.reshape(-1,1)\n",
        "inputs = sc.transform(inputs)\n",
        "X_test = []\n",
        "for i in range(60, 80):\n",
        "    X_test.append(inputs[i-60:i, 0])\n",
        "X_test = np.array(X_test)\n",
        "X_test = np.reshape(X_test, (X_test.shape[0], X_test.shape[1], 1))\n",
        "predicted_stock_price = regressor.predict(X_test)\n",
        "predicted_stock_price = sc.inverse_transform(predicted_stock_price)"
      ],
      "execution_count": null,
      "outputs": []
    },
    {
      "cell_type": "markdown",
      "metadata": {
        "id": "iFTNs3YHk6FQ"
      },
      "source": [
        "### Visualising the results"
      ]
    },
    {
      "cell_type": "code",
      "metadata": {
        "id": "8OUI8U49k9tH",
        "colab": {
          "base_uri": "https://localhost:8080/",
          "height": 295
        },
        "outputId": "db0ed15e-071b-4bae-955e-0eda3df95238"
      },
      "source": [
        "plt.plot(real_stock_price, color = 'red', label = 'Real Google Stock Price')\n",
        "plt.plot(predicted_stock_price, color = 'blue', label = 'Predicted Google Stock Price')\n",
        "plt.title('Google Stock Price Prediction')\n",
        "plt.xlabel('Time')\n",
        "plt.ylabel('Google Stock Price')\n",
        "plt.legend()\n",
        "plt.show()"
      ],
      "execution_count": null,
      "outputs": [
        {
          "output_type": "display_data",
          "data": {
            "image/png": "[encoded data removed]",
            "text/plain": [
              "<Figure size 432x288 with 1 Axes>"
            ]
          },
          "metadata": {
            "tags": [],
            "needs_background": "light"
          }
        }
      ]
    }
  ]
}