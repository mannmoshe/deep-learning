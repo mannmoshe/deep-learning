{
  "nbformat": 4,
  "nbformat_minor": 0,
  "metadata": {
    "colab": {
      "name": "rnn.ipynb",
      "provenance": [],
      "collapsed_sections": [],
      "include_colab_link": true
    },
    "kernelspec": {
      "name": "python3",
      "display_name": "Python 3"
    }
  },
  "cells": [
    {
      "cell_type": "markdown",
      "metadata": {
        "id": "view-in-github",
        "colab_type": "text"
      },
      "source": [
        "<a href=\"https://colab.research.google.com/github/mannmoshe/deep-learning/blob/main/Solutions/rnn_mm.ipynb\" target=\"_parent\"><img src=\"https://colab.research.google.com/assets/colab-badge.svg\" alt=\"Open In Colab\"/></a>"
      ]
    },
    {
      "cell_type": "markdown",
      "metadata": {
        "id": "xpAuMVCwfWs8"
      },
      "source": [
        "# Recurrent Neural Network"
      ]
    },
    {
      "cell_type": "markdown",
      "source": [
        "***All the cells that start with \"MM\" written or edited by Moshe Mann.***"
      ],
      "metadata": {
        "id": "zeLmzYBVMhj_"
      }
    },
    {
      "cell_type": "markdown",
      "source": [
        "MM: the next script and data based on the RNN example from https://www.udemy.com/course/deeplearning/ course."
      ],
      "metadata": {
        "id": "GcBChxQEMiMX"
      }
    },
    {
      "cell_type": "markdown",
      "source": [
        "MM: In this notebook we will try to predict Google stock's open price.<br>\n",
        "\n",
        "> Train data contains the stock's price from 2012 to 2016;<br>\n",
        "> Test data contains the stock's price at January 2017."
      ],
      "metadata": {
        "id": "9ghrdHD6Mlff"
      }
    },
    {
      "cell_type": "markdown",
      "metadata": {
        "id": "nxJfRe4bfYVA"
      },
      "source": [
        "## Part 1 - Data Preprocessing"
      ]
    },
    {
      "cell_type": "markdown",
      "metadata": {
        "id": "ir9zwETrfbrp"
      },
      "source": [
        "### Importing the libraries"
      ]
    },
    {
      "cell_type": "code",
      "metadata": {
        "id": "ZT1f24vHffuf"
      },
      "source": [
        "import numpy as np\n",
        "import matplotlib.pyplot as plt\n",
        "import pandas as pd"
      ],
      "execution_count": 1,
      "outputs": []
    },
    {
      "cell_type": "markdown",
      "metadata": {
        "id": "nQ47JAxrgmaL"
      },
      "source": [
        "### Importing the training set"
      ]
    },
    {
      "cell_type": "code",
      "metadata": {
        "id": "1xiv3pJOgqY3"
      },
      "source": [
        "dataset_train = pd.read_csv('Google_Stock_Price_Train.csv')\n",
        "training_set = dataset_train.iloc[:, 1:2].values"
      ],
      "execution_count": 2,
      "outputs": []
    },
    {
      "cell_type": "code",
      "source": [
        "#MM:\n",
        "print(type(dataset_train))\n",
        "dataset_train.head()"
      ],
      "metadata": {
        "colab": {
          "base_uri": "https://localhost:8080/",
          "height": 224
        },
        "id": "Ka-yfaW5PUsF",
        "outputId": "8d708c5c-eacb-41af-c94b-a44776b965ca"
      },
      "execution_count": 5,
      "outputs": [
        {
          "output_type": "stream",
          "name": "stdout",
          "text": [
            "<class 'pandas.core.frame.DataFrame'>\n"
          ]
        },
        {
          "output_type": "execute_result",
          "data": {
            "text/plain": [
              "       Date    Open    High     Low   Close      Volume\n",
              "0  1/3/2012  325.25  332.83  324.97  663.59   7,380,500\n",
              "1  1/4/2012  331.27  333.87  329.08  666.45   5,749,400\n",
              "2  1/5/2012  329.83  330.75  326.89  657.21   6,590,300\n",
              "3  1/6/2012  328.34  328.77  323.68  648.24   5,405,900\n",
              "4  1/9/2012  322.04  322.29  309.46  620.76  11,688,800"
            ],
            "text/html": [
              "\n",
              "  <div id=\"df-83457af3-22d5-454b-96ec-e0b81b2ee1ef\">\n",
              "    <div class=\"colab-df-container\">\n",
              "      <div>\n",
              "<style scoped>\n",
              "    .dataframe tbody tr th:only-of-type {\n",
              "        vertical-align: middle;\n",
              "    }\n",
              "\n",
              "    .dataframe tbody tr th {\n",
              "        vertical-align: top;\n",
              "    }\n",
              "\n",
              "    .dataframe thead th {\n",
              "        text-align: right;\n",
              "    }\n",
              "</style>\n",
              "<table border=\"1\" class=\"dataframe\">\n",
              "  <thead>\n",
              "    <tr style=\"text-align: right;\">\n",
              "      <th></th>\n",
              "      <th>Date</th>\n",
              "      <th>Open</th>\n",
              "      <th>High</th>\n",
              "      <th>Low</th>\n",
              "      <th>Close</th>\n",
              "      <th>Volume</th>\n",
              "    </tr>\n",
              "  </thead>\n",
              "  <tbody>\n",
              "    <tr>\n",
              "      <th>0</th>\n",
              "      <td>1/3/2012</td>\n",
              "      <td>325.25</td>\n",
              "      <td>332.83</td>\n",
              "      <td>324.97</td>\n",
              "      <td>663.59</td>\n",
              "      <td>7,380,500</td>\n",
              "    </tr>\n",
              "    <tr>\n",
              "      <th>1</th>\n",
              "      <td>1/4/2012</td>\n",
              "      <td>331.27</td>\n",
              "      <td>333.87</td>\n",
              "      <td>329.08</td>\n",
              "      <td>666.45</td>\n",
              "      <td>5,749,400</td>\n",
              "    </tr>\n",
              "    <tr>\n",
              "      <th>2</th>\n",
              "      <td>1/5/2012</td>\n",
              "      <td>329.83</td>\n",
              "      <td>330.75</td>\n",
              "      <td>326.89</td>\n",
              "      <td>657.21</td>\n",
              "      <td>6,590,300</td>\n",
              "    </tr>\n",
              "    <tr>\n",
              "      <th>3</th>\n",
              "      <td>1/6/2012</td>\n",
              "      <td>328.34</td>\n",
              "      <td>328.77</td>\n",
              "      <td>323.68</td>\n",
              "      <td>648.24</td>\n",
              "      <td>5,405,900</td>\n",
              "    </tr>\n",
              "    <tr>\n",
              "      <th>4</th>\n",
              "      <td>1/9/2012</td>\n",
              "      <td>322.04</td>\n",
              "      <td>322.29</td>\n",
              "      <td>309.46</td>\n",
              "      <td>620.76</td>\n",
              "      <td>11,688,800</td>\n",
              "    </tr>\n",
              "  </tbody>\n",
              "</table>\n",
              "</div>\n",
              "      <button class=\"colab-df-convert\" onclick=\"convertToInteractive('df-83457af3-22d5-454b-96ec-e0b81b2ee1ef')\"\n",
              "              title=\"Convert this dataframe to an interactive table.\"\n",
              "              style=\"display:none;\">\n",
              "        \n",
              "  <svg xmlns=\"http://www.w3.org/2000/svg\" height=\"24px\"viewBox=\"0 0 24 24\"\n",
              "       width=\"24px\">\n",
              "    <path d=\"M0 0h24v24H0V0z\" fill=\"none\"/>\n",
              "    <path d=\"M18.56 5.44l.94 2.06.94-2.06 2.06-.94-2.06-.94-.94-2.06-.94 2.06-2.06.94zm-11 1L8.5 8.5l.94-2.06 2.06-.94-2.06-.94L8.5 2.5l-.94 2.06-2.06.94zm10 10l.94 2.06.94-2.06 2.06-.94-2.06-.94-.94-2.06-.94 2.06-2.06.94z\"/><path d=\"M17.41 7.96l-1.37-1.37c-.4-.4-.92-.59-1.43-.59-.52 0-1.04.2-1.43.59L10.3 9.45l-7.72 7.72c-.78.78-.78 2.05 0 2.83L4 21.41c.39.39.9.59 1.41.59.51 0 1.02-.2 1.41-.59l7.78-7.78 2.81-2.81c.8-.78.8-2.07 0-2.86zM5.41 20L4 18.59l7.72-7.72 1.47 1.35L5.41 20z\"/>\n",
              "  </svg>\n",
              "      </button>\n",
              "      \n",
              "  <style>\n",
              "    .colab-df-container {\n",
              "      display:flex;\n",
              "      flex-wrap:wrap;\n",
              "      gap: 12px;\n",
              "    }\n",
              "\n",
              "    .colab-df-convert {\n",
              "      background-color: #E8F0FE;\n",
              "      border: none;\n",
              "      border-radius: 50%;\n",
              "      cursor: pointer;\n",
              "      display: none;\n",
              "      fill: #1967D2;\n",
              "      height: 32px;\n",
              "      padding: 0 0 0 0;\n",
              "      width: 32px;\n",
              "    }\n",
              "\n",
              "    .colab-df-convert:hover {\n",
              "      background-color: #E2EBFA;\n",
              "      box-shadow: 0px 1px 2px rgba(60, 64, 67, 0.3), 0px 1px 3px 1px rgba(60, 64, 67, 0.15);\n",
              "      fill: #174EA6;\n",
              "    }\n",
              "\n",
              "    [theme=dark] .colab-df-convert {\n",
              "      background-color: #3B4455;\n",
              "      fill: #D2E3FC;\n",
              "    }\n",
              "\n",
              "    [theme=dark] .colab-df-convert:hover {\n",
              "      background-color: #434B5C;\n",
              "      box-shadow: 0px 1px 3px 1px rgba(0, 0, 0, 0.15);\n",
              "      filter: drop-shadow(0px 1px 2px rgba(0, 0, 0, 0.3));\n",
              "      fill: #FFFFFF;\n",
              "    }\n",
              "  </style>\n",
              "\n",
              "      <script>\n",
              "        const buttonEl =\n",
              "          document.querySelector('#df-83457af3-22d5-454b-96ec-e0b81b2ee1ef button.colab-df-convert');\n",
              "        buttonEl.style.display =\n",
              "          google.colab.kernel.accessAllowed ? 'block' : 'none';\n",
              "\n",
              "        async function convertToInteractive(key) {\n",
              "          const element = document.querySelector('#df-83457af3-22d5-454b-96ec-e0b81b2ee1ef');\n",
              "          const dataTable =\n",
              "            await google.colab.kernel.invokeFunction('convertToInteractive',\n",
              "                                                     [key], {});\n",
              "          if (!dataTable) return;\n",
              "\n",
              "          const docLinkHtml = 'Like what you see? Visit the ' +\n",
              "            '<a target=\"_blank\" href=https://colab.research.google.com/notebooks/data_table.ipynb>data table notebook</a>'\n",
              "            + ' to learn more about interactive tables.';\n",
              "          element.innerHTML = '';\n",
              "          dataTable['output_type'] = 'display_data';\n",
              "          await google.colab.output.renderOutput(dataTable, element);\n",
              "          const docLink = document.createElement('div');\n",
              "          docLink.innerHTML = docLinkHtml;\n",
              "          element.appendChild(docLink);\n",
              "        }\n",
              "      </script>\n",
              "    </div>\n",
              "  </div>\n",
              "  "
            ]
          },
          "metadata": {},
          "execution_count": 5
        }
      ]
    },
    {
      "cell_type": "code",
      "source": [
        "#MM:\n",
        "print(type(training_set))\n",
        "training_set[:5]"
      ],
      "metadata": {
        "colab": {
          "base_uri": "https://localhost:8080/"
        },
        "id": "x6ri_wHkPY8d",
        "outputId": "124f02c2-a331-4f70-d08a-ab7313ff4da3"
      },
      "execution_count": 6,
      "outputs": [
        {
          "output_type": "stream",
          "name": "stdout",
          "text": [
            "<class 'numpy.ndarray'>\n"
          ]
        },
        {
          "output_type": "execute_result",
          "data": {
            "text/plain": [
              "array([[325.25],\n",
              "       [331.27],\n",
              "       [329.83],\n",
              "       [328.34],\n",
              "       [322.04]])"
            ]
          },
          "metadata": {},
          "execution_count": 6
        }
      ]
    },
    {
      "cell_type": "markdown",
      "metadata": {
        "id": "HT8_2UJegtG5"
      },
      "source": [
        "### Feature Scaling"
      ]
    },
    {
      "cell_type": "markdown",
      "source": [
        "![‏‏sn.PNG](data:image/png;base64,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)"
      ],
      "metadata": {
        "id": "jUNKPlpXQLR0"
      }
    },
    {
      "cell_type": "code",
      "metadata": {
        "id": "OTrF2kR7gx9x"
      },
      "source": [
        "from sklearn.preprocessing import MinMaxScaler\n",
        "sc = MinMaxScaler(feature_range = (0, 1))\n",
        "training_set_scaled = sc.fit_transform(training_set)"
      ],
      "execution_count": null,
      "outputs": []
    },
    {
      "cell_type": "markdown",
      "metadata": {
        "id": "JyYgYocqhNUg"
      },
      "source": [
        "### Creating a data structure with 60 timesteps and 1 output"
      ]
    },
    {
      "cell_type": "code",
      "metadata": {
        "id": "iofU21B0i6ST"
      },
      "source": [
        "X_train = []\n",
        "y_train = []\n",
        "for i in range(60, 1258):\n",
        "    X_train.append(training_set_scaled[i-60:i, 0])\n",
        "    y_train.append(training_set_scaled[i, 0])\n",
        "X_train, y_train = np.array(X_train), np.array(y_train)"
      ],
      "execution_count": null,
      "outputs": []
    },
    {
      "cell_type": "markdown",
      "metadata": {
        "id": "D8yaN7Zvi95l"
      },
      "source": [
        "### Reshaping"
      ]
    },
    {
      "cell_type": "code",
      "metadata": {
        "id": "FOXqJHmNjBkz"
      },
      "source": [
        "X_train = np.reshape(X_train, (X_train.shape[0], X_train.shape[1], 1))"
      ],
      "execution_count": null,
      "outputs": []
    },
    {
      "cell_type": "markdown",
      "metadata": {
        "id": "ZRRSOJeVjEWV"
      },
      "source": [
        "## Part 2 - Building and Training the RNN"
      ]
    },
    {
      "cell_type": "markdown",
      "metadata": {
        "id": "k4XV88JMjHXG"
      },
      "source": [
        "### Importing the Keras libraries and packages"
      ]
    },
    {
      "cell_type": "code",
      "metadata": {
        "id": "9JRnqsxEjKsD",
        "colab": {
          "base_uri": "https://localhost:8080/",
          "height": 34
        },
        "outputId": "b3e23e78-18aa-4396-c923-c877b8de60e4"
      },
      "source": [
        "from keras.models import Sequential\n",
        "from keras.layers import Dense\n",
        "from keras.layers import LSTM\n",
        "from keras.layers import Dropout"
      ],
      "execution_count": null,
      "outputs": [
        {
          "output_type": "stream",
          "text": [
            "Using TensorFlow backend.\n"
          ],
          "name": "stderr"
        }
      ]
    },
    {
      "cell_type": "markdown",
      "metadata": {
        "id": "FEIE-1s9jNzC"
      },
      "source": [
        "### Initialising the RNN"
      ]
    },
    {
      "cell_type": "code",
      "metadata": {
        "id": "1338dJ0UjRKH"
      },
      "source": [
        "regressor = Sequential()"
      ],
      "execution_count": null,
      "outputs": []
    },
    {
      "cell_type": "markdown",
      "metadata": {
        "id": "62eg1OPGjT8z"
      },
      "source": [
        "### Adding the first LSTM layer and some Dropout regularisation"
      ]
    },
    {
      "cell_type": "code",
      "metadata": {
        "id": "2hIinyXUjbVU"
      },
      "source": [
        "regressor.add(LSTM(units = 50, return_sequences = True, input_shape = (X_train.shape[1], 1)))\n",
        "regressor.add(Dropout(0.2))"
      ],
      "execution_count": null,
      "outputs": []
    },
    {
      "cell_type": "markdown",
      "metadata": {
        "id": "3XBIYLyOjlMx"
      },
      "source": [
        "### Adding a second LSTM layer and some Dropout regularisation"
      ]
    },
    {
      "cell_type": "code",
      "metadata": {
        "id": "UG7nrVaSjuZ2"
      },
      "source": [
        "regressor.add(LSTM(units = 50, return_sequences = True))\n",
        "regressor.add(Dropout(0.2))"
      ],
      "execution_count": null,
      "outputs": []
    },
    {
      "cell_type": "markdown",
      "metadata": {
        "id": "Ey3fHVnGj1cu"
      },
      "source": [
        "### Adding a third LSTM layer and some Dropout regularisation"
      ]
    },
    {
      "cell_type": "code",
      "metadata": {
        "id": "PuNi6PgFj7jO"
      },
      "source": [
        "regressor.add(LSTM(units = 50, return_sequences = True))\n",
        "regressor.add(Dropout(0.2))"
      ],
      "execution_count": null,
      "outputs": []
    },
    {
      "cell_type": "markdown",
      "metadata": {
        "id": "SYTrtfTmj933"
      },
      "source": [
        "### Adding a fourth LSTM layer and some Dropout regularisation"
      ]
    },
    {
      "cell_type": "code",
      "metadata": {
        "id": "Jp4Ty8fRkBYV"
      },
      "source": [
        "regressor.add(LSTM(units = 50))\n",
        "regressor.add(Dropout(0.2))"
      ],
      "execution_count": null,
      "outputs": []
    },
    {
      "cell_type": "markdown",
      "metadata": {
        "id": "9ABI6rOIkHhk"
      },
      "source": [
        "### Adding the output layer"
      ]
    },
    {
      "cell_type": "code",
      "metadata": {
        "id": "aM6R1z4WkME8"
      },
      "source": [
        "regressor.add(Dense(units = 1))"
      ],
      "execution_count": null,
      "outputs": []
    },
    {
      "cell_type": "markdown",
      "metadata": {
        "id": "zLx4K7uUkPSh"
      },
      "source": [
        "### Compiling the RNN"
      ]
    },
    {
      "cell_type": "code",
      "metadata": {
        "id": "XTrhVN-tkbko"
      },
      "source": [
        "regressor.compile(optimizer = 'adam', loss = 'mean_squared_error')"
      ],
      "execution_count": null,
      "outputs": []
    },
    {
      "cell_type": "markdown",
      "metadata": {
        "id": "-mPhwKGkkebi"
      },
      "source": [
        "### Fitting the RNN to the Training set"
      ]
    },
    {
      "cell_type": "code",
      "metadata": {
        "id": "I06Nkrz5kkb-",
        "colab": {
          "base_uri": "https://localhost:8080/",
          "height": 1000
        },
        "outputId": "dc9d947a-4d5c-4dbc-ed45-31bf44b98dfb"
      },
      "source": [
        "regressor.fit(X_train, y_train, epochs = 100, batch_size = 32)"
      ],
      "execution_count": null,
      "outputs": [
        {
          "output_type": "stream",
          "text": [
            "Epoch 1/100\n",
            "1198/1198 [==============================] - 6s 5ms/step - loss: 0.0437\n",
            "Epoch 2/100\n",
            "1198/1198 [==============================] - 5s 4ms/step - loss: 0.0062\n",
            "Epoch 3/100\n",
            "1198/1198 [==============================] - 5s 4ms/step - loss: 0.0056\n",
            "Epoch 4/100\n",
            "1198/1198 [==============================] - 5s 4ms/step - loss: 0.0053\n",
            "Epoch 5/100\n",
            "1198/1198 [==============================] - 5s 4ms/step - loss: 0.0050\n",
            "Epoch 6/100\n",
            "1198/1198 [==============================] - 5s 4ms/step - loss: 0.0054\n",
            "Epoch 7/100\n",
            "1198/1198 [==============================] - 5s 4ms/step - loss: 0.0043\n",
            "Epoch 8/100\n",
            "1198/1198 [==============================] - 5s 4ms/step - loss: 0.0045\n",
            "Epoch 9/100\n",
            "1198/1198 [==============================] - 5s 4ms/step - loss: 0.0039\n",
            "Epoch 10/100\n",
            "1198/1198 [==============================] - 5s 4ms/step - loss: 0.0042\n",
            "Epoch 11/100\n",
            "1198/1198 [==============================] - 5s 4ms/step - loss: 0.0040\n",
            "Epoch 12/100\n",
            "1198/1198 [==============================] - 5s 4ms/step - loss: 0.0039\n",
            "Epoch 13/100\n",
            "1198/1198 [==============================] - 5s 4ms/step - loss: 0.0038\n",
            "Epoch 14/100\n",
            "1198/1198 [==============================] - 5s 4ms/step - loss: 0.0036\n",
            "Epoch 15/100\n",
            "1198/1198 [==============================] - 5s 4ms/step - loss: 0.0040\n",
            "Epoch 16/100\n",
            "1198/1198 [==============================] - 5s 4ms/step - loss: 0.0039\n",
            "Epoch 17/100\n",
            "1198/1198 [==============================] - 5s 4ms/step - loss: 0.0037\n",
            "Epoch 18/100\n",
            "1198/1198 [==============================] - 5s 4ms/step - loss: 0.0033\n",
            "Epoch 19/100\n",
            "1198/1198 [==============================] - 5s 4ms/step - loss: 0.0037\n",
            "Epoch 20/100\n",
            "1198/1198 [==============================] - 5s 4ms/step - loss: 0.0038\n",
            "Epoch 21/100\n",
            "1198/1198 [==============================] - 5s 4ms/step - loss: 0.0034\n",
            "Epoch 22/100\n",
            "1198/1198 [==============================] - 5s 4ms/step - loss: 0.0038\n",
            "Epoch 23/100\n",
            "1198/1198 [==============================] - 5s 4ms/step - loss: 0.0035\n",
            "Epoch 24/100\n",
            "1198/1198 [==============================] - 5s 4ms/step - loss: 0.0033\n",
            "Epoch 25/100\n",
            "1198/1198 [==============================] - 5s 4ms/step - loss: 0.0031\n",
            "Epoch 26/100\n",
            "1198/1198 [==============================] - 5s 4ms/step - loss: 0.0030\n",
            "Epoch 27/100\n",
            "1198/1198 [==============================] - 5s 4ms/step - loss: 0.0030\n",
            "Epoch 28/100\n",
            "1198/1198 [==============================] - 5s 4ms/step - loss: 0.0029\n",
            "Epoch 29/100\n",
            "1198/1198 [==============================] - 5s 4ms/step - loss: 0.0030\n",
            "Epoch 30/100\n",
            "1198/1198 [==============================] - 5s 4ms/step - loss: 0.0030\n",
            "Epoch 31/100\n",
            "1198/1198 [==============================] - 5s 4ms/step - loss: 0.0026\n",
            "Epoch 32/100\n",
            "1198/1198 [==============================] - 5s 4ms/step - loss: 0.0028\n",
            "Epoch 33/100\n",
            "1198/1198 [==============================] - 5s 4ms/step - loss: 0.0030\n",
            "Epoch 34/100\n",
            "1198/1198 [==============================] - 5s 4ms/step - loss: 0.0028\n",
            "Epoch 35/100\n",
            "1198/1198 [==============================] - 5s 4ms/step - loss: 0.0028\n",
            "Epoch 36/100\n",
            "1198/1198 [==============================] - 5s 4ms/step - loss: 0.0025\n",
            "Epoch 37/100\n",
            "1198/1198 [==============================] - 5s 4ms/step - loss: 0.0032\n",
            "Epoch 38/100\n",
            "1198/1198 [==============================] - 5s 4ms/step - loss: 0.0025\n",
            "Epoch 39/100\n",
            "1198/1198 [==============================] - 5s 4ms/step - loss: 0.0025\n",
            "Epoch 40/100\n",
            "1198/1198 [==============================] - 5s 4ms/step - loss: 0.0025\n",
            "Epoch 41/100\n",
            "1198/1198 [==============================] - 5s 4ms/step - loss: 0.0024\n",
            "Epoch 42/100\n",
            "1198/1198 [==============================] - 5s 4ms/step - loss: 0.0026\n",
            "Epoch 43/100\n",
            "1198/1198 [==============================] - 5s 4ms/step - loss: 0.0026\n",
            "Epoch 44/100\n",
            "1198/1198 [==============================] - 5s 4ms/step - loss: 0.0026\n",
            "Epoch 45/100\n",
            "1198/1198 [==============================] - 5s 4ms/step - loss: 0.0023\n",
            "Epoch 46/100\n",
            "1198/1198 [==============================] - 5s 4ms/step - loss: 0.0023\n",
            "Epoch 47/100\n",
            "1198/1198 [==============================] - 5s 4ms/step - loss: 0.0027\n",
            "Epoch 48/100\n",
            "1198/1198 [==============================] - 5s 4ms/step - loss: 0.0024\n",
            "Epoch 49/100\n",
            "1198/1198 [==============================] - 5s 4ms/step - loss: 0.0025\n",
            "Epoch 50/100\n",
            "1198/1198 [==============================] - 5s 4ms/step - loss: 0.0025\n",
            "Epoch 51/100\n",
            "1198/1198 [==============================] - 5s 4ms/step - loss: 0.0026\n",
            "Epoch 52/100\n",
            "1198/1198 [==============================] - 5s 4ms/step - loss: 0.0023\n",
            "Epoch 53/100\n",
            "1198/1198 [==============================] - 5s 4ms/step - loss: 0.0024\n",
            "Epoch 54/100\n",
            "1198/1198 [==============================] - 5s 4ms/step - loss: 0.0024\n",
            "Epoch 55/100\n",
            "1198/1198 [==============================] - 5s 4ms/step - loss: 0.0025\n",
            "Epoch 56/100\n",
            "1198/1198 [==============================] - 5s 4ms/step - loss: 0.0025\n",
            "Epoch 57/100\n",
            "1198/1198 [==============================] - 5s 4ms/step - loss: 0.0023\n",
            "Epoch 58/100\n",
            "1198/1198 [==============================] - 5s 4ms/step - loss: 0.0020\n",
            "Epoch 59/100\n",
            "1198/1198 [==============================] - 5s 4ms/step - loss: 0.0023\n",
            "Epoch 60/100\n",
            "1198/1198 [==============================] - 5s 4ms/step - loss: 0.0020\n",
            "Epoch 61/100\n",
            "1198/1198 [==============================] - 5s 4ms/step - loss: 0.0021\n",
            "Epoch 62/100\n",
            "1198/1198 [==============================] - 5s 4ms/step - loss: 0.0021\n",
            "Epoch 63/100\n",
            "1198/1198 [==============================] - 5s 4ms/step - loss: 0.0021\n",
            "Epoch 64/100\n",
            "1198/1198 [==============================] - 5s 4ms/step - loss: 0.0019\n",
            "Epoch 65/100\n",
            "1198/1198 [==============================] - 5s 4ms/step - loss: 0.0022\n",
            "Epoch 66/100\n",
            "1198/1198 [==============================] - 5s 4ms/step - loss: 0.0020\n",
            "Epoch 67/100\n",
            "1198/1198 [==============================] - 5s 4ms/step - loss: 0.0017\n",
            "Epoch 68/100\n",
            "1198/1198 [==============================] - 5s 4ms/step - loss: 0.0018\n",
            "Epoch 69/100\n",
            "1198/1198 [==============================] - 5s 4ms/step - loss: 0.0021\n",
            "Epoch 70/100\n",
            "1198/1198 [==============================] - 5s 4ms/step - loss: 0.0019\n",
            "Epoch 71/100\n",
            "1198/1198 [==============================] - 5s 4ms/step - loss: 0.0019\n",
            "Epoch 72/100\n",
            "1198/1198 [==============================] - 5s 4ms/step - loss: 0.0018\n",
            "Epoch 73/100\n",
            "1198/1198 [==============================] - 5s 4ms/step - loss: 0.0017\n",
            "Epoch 74/100\n",
            "1198/1198 [==============================] - 5s 4ms/step - loss: 0.0019\n",
            "Epoch 75/100\n",
            "1198/1198 [==============================] - 5s 4ms/step - loss: 0.0017\n",
            "Epoch 76/100\n",
            "1198/1198 [==============================] - 5s 4ms/step - loss: 0.0018\n",
            "Epoch 77/100\n",
            "1198/1198 [==============================] - 5s 4ms/step - loss: 0.0018\n",
            "Epoch 78/100\n",
            "1198/1198 [==============================] - 5s 4ms/step - loss: 0.0019\n",
            "Epoch 79/100\n",
            "1198/1198 [==============================] - 5s 4ms/step - loss: 0.0017\n",
            "Epoch 80/100\n",
            "1198/1198 [==============================] - 5s 4ms/step - loss: 0.0018\n",
            "Epoch 81/100\n",
            "1198/1198 [==============================] - 5s 4ms/step - loss: 0.0019\n",
            "Epoch 82/100\n",
            "1198/1198 [==============================] - 5s 4ms/step - loss: 0.0020\n",
            "Epoch 83/100\n",
            "1198/1198 [==============================] - 5s 4ms/step - loss: 0.0017\n",
            "Epoch 84/100\n",
            "1198/1198 [==============================] - 5s 4ms/step - loss: 0.0019\n",
            "Epoch 85/100\n",
            "1198/1198 [==============================] - 5s 4ms/step - loss: 0.0016\n",
            "Epoch 86/100\n",
            "1198/1198 [==============================] - 5s 4ms/step - loss: 0.0018\n",
            "Epoch 87/100\n",
            "1198/1198 [==============================] - 5s 4ms/step - loss: 0.0016\n",
            "Epoch 88/100\n",
            "1198/1198 [==============================] - 5s 4ms/step - loss: 0.0016\n",
            "Epoch 89/100\n",
            "1198/1198 [==============================] - 5s 4ms/step - loss: 0.0016\n",
            "Epoch 90/100\n",
            "1198/1198 [==============================] - 5s 4ms/step - loss: 0.0016\n",
            "Epoch 91/100\n",
            "1198/1198 [==============================] - 5s 4ms/step - loss: 0.0016\n",
            "Epoch 92/100\n",
            "1198/1198 [==============================] - 5s 4ms/step - loss: 0.0014\n",
            "Epoch 93/100\n",
            "1198/1198 [==============================] - 5s 4ms/step - loss: 0.0014\n",
            "Epoch 94/100\n",
            "1198/1198 [==============================] - 5s 4ms/step - loss: 0.0015\n",
            "Epoch 95/100\n",
            "1198/1198 [==============================] - 5s 4ms/step - loss: 0.0014\n",
            "Epoch 96/100\n",
            "1198/1198 [==============================] - 5s 4ms/step - loss: 0.0014\n",
            "Epoch 97/100\n",
            "1198/1198 [==============================] - 5s 4ms/step - loss: 0.0015\n",
            "Epoch 98/100\n",
            "1198/1198 [==============================] - 5s 4ms/step - loss: 0.0014\n",
            "Epoch 99/100\n",
            "1198/1198 [==============================] - 5s 4ms/step - loss: 0.0014\n",
            "Epoch 100/100\n",
            "1198/1198 [==============================] - 5s 4ms/step - loss: 0.0013\n"
          ],
          "name": "stdout"
        },
        {
          "output_type": "execute_result",
          "data": {
            "text/plain": [
              "<keras.callbacks.callbacks.History at 0x7f09cd4ae160>"
            ]
          },
          "metadata": {
            "tags": []
          },
          "execution_count": 14
        }
      ]
    },
    {
      "cell_type": "markdown",
      "metadata": {
        "id": "4hRau_lIkrE8"
      },
      "source": [
        "## Part 3 - Making the predictions and visualising the results"
      ]
    },
    {
      "cell_type": "markdown",
      "metadata": {
        "id": "SgJO6qEDksxD"
      },
      "source": [
        "### Getting the real stock price of 2017"
      ]
    },
    {
      "cell_type": "code",
      "metadata": {
        "id": "FmBT2zqukxTz"
      },
      "source": [
        "dataset_test = pd.read_csv('Google_Stock_Price_Test.csv')\n",
        "real_stock_price = dataset_test.iloc[:, 1:2].values"
      ],
      "execution_count": null,
      "outputs": []
    },
    {
      "cell_type": "markdown",
      "metadata": {
        "id": "GrvrLblxkz42"
      },
      "source": [
        "### Getting the predicted stock price of 2017"
      ]
    },
    {
      "cell_type": "code",
      "metadata": {
        "id": "emikTvUpk3Ck"
      },
      "source": [
        "dataset_total = pd.concat((dataset_train['Open'], dataset_test['Open']), axis = 0)\n",
        "inputs = dataset_total[len(dataset_total) - len(dataset_test) - 60:].values\n",
        "inputs = inputs.reshape(-1,1)\n",
        "inputs = sc.transform(inputs)\n",
        "X_test = []\n",
        "for i in range(60, 80):\n",
        "    X_test.append(inputs[i-60:i, 0])\n",
        "X_test = np.array(X_test)\n",
        "X_test = np.reshape(X_test, (X_test.shape[0], X_test.shape[1], 1))\n",
        "predicted_stock_price = regressor.predict(X_test)\n",
        "predicted_stock_price = sc.inverse_transform(predicted_stock_price)"
      ],
      "execution_count": null,
      "outputs": []
    },
    {
      "cell_type": "markdown",
      "metadata": {
        "id": "iFTNs3YHk6FQ"
      },
      "source": [
        "### Visualising the results"
      ]
    },
    {
      "cell_type": "code",
      "metadata": {
        "id": "8OUI8U49k9tH",
        "colab": {
          "base_uri": "https://localhost:8080/",
          "height": 295
        },
        "outputId": "db0ed15e-071b-4bae-955e-0eda3df95238"
      },
      "source": [
        "plt.plot(real_stock_price, color = 'red', label = 'Real Google Stock Price')\n",
        "plt.plot(predicted_stock_price, color = 'blue', label = 'Predicted Google Stock Price')\n",
        "plt.title('Google Stock Price Prediction')\n",
        "plt.xlabel('Time')\n",
        "plt.ylabel('Google Stock Price')\n",
        "plt.legend()\n",
        "plt.show()"
      ],
      "execution_count": null,
      "outputs": [
        {
          "output_type": "display_data",
          "data": {
            "image/png": "[encoded data removed]",
            "text/plain": [
              "<Figure size 432x288 with 1 Axes>"
            ]
          },
          "metadata": {
            "tags": [],
            "needs_background": "light"
          }
        }
      ]
    }
  ]
}