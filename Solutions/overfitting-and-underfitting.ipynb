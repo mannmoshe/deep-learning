{
  "cells": [
    {
      "cell_type": "markdown",
      "source": [
        "MM: Sources of this notebook:<br>\n",
        "https://github.com/fchollet/deep-learning-with-python-notebooks/tree/master/first_edition<br>\n",
        "https://github.com/fchollet/deep-learning-with-python-notebooks/blob/master/chapter05_fundamentals-of-ml.ipynb"
      ],
      "metadata": {
        "id": "z8OirzrZAK7k"
      }
    },
    {
      "cell_type": "markdown",
      "source": [
        "***All the cells that start with \"MM\" written or edited by Moshe Mann.***"
      ],
      "metadata": {
        "id": "XmpU0LCdAIYU"
      }
    },
    {
      "cell_type": "code",
      "execution_count": 1,
      "metadata": {
        "id": "xvvuHiBN-jw8",
        "outputId": "b2552882-ad57-4820-9c91-3161c9705c4b",
        "colab": {
          "base_uri": "https://localhost:8080/",
          "height": 35
        }
      },
      "outputs": [
        {
          "output_type": "execute_result",
          "data": {
            "application/vnd.google.colaboratory.intrinsic+json": {
              "type": "string"
            },
            "text/plain": [
              "'2.8.0'"
            ]
          },
          "metadata": {},
          "execution_count": 1
        }
      ],
      "source": [
        "import keras\n",
        "keras.__version__"
      ]
    },
    {
      "cell_type": "markdown",
      "metadata": {
        "id": "YtvG-aCj-jw_"
      },
      "source": [
        "# Overfitting and underfitting\n",
        "\n",
        "This notebook contains the code samples found in Chapter 3, Section 6 of [Deep Learning with Python](https://www.manning.com/books/deep-learning-with-python?a_aid=keras&a_bid=76564dff). Note that the original text features far more content, in particular further explanations and figures: in this notebook, you will only find source code and related comments.\n",
        "\n",
        "----\n",
        "\n",
        "\n",
        "In all the examples we saw in the previous chapter -- movie review sentiment prediction, topic classification, and house price regression -- \n",
        "we could notice that the performance of our model on the held-out validation data would always peak after a few epochs and would then start \n",
        "degrading, i.e. our model would quickly start to _overfit_ to the training data. Overfitting happens in every single machine learning \n",
        "problem. Learning how to deal with overfitting is essential to mastering machine learning.\n",
        "\n",
        "The fundamental issue in machine learning is the tension between optimization and generalization. \"Optimization\" refers to the process of \n",
        "adjusting a model to get the best performance possible on the training data (the \"learning\" in \"machine learning\"), while \"generalization\" \n",
        "refers to how well the trained model would perform on data it has never seen before. The goal of the game is to get good generalization, of \n",
        "course, but you do not control generalization; you can only adjust the model based on its training data.\n",
        "\n",
        "At the beginning of training, optimization and generalization are correlated: the lower your loss on training data, the lower your loss on \n",
        "test data. While this is happening, your model is said to be _under-fit_: there is still progress to be made; the network hasn't yet \n",
        "modeled all relevant patterns in the training data. But after a certain number of iterations on the training data, generalization stops \n",
        "improving, validation metrics stall then start degrading: the model is then starting to over-fit, i.e. is it starting to learn patterns \n",
        "that are specific to the training data but that are misleading or irrelevant when it comes to new data.\n",
        "\n",
        "To prevent a model from learning misleading or irrelevant patterns found in the training data, _the best solution is of course to get \n",
        "more training data_. A model trained on more data will naturally generalize better. When that is no longer possible, the next best solution \n",
        "is to modulate the quantity of information that your model is allowed to store, or to add constraints on what information it is allowed to \n",
        "store. If a network can only afford to memorize a small number of patterns, the optimization process will force it to focus on the most \n",
        "prominent patterns, which have a better chance of generalizing well.\n",
        "\n",
        "The processing of fighting overfitting in this way is called _regularization_. Let's review some of the most common regularization \n",
        "techniques, and let's apply them in practice to improve our movie classification model from  the previous chapter."
      ]
    },
    {
      "cell_type": "markdown",
      "metadata": {
        "id": "CgerzDyn-jxD"
      },
      "source": [
        "Note: in this notebook we will be using the IMDB test set as our validation set. It doesn't matter in this context.\n",
        "\n",
        "Let's prepare the data using the code from Chapter 3, Section 5:"
      ]
    },
    {
      "cell_type": "code",
      "execution_count": 2,
      "metadata": {
        "collapsed": true,
        "id": "HTyf9cVX-jxE"
      },
      "outputs": [],
      "source": [
        "from keras.datasets import imdb\n",
        "import numpy as np\n",
        "\n",
        "(train_data, train_labels), (test_data, test_labels) = imdb.load_data(num_words=10000)\n",
        "\n",
        "def vectorize_sequences(sequences, dimension=10000):\n",
        "    # Create an all-zero matrix of shape (len(sequences), dimension)\n",
        "    results = np.zeros((len(sequences), dimension))\n",
        "    for i, sequence in enumerate(sequences):\n",
        "        results[i, sequence] = 1.  # set specific indices of results[i] to 1s\n",
        "    return results\n",
        "\n",
        "# Our vectorized training data\n",
        "x_train = vectorize_sequences(train_data)\n",
        "# Our vectorized test data\n",
        "x_test = vectorize_sequences(test_data)\n",
        "# Our vectorized labels\n",
        "y_train = np.asarray(train_labels).astype('float32')\n",
        "y_test = np.asarray(test_labels).astype('float32')"
      ]
    },
    {
      "cell_type": "markdown",
      "metadata": {
        "id": "3yEuFtaE-jxF"
      },
      "source": [
        "# Fighting overfitting\n",
        "\n",
        "## Reducing the network's size\n",
        "\n",
        "\n",
        "The simplest way to prevent overfitting is to reduce the size of the model, i.e. the number of learnable parameters in the model (which is \n",
        "determined by the number of layers and the number of units per layer). In deep learning, the number of learnable parameters in a model is \n",
        "often referred to as the model's \"capacity\". Intuitively, a model with more parameters will have more \"memorization capacity\" and therefore \n",
        "will be able to easily learn a perfect dictionary-like mapping between training samples and their targets, a mapping without any \n",
        "generalization power. For instance, a model with 500,000 binary parameters could easily be made to learn the class of every digits in the \n",
        "MNIST training set: we would only need 10 binary parameters for each of the 50,000 digits. Such a model would be useless for classifying \n",
        "new digit samples. Always keep this in mind: deep learning models tend to be good at fitting to the training data, but the real challenge \n",
        "is generalization, not fitting.\n",
        "\n",
        "On the other hand, if the network has limited memorization resources, it will not be able to learn this mapping as easily, and thus, in \n",
        "order to minimize its loss, it will have to resort to learning compressed representations that have predictive power regarding the targets \n",
        "-- precisely the type of representations that we are interested in. At the same time, keep in mind that you should be using models that have \n",
        "enough parameters that they won't be underfitting: your model shouldn't be starved for memorization resources. There is a compromise to be \n",
        "found between \"too much capacity\" and \"not enough capacity\".\n",
        "\n",
        "Unfortunately, there is no magical formula to determine what the right number of layers is, or what the right size for each layer is. You \n",
        "will have to evaluate an array of different architectures (on your validation set, not on your test set, of course) in order to find the \n",
        "right model size for your data. The general workflow to find an appropriate model size is to start with relatively few layers and \n",
        "parameters, and start increasing the size of the layers or adding new layers until you see diminishing returns with regard to the \n",
        "validation loss.\n",
        "\n",
        "Let's try this on our movie review classification network. Our original network was as such:"
      ]
    },
    {
      "cell_type": "code",
      "execution_count": 3,
      "metadata": {
        "collapsed": true,
        "id": "MWTLREWH-jxG"
      },
      "outputs": [],
      "source": [
        "from keras import models\n",
        "from keras import layers\n",
        "\n",
        "original_model = models.Sequential()\n",
        "original_model.add(layers.Dense(16, activation='relu', input_shape=(10000,)))\n",
        "original_model.add(layers.Dense(16, activation='relu'))\n",
        "original_model.add(layers.Dense(1, activation='sigmoid'))\n",
        "\n",
        "original_model.compile(optimizer='rmsprop',\n",
        "                       loss='binary_crossentropy',\n",
        "                       metrics=['acc'])"
      ]
    },
    {
      "cell_type": "markdown",
      "metadata": {
        "id": "oV-S8PtZ-jxH"
      },
      "source": [
        "Now let's try to replace it with this smaller network:"
      ]
    },
    {
      "cell_type": "code",
      "execution_count": 4,
      "metadata": {
        "collapsed": true,
        "id": "1J8-No7x-jxH"
      },
      "outputs": [],
      "source": [
        "smaller_model = models.Sequential()\n",
        "smaller_model.add(layers.Dense(4, activation='relu', input_shape=(10000,)))\n",
        "smaller_model.add(layers.Dense(4, activation='relu'))\n",
        "smaller_model.add(layers.Dense(1, activation='sigmoid'))\n",
        "\n",
        "smaller_model.compile(optimizer='rmsprop',\n",
        "                      loss='binary_crossentropy',\n",
        "                      metrics=['acc'])"
      ]
    },
    {
      "cell_type": "markdown",
      "metadata": {
        "id": "sH5kQAWR-jxI"
      },
      "source": [
        "\n",
        "Here's a comparison of the validation losses of the original network and the smaller network. The dots are the validation loss values of \n",
        "the smaller network, and the crosses are the initial network (remember: a lower validation loss signals a better model)."
      ]
    },
    {
      "cell_type": "code",
      "execution_count": 5,
      "metadata": {
        "id": "Lzo1PsD3-jxJ",
        "outputId": "9c27c37b-1539-480c-c14a-c0a0f496a32c",
        "colab": {
          "base_uri": "https://localhost:8080/"
        }
      },
      "outputs": [
        {
          "output_type": "stream",
          "name": "stdout",
          "text": [
            "Epoch 1/20\n",
            "49/49 [==============================] - 3s 51ms/step - loss: 0.4507 - acc: 0.8245 - val_loss: 0.3639 - val_acc: 0.8579\n",
            "Epoch 2/20\n",
            "49/49 [==============================] - 2s 38ms/step - loss: 0.2582 - acc: 0.9088 - val_loss: 0.2854 - val_acc: 0.8881\n",
            "Epoch 3/20\n",
            "49/49 [==============================] - 2s 37ms/step - loss: 0.1996 - acc: 0.9280 - val_loss: 0.2850 - val_acc: 0.8872\n",
            "Epoch 4/20\n",
            "49/49 [==============================] - 2s 37ms/step - loss: 0.1672 - acc: 0.9420 - val_loss: 0.2980 - val_acc: 0.8827\n",
            "Epoch 5/20\n",
            "49/49 [==============================] - 2s 37ms/step - loss: 0.1441 - acc: 0.9504 - val_loss: 0.3340 - val_acc: 0.8743\n",
            "Epoch 6/20\n",
            "49/49 [==============================] - 2s 38ms/step - loss: 0.1276 - acc: 0.9562 - val_loss: 0.3539 - val_acc: 0.8715\n",
            "Epoch 7/20\n",
            "49/49 [==============================] - 2s 37ms/step - loss: 0.1108 - acc: 0.9632 - val_loss: 0.3650 - val_acc: 0.8703\n",
            "Epoch 8/20\n",
            "49/49 [==============================] - 2s 37ms/step - loss: 0.0990 - acc: 0.9662 - val_loss: 0.4225 - val_acc: 0.8630\n",
            "Epoch 9/20\n",
            "49/49 [==============================] - 2s 37ms/step - loss: 0.0876 - acc: 0.9712 - val_loss: 0.4476 - val_acc: 0.8606\n",
            "Epoch 10/20\n",
            "49/49 [==============================] - 2s 37ms/step - loss: 0.0801 - acc: 0.9743 - val_loss: 0.4374 - val_acc: 0.8640\n",
            "Epoch 11/20\n",
            "49/49 [==============================] - 2s 38ms/step - loss: 0.0689 - acc: 0.9774 - val_loss: 0.4674 - val_acc: 0.8618\n",
            "Epoch 12/20\n",
            "49/49 [==============================] - 2s 37ms/step - loss: 0.0615 - acc: 0.9813 - val_loss: 0.5387 - val_acc: 0.8498\n",
            "Epoch 13/20\n",
            "49/49 [==============================] - 2s 38ms/step - loss: 0.0538 - acc: 0.9838 - val_loss: 0.5262 - val_acc: 0.8580\n",
            "Epoch 14/20\n",
            "49/49 [==============================] - 2s 37ms/step - loss: 0.0458 - acc: 0.9867 - val_loss: 0.5595 - val_acc: 0.8568\n",
            "Epoch 15/20\n",
            "49/49 [==============================] - 2s 37ms/step - loss: 0.0396 - acc: 0.9894 - val_loss: 0.5997 - val_acc: 0.8551\n",
            "Epoch 16/20\n",
            "49/49 [==============================] - 2s 37ms/step - loss: 0.0354 - acc: 0.9901 - val_loss: 0.6309 - val_acc: 0.8543\n",
            "Epoch 17/20\n",
            "49/49 [==============================] - 2s 37ms/step - loss: 0.0297 - acc: 0.9916 - val_loss: 0.6642 - val_acc: 0.8528\n",
            "Epoch 18/20\n",
            "49/49 [==============================] - 2s 37ms/step - loss: 0.0248 - acc: 0.9934 - val_loss: 0.7094 - val_acc: 0.8524\n",
            "Epoch 19/20\n",
            "49/49 [==============================] - 2s 37ms/step - loss: 0.0206 - acc: 0.9946 - val_loss: 0.7395 - val_acc: 0.8504\n",
            "Epoch 20/20\n",
            "49/49 [==============================] - 2s 37ms/step - loss: 0.0159 - acc: 0.9967 - val_loss: 0.7978 - val_acc: 0.8484\n"
          ]
        }
      ],
      "source": [
        "original_hist = original_model.fit(x_train, y_train,\n",
        "                                   epochs=20,\n",
        "                                   batch_size=512,\n",
        "                                   validation_data=(x_test, y_test))"
      ]
    },
    {
      "cell_type": "code",
      "execution_count": 6,
      "metadata": {
        "id": "F1Jpebaj-jxK",
        "outputId": "930fe201-b98d-4534-df25-f856192698a2",
        "colab": {
          "base_uri": "https://localhost:8080/"
        }
      },
      "outputs": [
        {
          "output_type": "stream",
          "name": "stdout",
          "text": [
            "Epoch 1/20\n",
            "49/49 [==============================] - 3s 52ms/step - loss: 0.5317 - acc: 0.8081 - val_loss: 0.4390 - val_acc: 0.8580\n",
            "Epoch 2/20\n",
            "49/49 [==============================] - 2s 35ms/step - loss: 0.3563 - acc: 0.8939 - val_loss: 0.3460 - val_acc: 0.8806\n",
            "Epoch 3/20\n",
            "49/49 [==============================] - 2s 35ms/step - loss: 0.2751 - acc: 0.9125 - val_loss: 0.3049 - val_acc: 0.8866\n",
            "Epoch 4/20\n",
            "49/49 [==============================] - 2s 34ms/step - loss: 0.2283 - acc: 0.9244 - val_loss: 0.2887 - val_acc: 0.8864\n",
            "Epoch 5/20\n",
            "49/49 [==============================] - 2s 34ms/step - loss: 0.1981 - acc: 0.9339 - val_loss: 0.2799 - val_acc: 0.8898\n",
            "Epoch 6/20\n",
            "49/49 [==============================] - 2s 34ms/step - loss: 0.1771 - acc: 0.9410 - val_loss: 0.2815 - val_acc: 0.8882\n",
            "Epoch 7/20\n",
            "49/49 [==============================] - 2s 35ms/step - loss: 0.1607 - acc: 0.9460 - val_loss: 0.2847 - val_acc: 0.8869\n",
            "Epoch 8/20\n",
            "49/49 [==============================] - 2s 34ms/step - loss: 0.1468 - acc: 0.9510 - val_loss: 0.2956 - val_acc: 0.8833\n",
            "Epoch 9/20\n",
            "49/49 [==============================] - 2s 37ms/step - loss: 0.1357 - acc: 0.9562 - val_loss: 0.3035 - val_acc: 0.8822\n",
            "Epoch 10/20\n",
            "49/49 [==============================] - 2s 34ms/step - loss: 0.1251 - acc: 0.9594 - val_loss: 0.3118 - val_acc: 0.8805\n",
            "Epoch 11/20\n",
            "49/49 [==============================] - 2s 34ms/step - loss: 0.1163 - acc: 0.9624 - val_loss: 0.3234 - val_acc: 0.8786\n",
            "Epoch 12/20\n",
            "49/49 [==============================] - 2s 34ms/step - loss: 0.1089 - acc: 0.9658 - val_loss: 0.3360 - val_acc: 0.8767\n",
            "Epoch 13/20\n",
            "49/49 [==============================] - 2s 34ms/step - loss: 0.1011 - acc: 0.9685 - val_loss: 0.3596 - val_acc: 0.8711\n",
            "Epoch 14/20\n",
            "49/49 [==============================] - 2s 34ms/step - loss: 0.0942 - acc: 0.9708 - val_loss: 0.3651 - val_acc: 0.8720\n",
            "Epoch 15/20\n",
            "49/49 [==============================] - 2s 34ms/step - loss: 0.0878 - acc: 0.9733 - val_loss: 0.3835 - val_acc: 0.8688\n",
            "Epoch 16/20\n",
            "49/49 [==============================] - 2s 34ms/step - loss: 0.0827 - acc: 0.9748 - val_loss: 0.3988 - val_acc: 0.8684\n",
            "Epoch 17/20\n",
            "49/49 [==============================] - 2s 34ms/step - loss: 0.0775 - acc: 0.9776 - val_loss: 0.4184 - val_acc: 0.8651\n",
            "Epoch 18/20\n",
            "49/49 [==============================] - 2s 34ms/step - loss: 0.0725 - acc: 0.9792 - val_loss: 0.4344 - val_acc: 0.8627\n",
            "Epoch 19/20\n",
            "49/49 [==============================] - 2s 34ms/step - loss: 0.0675 - acc: 0.9811 - val_loss: 0.4666 - val_acc: 0.8571\n",
            "Epoch 20/20\n",
            "49/49 [==============================] - 2s 34ms/step - loss: 0.0637 - acc: 0.9821 - val_loss: 0.4691 - val_acc: 0.8598\n"
          ]
        }
      ],
      "source": [
        "smaller_model_hist = smaller_model.fit(x_train, y_train,\n",
        "                                       epochs=20,\n",
        "                                       batch_size=512,\n",
        "                                       validation_data=(x_test, y_test))"
      ]
    },
    {
      "cell_type": "code",
      "execution_count": 7,
      "metadata": {
        "collapsed": true,
        "id": "xifF3nzJ-jxM"
      },
      "outputs": [],
      "source": [
        "epochs = range(1, 21)\n",
        "original_val_loss = original_hist.history['val_loss']\n",
        "smaller_model_val_loss = smaller_model_hist.history['val_loss']"
      ]
    },
    {
      "cell_type": "code",
      "execution_count": 8,
      "metadata": {
        "id": "azmzo9oi-jxN",
        "outputId": "4cc05183-c7b5-4240-dc81-b38ca16055e4",
        "colab": {
          "base_uri": "https://localhost:8080/",
          "height": 279
        }
      },
      "outputs": [
        {
          "output_type": "display_data",
          "data": {
            "image/png": "[encoded data removed]",
            "text/plain": [
              "<Figure size 432x288 with 1 Axes>"
            ]
          },
          "metadata": {
            "needs_background": "light"
          }
        }
      ],
      "source": [
        "import matplotlib.pyplot as plt\n",
        "\n",
        "# b+ is for \"blue cross\"\n",
        "plt.plot(epochs, original_val_loss, 'b+', label='Original model')\n",
        "# \"bo\" is for \"blue dot\"\n",
        "plt.plot(epochs, smaller_model_val_loss, 'bo', label='Smaller model')\n",
        "plt.xlabel('Epochs')\n",
        "plt.ylabel('Validation loss')\n",
        "plt.legend()\n",
        "\n",
        "plt.show()"
      ]
    },
    {
      "cell_type": "markdown",
      "metadata": {
        "id": "mfsbdAmG-jxN"
      },
      "source": [
        "\n",
        "As you can see, the smaller network starts overfitting later than the reference one (after 6 epochs rather than 4) and its performance \n",
        "degrades much more slowly once it starts overfitting.\n",
        "\n",
        "Now, for kicks, let's add to this benchmark a network that has much more capacity, far more than the problem would warrant:"
      ]
    },
    {
      "cell_type": "code",
      "execution_count": 9,
      "metadata": {
        "collapsed": true,
        "id": "YmeFLSJ_-jxO"
      },
      "outputs": [],
      "source": [
        "bigger_model = models.Sequential()\n",
        "bigger_model.add(layers.Dense(512, activation='relu', input_shape=(10000,)))\n",
        "bigger_model.add(layers.Dense(512, activation='relu'))\n",
        "bigger_model.add(layers.Dense(1, activation='sigmoid'))\n",
        "\n",
        "bigger_model.compile(optimizer='rmsprop',\n",
        "                     loss='binary_crossentropy',\n",
        "                     metrics=['acc'])"
      ]
    },
    {
      "cell_type": "code",
      "execution_count": 10,
      "metadata": {
        "id": "2twgc-ck-jxO",
        "outputId": "b9b6060d-b432-45c5-9368-9cb99fca5081",
        "colab": {
          "base_uri": "https://localhost:8080/"
        }
      },
      "outputs": [
        {
          "output_type": "stream",
          "name": "stdout",
          "text": [
            "Epoch 1/20\n",
            "49/49 [==============================] - 17s 346ms/step - loss: 0.4656 - acc: 0.8121 - val_loss: 0.3723 - val_acc: 0.8381\n",
            "Epoch 2/20\n",
            "49/49 [==============================] - 15s 313ms/step - loss: 0.2233 - acc: 0.9091 - val_loss: 0.2987 - val_acc: 0.8777\n",
            "Epoch 3/20\n",
            "49/49 [==============================] - 15s 312ms/step - loss: 0.1388 - acc: 0.9485 - val_loss: 0.3142 - val_acc: 0.8853\n",
            "Epoch 4/20\n",
            "49/49 [==============================] - 15s 315ms/step - loss: 0.0702 - acc: 0.9814 - val_loss: 0.4285 - val_acc: 0.8807\n",
            "Epoch 5/20\n",
            "49/49 [==============================] - 15s 314ms/step - loss: 0.0678 - acc: 0.9860 - val_loss: 0.5016 - val_acc: 0.8807\n",
            "Epoch 6/20\n",
            "49/49 [==============================] - 15s 315ms/step - loss: 0.0029 - acc: 0.9996 - val_loss: 0.7338 - val_acc: 0.8772\n",
            "Epoch 7/20\n",
            "49/49 [==============================] - 15s 314ms/step - loss: 0.1355 - acc: 0.9874 - val_loss: 0.6818 - val_acc: 0.8694\n",
            "Epoch 8/20\n",
            "49/49 [==============================] - 15s 312ms/step - loss: 4.8321e-04 - acc: 1.0000 - val_loss: 0.7872 - val_acc: 0.8777\n",
            "Epoch 9/20\n",
            "49/49 [==============================] - 15s 310ms/step - loss: 8.1958e-05 - acc: 1.0000 - val_loss: 0.9466 - val_acc: 0.8774\n",
            "Epoch 10/20\n",
            "49/49 [==============================] - 16s 323ms/step - loss: 1.1439e-05 - acc: 1.0000 - val_loss: 1.1446 - val_acc: 0.8770\n",
            "Epoch 11/20\n",
            "49/49 [==============================] - 16s 324ms/step - loss: 0.2009 - acc: 0.9868 - val_loss: 0.8408 - val_acc: 0.8767\n",
            "Epoch 12/20\n",
            "49/49 [==============================] - 16s 326ms/step - loss: 3.1935e-05 - acc: 1.0000 - val_loss: 0.8770 - val_acc: 0.8773\n",
            "Epoch 13/20\n",
            "49/49 [==============================] - 16s 324ms/step - loss: 1.0626e-05 - acc: 1.0000 - val_loss: 0.9645 - val_acc: 0.8778\n",
            "Epoch 14/20\n",
            "49/49 [==============================] - 16s 324ms/step - loss: 2.7608e-06 - acc: 1.0000 - val_loss: 1.1187 - val_acc: 0.8782\n",
            "Epoch 15/20\n",
            "49/49 [==============================] - 15s 318ms/step - loss: 5.9151e-07 - acc: 1.0000 - val_loss: 1.2561 - val_acc: 0.8784\n",
            "Epoch 16/20\n",
            "49/49 [==============================] - 15s 314ms/step - loss: 1.2562e-07 - acc: 1.0000 - val_loss: 1.3995 - val_acc: 0.8784\n",
            "Epoch 17/20\n",
            "49/49 [==============================] - 15s 315ms/step - loss: 3.5446e-08 - acc: 1.0000 - val_loss: 1.4824 - val_acc: 0.8788\n",
            "Epoch 18/20\n",
            "49/49 [==============================] - 15s 315ms/step - loss: 1.7373e-08 - acc: 1.0000 - val_loss: 1.5228 - val_acc: 0.8788\n",
            "Epoch 19/20\n",
            "49/49 [==============================] - 15s 313ms/step - loss: 1.1426e-08 - acc: 1.0000 - val_loss: 1.5516 - val_acc: 0.8787\n",
            "Epoch 20/20\n",
            "49/49 [==============================] - 15s 313ms/step - loss: 8.5519e-09 - acc: 1.0000 - val_loss: 1.5740 - val_acc: 0.8788\n"
          ]
        }
      ],
      "source": [
        "bigger_model_hist = bigger_model.fit(x_train, y_train,\n",
        "                                     epochs=20,\n",
        "                                     batch_size=512,\n",
        "                                     validation_data=(x_test, y_test))"
      ]
    },
    {
      "cell_type": "markdown",
      "metadata": {
        "id": "xUzb8zRi-jxP"
      },
      "source": [
        "Here's how the bigger network fares compared to the reference one. The dots are the validation loss values of the bigger network, and the \n",
        "crosses are the initial network."
      ]
    },
    {
      "cell_type": "code",
      "execution_count": 11,
      "metadata": {
        "id": "1HRNhOC3-jxP",
        "outputId": "cc9902d8-5008-4168-ad65-6c0d665201d4",
        "colab": {
          "base_uri": "https://localhost:8080/",
          "height": 279
        }
      },
      "outputs": [
        {
          "output_type": "display_data",
          "data": {
            "image/png": "[encoded data removed]",
            "text/plain": [
              "<Figure size 432x288 with 1 Axes>"
            ]
          },
          "metadata": {
            "needs_background": "light"
          }
        }
      ],
      "source": [
        "bigger_model_val_loss = bigger_model_hist.history['val_loss']\n",
        "\n",
        "plt.plot(epochs, original_val_loss, 'b+', label='Original model')\n",
        "plt.plot(epochs, bigger_model_val_loss, 'bo', label='Bigger model')\n",
        "plt.xlabel('Epochs')\n",
        "plt.ylabel('Validation loss')\n",
        "plt.legend()\n",
        "\n",
        "plt.show()"
      ]
    },
    {
      "cell_type": "markdown",
      "metadata": {
        "id": "cs3ZwW3U-jxP"
      },
      "source": [
        "\n",
        "The bigger network starts overfitting almost right away, after just one epoch, and overfits much more severely. Its validation loss is also \n",
        "more noisy.\n",
        "\n",
        "Meanwhile, here are the training losses for our two networks:"
      ]
    },
    {
      "cell_type": "code",
      "execution_count": 12,
      "metadata": {
        "id": "WaM22Ske-jxP",
        "outputId": "2157480b-d299-4ad5-cf80-83e272967934",
        "colab": {
          "base_uri": "https://localhost:8080/",
          "height": 279
        }
      },
      "outputs": [
        {
          "output_type": "display_data",
          "data": {
            "image/png": "[encoded data removed]",
            "text/plain": [
              "<Figure size 432x288 with 1 Axes>"
            ]
          },
          "metadata": {
            "needs_background": "light"
          }
        }
      ],
      "source": [
        "original_train_loss = original_hist.history['loss']\n",
        "bigger_model_train_loss = bigger_model_hist.history['loss']\n",
        "\n",
        "plt.plot(epochs, original_train_loss, 'b+', label='Original model')\n",
        "plt.plot(epochs, bigger_model_train_loss, 'bo', label='Bigger model')\n",
        "plt.xlabel('Epochs')\n",
        "plt.ylabel('Training loss')\n",
        "plt.legend()\n",
        "\n",
        "plt.show()"
      ]
    },
    {
      "cell_type": "markdown",
      "metadata": {
        "id": "38V8EbEZ-jxQ"
      },
      "source": [
        "As you can see, the bigger network gets its training loss near zero very quickly. The more capacity the network has, the quicker it will be \n",
        "able to model the training data (resulting in a low training loss), but the more susceptible it is to overfitting (resulting in a large \n",
        "difference between the training and validation loss)."
      ]
    },
    {
      "cell_type": "markdown",
      "source": [
        "***MM:***<br>\n",
        "Subtotal:<br> So far we saw the influence of model size (number of layers and size for each layer):<br>\n",
        "Small model starts overfitting later than the reference one, and its performance degrades much more slowly once it starts overfitting,<br>\n",
        "while bigger model starts overfitting almost right away, and overfits much more severely. Its validation loss is also more noisy.\n"
      ],
      "metadata": {
        "id": "zR1zIlYPQFDh"
      }
    },
    {
      "cell_type": "markdown",
      "metadata": {
        "id": "NKbiPCuY-jxQ"
      },
      "source": [
        "## Adding weight regularization\n",
        "\n",
        "\n",
        "You may be familiar with _Occam's Razor_ principle: given two explanations for something, the explanation most likely to be correct is the \n",
        "\"simplest\" one, the one that makes the least amount of assumptions. This also applies to the models learned by neural networks: given some \n",
        "training data and a network architecture, there are multiple sets of weights values (multiple _models_) that could explain the data, and \n",
        "simpler models are less likely to overfit than complex ones.\n",
        "\n",
        "A \"simple model\" in this context is a model where the distribution of parameter values has less entropy (or a model with fewer \n",
        "parameters altogether, as we saw in the section above). Thus a common way to mitigate overfitting is to put constraints on the complexity \n",
        "of a network by forcing its weights to only take small values, which makes the distribution of weight values more \"regular\". This is called \n",
        "\"weight regularization\", and it is done by adding to the loss function of the network a _cost_ associated with having large weights. This \n",
        "cost comes in two flavors:\n",
        "\n",
        "* L1 regularization, where the cost added is proportional to the _absolute value of the weights coefficients_ (i.e. to what is called the \n",
        "\"L1 norm\" of the weights).\n",
        "* L2 regularization, where the cost added is proportional to the _square of the value of the weights coefficients_ (i.e. to what is called \n",
        "the \"L2 norm\" of the weights). L2 regularization is also called _weight decay_ in the context of neural networks. Don't let the different \n",
        "name confuse you: weight decay is mathematically the exact same as L2 regularization.\n",
        "\n",
        "In Keras, weight regularization is added by passing _weight regularizer instances_ to layers as keyword arguments. Let's add L2 weight \n",
        "regularization to our movie review classification network:"
      ]
    },
    {
      "cell_type": "code",
      "execution_count": 13,
      "metadata": {
        "collapsed": true,
        "id": "2cj_YxfP-jxQ"
      },
      "outputs": [],
      "source": [
        "from keras import regularizers\n",
        "\n",
        "l2_model = models.Sequential()\n",
        "l2_model.add(layers.Dense(16, kernel_regularizer=regularizers.l2(0.001),\n",
        "                          activation='relu', input_shape=(10000,)))\n",
        "l2_model.add(layers.Dense(16, kernel_regularizer=regularizers.l2(0.001),\n",
        "                          activation='relu'))\n",
        "l2_model.add(layers.Dense(1, activation='sigmoid'))"
      ]
    },
    {
      "cell_type": "code",
      "execution_count": 14,
      "metadata": {
        "collapsed": true,
        "id": "toz9oHv0-jxR"
      },
      "outputs": [],
      "source": [
        "l2_model.compile(optimizer='rmsprop',\n",
        "                 loss='binary_crossentropy',\n",
        "                 metrics=['acc'])"
      ]
    },
    {
      "cell_type": "markdown",
      "metadata": {
        "id": "HRwK6dG_-jxR"
      },
      "source": [
        "`l2(0.001)` means that every coefficient in the weight matrix of the layer will add `0.001 * weight_coefficient_value` to the total loss of \n",
        "the network. Note that because this penalty is _only added at training time_, the loss for this network will be much higher at training \n",
        "than at test time.\n",
        "\n",
        "Here's the impact of our L2 regularization penalty:"
      ]
    },
    {
      "cell_type": "code",
      "execution_count": 15,
      "metadata": {
        "id": "SEnMk9X8-jxR",
        "outputId": "07646ea6-b0ad-4a2e-d7ea-4f1017eb1965",
        "colab": {
          "base_uri": "https://localhost:8080/"
        }
      },
      "outputs": [
        {
          "output_type": "stream",
          "name": "stdout",
          "text": [
            "Epoch 1/20\n",
            "49/49 [==============================] - 4s 66ms/step - loss: 0.5019 - acc: 0.8215 - val_loss: 0.3832 - val_acc: 0.8834\n",
            "Epoch 2/20\n",
            "49/49 [==============================] - 2s 38ms/step - loss: 0.3246 - acc: 0.9005 - val_loss: 0.3358 - val_acc: 0.8897\n",
            "Epoch 3/20\n",
            "49/49 [==============================] - 2s 37ms/step - loss: 0.2777 - acc: 0.9179 - val_loss: 0.3300 - val_acc: 0.8903\n",
            "Epoch 4/20\n",
            "49/49 [==============================] - 2s 37ms/step - loss: 0.2571 - acc: 0.9265 - val_loss: 0.3360 - val_acc: 0.8865\n",
            "Epoch 5/20\n",
            "49/49 [==============================] - 2s 38ms/step - loss: 0.2427 - acc: 0.9334 - val_loss: 0.3558 - val_acc: 0.8788\n",
            "Epoch 6/20\n",
            "49/49 [==============================] - 2s 38ms/step - loss: 0.2370 - acc: 0.9338 - val_loss: 0.3784 - val_acc: 0.8718\n",
            "Epoch 7/20\n",
            "49/49 [==============================] - 2s 37ms/step - loss: 0.2277 - acc: 0.9389 - val_loss: 0.3549 - val_acc: 0.8819\n",
            "Epoch 8/20\n",
            "49/49 [==============================] - 2s 38ms/step - loss: 0.2261 - acc: 0.9374 - val_loss: 0.3613 - val_acc: 0.8794\n",
            "Epoch 9/20\n",
            "49/49 [==============================] - 2s 37ms/step - loss: 0.2205 - acc: 0.9424 - val_loss: 0.3779 - val_acc: 0.8744\n",
            "Epoch 10/20\n",
            "49/49 [==============================] - 2s 37ms/step - loss: 0.2197 - acc: 0.9398 - val_loss: 0.3783 - val_acc: 0.8756\n",
            "Epoch 11/20\n",
            "49/49 [==============================] - 2s 38ms/step - loss: 0.2134 - acc: 0.9442 - val_loss: 0.3778 - val_acc: 0.8754\n",
            "Epoch 12/20\n",
            "49/49 [==============================] - 2s 38ms/step - loss: 0.2131 - acc: 0.9438 - val_loss: 0.3812 - val_acc: 0.8740\n",
            "Epoch 13/20\n",
            "49/49 [==============================] - 2s 37ms/step - loss: 0.2100 - acc: 0.9447 - val_loss: 0.3929 - val_acc: 0.8718\n",
            "Epoch 14/20\n",
            "49/49 [==============================] - 2s 37ms/step - loss: 0.2095 - acc: 0.9443 - val_loss: 0.3900 - val_acc: 0.8734\n",
            "Epoch 15/20\n",
            "49/49 [==============================] - 2s 37ms/step - loss: 0.2042 - acc: 0.9466 - val_loss: 0.4367 - val_acc: 0.8609\n",
            "Epoch 16/20\n",
            "49/49 [==============================] - 2s 37ms/step - loss: 0.2005 - acc: 0.9488 - val_loss: 0.4224 - val_acc: 0.8661\n",
            "Epoch 17/20\n",
            "49/49 [==============================] - 2s 37ms/step - loss: 0.2024 - acc: 0.9484 - val_loss: 0.4519 - val_acc: 0.8567\n",
            "Epoch 18/20\n",
            "49/49 [==============================] - 2s 37ms/step - loss: 0.1986 - acc: 0.9489 - val_loss: 0.4089 - val_acc: 0.8686\n",
            "Epoch 19/20\n",
            "49/49 [==============================] - 2s 37ms/step - loss: 0.1949 - acc: 0.9499 - val_loss: 0.4084 - val_acc: 0.8710\n",
            "Epoch 20/20\n",
            "49/49 [==============================] - 2s 38ms/step - loss: 0.1950 - acc: 0.9501 - val_loss: 0.4149 - val_acc: 0.8693\n"
          ]
        }
      ],
      "source": [
        "l2_model_hist = l2_model.fit(x_train, y_train,\n",
        "                             epochs=20,\n",
        "                             batch_size=512,\n",
        "                             validation_data=(x_test, y_test))"
      ]
    },
    {
      "cell_type": "code",
      "execution_count": 16,
      "metadata": {
        "id": "dEdOQpxf-jxR",
        "outputId": "4d6df0ad-56e9-4ce9-fc86-37744130f010",
        "colab": {
          "base_uri": "https://localhost:8080/",
          "height": 279
        }
      },
      "outputs": [
        {
          "output_type": "display_data",
          "data": {
            "image/png": "[encoded data removed]",
            "text/plain": [
              "<Figure size 432x288 with 1 Axes>"
            ]
          },
          "metadata": {
            "needs_background": "light"
          }
        }
      ],
      "source": [
        "l2_model_val_loss = l2_model_hist.history['val_loss']\n",
        "\n",
        "plt.plot(epochs, original_val_loss, 'b+', label='Original model')\n",
        "plt.plot(epochs, l2_model_val_loss, 'bo', label='L2-regularized model')\n",
        "plt.xlabel('Epochs')\n",
        "plt.ylabel('Validation loss')\n",
        "plt.legend()\n",
        "\n",
        "plt.show()"
      ]
    },
    {
      "cell_type": "markdown",
      "metadata": {
        "id": "8pcxLvxf-jxS"
      },
      "source": [
        "\n",
        "\n",
        "As you can see, the model with L2 regularization (dots) has become much more resistant to overfitting than the reference model (crosses), \n",
        "even though both models have the same number of parameters.\n",
        "\n",
        "As alternatives to L2 regularization, you could use one of the following Keras weight regularizers:"
      ]
    },
    {
      "cell_type": "code",
      "execution_count": 17,
      "metadata": {
        "collapsed": true,
        "id": "MYRDjRHC-jxS",
        "colab": {
          "base_uri": "https://localhost:8080/"
        },
        "outputId": "d5e960f5-02e9-4772-8363-9b0a66f61a23"
      },
      "outputs": [
        {
          "output_type": "execute_result",
          "data": {
            "text/plain": [
              "<keras.regularizers.L1L2 at 0x7fd71c586f10>"
            ]
          },
          "metadata": {},
          "execution_count": 17
        }
      ],
      "source": [
        "from keras import regularizers\n",
        "\n",
        "# L1 regularization\n",
        "regularizers.l1(0.001)\n",
        "\n",
        "# L1 and L2 regularization at the same time\n",
        "regularizers.l1_l2(l1=0.001, l2=0.001)"
      ]
    },
    {
      "cell_type": "markdown",
      "source": [
        "***MM:***<br>\n",
        "Subtotal:<br> In the previous examples we saw that we can use L1 and L2 regularization,<br>in order to prevent overfitting.\n"
      ],
      "metadata": {
        "id": "OA-5aOT-9BqI"
      }
    },
    {
      "cell_type": "markdown",
      "metadata": {
        "id": "_GaPFw0S-jxS"
      },
      "source": [
        "## Adding dropout\n",
        "\n",
        "\n",
        "Dropout is one of the most effective and most commonly used regularization techniques for neural networks, developed by Hinton and his \n",
        "students at the University of Toronto. Dropout, applied to a layer, consists of randomly \"dropping out\" (i.e. setting to zero) a number of \n",
        "output features of the layer during training. Let's say a given layer would normally have returned a vector `[0.2, 0.5, 1.3, 0.8, 1.1]` for a \n",
        "given input sample during training; after applying dropout, this vector will have a few zero entries distributed at random, e.g. `[0, 0.5, \n",
        "1.3, 0, 1.1]`. The \"dropout rate\" is the fraction of the features that are being zeroed-out; it is usually set between 0.2 and 0.5. At test \n",
        "time, no units are dropped out, and instead the layer's output values are scaled down by a factor equal to the dropout rate, so as to \n",
        "balance for the fact that more units are active than at training time.\n",
        "\n",
        "Consider a Numpy matrix containing the output of a layer, `layer_output`, of shape `(batch_size, features)`. At training time, we would be \n",
        "zero-ing out at random a fraction of the values in the matrix:"
      ]
    },
    {
      "cell_type": "markdown",
      "metadata": {
        "id": "JU_Pwwm--jxV"
      },
      "source": [
        "\n",
        "This technique may seem strange and arbitrary. Why would this help reduce overfitting? Geoff Hinton has said that he was inspired, among \n",
        "other things, by a fraud prevention mechanism used by banks -- in his own words: _\"I went to my bank. The tellers kept changing and I asked \n",
        "one of them why. He said he didn’t know but they got moved around a lot. I figured it must be because it would require cooperation \n",
        "between employees to successfully defraud the bank. This made me realize that randomly removing a different subset of neurons on each \n",
        "example would prevent conspiracies and thus reduce overfitting\"_.\n",
        "\n",
        "The core idea is that introducing noise in the output values of a layer can break up happenstance patterns that are not significant (what \n",
        "Hinton refers to as \"conspiracies\"), which the network would start memorizing if no noise was present. \n",
        "\n",
        "In Keras you can introduce dropout in a network via the `Dropout` layer, which gets applied to the output of layer right before it."
      ]
    },
    {
      "cell_type": "markdown",
      "metadata": {
        "id": "7wrvhHw2-jxW"
      },
      "source": [
        "Let's add two `Dropout` layers in our IMDB network to see how well they do at reducing overfitting:"
      ]
    },
    {
      "cell_type": "code",
      "source": [
        "#MM: original model\n",
        "from tensorflow.keras.datasets import imdb\n",
        "(train_data, train_labels), _ = imdb.load_data(num_words=10000)\n",
        "\n",
        "def vectorize_sequences(sequences, dimension=10000):\n",
        "    results = np.zeros((len(sequences), dimension))\n",
        "    for i, sequence in enumerate(sequences):\n",
        "        results[i, sequence] = 1.\n",
        "    return results\n",
        "train_data = vectorize_sequences(train_data)\n",
        "\n",
        "model = keras.Sequential([\n",
        "    layers.Dense(16, activation=\"relu\"),\n",
        "    layers.Dense(16, activation=\"relu\"),\n",
        "    layers.Dense(1, activation=\"sigmoid\")\n",
        "])\n",
        "model.compile(optimizer=\"rmsprop\",\n",
        "              loss=\"binary_crossentropy\",\n",
        "              metrics=[\"accuracy\"])\n",
        "history_original = model.fit(train_data, train_labels,\n",
        "                             epochs=20, batch_size=512, validation_split=0.4)"
      ],
      "metadata": {
        "id": "aDK_9ZNgQanp",
        "outputId": "2abe100b-cebf-4936-b4ec-e9afc6d39b14",
        "colab": {
          "base_uri": "https://localhost:8080/"
        }
      },
      "execution_count": 19,
      "outputs": [
        {
          "output_type": "stream",
          "name": "stdout",
          "text": [
            "Epoch 1/20\n",
            "30/30 [==============================] - 2s 39ms/step - loss: 0.5229 - accuracy: 0.7803 - val_loss: 0.3846 - val_accuracy: 0.8724\n",
            "Epoch 2/20\n",
            "30/30 [==============================] - 1s 30ms/step - loss: 0.3127 - accuracy: 0.8998 - val_loss: 0.3084 - val_accuracy: 0.8891\n",
            "Epoch 3/20\n",
            "30/30 [==============================] - 1s 30ms/step - loss: 0.2311 - accuracy: 0.9275 - val_loss: 0.2855 - val_accuracy: 0.8889\n",
            "Epoch 4/20\n",
            "30/30 [==============================] - 1s 30ms/step - loss: 0.1803 - accuracy: 0.9429 - val_loss: 0.2722 - val_accuracy: 0.8938\n",
            "Epoch 5/20\n",
            "30/30 [==============================] - 1s 44ms/step - loss: 0.1478 - accuracy: 0.9534 - val_loss: 0.2839 - val_accuracy: 0.8876\n",
            "Epoch 6/20\n",
            "30/30 [==============================] - 2s 52ms/step - loss: 0.1210 - accuracy: 0.9633 - val_loss: 0.2894 - val_accuracy: 0.8883\n",
            "Epoch 7/20\n",
            "30/30 [==============================] - 2s 51ms/step - loss: 0.1004 - accuracy: 0.9707 - val_loss: 0.3191 - val_accuracy: 0.8817\n",
            "Epoch 8/20\n",
            "30/30 [==============================] - 2s 53ms/step - loss: 0.0863 - accuracy: 0.9751 - val_loss: 0.3255 - val_accuracy: 0.8823\n",
            "Epoch 9/20\n",
            "30/30 [==============================] - 2s 55ms/step - loss: 0.0703 - accuracy: 0.9819 - val_loss: 0.3617 - val_accuracy: 0.8784\n",
            "Epoch 10/20\n",
            "30/30 [==============================] - 2s 52ms/step - loss: 0.0588 - accuracy: 0.9841 - val_loss: 0.4213 - val_accuracy: 0.8701\n",
            "Epoch 11/20\n",
            "30/30 [==============================] - 2s 54ms/step - loss: 0.0466 - accuracy: 0.9893 - val_loss: 0.3971 - val_accuracy: 0.8761\n",
            "Epoch 12/20\n",
            "30/30 [==============================] - 2s 52ms/step - loss: 0.0405 - accuracy: 0.9906 - val_loss: 0.4335 - val_accuracy: 0.8750\n",
            "Epoch 13/20\n",
            "30/30 [==============================] - 2s 61ms/step - loss: 0.0330 - accuracy: 0.9929 - val_loss: 0.4669 - val_accuracy: 0.8729\n",
            "Epoch 14/20\n",
            "30/30 [==============================] - 1s 44ms/step - loss: 0.0264 - accuracy: 0.9941 - val_loss: 0.5266 - val_accuracy: 0.8674\n",
            "Epoch 15/20\n",
            "30/30 [==============================] - 1s 31ms/step - loss: 0.0209 - accuracy: 0.9953 - val_loss: 0.5236 - val_accuracy: 0.8692\n",
            "Epoch 16/20\n",
            "30/30 [==============================] - 1s 30ms/step - loss: 0.0172 - accuracy: 0.9966 - val_loss: 0.5596 - val_accuracy: 0.8687\n",
            "Epoch 17/20\n",
            "30/30 [==============================] - 1s 30ms/step - loss: 0.0150 - accuracy: 0.9972 - val_loss: 0.5944 - val_accuracy: 0.8679\n",
            "Epoch 18/20\n",
            "30/30 [==============================] - 1s 30ms/step - loss: 0.0084 - accuracy: 0.9994 - val_loss: 0.6272 - val_accuracy: 0.8671\n",
            "Epoch 19/20\n",
            "30/30 [==============================] - 1s 30ms/step - loss: 0.0107 - accuracy: 0.9979 - val_loss: 0.6621 - val_accuracy: 0.8666\n",
            "Epoch 20/20\n",
            "30/30 [==============================] - 1s 30ms/step - loss: 0.0052 - accuracy: 0.9997 - val_loss: 0.7023 - val_accuracy: 0.8646\n"
          ]
        }
      ]
    },
    {
      "cell_type": "code",
      "execution_count": 20,
      "metadata": {
        "collapsed": true,
        "id": "hliArhbF-jxW",
        "colab": {
          "base_uri": "https://localhost:8080/"
        },
        "outputId": "7adba368-58a7-4d85-b7fd-490df5ddc8cf"
      },
      "outputs": [
        {
          "output_type": "stream",
          "name": "stdout",
          "text": [
            "Epoch 1/20\n",
            "30/30 [==============================] - 2s 39ms/step - loss: 0.6331 - accuracy: 0.6437 - val_loss: 0.5098 - val_accuracy: 0.8516\n",
            "Epoch 2/20\n",
            "30/30 [==============================] - 1s 32ms/step - loss: 0.5242 - accuracy: 0.7627 - val_loss: 0.4133 - val_accuracy: 0.8731\n",
            "Epoch 3/20\n",
            "30/30 [==============================] - 1s 30ms/step - loss: 0.4497 - accuracy: 0.8172 - val_loss: 0.3610 - val_accuracy: 0.8781\n",
            "Epoch 4/20\n",
            "30/30 [==============================] - 1s 30ms/step - loss: 0.3875 - accuracy: 0.8533 - val_loss: 0.3122 - val_accuracy: 0.8838\n",
            "Epoch 5/20\n",
            "30/30 [==============================] - 1s 43ms/step - loss: 0.3366 - accuracy: 0.8820 - val_loss: 0.2945 - val_accuracy: 0.8849\n",
            "Epoch 6/20\n",
            "30/30 [==============================] - 1s 45ms/step - loss: 0.2961 - accuracy: 0.8963 - val_loss: 0.2820 - val_accuracy: 0.8895\n",
            "Epoch 7/20\n",
            "30/30 [==============================] - 1s 38ms/step - loss: 0.2631 - accuracy: 0.9154 - val_loss: 0.2795 - val_accuracy: 0.8927\n",
            "Epoch 8/20\n",
            "30/30 [==============================] - 1s 31ms/step - loss: 0.2299 - accuracy: 0.9263 - val_loss: 0.2922 - val_accuracy: 0.8903\n",
            "Epoch 9/20\n",
            "30/30 [==============================] - 1s 31ms/step - loss: 0.2050 - accuracy: 0.9366 - val_loss: 0.2922 - val_accuracy: 0.8891\n",
            "Epoch 10/20\n",
            "30/30 [==============================] - 1s 30ms/step - loss: 0.1792 - accuracy: 0.9430 - val_loss: 0.3100 - val_accuracy: 0.8876\n",
            "Epoch 11/20\n",
            "30/30 [==============================] - 1s 31ms/step - loss: 0.1703 - accuracy: 0.9471 - val_loss: 0.3170 - val_accuracy: 0.8879\n",
            "Epoch 12/20\n",
            "30/30 [==============================] - 1s 31ms/step - loss: 0.1521 - accuracy: 0.9523 - val_loss: 0.3447 - val_accuracy: 0.8851\n",
            "Epoch 13/20\n",
            "30/30 [==============================] - 1s 30ms/step - loss: 0.1415 - accuracy: 0.9558 - val_loss: 0.3664 - val_accuracy: 0.8808\n",
            "Epoch 14/20\n",
            "30/30 [==============================] - 1s 31ms/step - loss: 0.1301 - accuracy: 0.9568 - val_loss: 0.4377 - val_accuracy: 0.8820\n",
            "Epoch 15/20\n",
            "30/30 [==============================] - 1s 31ms/step - loss: 0.1193 - accuracy: 0.9649 - val_loss: 0.4128 - val_accuracy: 0.8844\n",
            "Epoch 16/20\n",
            "30/30 [==============================] - 1s 31ms/step - loss: 0.1122 - accuracy: 0.9637 - val_loss: 0.4564 - val_accuracy: 0.8850\n",
            "Epoch 17/20\n",
            "30/30 [==============================] - 1s 31ms/step - loss: 0.1002 - accuracy: 0.9684 - val_loss: 0.4671 - val_accuracy: 0.8843\n",
            "Epoch 18/20\n",
            "30/30 [==============================] - 1s 31ms/step - loss: 0.1008 - accuracy: 0.9704 - val_loss: 0.4743 - val_accuracy: 0.8820\n",
            "Epoch 19/20\n",
            "30/30 [==============================] - 1s 31ms/step - loss: 0.0996 - accuracy: 0.9693 - val_loss: 0.5576 - val_accuracy: 0.8833\n",
            "Epoch 20/20\n",
            "30/30 [==============================] - 1s 31ms/step - loss: 0.0916 - accuracy: 0.9704 - val_loss: 0.5615 - val_accuracy: 0.8845\n"
          ]
        }
      ],
      "source": [
        "model = keras.Sequential([\n",
        "    layers.Dense(16, activation=\"relu\"),\n",
        "    layers.Dropout(0.5),\n",
        "    layers.Dense(16, activation=\"relu\"),\n",
        "    layers.Dropout(0.5),\n",
        "    layers.Dense(1, activation=\"sigmoid\")\n",
        "])\n",
        "model.compile(optimizer=\"rmsprop\",\n",
        "              loss=\"binary_crossentropy\",\n",
        "              metrics=[\"accuracy\"])\n",
        "history_dropout = model.fit(\n",
        "    train_data, train_labels,\n",
        "    epochs=20, batch_size=512, validation_split=0.4)"
      ]
    },
    {
      "cell_type": "markdown",
      "metadata": {
        "id": "jRX3lYTN-jxX"
      },
      "source": [
        "\n",
        "Again, a clear improvement over the reference network.\n",
        "\n",
        "To recap: here the most common ways to prevent overfitting in neural networks:\n",
        "\n",
        "* Getting more training data.\n",
        "* Reducing the capacity of the network.\n",
        "* Adding weight regularization.\n",
        "* Adding dropout."
      ]
    }
  ],
  "metadata": {
    "kernelspec": {
      "display_name": "Python 3",
      "language": "python",
      "name": "python3"
    },
    "language_info": {
      "codemirror_mode": {
        "name": "ipython",
        "version": 3
      },
      "file_extension": ".py",
      "mimetype": "text/x-python",
      "name": "python",
      "nbconvert_exporter": "python",
      "pygments_lexer": "ipython3",
      "version": "3.5.2"
    },
    "colab": {
      "name": "4.4-overfitting-and-underfitting.ipynb",
      "provenance": []
    }
  },
  "nbformat": 4,
  "nbformat_minor": 0
}