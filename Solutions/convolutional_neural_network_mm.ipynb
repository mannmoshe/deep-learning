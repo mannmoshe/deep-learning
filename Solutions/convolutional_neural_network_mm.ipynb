{
 "cells": [
  {
   "cell_type": "markdown",
   "metadata": {
    "colab_type": "text",
    "id": "3DR-eO17geWu"
   },
   "source": [
    "# Convolutional Neural Network"
   ]
  },
  {
   "cell_type": "markdown",
   "metadata": {},
   "source": [
    "***All the cells that start with \"MM\" written or edited by Moshe Mann.***"
   ]
  },
  {
   "cell_type": "markdown",
   "metadata": {},
   "source": [
    "MM: the next script and data based on the CNN example from https://www.udemy.com/course/deeplearning/ course.\n",
    "    I ran it on my computer successfully."
   ]
  },
  {
   "cell_type": "markdown",
   "metadata": {
    "colab_type": "text",
    "id": "EMefrVPCg-60"
   },
   "source": [
    "### Importing the libraries"
   ]
  },
  {
   "cell_type": "code",
   "execution_count": 1,
   "metadata": {
    "colab": {},
    "colab_type": "code",
    "id": "sCV30xyVhFbE"
   },
   "outputs": [],
   "source": [
    "import tensorflow as tf\n",
    "from keras.preprocessing.image import ImageDataGenerator"
   ]
  },
  {
   "cell_type": "code",
   "execution_count": 2,
   "metadata": {
    "colab": {},
    "colab_type": "code",
    "id": "FIleuCAjoFD8"
   },
   "outputs": [
    {
     "data": {
      "text/plain": [
       "'2.3.0'"
      ]
     },
     "execution_count": 2,
     "metadata": {},
     "output_type": "execute_result"
    }
   ],
   "source": [
    "tf.__version__"
   ]
  },
  {
   "cell_type": "markdown",
   "metadata": {
    "colab_type": "text",
    "id": "oxQxCBWyoGPE"
   },
   "source": [
    "## Part 1 - Data Preprocessing"
   ]
  },
  {
   "cell_type": "markdown",
   "metadata": {
    "colab_type": "text",
    "id": "MvE-heJNo3GG"
   },
   "source": [
    "### Preprocessing the Training set"
   ]
  },
  {
   "cell_type": "markdown",
   "metadata": {},
   "source": [
    "MM: short explanation for next parameters:\n",
    "    rescale to get values between 0 and 1.\n",
    "    shear_range, zoom_range, horizontal_flip for data augmenation.\n",
    "    target_size - the new size of the photos.\n",
    "    batch_size - number of photos each batch.\n",
    "    class_mode - binary because we should get cat or dog.    "
   ]
  },
  {
   "cell_type": "code",
   "execution_count": 3,
   "metadata": {
    "colab": {},
    "colab_type": "code",
    "id": "0koUcJMJpEBD"
   },
   "outputs": [
    {
     "name": "stdout",
     "output_type": "stream",
     "text": [
      "Found 8000 images belonging to 2 classes.\n"
     ]
    }
   ],
   "source": [
    "train_datagen = ImageDataGenerator(rescale = 1./255,\n",
    "                                   shear_range = 0.2,\n",
    "                                   zoom_range = 0.2,\n",
    "                                   horizontal_flip = True)\n",
    "training_set = train_datagen.flow_from_directory('dataset/training_set',\n",
    "                                                 target_size = (64, 64),\n",
    "                                                 batch_size = 32,\n",
    "                                                 class_mode = 'binary')"
   ]
  },
  {
   "cell_type": "markdown",
   "metadata": {
    "colab_type": "text",
    "id": "mrCMmGw9pHys"
   },
   "source": [
    "### Preprocessing the Test set"
   ]
  },
  {
   "cell_type": "code",
   "execution_count": 4,
   "metadata": {
    "colab": {},
    "colab_type": "code",
    "id": "SH4WzfOhpKc3"
   },
   "outputs": [
    {
     "name": "stdout",
     "output_type": "stream",
     "text": [
      "Found 2000 images belonging to 2 classes.\n"
     ]
    }
   ],
   "source": [
    "test_datagen = ImageDataGenerator(rescale = 1./255)\n",
    "test_set = test_datagen.flow_from_directory('dataset/test_set',\n",
    "                                            target_size = (64, 64),\n",
    "                                            batch_size = 32,\n",
    "                                            class_mode = 'binary')"
   ]
  },
  {
   "cell_type": "markdown",
   "metadata": {
    "colab_type": "text",
    "id": "af8O4l90gk7B"
   },
   "source": [
    "## Part 2 - Building the CNN"
   ]
  },
  {
   "cell_type": "markdown",
   "metadata": {
    "colab_type": "text",
    "id": "ces1gXY2lmoX"
   },
   "source": [
    "### Initialising the CNN"
   ]
  },
  {
   "cell_type": "code",
   "execution_count": 5,
   "metadata": {
    "colab": {},
    "colab_type": "code",
    "id": "SAUt4UMPlhLS"
   },
   "outputs": [],
   "source": [
    "cnn = tf.keras.models.Sequential()"
   ]
  },
  {
   "cell_type": "markdown",
   "metadata": {
    "colab_type": "text",
    "id": "u5YJj_XMl5LF"
   },
   "source": [
    "### Step 1 - Convolution"
   ]
  },
  {
   "cell_type": "code",
   "execution_count": 6,
   "metadata": {
    "colab": {},
    "colab_type": "code",
    "id": "XPzPrMckl-hV"
   },
   "outputs": [],
   "source": [
    "cnn.add(tf.keras.layers.Conv2D(filters=32, kernel_size=3, activation='relu', input_shape=[64, 64, 3]))"
   ]
  },
  {
   "cell_type": "markdown",
   "metadata": {},
   "source": [
    "MM: first layer - 32 feature detectors, with size of 3X3, relu in order to break linearity."
   ]
  },
  {
   "cell_type": "markdown",
   "metadata": {
    "colab_type": "text",
    "id": "tf87FpvxmNOJ"
   },
   "source": [
    "### Step 2 - Pooling"
   ]
  },
  {
   "cell_type": "code",
   "execution_count": 7,
   "metadata": {
    "colab": {},
    "colab_type": "code",
    "id": "ncpqPl69mOac"
   },
   "outputs": [],
   "source": [
    "cnn.add(tf.keras.layers.MaxPool2D(pool_size=2, strides=2))"
   ]
  },
  {
   "cell_type": "markdown",
   "metadata": {},
   "source": [
    "MM: pool_size - take frame of 2X2 pixels, strides - move two pixels each \"step\" (so there is no overlap)."
   ]
  },
  {
   "cell_type": "markdown",
   "metadata": {
    "colab_type": "text",
    "id": "xaTOgD8rm4mU"
   },
   "source": [
    "### Adding a second convolutional layer"
   ]
  },
  {
   "cell_type": "code",
   "execution_count": 8,
   "metadata": {
    "colab": {},
    "colab_type": "code",
    "id": "i_-FZjn_m8gk"
   },
   "outputs": [],
   "source": [
    "cnn.add(tf.keras.layers.Conv2D(filters=32, kernel_size=3, activation='relu'))\n",
    "cnn.add(tf.keras.layers.MaxPool2D(pool_size=2, strides=2))"
   ]
  },
  {
   "cell_type": "markdown",
   "metadata": {
    "colab_type": "text",
    "id": "tmiEuvTunKfk"
   },
   "source": [
    "### Step 3 - Flattening"
   ]
  },
  {
   "cell_type": "code",
   "execution_count": 9,
   "metadata": {
    "colab": {},
    "colab_type": "code",
    "id": "6AZeOGCvnNZn"
   },
   "outputs": [],
   "source": [
    "cnn.add(tf.keras.layers.Flatten())"
   ]
  },
  {
   "cell_type": "markdown",
   "metadata": {},
   "source": [
    "MM: from this step it's like Artificial NN."
   ]
  },
  {
   "cell_type": "markdown",
   "metadata": {
    "colab_type": "text",
    "id": "dAoSECOm203v"
   },
   "source": [
    "### Step 4 - Full Connection"
   ]
  },
  {
   "cell_type": "code",
   "execution_count": 10,
   "metadata": {
    "colab": {},
    "colab_type": "code",
    "id": "8GtmUlLd26Nq"
   },
   "outputs": [],
   "source": [
    "cnn.add(tf.keras.layers.Dense(units=128, activation='relu'))"
   ]
  },
  {
   "cell_type": "markdown",
   "metadata": {
    "colab_type": "text",
    "id": "yTldFvbX28Na"
   },
   "source": [
    "### Step 5 - Output Layer"
   ]
  },
  {
   "cell_type": "code",
   "execution_count": 11,
   "metadata": {
    "colab": {},
    "colab_type": "code",
    "id": "1p_Zj1Mc3Ko_"
   },
   "outputs": [],
   "source": [
    "cnn.add(tf.keras.layers.Dense(units=1, activation='sigmoid'))"
   ]
  },
  {
   "cell_type": "markdown",
   "metadata": {
    "colab_type": "text",
    "id": "D6XkI90snSDl"
   },
   "source": [
    "## Part 3 - Training the CNN"
   ]
  },
  {
   "cell_type": "markdown",
   "metadata": {
    "colab_type": "text",
    "id": "vfrFQACEnc6i"
   },
   "source": [
    "### Compiling the CNN"
   ]
  },
  {
   "cell_type": "code",
   "execution_count": 12,
   "metadata": {
    "colab": {},
    "colab_type": "code",
    "id": "NALksrNQpUlJ"
   },
   "outputs": [],
   "source": [
    "cnn.compile(optimizer = 'adam', loss = 'binary_crossentropy', metrics = ['accuracy'])"
   ]
  },
  {
   "cell_type": "markdown",
   "metadata": {
    "colab_type": "text",
    "id": "ehS-v3MIpX2h"
   },
   "source": [
    "### Training the CNN on the Training set and evaluating it on the Test set"
   ]
  },
  {
   "cell_type": "code",
   "execution_count": 13,
   "metadata": {
    "colab": {},
    "colab_type": "code",
    "id": "XUj1W4PJptta"
   },
   "outputs": [
    {
     "name": "stdout",
     "output_type": "stream",
     "text": [
      "Epoch 1/25\n",
      "250/250 [==============================] - 182s 727ms/step - loss: 0.6672 - accuracy: 0.6018 - val_loss: 0.6151 - val_accuracy: 0.6635\n",
      "Epoch 2/25\n",
      "250/250 [==============================] - 111s 443ms/step - loss: 0.5904 - accuracy: 0.6873 - val_loss: 0.6326 - val_accuracy: 0.6820\n",
      "Epoch 3/25\n",
      "250/250 [==============================] - 109s 436ms/step - loss: 0.5584 - accuracy: 0.7099 - val_loss: 0.5310 - val_accuracy: 0.7445\n",
      "Epoch 4/25\n",
      "250/250 [==============================] - 109s 438ms/step - loss: 0.5156 - accuracy: 0.7377 - val_loss: 0.5202 - val_accuracy: 0.7530\n",
      "Epoch 5/25\n",
      "250/250 [==============================] - 109s 436ms/step - loss: 0.4846 - accuracy: 0.7674 - val_loss: 0.4793 - val_accuracy: 0.7725\n",
      "Epoch 6/25\n",
      "250/250 [==============================] - 111s 442ms/step - loss: 0.4670 - accuracy: 0.7724 - val_loss: 0.4771 - val_accuracy: 0.7700\n",
      "Epoch 7/25\n",
      "250/250 [==============================] - 110s 439ms/step - loss: 0.4526 - accuracy: 0.7850 - val_loss: 0.4702 - val_accuracy: 0.7780\n",
      "Epoch 8/25\n",
      "250/250 [==============================] - 113s 453ms/step - loss: 0.4386 - accuracy: 0.7900 - val_loss: 0.5380 - val_accuracy: 0.7470\n",
      "Epoch 9/25\n",
      "250/250 [==============================] - 113s 450ms/step - loss: 0.4254 - accuracy: 0.7976 - val_loss: 0.4656 - val_accuracy: 0.7850\n",
      "Epoch 10/25\n",
      "250/250 [==============================] - 111s 445ms/step - loss: 0.4167 - accuracy: 0.8070 - val_loss: 0.4834 - val_accuracy: 0.7815\n",
      "Epoch 11/25\n",
      "250/250 [==============================] - 112s 448ms/step - loss: 0.4054 - accuracy: 0.8100 - val_loss: 0.4856 - val_accuracy: 0.7795\n",
      "Epoch 12/25\n",
      "250/250 [==============================] - 111s 442ms/step - loss: 0.3969 - accuracy: 0.8180 - val_loss: 0.4404 - val_accuracy: 0.8030\n",
      "Epoch 13/25\n",
      "250/250 [==============================] - 111s 443ms/step - loss: 0.3700 - accuracy: 0.8325 - val_loss: 0.4593 - val_accuracy: 0.7890\n",
      "Epoch 14/25\n",
      "250/250 [==============================] - 110s 440ms/step - loss: 0.3717 - accuracy: 0.8305 - val_loss: 0.5315 - val_accuracy: 0.7540\n",
      "Epoch 15/25\n",
      "250/250 [==============================] - 112s 449ms/step - loss: 0.3544 - accuracy: 0.8414 - val_loss: 0.4641 - val_accuracy: 0.7945\n",
      "Epoch 16/25\n",
      "250/250 [==============================] - 111s 446ms/step - loss: 0.3435 - accuracy: 0.8465 - val_loss: 0.4739 - val_accuracy: 0.8055\n",
      "Epoch 17/25\n",
      "250/250 [==============================] - 119s 477ms/step - loss: 0.3285 - accuracy: 0.8546 - val_loss: 0.4260 - val_accuracy: 0.8090\n",
      "Epoch 18/25\n",
      "250/250 [==============================] - 114s 455ms/step - loss: 0.3181 - accuracy: 0.8616 - val_loss: 0.4591 - val_accuracy: 0.8205\n",
      "Epoch 19/25\n",
      "250/250 [==============================] - 107s 429ms/step - loss: 0.3010 - accuracy: 0.8681 - val_loss: 0.4963 - val_accuracy: 0.7955\n",
      "Epoch 20/25\n",
      "250/250 [==============================] - 111s 444ms/step - loss: 0.2953 - accuracy: 0.8724 - val_loss: 0.4933 - val_accuracy: 0.7935\n",
      "Epoch 21/25\n",
      "250/250 [==============================] - 104s 417ms/step - loss: 0.2789 - accuracy: 0.8809 - val_loss: 0.5544 - val_accuracy: 0.7775\n",
      "Epoch 22/25\n",
      "250/250 [==============================] - 107s 429ms/step - loss: 0.2702 - accuracy: 0.8821 - val_loss: 0.4819 - val_accuracy: 0.8040\n",
      "Epoch 23/25\n",
      "250/250 [==============================] - 108s 431ms/step - loss: 0.2566 - accuracy: 0.8894 - val_loss: 0.4964 - val_accuracy: 0.8085\n",
      "Epoch 24/25\n",
      "250/250 [==============================] - 105s 419ms/step - loss: 0.2469 - accuracy: 0.8942 - val_loss: 0.4692 - val_accuracy: 0.8075\n",
      "Epoch 25/25\n",
      "250/250 [==============================] - 105s 420ms/step - loss: 0.2316 - accuracy: 0.9000 - val_loss: 0.5146 - val_accuracy: 0.8020\n"
     ]
    },
    {
     "data": {
      "text/plain": [
       "<tensorflow.python.keras.callbacks.History at 0x1e67c594a00>"
      ]
     },
     "execution_count": 13,
     "metadata": {},
     "output_type": "execute_result"
    }
   ],
   "source": [
    "cnn.fit(x = training_set, validation_data = test_set, epochs = 25)"
   ]
  },
  {
   "cell_type": "markdown",
   "metadata": {
    "colab_type": "text",
    "id": "U3PZasO0006Z"
   },
   "source": [
    "## Part 4 - Making a single prediction"
   ]
  },
  {
   "cell_type": "code",
   "execution_count": 24,
   "metadata": {
    "colab": {},
    "colab_type": "code",
    "id": "gsSiWEJY1BPB"
   },
   "outputs": [],
   "source": [
    "import numpy as np\n",
    "from keras.preprocessing import image\n",
    "test_image = image.load_img('dataset/single_prediction/cat_or_dog_4.jpg', target_size = (64, 64))\n",
    "test_image = image.img_to_array(test_image)\n",
    "test_image = np.expand_dims(test_image, axis = 0)\n",
    "result = np.around(cnn.predict(test_image/255))#cnn.predict(test_image)\n",
    "training_set.class_indices\n",
    "if result[0][0] == 1:\n",
    "  prediction = 'dog'\n",
    "else:\n",
    "  prediction = 'cat'"
   ]
  },
  {
   "cell_type": "code",
   "execution_count": 25,
   "metadata": {
    "colab": {},
    "colab_type": "code",
    "id": "ED9KB3I54c1i"
   },
   "outputs": [
    {
     "name": "stdout",
     "output_type": "stream",
     "text": [
      "dog\n"
     ]
    }
   ],
   "source": [
    "print(prediction)"
   ]
  }
 ],
 "metadata": {
  "colab": {
   "collapsed_sections": [],
   "name": "convolutional_neural_network.ipynb",
   "provenance": [],
   "toc_visible": true
  },
  "kernelspec": {
   "display_name": "Python 3",
   "language": "python",
   "name": "python3"
  },
  "language_info": {
   "codemirror_mode": {
    "name": "ipython",
    "version": 3
   },
   "file_extension": ".py",
   "mimetype": "text/x-python",
   "name": "python",
   "nbconvert_exporter": "python",
   "pygments_lexer": "ipython3",
   "version": "3.8.5"
  }
 },
 "nbformat": 4,
 "nbformat_minor": 1
}
