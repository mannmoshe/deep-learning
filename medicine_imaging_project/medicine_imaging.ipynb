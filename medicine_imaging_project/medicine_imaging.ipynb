{
  "nbformat": 4,
  "nbformat_minor": 0,
  "metadata": {
    "colab": {
      "provenance": [],
      "authorship_tag": "ABX9TyOiMJxLvoJqFXHbY6NDL+AQ",
      "include_colab_link": true
    },
    "kernelspec": {
      "name": "python3",
      "display_name": "Python 3"
    },
    "language_info": {
      "name": "python"
    }
  },
  "cells": [
    {
      "cell_type": "markdown",
      "metadata": {
        "id": "view-in-github",
        "colab_type": "text"
      },
      "source": [
        "<a href=\"https://colab.research.google.com/github/mannmoshe/deep-learning/blob/main/medicine_imaging_project/medicine_imaging.ipynb\" target=\"_parent\"><img src=\"https://colab.research.google.com/assets/colab-badge.svg\" alt=\"Open In Colab\"/></a>"
      ]
    },
    {
      "cell_type": "code",
      "execution_count": 1,
      "metadata": {
        "colab": {
          "base_uri": "https://localhost:8080/"
        },
        "id": "lH-ru-Y9tLd5",
        "outputId": "e50007d5-0ce3-49af-e7cf-a3faf9f9a43a"
      },
      "outputs": [
        {
          "output_type": "stream",
          "name": "stdout",
          "text": [
            "Mounted at /content/gdrive\n"
          ]
        }
      ],
      "source": [
        "from google.colab import drive\n",
        "drive.mount('/content/gdrive')"
      ]
    },
    {
      "cell_type": "code",
      "source": [
        "import os\n",
        "import shutil\n",
        "import pathlib\n",
        "import imageio\n",
        "import numpy as np\n",
        "from matplotlib import pyplot as plt\n",
        "import tensorflow as tf\n",
        "from keras.preprocessing.image import ImageDataGenerator"
      ],
      "metadata": {
        "id": "3rFlPRnv2Lia"
      },
      "execution_count": 2,
      "outputs": []
    },
    {
      "cell_type": "code",
      "source": [
        "tf.__version__"
      ],
      "metadata": {
        "id": "JnhDqWC_AJcW",
        "outputId": "56fe7b73-5a0e-4523-bc9f-940a051c303d",
        "colab": {
          "base_uri": "https://localhost:8080/",
          "height": 35
        }
      },
      "execution_count": 3,
      "outputs": [
        {
          "output_type": "execute_result",
          "data": {
            "text/plain": [
              "'2.12.0'"
            ],
            "application/vnd.google.colaboratory.intrinsic+json": {
              "type": "string"
            }
          },
          "metadata": {},
          "execution_count": 3
        }
      ]
    },
    {
      "cell_type": "markdown",
      "source": [
        "create directories"
      ],
      "metadata": {
        "id": "ug_JCF89f2u3"
      }
    },
    {
      "cell_type": "code",
      "source": [
        "!mkdir train\n",
        "!mkdir validation\n",
        "!mkdir test"
      ],
      "metadata": {
        "id": "Z13-B89_fZ-b"
      },
      "execution_count": 4,
      "outputs": []
    },
    {
      "cell_type": "markdown",
      "source": [
        "create subdirectories for each class"
      ],
      "metadata": {
        "id": "04J6sx_QgVEs"
      }
    },
    {
      "cell_type": "code",
      "source": [
        "!mkdir train/01\n",
        "!mkdir train/02\n",
        "!mkdir train/03\n",
        "\n",
        "!mkdir validation/01\n",
        "!mkdir validation/02\n",
        "!mkdir validation/03\n",
        "\n",
        "!mkdir test/01\n",
        "!mkdir test/02\n",
        "!mkdir test/03"
      ],
      "metadata": {
        "id": "MprswvHyf7SW"
      },
      "execution_count": 5,
      "outputs": []
    },
    {
      "cell_type": "code",
      "source": [
        "class1_path = '/content/gdrive/MyDrive/M.sc Data Mining/Medicine imaging/data/01/'\n",
        "class2_path = '/content/gdrive/MyDrive/M.sc Data Mining/Medicine imaging/data/02/'\n",
        "class3_path = '/content/gdrive/MyDrive/M.sc Data Mining/Medicine imaging/data/03/'"
      ],
      "metadata": {
        "id": "xhwua4rmtr5F"
      },
      "execution_count": 6,
      "outputs": []
    },
    {
      "cell_type": "code",
      "source": [
        "class1_files = os.listdir(class1_path)\n",
        "class2_files = os.listdir(class2_path)\n",
        "class3_files = os.listdir(class3_path)"
      ],
      "metadata": {
        "id": "Qi8Dlo8jqxtE"
      },
      "execution_count": 7,
      "outputs": []
    },
    {
      "cell_type": "code",
      "source": [
        "class1_files_sorted = sorted([x for x in class1_files])\n",
        "class2_files_sorted = sorted([x for x in class2_files])\n",
        "class3_files_sorted = sorted([x for x in class3_files])"
      ],
      "metadata": {
        "id": "RIyvAUfwrJxb"
      },
      "execution_count": 8,
      "outputs": []
    },
    {
      "cell_type": "code",
      "source": [
        "class1_files_sorted[:5]"
      ],
      "metadata": {
        "colab": {
          "base_uri": "https://localhost:8080/"
        },
        "id": "zKF9ho8kq3Vs",
        "outputId": "bffcfe09-7f5f-4c3e-8fcd-58e71389ade2"
      },
      "execution_count": 9,
      "outputs": [
        {
          "output_type": "execute_result",
          "data": {
            "text/plain": [
              "['01.jpeg', '010.jpeg', '011.jpeg', '012.jpeg', '013.jpeg']"
            ]
          },
          "metadata": {},
          "execution_count": 9
        }
      ]
    },
    {
      "cell_type": "code",
      "source": [
        "print(len(class1_files_sorted), len(class2_files_sorted), len(class3_files_sorted))"
      ],
      "metadata": {
        "colab": {
          "base_uri": "https://localhost:8080/"
        },
        "id": "fPE-ZxhcsijW",
        "outputId": "61a88d15-6494-4e55-9f59-15fcbffca919"
      },
      "execution_count": 10,
      "outputs": [
        {
          "output_type": "stream",
          "name": "stdout",
          "text": [
            "70 70 111\n"
          ]
        }
      ]
    },
    {
      "cell_type": "markdown",
      "source": [
        "split class 1 to train, validation and test"
      ],
      "metadata": {
        "id": "_pqOlA9UxN00"
      }
    },
    {
      "cell_type": "code",
      "source": [
        "for f in class1_files_sorted[:35]:\n",
        "  src = os.path.join(class1_path, f)\n",
        "  dst = os.path.join('/content/train/01/', f)\n",
        "  shutil.copyfile(src, dst)"
      ],
      "metadata": {
        "id": "JziNzpIVhSm8"
      },
      "execution_count": 11,
      "outputs": []
    },
    {
      "cell_type": "code",
      "source": [
        "for f in class1_files_sorted[35:53]:\n",
        "  src = os.path.join(class1_path, f)\n",
        "  dst = os.path.join('/content/validation/01/', f)\n",
        "  shutil.copyfile(src, dst)"
      ],
      "metadata": {
        "id": "hWiWoxRHvlJx"
      },
      "execution_count": 12,
      "outputs": []
    },
    {
      "cell_type": "code",
      "source": [
        "for f in class1_files_sorted[53:]:\n",
        "  src = os.path.join(class1_path, f)\n",
        "  dst = os.path.join('/content/test/01/', f)\n",
        "  shutil.copyfile(src, dst)"
      ],
      "metadata": {
        "id": "GT_QFsMVvmn5"
      },
      "execution_count": 13,
      "outputs": []
    },
    {
      "cell_type": "markdown",
      "source": [
        "split class 2 to train, validation and test"
      ],
      "metadata": {
        "id": "88kecgbexVkp"
      }
    },
    {
      "cell_type": "code",
      "source": [
        "for f in class2_files_sorted[:35]:\n",
        "  src = os.path.join(class2_path, f)\n",
        "  dst = os.path.join('/content/train/02/', f)\n",
        "  shutil.copyfile(src, dst)"
      ],
      "metadata": {
        "id": "eJoqFi6iwJOw"
      },
      "execution_count": 14,
      "outputs": []
    },
    {
      "cell_type": "code",
      "source": [
        "for f in class2_files_sorted[35:53]:\n",
        "  src = os.path.join(class2_path, f)\n",
        "  dst = os.path.join('/content/validation/02/', f)\n",
        "  shutil.copyfile(src, dst)"
      ],
      "metadata": {
        "id": "TFIN8icqwO_o"
      },
      "execution_count": 15,
      "outputs": []
    },
    {
      "cell_type": "code",
      "source": [
        "for f in class2_files_sorted[53:]:\n",
        "  src = os.path.join(class2_path, f)\n",
        "  dst = os.path.join('/content/test/02/', f)\n",
        "  shutil.copyfile(src, dst)"
      ],
      "metadata": {
        "id": "XYgoXAanwTci"
      },
      "execution_count": 16,
      "outputs": []
    },
    {
      "cell_type": "markdown",
      "source": [
        "split class 3 to train, validation and test"
      ],
      "metadata": {
        "id": "4hINMLRRxXcH"
      }
    },
    {
      "cell_type": "code",
      "source": [
        "for f in class3_files_sorted[:30]:\n",
        "  src = os.path.join(class3_path, f)\n",
        "  dst = os.path.join('/content/train/03/', f)\n",
        "  shutil.copyfile(src, dst)"
      ],
      "metadata": {
        "id": "jMB-cjrAwjTv"
      },
      "execution_count": 17,
      "outputs": []
    },
    {
      "cell_type": "code",
      "source": [
        "for f in class3_files_sorted[30:44]:\n",
        "  src = os.path.join(class3_path, f)\n",
        "  dst = os.path.join('/content/validation/03/', f)\n",
        "  shutil.copyfile(src, dst)"
      ],
      "metadata": {
        "id": "7yHm2CR1wrT9"
      },
      "execution_count": 18,
      "outputs": []
    },
    {
      "cell_type": "code",
      "source": [
        "for f in class3_files_sorted[53:70]:\n",
        "  src = os.path.join(class3_path, f)\n",
        "  dst = os.path.join('/content/test/03/', f)\n",
        "  shutil.copyfile(src, dst)"
      ],
      "metadata": {
        "id": "LGELr4FuwvGl"
      },
      "execution_count": 19,
      "outputs": []
    },
    {
      "cell_type": "code",
      "source": [
        "print(len(os.listdir('/content/train/01/')), len(os.listdir('/content/train/02/')), len(os.listdir('/content/train/03/')))"
      ],
      "metadata": {
        "colab": {
          "base_uri": "https://localhost:8080/"
        },
        "id": "bZVvLtUyyFzD",
        "outputId": "0f991be1-d804-41af-e611-f8141e8ea771"
      },
      "execution_count": 20,
      "outputs": [
        {
          "output_type": "stream",
          "name": "stdout",
          "text": [
            "35 35 30\n"
          ]
        }
      ]
    },
    {
      "cell_type": "code",
      "source": [
        "print(len(os.listdir('/content/validation/01/')), len(os.listdir('/content/validation/02/')), len(os.listdir('/content/validation/03/')))"
      ],
      "metadata": {
        "colab": {
          "base_uri": "https://localhost:8080/"
        },
        "id": "RI0J_tFtyaUz",
        "outputId": "b3170311-7c50-453f-ce9b-d0a544ddc64e"
      },
      "execution_count": 21,
      "outputs": [
        {
          "output_type": "stream",
          "name": "stdout",
          "text": [
            "18 18 14\n"
          ]
        }
      ]
    },
    {
      "cell_type": "code",
      "source": [
        "print(len(os.listdir('/content/test/01/')), len(os.listdir('/content/test/02/')), len(os.listdir('/content/test/03/')))"
      ],
      "metadata": {
        "colab": {
          "base_uri": "https://localhost:8080/"
        },
        "id": "w2mpEiGOyiXi",
        "outputId": "b57d423a-3a61-44c8-b7f5-9e6ddc5e25d0"
      },
      "execution_count": 22,
      "outputs": [
        {
          "output_type": "stream",
          "name": "stdout",
          "text": [
            "17 17 17\n"
          ]
        }
      ]
    },
    {
      "cell_type": "markdown",
      "source": [
        "Build network"
      ],
      "metadata": {
        "id": "Xa_vuTzAzaXz"
      }
    },
    {
      "cell_type": "code",
      "source": [
        "from keras import layers\n",
        "from keras import models\n",
        "\n",
        "model = models.Sequential()\n",
        "model.add(layers.Conv2D(32, (3, 3), activation='relu',\n",
        "                        input_shape=(150, 150, 3)))\n",
        "model.add(layers.MaxPooling2D((2, 2)))\n",
        "model.add(layers.Conv2D(64, (3, 3), activation='relu'))\n",
        "model.add(layers.MaxPooling2D((2, 2)))\n",
        "model.add(layers.Conv2D(128, (3, 3), activation='relu'))\n",
        "model.add(layers.MaxPooling2D((2, 2)))\n",
        "model.add(layers.Conv2D(128, (3, 3), activation='relu'))\n",
        "model.add(layers.MaxPooling2D((2, 2)))\n",
        "model.add(layers.Flatten())\n",
        "model.add(layers.Dense(512, activation='relu'))\n",
        "model.add(layers.Dense(3, activation='softmax'))"
      ],
      "metadata": {
        "id": "31R07pugzewN"
      },
      "execution_count": 30,
      "outputs": []
    },
    {
      "cell_type": "code",
      "source": [
        "model.summary()"
      ],
      "metadata": {
        "colab": {
          "base_uri": "https://localhost:8080/"
        },
        "id": "xvIVAPfyzp4B",
        "outputId": "e616ba2d-b6d5-46c0-c084-e8c007d1271b"
      },
      "execution_count": 31,
      "outputs": [
        {
          "output_type": "stream",
          "name": "stdout",
          "text": [
            "Model: \"sequential_1\"\n",
            "_________________________________________________________________\n",
            " Layer (type)                Output Shape              Param #   \n",
            "=================================================================\n",
            " conv2d_4 (Conv2D)           (None, 148, 148, 32)      896       \n",
            "                                                                 \n",
            " max_pooling2d_4 (MaxPooling  (None, 74, 74, 32)       0         \n",
            " 2D)                                                             \n",
            "                                                                 \n",
            " conv2d_5 (Conv2D)           (None, 72, 72, 64)        18496     \n",
            "                                                                 \n",
            " max_pooling2d_5 (MaxPooling  (None, 36, 36, 64)       0         \n",
            " 2D)                                                             \n",
            "                                                                 \n",
            " conv2d_6 (Conv2D)           (None, 34, 34, 128)       73856     \n",
            "                                                                 \n",
            " max_pooling2d_6 (MaxPooling  (None, 17, 17, 128)      0         \n",
            " 2D)                                                             \n",
            "                                                                 \n",
            " conv2d_7 (Conv2D)           (None, 15, 15, 128)       147584    \n",
            "                                                                 \n",
            " max_pooling2d_7 (MaxPooling  (None, 7, 7, 128)        0         \n",
            " 2D)                                                             \n",
            "                                                                 \n",
            " flatten_1 (Flatten)         (None, 6272)              0         \n",
            "                                                                 \n",
            " dense_2 (Dense)             (None, 512)               3211776   \n",
            "                                                                 \n",
            " dense_3 (Dense)             (None, 3)                 1539      \n",
            "                                                                 \n",
            "=================================================================\n",
            "Total params: 3,454,147\n",
            "Trainable params: 3,454,147\n",
            "Non-trainable params: 0\n",
            "_________________________________________________________________\n"
          ]
        }
      ]
    },
    {
      "cell_type": "code",
      "source": [
        "from keras import optimizers\n",
        "\n",
        "model.compile(loss='categorical_crossentropy',\n",
        "              optimizer=optimizers.RMSprop(lr=1e-4),\n",
        "              metrics=['acc'])"
      ],
      "metadata": {
        "id": "qB8pF5jVzsYW"
      },
      "execution_count": 32,
      "outputs": []
    },
    {
      "cell_type": "code",
      "source": [
        "from keras.preprocessing.image import ImageDataGenerator\n",
        "\n",
        "# All images will be rescaled by 1./255\n",
        "train_datagen = ImageDataGenerator(rescale=1./255)\n",
        "test_datagen = ImageDataGenerator(rescale=1./255)\n",
        "\n",
        "train_generator = train_datagen.flow_from_directory(\n",
        "        # This is the target directory\n",
        "        '/content/train/',\n",
        "        # All images will be resized to 150x150\n",
        "        target_size=(150, 150),\n",
        "        batch_size=10,\n",
        "        # Since we use categorical_crossentropy loss, we need categorical labels\n",
        "        class_mode='categorical')\n",
        "\n",
        "validation_generator = test_datagen.flow_from_directory(\n",
        "        '/content/validation/',\n",
        "        target_size=(150, 150),\n",
        "        batch_size=10,\n",
        "        class_mode='categorical')"
      ],
      "metadata": {
        "colab": {
          "base_uri": "https://localhost:8080/"
        },
        "id": "cSX6w_br0rGE",
        "outputId": "3b6b8816-ceb5-4315-a524-e61a87f7d63b"
      },
      "execution_count": 33,
      "outputs": [
        {
          "output_type": "stream",
          "name": "stdout",
          "text": [
            "Found 100 images belonging to 3 classes.\n",
            "Found 50 images belonging to 3 classes.\n"
          ]
        }
      ]
    },
    {
      "cell_type": "code",
      "source": [
        "for data_batch, labels_batch in train_generator:\n",
        "    print('data batch shape:', data_batch.shape)\n",
        "    print('labels batch shape:', labels_batch.shape)\n",
        "    break"
      ],
      "metadata": {
        "colab": {
          "base_uri": "https://localhost:8080/"
        },
        "id": "OmN0-Yjk1ZqT",
        "outputId": "dd5c22fc-266a-44ef-99f9-ca5e6ddb059c"
      },
      "execution_count": 34,
      "outputs": [
        {
          "output_type": "stream",
          "name": "stdout",
          "text": [
            "data batch shape: (10, 150, 150, 3)\n",
            "labels batch shape: (10, 3)\n"
          ]
        }
      ]
    },
    {
      "cell_type": "code",
      "source": [
        "history = model.fit_generator(\n",
        "      train_generator,\n",
        "      steps_per_epoch=10,\n",
        "      epochs=30,\n",
        "      validation_data=validation_generator,\n",
        "      validation_steps=5)"
      ],
      "metadata": {
        "colab": {
          "base_uri": "https://localhost:8080/"
        },
        "id": "Xxtn2gQD1bss",
        "outputId": "dae5973b-11ec-411f-b96f-e2df1367e075"
      },
      "execution_count": 35,
      "outputs": [
        {
          "output_type": "stream",
          "name": "stderr",
          "text": [
            "<ipython-input-35-2883d3b95d37>:1: UserWarning: `Model.fit_generator` is deprecated and will be removed in a future version. Please use `Model.fit`, which supports generators.\n",
            "  history = model.fit_generator(\n"
          ]
        },
        {
          "output_type": "stream",
          "name": "stdout",
          "text": [
            "Epoch 1/30\n",
            "10/10 [==============================] - 17s 2s/step - loss: 1.1213 - acc: 0.3500 - val_loss: 1.0220 - val_acc: 0.3600\n",
            "Epoch 2/30\n",
            "10/10 [==============================] - 15s 1s/step - loss: 1.0014 - acc: 0.4600 - val_loss: 0.9166 - val_acc: 0.7400\n",
            "Epoch 3/30\n",
            "10/10 [==============================] - 16s 2s/step - loss: 0.9114 - acc: 0.6200 - val_loss: 0.8126 - val_acc: 0.7400\n",
            "Epoch 4/30\n",
            "10/10 [==============================] - 18s 2s/step - loss: 0.7640 - acc: 0.7500 - val_loss: 0.6698 - val_acc: 0.7000\n",
            "Epoch 5/30\n",
            "10/10 [==============================] - 15s 1s/step - loss: 0.5980 - acc: 0.8300 - val_loss: 0.6224 - val_acc: 0.7600\n",
            "Epoch 6/30\n",
            "10/10 [==============================] - 22s 2s/step - loss: 0.4896 - acc: 0.8700 - val_loss: 0.6736 - val_acc: 0.7000\n",
            "Epoch 7/30\n",
            "10/10 [==============================] - 18s 2s/step - loss: 0.4407 - acc: 0.8700 - val_loss: 0.6852 - val_acc: 0.7000\n",
            "Epoch 8/30\n",
            "10/10 [==============================] - 18s 2s/step - loss: 0.2851 - acc: 0.9200 - val_loss: 0.3424 - val_acc: 0.8200\n",
            "Epoch 9/30\n",
            "10/10 [==============================] - 15s 1s/step - loss: 0.2535 - acc: 0.9000 - val_loss: 0.3794 - val_acc: 0.8800\n",
            "Epoch 10/30\n",
            "10/10 [==============================] - 16s 2s/step - loss: 0.2922 - acc: 0.9000 - val_loss: 0.3011 - val_acc: 0.8000\n",
            "Epoch 11/30\n",
            "10/10 [==============================] - 18s 2s/step - loss: 0.2104 - acc: 0.9300 - val_loss: 0.3324 - val_acc: 0.8600\n",
            "Epoch 12/30\n",
            "10/10 [==============================] - 17s 2s/step - loss: 0.1994 - acc: 0.9200 - val_loss: 0.4156 - val_acc: 0.8000\n",
            "Epoch 13/30\n",
            "10/10 [==============================] - 18s 2s/step - loss: 0.1629 - acc: 0.9400 - val_loss: 0.2767 - val_acc: 0.8400\n",
            "Epoch 14/30\n",
            "10/10 [==============================] - 18s 2s/step - loss: 0.1586 - acc: 0.9400 - val_loss: 0.2406 - val_acc: 0.8400\n",
            "Epoch 15/30\n",
            "10/10 [==============================] - 18s 2s/step - loss: 0.1101 - acc: 0.9900 - val_loss: 0.2335 - val_acc: 0.8800\n",
            "Epoch 16/30\n",
            "10/10 [==============================] - 17s 2s/step - loss: 0.1649 - acc: 0.9100 - val_loss: 0.2529 - val_acc: 0.8800\n",
            "Epoch 17/30\n",
            "10/10 [==============================] - 18s 2s/step - loss: 0.0840 - acc: 0.9800 - val_loss: 0.2558 - val_acc: 0.8800\n",
            "Epoch 18/30\n",
            "10/10 [==============================] - 16s 1s/step - loss: 0.0913 - acc: 0.9700 - val_loss: 0.2719 - val_acc: 0.8600\n",
            "Epoch 19/30\n",
            "10/10 [==============================] - 17s 2s/step - loss: 0.0864 - acc: 0.9800 - val_loss: 0.5861 - val_acc: 0.8200\n",
            "Epoch 20/30\n",
            "10/10 [==============================] - 16s 2s/step - loss: 0.1382 - acc: 0.9400 - val_loss: 0.3240 - val_acc: 0.8400\n",
            "Epoch 21/30\n",
            "10/10 [==============================] - 15s 2s/step - loss: 0.0420 - acc: 1.0000 - val_loss: 0.4154 - val_acc: 0.8000\n",
            "Epoch 22/30\n",
            "10/10 [==============================] - 18s 2s/step - loss: 0.0460 - acc: 1.0000 - val_loss: 0.2814 - val_acc: 0.9200\n",
            "Epoch 23/30\n",
            "10/10 [==============================] - 16s 2s/step - loss: 0.1158 - acc: 0.9700 - val_loss: 0.4280 - val_acc: 0.8800\n",
            "Epoch 24/30\n",
            "10/10 [==============================] - 20s 2s/step - loss: 0.0411 - acc: 1.0000 - val_loss: 0.3541 - val_acc: 0.8400\n",
            "Epoch 25/30\n",
            "10/10 [==============================] - 18s 2s/step - loss: 0.0279 - acc: 1.0000 - val_loss: 0.3904 - val_acc: 0.8600\n",
            "Epoch 26/30\n",
            "10/10 [==============================] - 18s 2s/step - loss: 0.0256 - acc: 1.0000 - val_loss: 0.4995 - val_acc: 0.8200\n",
            "Epoch 27/30\n",
            "10/10 [==============================] - 17s 2s/step - loss: 0.0095 - acc: 1.0000 - val_loss: 0.3628 - val_acc: 0.8400\n",
            "Epoch 28/30\n",
            "10/10 [==============================] - 18s 2s/step - loss: 0.2239 - acc: 0.9500 - val_loss: 0.3322 - val_acc: 0.9000\n",
            "Epoch 29/30\n",
            "10/10 [==============================] - 15s 2s/step - loss: 0.0117 - acc: 1.0000 - val_loss: 0.3843 - val_acc: 0.8800\n",
            "Epoch 30/30\n",
            "10/10 [==============================] - 17s 2s/step - loss: 0.0085 - acc: 1.0000 - val_loss: 0.4118 - val_acc: 0.8600\n"
          ]
        }
      ]
    },
    {
      "cell_type": "code",
      "source": [
        "model.save('imaging_classification.h5')"
      ],
      "metadata": {
        "id": "LLbb1JwniAnm"
      },
      "execution_count": 36,
      "outputs": []
    },
    {
      "cell_type": "code",
      "source": [
        "import matplotlib.pyplot as plt\n",
        "%matplotlib inline\n",
        "\n",
        "acc = history.history['acc']\n",
        "val_acc = history.history['val_acc']\n",
        "loss = history.history['loss']\n",
        "val_loss = history.history['val_loss']\n",
        "\n",
        "epochs = range(len(acc))\n",
        "\n",
        "plt.plot(epochs, acc, 'bo', label='Training acc')\n",
        "plt.plot(epochs, val_acc, 'b', label='Validation acc')\n",
        "plt.title('Training and validation accuracy')\n",
        "plt.legend()\n",
        "\n",
        "plt.figure()\n",
        "\n",
        "plt.plot(epochs, loss, 'bo', label='Training loss')\n",
        "plt.plot(epochs, val_loss, 'b', label='Validation loss')\n",
        "plt.title('Training and validation loss')\n",
        "plt.legend()\n",
        "\n",
        "plt.show()"
      ],
      "metadata": {
        "colab": {
          "base_uri": "https://localhost:8080/",
          "height": 887
        },
        "id": "pZ3qHHb5iNWl",
        "outputId": "3c6c0b58-c951-4cba-f03b-357778b17ee3"
      },
      "execution_count": 41,
      "outputs": [
        {
          "output_type": "display_data",
          "data": {
            "text/plain": [
              "<Figure size 640x480 with 1 Axes>"
            ],
            "image/png": "[encoded data removed]"
          },
          "metadata": {}
        },
        {
          "output_type": "display_data",
          "data": {
            "text/plain": [
              "<Figure size 640x480 with 1 Axes>"
            ],
            "image/png": "[encoded data removed]"
          },
          "metadata": {}
        }
      ]
    }
  ]
}