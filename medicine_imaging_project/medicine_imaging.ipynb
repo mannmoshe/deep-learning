{
  "nbformat": 4,
  "nbformat_minor": 0,
  "metadata": {
    "colab": {
      "provenance": [],
      "authorship_tag": "ABX9TyMhXKAOFxamlYDpQ9rt2yfg",
      "include_colab_link": true
    },
    "kernelspec": {
      "name": "python3",
      "display_name": "Python 3"
    },
    "language_info": {
      "name": "python"
    }
  },
  "cells": [
    {
      "cell_type": "markdown",
      "metadata": {
        "id": "view-in-github",
        "colab_type": "text"
      },
      "source": [
        "<a href=\"https://colab.research.google.com/github/mannmoshe/deep-learning/blob/main/medicine_imaging_project/medicine_imaging.ipynb\" target=\"_parent\"><img src=\"https://colab.research.google.com/assets/colab-badge.svg\" alt=\"Open In Colab\"/></a>"
      ]
    },
    {
      "cell_type": "code",
      "execution_count": 1,
      "metadata": {
        "colab": {
          "base_uri": "https://localhost:8080/"
        },
        "id": "lH-ru-Y9tLd5",
        "outputId": "569aab7f-9934-49b9-a59a-1d0e2573687d"
      },
      "outputs": [
        {
          "output_type": "stream",
          "name": "stdout",
          "text": [
            "Mounted at /content/gdrive\n"
          ]
        }
      ],
      "source": [
        "from google.colab import drive\n",
        "drive.mount('/content/gdrive')"
      ]
    },
    {
      "cell_type": "code",
      "source": [
        "import os\n",
        "import shutil\n",
        "import pathlib\n",
        "import imageio\n",
        "import numpy as np\n",
        "import tensorflow as tf\n",
        "from keras.preprocessing.image import ImageDataGenerator"
      ],
      "metadata": {
        "id": "3rFlPRnv2Lia"
      },
      "execution_count": 2,
      "outputs": []
    },
    {
      "cell_type": "code",
      "source": [
        "tf.__version__"
      ],
      "metadata": {
        "id": "JnhDqWC_AJcW",
        "outputId": "3e17b171-69cd-40f7-c0aa-e7ec67ca3ec6",
        "colab": {
          "base_uri": "https://localhost:8080/",
          "height": 35
        }
      },
      "execution_count": 3,
      "outputs": [
        {
          "output_type": "execute_result",
          "data": {
            "text/plain": [
              "'2.13.0'"
            ],
            "application/vnd.google.colaboratory.intrinsic+json": {
              "type": "string"
            }
          },
          "metadata": {},
          "execution_count": 3
        }
      ]
    },
    {
      "cell_type": "markdown",
      "source": [
        "create directories"
      ],
      "metadata": {
        "id": "ug_JCF89f2u3"
      }
    },
    {
      "cell_type": "code",
      "source": [
        "!mkdir train\n",
        "!mkdir validation\n",
        "!mkdir test"
      ],
      "metadata": {
        "id": "Z13-B89_fZ-b"
      },
      "execution_count": 4,
      "outputs": []
    },
    {
      "cell_type": "markdown",
      "source": [
        "create subdirectories for each class"
      ],
      "metadata": {
        "id": "04J6sx_QgVEs"
      }
    },
    {
      "cell_type": "code",
      "source": [
        "!mkdir train/01\n",
        "!mkdir train/02\n",
        "!mkdir train/03\n",
        "\n",
        "!mkdir validation/01\n",
        "!mkdir validation/02\n",
        "!mkdir validation/03\n",
        "\n",
        "!mkdir test/01\n",
        "!mkdir test/02\n",
        "!mkdir test/03"
      ],
      "metadata": {
        "id": "MprswvHyf7SW"
      },
      "execution_count": 5,
      "outputs": []
    },
    {
      "cell_type": "markdown",
      "source": [
        "NOTE: For running the model on your computer, please change the path below according to the location in your drive."
      ],
      "metadata": {
        "id": "lRzPNjX4Yf8l"
      }
    },
    {
      "cell_type": "code",
      "source": [
        "root_path = '/content/gdrive/MyDrive/M.sc Data Mining/Medicine imaging'"
      ],
      "metadata": {
        "id": "UFabrDTjjze8"
      },
      "execution_count": 18,
      "outputs": []
    },
    {
      "cell_type": "code",
      "source": [
        "class1_path = root_path + '/data/01/'\n",
        "class2_path = root_path + '/data/02/'\n",
        "class3_path = root_path + '/data/03/'"
      ],
      "metadata": {
        "id": "xhwua4rmtr5F"
      },
      "execution_count": 19,
      "outputs": []
    },
    {
      "cell_type": "code",
      "source": [
        "class1_files = os.listdir(class1_path)\n",
        "class2_files = os.listdir(class2_path)\n",
        "class3_files = os.listdir(class3_path)"
      ],
      "metadata": {
        "id": "Qi8Dlo8jqxtE"
      },
      "execution_count": 20,
      "outputs": []
    },
    {
      "cell_type": "code",
      "source": [
        "class1_files_sorted = sorted([x for x in class1_files])\n",
        "class2_files_sorted = sorted([x for x in class2_files])\n",
        "class3_files_sorted = sorted([x for x in class3_files])"
      ],
      "metadata": {
        "id": "RIyvAUfwrJxb"
      },
      "execution_count": 21,
      "outputs": []
    },
    {
      "cell_type": "code",
      "source": [
        "class1_files_sorted[:5]"
      ],
      "metadata": {
        "colab": {
          "base_uri": "https://localhost:8080/"
        },
        "id": "zKF9ho8kq3Vs",
        "outputId": "c70319d8-5eb9-435b-8e5a-7bd2916503b0"
      },
      "execution_count": 22,
      "outputs": [
        {
          "output_type": "execute_result",
          "data": {
            "text/plain": [
              "['01.jpeg', '010.jpeg', '011.jpeg', '012.jpeg', '013.jpeg']"
            ]
          },
          "metadata": {},
          "execution_count": 22
        }
      ]
    },
    {
      "cell_type": "code",
      "source": [
        "print(len(class1_files_sorted), len(class2_files_sorted), len(class3_files_sorted))"
      ],
      "metadata": {
        "colab": {
          "base_uri": "https://localhost:8080/"
        },
        "id": "fPE-ZxhcsijW",
        "outputId": "2cddfb3b-e44e-4bcd-c517-598a20aca817"
      },
      "execution_count": 23,
      "outputs": [
        {
          "output_type": "stream",
          "name": "stdout",
          "text": [
            "70 70 111\n"
          ]
        }
      ]
    },
    {
      "cell_type": "markdown",
      "source": [
        "split class 1 to train, validation and test"
      ],
      "metadata": {
        "id": "_pqOlA9UxN00"
      }
    },
    {
      "cell_type": "code",
      "source": [
        "for f in class1_files_sorted[:35]:\n",
        "  src = os.path.join(class1_path, f)\n",
        "  dst = os.path.join('/content/train/01/', f)\n",
        "  shutil.copyfile(src, dst)"
      ],
      "metadata": {
        "id": "JziNzpIVhSm8"
      },
      "execution_count": 24,
      "outputs": []
    },
    {
      "cell_type": "code",
      "source": [
        "for f in class1_files_sorted[35:53]:\n",
        "  src = os.path.join(class1_path, f)\n",
        "  dst = os.path.join('/content/validation/01/', f)\n",
        "  shutil.copyfile(src, dst)"
      ],
      "metadata": {
        "id": "hWiWoxRHvlJx"
      },
      "execution_count": 25,
      "outputs": []
    },
    {
      "cell_type": "code",
      "source": [
        "for f in class1_files_sorted[53:]:\n",
        "  src = os.path.join(class1_path, f)\n",
        "  dst = os.path.join('/content/test/01/', f)\n",
        "  shutil.copyfile(src, dst)"
      ],
      "metadata": {
        "id": "GT_QFsMVvmn5"
      },
      "execution_count": 26,
      "outputs": []
    },
    {
      "cell_type": "markdown",
      "source": [
        "split class 2 to train, validation and test"
      ],
      "metadata": {
        "id": "88kecgbexVkp"
      }
    },
    {
      "cell_type": "code",
      "source": [
        "for f in class2_files_sorted[:35]:\n",
        "  src = os.path.join(class2_path, f)\n",
        "  dst = os.path.join('/content/train/02/', f)\n",
        "  shutil.copyfile(src, dst)"
      ],
      "metadata": {
        "id": "eJoqFi6iwJOw"
      },
      "execution_count": 27,
      "outputs": []
    },
    {
      "cell_type": "code",
      "source": [
        "for f in class2_files_sorted[35:53]:\n",
        "  src = os.path.join(class2_path, f)\n",
        "  dst = os.path.join('/content/validation/02/', f)\n",
        "  shutil.copyfile(src, dst)"
      ],
      "metadata": {
        "id": "TFIN8icqwO_o"
      },
      "execution_count": 28,
      "outputs": []
    },
    {
      "cell_type": "code",
      "source": [
        "for f in class2_files_sorted[53:]:\n",
        "  src = os.path.join(class2_path, f)\n",
        "  dst = os.path.join('/content/test/02/', f)\n",
        "  shutil.copyfile(src, dst)"
      ],
      "metadata": {
        "id": "XYgoXAanwTci"
      },
      "execution_count": 29,
      "outputs": []
    },
    {
      "cell_type": "markdown",
      "source": [
        "split class 3 to train, validation and test"
      ],
      "metadata": {
        "id": "4hINMLRRxXcH"
      }
    },
    {
      "cell_type": "code",
      "source": [
        "for f in class3_files_sorted[:35]:\n",
        "  src = os.path.join(class3_path, f)\n",
        "  dst = os.path.join('/content/train/03/', f)\n",
        "  shutil.copyfile(src, dst)"
      ],
      "metadata": {
        "id": "jMB-cjrAwjTv"
      },
      "execution_count": 30,
      "outputs": []
    },
    {
      "cell_type": "code",
      "source": [
        "for f in class3_files_sorted[35:53]:\n",
        "  src = os.path.join(class3_path, f)\n",
        "  dst = os.path.join('/content/validation/03/', f)\n",
        "  shutil.copyfile(src, dst)"
      ],
      "metadata": {
        "id": "7yHm2CR1wrT9"
      },
      "execution_count": 31,
      "outputs": []
    },
    {
      "cell_type": "code",
      "source": [
        "for f in class3_files_sorted[53:70]:\n",
        "  src = os.path.join(class3_path, f)\n",
        "  dst = os.path.join('/content/test/03/', f)\n",
        "  shutil.copyfile(src, dst)"
      ],
      "metadata": {
        "id": "LGELr4FuwvGl"
      },
      "execution_count": 32,
      "outputs": []
    },
    {
      "cell_type": "code",
      "source": [
        "print(len(os.listdir('/content/train/01/')), len(os.listdir('/content/train/02/')), len(os.listdir('/content/train/03/')))"
      ],
      "metadata": {
        "colab": {
          "base_uri": "https://localhost:8080/"
        },
        "id": "bZVvLtUyyFzD",
        "outputId": "fc64855f-03d3-41f5-a7c4-bb6b385a328e"
      },
      "execution_count": 33,
      "outputs": [
        {
          "output_type": "stream",
          "name": "stdout",
          "text": [
            "35 35 35\n"
          ]
        }
      ]
    },
    {
      "cell_type": "code",
      "source": [
        "print(len(os.listdir('/content/validation/01/')), len(os.listdir('/content/validation/02/')), len(os.listdir('/content/validation/03/')))"
      ],
      "metadata": {
        "colab": {
          "base_uri": "https://localhost:8080/"
        },
        "id": "RI0J_tFtyaUz",
        "outputId": "762405dd-84ba-46e3-e4a7-5d7e41aa699e"
      },
      "execution_count": 34,
      "outputs": [
        {
          "output_type": "stream",
          "name": "stdout",
          "text": [
            "18 18 18\n"
          ]
        }
      ]
    },
    {
      "cell_type": "code",
      "source": [
        "print(len(os.listdir('/content/test/01/')), len(os.listdir('/content/test/02/')), len(os.listdir('/content/test/03/')))"
      ],
      "metadata": {
        "colab": {
          "base_uri": "https://localhost:8080/"
        },
        "id": "w2mpEiGOyiXi",
        "outputId": "3f3de2db-231c-4adb-b076-5a26dec9ae64"
      },
      "execution_count": 35,
      "outputs": [
        {
          "output_type": "stream",
          "name": "stdout",
          "text": [
            "17 17 17\n"
          ]
        }
      ]
    },
    {
      "cell_type": "markdown",
      "source": [
        "MODEL 1: Build network"
      ],
      "metadata": {
        "id": "Xa_vuTzAzaXz"
      }
    },
    {
      "cell_type": "code",
      "source": [
        "from keras import layers\n",
        "from keras import models\n",
        "\n",
        "model = models.Sequential()\n",
        "model.add(layers.Conv2D(32, (3, 3), activation='relu',\n",
        "                        input_shape=(150, 150, 3)))\n",
        "model.add(layers.MaxPooling2D((2, 2)))\n",
        "model.add(layers.Conv2D(64, (3, 3), activation='relu'))\n",
        "model.add(layers.MaxPooling2D((2, 2)))\n",
        "model.add(layers.Conv2D(128, (3, 3), activation='relu'))\n",
        "model.add(layers.MaxPooling2D((2, 2)))\n",
        "model.add(layers.Conv2D(128, (3, 3), activation='relu'))\n",
        "model.add(layers.MaxPooling2D((2, 2)))\n",
        "model.add(layers.Flatten())\n",
        "model.add(layers.Dense(512, activation='relu'))\n",
        "model.add(layers.Dense(3, activation='softmax'))"
      ],
      "metadata": {
        "id": "31R07pugzewN"
      },
      "execution_count": 36,
      "outputs": []
    },
    {
      "cell_type": "code",
      "source": [
        "model.summary()"
      ],
      "metadata": {
        "colab": {
          "base_uri": "https://localhost:8080/"
        },
        "id": "xvIVAPfyzp4B",
        "outputId": "161d49d1-dc78-414d-eacb-07a4144ede25"
      },
      "execution_count": 37,
      "outputs": [
        {
          "output_type": "stream",
          "name": "stdout",
          "text": [
            "Model: \"sequential\"\n",
            "_________________________________________________________________\n",
            " Layer (type)                Output Shape              Param #   \n",
            "=================================================================\n",
            " conv2d (Conv2D)             (None, 148, 148, 32)      896       \n",
            "                                                                 \n",
            " max_pooling2d (MaxPooling2  (None, 74, 74, 32)        0         \n",
            " D)                                                              \n",
            "                                                                 \n",
            " conv2d_1 (Conv2D)           (None, 72, 72, 64)        18496     \n",
            "                                                                 \n",
            " max_pooling2d_1 (MaxPoolin  (None, 36, 36, 64)        0         \n",
            " g2D)                                                            \n",
            "                                                                 \n",
            " conv2d_2 (Conv2D)           (None, 34, 34, 128)       73856     \n",
            "                                                                 \n",
            " max_pooling2d_2 (MaxPoolin  (None, 17, 17, 128)       0         \n",
            " g2D)                                                            \n",
            "                                                                 \n",
            " conv2d_3 (Conv2D)           (None, 15, 15, 128)       147584    \n",
            "                                                                 \n",
            " max_pooling2d_3 (MaxPoolin  (None, 7, 7, 128)         0         \n",
            " g2D)                                                            \n",
            "                                                                 \n",
            " flatten (Flatten)           (None, 6272)              0         \n",
            "                                                                 \n",
            " dense (Dense)               (None, 512)               3211776   \n",
            "                                                                 \n",
            " dense_1 (Dense)             (None, 3)                 1539      \n",
            "                                                                 \n",
            "=================================================================\n",
            "Total params: 3454147 (13.18 MB)\n",
            "Trainable params: 3454147 (13.18 MB)\n",
            "Non-trainable params: 0 (0.00 Byte)\n",
            "_________________________________________________________________\n"
          ]
        }
      ]
    },
    {
      "cell_type": "code",
      "source": [
        "from keras import optimizers\n",
        "\n",
        "model.compile(loss='categorical_crossentropy',\n",
        "              optimizer=optimizers.RMSprop(lr=1e-4),\n",
        "              metrics=['acc'])"
      ],
      "metadata": {
        "id": "qB8pF5jVzsYW",
        "outputId": "6fead077-9738-41c9-9c7b-e60adb84ef04",
        "colab": {
          "base_uri": "https://localhost:8080/"
        }
      },
      "execution_count": 38,
      "outputs": [
        {
          "output_type": "stream",
          "name": "stderr",
          "text": [
            "WARNING:absl:`lr` is deprecated in Keras optimizer, please use `learning_rate` or use the legacy optimizer, e.g.,tf.keras.optimizers.legacy.RMSprop.\n"
          ]
        }
      ]
    },
    {
      "cell_type": "code",
      "source": [
        "from keras.preprocessing.image import ImageDataGenerator\n",
        "\n",
        "# All images will be rescaled by 1./255\n",
        "train_datagen = ImageDataGenerator(rescale=1./255)\n",
        "test_datagen = ImageDataGenerator(rescale=1./255)\n",
        "\n",
        "train_generator = train_datagen.flow_from_directory(\n",
        "        # This is the target directory\n",
        "        '/content/train/',\n",
        "        # All images will be resized to 150x150\n",
        "        target_size=(150, 150),\n",
        "        batch_size=10,\n",
        "        # Since we use categorical_crossentropy loss, we need categorical labels\n",
        "        class_mode='categorical')\n",
        "\n",
        "validation_generator = test_datagen.flow_from_directory(\n",
        "        '/content/validation/',\n",
        "        target_size=(150, 150),\n",
        "        batch_size=10,\n",
        "        class_mode='categorical')"
      ],
      "metadata": {
        "colab": {
          "base_uri": "https://localhost:8080/"
        },
        "id": "cSX6w_br0rGE",
        "outputId": "63c90708-dc87-41f5-ea97-e9be6a34a522"
      },
      "execution_count": 39,
      "outputs": [
        {
          "output_type": "stream",
          "name": "stdout",
          "text": [
            "Found 105 images belonging to 3 classes.\n",
            "Found 54 images belonging to 3 classes.\n"
          ]
        }
      ]
    },
    {
      "cell_type": "code",
      "source": [
        "for data_batch, labels_batch in train_generator:\n",
        "    print('data batch shape:', data_batch.shape)\n",
        "    print('labels batch shape:', labels_batch.shape)\n",
        "    break"
      ],
      "metadata": {
        "colab": {
          "base_uri": "https://localhost:8080/"
        },
        "id": "OmN0-Yjk1ZqT",
        "outputId": "03290044-6754-4dab-9aa7-8a9d0dc7c8ed"
      },
      "execution_count": 40,
      "outputs": [
        {
          "output_type": "stream",
          "name": "stdout",
          "text": [
            "data batch shape: (10, 150, 150, 3)\n",
            "labels batch shape: (10, 3)\n"
          ]
        }
      ]
    },
    {
      "cell_type": "code",
      "source": [
        "history = model.fit_generator(\n",
        "      train_generator,\n",
        "      steps_per_epoch=10,\n",
        "      epochs=30,\n",
        "      validation_data=validation_generator,\n",
        "      validation_steps=5)"
      ],
      "metadata": {
        "colab": {
          "base_uri": "https://localhost:8080/"
        },
        "id": "Xxtn2gQD1bss",
        "outputId": "dcc6bcb0-d105-4200-aa3f-2df0b4179b47"
      },
      "execution_count": 41,
      "outputs": [
        {
          "output_type": "stream",
          "name": "stderr",
          "text": [
            "<ipython-input-41-2883d3b95d37>:1: UserWarning: `Model.fit_generator` is deprecated and will be removed in a future version. Please use `Model.fit`, which supports generators.\n",
            "  history = model.fit_generator(\n"
          ]
        },
        {
          "output_type": "stream",
          "name": "stdout",
          "text": [
            "Epoch 1/30\n",
            "10/10 [==============================] - 11s 1s/step - loss: 1.3778 - acc: 0.3158 - val_loss: 1.0966 - val_acc: 0.3400\n",
            "Epoch 2/30\n",
            "10/10 [==============================] - 9s 871ms/step - loss: 1.1087 - acc: 0.2842 - val_loss: 1.0934 - val_acc: 0.3400\n",
            "Epoch 3/30\n",
            "10/10 [==============================] - 10s 956ms/step - loss: 1.0909 - acc: 0.3053 - val_loss: 1.0500 - val_acc: 0.5600\n",
            "Epoch 4/30\n",
            "10/10 [==============================] - 10s 985ms/step - loss: 1.0448 - acc: 0.5789 - val_loss: 0.7673 - val_acc: 0.7800\n",
            "Epoch 5/30\n",
            "10/10 [==============================] - 9s 900ms/step - loss: 0.7738 - acc: 0.6842 - val_loss: 3.3252 - val_acc: 0.3200\n",
            "Epoch 6/30\n",
            "10/10 [==============================] - 8s 746ms/step - loss: 0.9240 - acc: 0.7579 - val_loss: 0.6604 - val_acc: 0.7400\n",
            "Epoch 7/30\n",
            "10/10 [==============================] - 10s 990ms/step - loss: 0.4407 - acc: 0.8500 - val_loss: 0.5008 - val_acc: 0.8000\n",
            "Epoch 8/30\n",
            "10/10 [==============================] - 9s 888ms/step - loss: 0.6123 - acc: 0.8105 - val_loss: 0.4352 - val_acc: 0.8000\n",
            "Epoch 9/30\n",
            "10/10 [==============================] - 10s 882ms/step - loss: 0.3905 - acc: 0.8632 - val_loss: 0.5637 - val_acc: 0.7400\n",
            "Epoch 10/30\n",
            "10/10 [==============================] - 10s 1s/step - loss: 0.2701 - acc: 0.9000 - val_loss: 0.3443 - val_acc: 0.8800\n",
            "Epoch 11/30\n",
            "10/10 [==============================] - 9s 870ms/step - loss: 0.2261 - acc: 0.9053 - val_loss: 0.3578 - val_acc: 0.8600\n",
            "Epoch 12/30\n",
            "10/10 [==============================] - 10s 970ms/step - loss: 0.1041 - acc: 0.9800 - val_loss: 1.7727 - val_acc: 0.7000\n",
            "Epoch 13/30\n",
            "10/10 [==============================] - 11s 1s/step - loss: 0.1786 - acc: 0.9158 - val_loss: 1.9685 - val_acc: 0.6400\n",
            "Epoch 14/30\n",
            "10/10 [==============================] - 10s 920ms/step - loss: 0.3240 - acc: 0.8947 - val_loss: 0.8205 - val_acc: 0.7400\n",
            "Epoch 15/30\n",
            "10/10 [==============================] - 8s 764ms/step - loss: 0.2442 - acc: 0.9053 - val_loss: 0.4670 - val_acc: 0.8200\n",
            "Epoch 16/30\n",
            "10/10 [==============================] - 10s 982ms/step - loss: 0.0458 - acc: 0.9789 - val_loss: 0.7227 - val_acc: 0.8600\n",
            "Epoch 17/30\n",
            "10/10 [==============================] - 9s 933ms/step - loss: 0.0269 - acc: 1.0000 - val_loss: 0.7487 - val_acc: 0.8800\n",
            "Epoch 18/30\n",
            "10/10 [==============================] - 10s 975ms/step - loss: 0.1780 - acc: 0.9263 - val_loss: 0.8687 - val_acc: 0.8000\n",
            "Epoch 19/30\n",
            "10/10 [==============================] - 14s 1s/step - loss: 0.0714 - acc: 0.9800 - val_loss: 0.8019 - val_acc: 0.8400\n",
            "Epoch 20/30\n",
            "10/10 [==============================] - 9s 876ms/step - loss: 0.0112 - acc: 1.0000 - val_loss: 1.1678 - val_acc: 0.8000\n",
            "Epoch 21/30\n",
            "10/10 [==============================] - 9s 822ms/step - loss: 0.0011 - acc: 1.0000 - val_loss: 1.1478 - val_acc: 0.8000\n",
            "Epoch 22/30\n",
            "10/10 [==============================] - 10s 1s/step - loss: 7.2745e-04 - acc: 1.0000 - val_loss: 1.1992 - val_acc: 0.8400\n",
            "Epoch 23/30\n",
            "10/10 [==============================] - 10s 939ms/step - loss: 2.9173e-04 - acc: 1.0000 - val_loss: 1.3053 - val_acc: 0.8200\n",
            "Epoch 24/30\n",
            "10/10 [==============================] - 10s 1s/step - loss: 1.9333e-04 - acc: 1.0000 - val_loss: 0.8179 - val_acc: 0.8400\n",
            "Epoch 25/30\n",
            "10/10 [==============================] - 9s 877ms/step - loss: 1.2006e-04 - acc: 1.0000 - val_loss: 1.3082 - val_acc: 0.8200\n",
            "Epoch 26/30\n",
            "10/10 [==============================] - 10s 946ms/step - loss: 7.6545e-05 - acc: 1.0000 - val_loss: 0.9812 - val_acc: 0.8400\n",
            "Epoch 27/30\n",
            "10/10 [==============================] - 12s 1s/step - loss: 5.6250e-05 - acc: 1.0000 - val_loss: 1.4520 - val_acc: 0.8400\n",
            "Epoch 28/30\n",
            "10/10 [==============================] - 10s 975ms/step - loss: 4.1798e-05 - acc: 1.0000 - val_loss: 1.3514 - val_acc: 0.8200\n",
            "Epoch 29/30\n",
            "10/10 [==============================] - 9s 898ms/step - loss: 3.1116e-05 - acc: 1.0000 - val_loss: 1.1418 - val_acc: 0.8400\n",
            "Epoch 30/30\n",
            "10/10 [==============================] - 9s 774ms/step - loss: 1.9686e-05 - acc: 1.0000 - val_loss: 1.6430 - val_acc: 0.8000\n"
          ]
        }
      ]
    },
    {
      "cell_type": "code",
      "source": [
        "model.save('MODEL_1.h5')"
      ],
      "metadata": {
        "id": "LLbb1JwniAnm",
        "outputId": "dbb5f78c-92fe-4830-95e0-360159dfb307",
        "colab": {
          "base_uri": "https://localhost:8080/"
        }
      },
      "execution_count": 42,
      "outputs": [
        {
          "output_type": "stream",
          "name": "stderr",
          "text": [
            "/usr/local/lib/python3.10/dist-packages/keras/src/engine/training.py:3000: UserWarning: You are saving your model as an HDF5 file via `model.save()`. This file format is considered legacy. We recommend using instead the native Keras format, e.g. `model.save('my_model.keras')`.\n",
            "  saving_api.save_model(\n"
          ]
        }
      ]
    },
    {
      "cell_type": "code",
      "source": [
        "import matplotlib.pyplot as plt\n",
        "\n",
        "acc = history.history['acc']\n",
        "val_acc = history.history['val_acc']\n",
        "loss = history.history['loss']\n",
        "val_loss = history.history['val_loss']\n",
        "\n",
        "epochs = range(len(acc))\n",
        "\n",
        "plt.plot(epochs, acc, 'bo', label='Training acc')\n",
        "plt.plot(epochs, val_acc, 'b', label='Validation acc')\n",
        "plt.title('Training and validation accuracy')\n",
        "plt.legend()\n",
        "\n",
        "plt.figure()\n",
        "\n",
        "plt.plot(epochs, loss, 'bo', label='Training loss')\n",
        "plt.plot(epochs, val_loss, 'b', label='Validation loss')\n",
        "plt.title('Training and validation loss')\n",
        "plt.legend()\n",
        "\n",
        "plt.show()"
      ],
      "metadata": {
        "colab": {
          "base_uri": "https://localhost:8080/",
          "height": 887
        },
        "id": "pZ3qHHb5iNWl",
        "outputId": "16f7822b-856a-4b87-c911-8ce53c8d21c4"
      },
      "execution_count": 43,
      "outputs": [
        {
          "output_type": "display_data",
          "data": {
            "text/plain": [
              "<Figure size 640x480 with 1 Axes>"
            ],
            "image/png": "[encoded data removed]"
          },
          "metadata": {}
        },
        {
          "output_type": "display_data",
          "data": {
            "text/plain": [
              "<Figure size 640x480 with 1 Axes>"
            ],
            "image/png": "[encoded data removed]"
          },
          "metadata": {}
        }
      ]
    },
    {
      "cell_type": "markdown",
      "source": [
        "MODEL 2: Data augmentation"
      ],
      "metadata": {
        "id": "hSY4ruhIlVmE"
      }
    },
    {
      "cell_type": "code",
      "source": [
        "model = models.Sequential()\n",
        "model.add(layers.Conv2D(32, (3, 3), activation='relu',\n",
        "                        input_shape=(150, 150, 3)))\n",
        "model.add(layers.MaxPooling2D((2, 2)))\n",
        "model.add(layers.Conv2D(64, (3, 3), activation='relu'))\n",
        "model.add(layers.MaxPooling2D((2, 2)))\n",
        "model.add(layers.Conv2D(128, (3, 3), activation='relu'))\n",
        "model.add(layers.MaxPooling2D((2, 2)))\n",
        "model.add(layers.Conv2D(128, (3, 3), activation='relu'))\n",
        "model.add(layers.MaxPooling2D((2, 2)))\n",
        "model.add(layers.Flatten())\n",
        "model.add(layers.Dense(512, activation='relu'))\n",
        "model.add(layers.Dense(3, activation='softmax'))\n",
        "\n",
        "model.compile(loss='categorical_crossentropy',\n",
        "              optimizer=optimizers.RMSprop(lr=1e-4),\n",
        "              metrics=['acc'])"
      ],
      "metadata": {
        "id": "29IqgQeRlh3s",
        "outputId": "1f02ff48-029a-4e5d-bf12-f20ac7da04a2",
        "colab": {
          "base_uri": "https://localhost:8080/"
        }
      },
      "execution_count": 44,
      "outputs": [
        {
          "output_type": "stream",
          "name": "stderr",
          "text": [
            "WARNING:absl:`lr` is deprecated in Keras optimizer, please use `learning_rate` or use the legacy optimizer, e.g.,tf.keras.optimizers.legacy.RMSprop.\n"
          ]
        }
      ]
    },
    {
      "cell_type": "code",
      "source": [
        "train_datagen = ImageDataGenerator(\n",
        "    rescale=1./255,\n",
        "    rotation_range=40,\n",
        "    width_shift_range=0.2,\n",
        "    height_shift_range=0.2,\n",
        "    shear_range=0.2,\n",
        "    zoom_range=0.2,\n",
        "    horizontal_flip=True,)\n",
        "\n",
        "# Note that the validation data should not be augmented!\n",
        "test_datagen = ImageDataGenerator(rescale=1./255)\n",
        "\n",
        "train_generator = train_datagen.flow_from_directory(\n",
        "        # This is the target directory\n",
        "        '/content/train/',\n",
        "        # All images will be resized to 150x150\n",
        "        target_size=(150, 150),\n",
        "        batch_size=10,\n",
        "        # Since we use categorical_crossentropy loss, we need binary labels\n",
        "        class_mode='categorical')\n",
        "\n",
        "validation_generator = test_datagen.flow_from_directory(\n",
        "        '/content/validation/',\n",
        "        target_size=(150, 150),\n",
        "        batch_size=10,\n",
        "        class_mode='categorical')\n",
        "\n",
        "history = model.fit_generator(\n",
        "      train_generator,\n",
        "      steps_per_epoch=10,\n",
        "      epochs=30,\n",
        "      validation_data=validation_generator,\n",
        "      validation_steps=5)"
      ],
      "metadata": {
        "id": "TqQ2nL9ElycM",
        "outputId": "3bbe5a5d-3df5-4bdd-cbd6-5ee2bc3e645b",
        "colab": {
          "base_uri": "https://localhost:8080/"
        }
      },
      "execution_count": 45,
      "outputs": [
        {
          "output_type": "stream",
          "name": "stdout",
          "text": [
            "Found 105 images belonging to 3 classes.\n",
            "Found 54 images belonging to 3 classes.\n"
          ]
        },
        {
          "output_type": "stream",
          "name": "stderr",
          "text": [
            "<ipython-input-45-dc5bba310df2>:28: UserWarning: `Model.fit_generator` is deprecated and will be removed in a future version. Please use `Model.fit`, which supports generators.\n",
            "  history = model.fit_generator(\n"
          ]
        },
        {
          "output_type": "stream",
          "name": "stdout",
          "text": [
            "Epoch 1/30\n",
            "10/10 [==============================] - 13s 1s/step - loss: 1.1600 - acc: 0.2947 - val_loss: 1.0955 - val_acc: 0.3400\n",
            "Epoch 2/30\n",
            "10/10 [==============================] - 11s 1s/step - loss: 1.1052 - acc: 0.3579 - val_loss: 1.0928 - val_acc: 0.3400\n",
            "Epoch 3/30\n",
            "10/10 [==============================] - 9s 938ms/step - loss: 1.2923 - acc: 0.3789 - val_loss: 1.0899 - val_acc: 0.4600\n",
            "Epoch 4/30\n",
            "10/10 [==============================] - 11s 1s/step - loss: 1.0926 - acc: 0.3789 - val_loss: 1.0690 - val_acc: 0.6800\n",
            "Epoch 5/30\n",
            "10/10 [==============================] - 11s 1s/step - loss: 1.0938 - acc: 0.4526 - val_loss: 1.0202 - val_acc: 0.7000\n",
            "Epoch 6/30\n",
            "10/10 [==============================] - 9s 998ms/step - loss: 1.0109 - acc: 0.5158 - val_loss: 0.9488 - val_acc: 0.4800\n",
            "Epoch 7/30\n",
            "10/10 [==============================] - 11s 1s/step - loss: 1.1145 - acc: 0.5053 - val_loss: 0.8887 - val_acc: 0.6000\n",
            "Epoch 8/30\n",
            "10/10 [==============================] - 11s 1s/step - loss: 0.9596 - acc: 0.5895 - val_loss: 0.7036 - val_acc: 0.6600\n",
            "Epoch 9/30\n",
            "10/10 [==============================] - 12s 1s/step - loss: 0.8541 - acc: 0.6421 - val_loss: 0.7586 - val_acc: 0.6600\n",
            "Epoch 10/30\n",
            "10/10 [==============================] - 10s 1s/step - loss: 0.8656 - acc: 0.6000 - val_loss: 0.6345 - val_acc: 0.6800\n",
            "Epoch 11/30\n",
            "10/10 [==============================] - 11s 1s/step - loss: 0.8640 - acc: 0.6000 - val_loss: 0.7179 - val_acc: 0.6200\n",
            "Epoch 12/30\n",
            "10/10 [==============================] - 9s 932ms/step - loss: 0.7398 - acc: 0.6737 - val_loss: 0.6100 - val_acc: 0.7800\n",
            "Epoch 13/30\n",
            "10/10 [==============================] - 11s 1s/step - loss: 0.7728 - acc: 0.5895 - val_loss: 0.6069 - val_acc: 0.7600\n",
            "Epoch 14/30\n",
            "10/10 [==============================] - 10s 954ms/step - loss: 0.7915 - acc: 0.6316 - val_loss: 0.5656 - val_acc: 0.7000\n",
            "Epoch 15/30\n",
            "10/10 [==============================] - 9s 907ms/step - loss: 0.8998 - acc: 0.6105 - val_loss: 0.6377 - val_acc: 0.7200\n",
            "Epoch 16/30\n",
            "10/10 [==============================] - 11s 1s/step - loss: 0.8088 - acc: 0.6105 - val_loss: 0.5087 - val_acc: 0.8000\n",
            "Epoch 17/30\n",
            "10/10 [==============================] - 11s 1s/step - loss: 0.7891 - acc: 0.6526 - val_loss: 0.6311 - val_acc: 0.7000\n",
            "Epoch 18/30\n",
            "10/10 [==============================] - 10s 955ms/step - loss: 0.7158 - acc: 0.7200 - val_loss: 0.5960 - val_acc: 0.7200\n",
            "Epoch 19/30\n",
            "10/10 [==============================] - 11s 1s/step - loss: 0.7740 - acc: 0.6000 - val_loss: 0.6222 - val_acc: 0.7400\n",
            "Epoch 20/30\n",
            "10/10 [==============================] - 8s 807ms/step - loss: 0.6286 - acc: 0.7263 - val_loss: 0.7724 - val_acc: 0.6400\n",
            "Epoch 21/30\n",
            "10/10 [==============================] - 12s 1s/step - loss: 0.6623 - acc: 0.7263 - val_loss: 0.9268 - val_acc: 0.5800\n",
            "Epoch 22/30\n",
            "10/10 [==============================] - 10s 1s/step - loss: 0.6827 - acc: 0.7158 - val_loss: 0.4362 - val_acc: 0.8000\n",
            "Epoch 23/30\n",
            "10/10 [==============================] - 9s 933ms/step - loss: 0.7725 - acc: 0.7579 - val_loss: 0.4319 - val_acc: 0.8400\n",
            "Epoch 24/30\n",
            "10/10 [==============================] - 10s 941ms/step - loss: 0.6161 - acc: 0.7474 - val_loss: 0.5876 - val_acc: 0.7400\n",
            "Epoch 25/30\n",
            "10/10 [==============================] - 10s 1s/step - loss: 0.7460 - acc: 0.7263 - val_loss: 0.4134 - val_acc: 0.8400\n",
            "Epoch 26/30\n",
            "10/10 [==============================] - 10s 1s/step - loss: 0.4802 - acc: 0.8316 - val_loss: 0.3758 - val_acc: 0.8600\n",
            "Epoch 27/30\n",
            "10/10 [==============================] - 8s 808ms/step - loss: 0.8960 - acc: 0.6632 - val_loss: 0.4945 - val_acc: 0.7400\n",
            "Epoch 28/30\n",
            "10/10 [==============================] - 10s 1s/step - loss: 0.5092 - acc: 0.8211 - val_loss: 0.5925 - val_acc: 0.7400\n",
            "Epoch 29/30\n",
            "10/10 [==============================] - 10s 951ms/step - loss: 0.4757 - acc: 0.8105 - val_loss: 1.4206 - val_acc: 0.4400\n",
            "Epoch 30/30\n",
            "10/10 [==============================] - 13s 1s/step - loss: 0.6523 - acc: 0.7474 - val_loss: 0.3433 - val_acc: 0.8800\n"
          ]
        }
      ]
    },
    {
      "cell_type": "code",
      "source": [
        "model.save('MODEL_2.h5')"
      ],
      "metadata": {
        "id": "1E3nqTa5pKKw"
      },
      "execution_count": 46,
      "outputs": []
    },
    {
      "cell_type": "code",
      "source": [
        "acc = history.history['acc']\n",
        "val_acc = history.history['val_acc']\n",
        "loss = history.history['loss']\n",
        "val_loss = history.history['val_loss']\n",
        "\n",
        "epochs = range(len(acc))\n",
        "\n",
        "plt.plot(epochs, acc, 'bo', label='Training acc')\n",
        "plt.plot(epochs, val_acc, 'b', label='Validation acc')\n",
        "plt.title('Training and validation accuracy')\n",
        "plt.legend()\n",
        "\n",
        "plt.figure()\n",
        "\n",
        "plt.plot(epochs, loss, 'bo', label='Training loss')\n",
        "plt.plot(epochs, val_loss, 'b', label='Validation loss')\n",
        "plt.title('Training and validation loss')\n",
        "plt.legend()\n",
        "\n",
        "plt.show()"
      ],
      "metadata": {
        "id": "2cRYjf_LpQ9X",
        "outputId": "714fd5d0-aa40-4441-9848-8a982a529ca6",
        "colab": {
          "base_uri": "https://localhost:8080/",
          "height": 887
        }
      },
      "execution_count": 47,
      "outputs": [
        {
          "output_type": "display_data",
          "data": {
            "text/plain": [
              "<Figure size 640x480 with 1 Axes>"
            ],
            "image/png": "[encoded data removed]"
          },
          "metadata": {}
        },
        {
          "output_type": "display_data",
          "data": {
            "text/plain": [
              "<Figure size 640x480 with 1 Axes>"
            ],
            "image/png": "[encoded data removed]"
          },
          "metadata": {}
        }
      ]
    },
    {
      "cell_type": "markdown",
      "source": [
        "MODEL 3"
      ],
      "metadata": {
        "id": "LIKBb0DvpwD_"
      }
    },
    {
      "cell_type": "code",
      "source": [
        "from keras.applications import VGG16\n",
        "\n",
        "conv_base = VGG16(weights='imagenet',\n",
        "                  include_top=False,\n",
        "                  input_shape=(150, 150, 3))"
      ],
      "metadata": {
        "id": "CvvLrC1mpyGu",
        "outputId": "86e5a0be-db87-440e-e1a9-4c8f641e7768",
        "colab": {
          "base_uri": "https://localhost:8080/"
        }
      },
      "execution_count": 48,
      "outputs": [
        {
          "output_type": "stream",
          "name": "stdout",
          "text": [
            "Downloading data from https://storage.googleapis.com/tensorflow/keras-applications/vgg16/vgg16_weights_tf_dim_ordering_tf_kernels_notop.h5\n",
            "58889256/58889256 [==============================] - 0s 0us/step\n"
          ]
        }
      ]
    },
    {
      "cell_type": "code",
      "source": [
        "conv_base.summary()"
      ],
      "metadata": {
        "id": "3Mo0pWo_p4b_",
        "outputId": "02581f34-686a-4dfc-9deb-f76b8c0910d2",
        "colab": {
          "base_uri": "https://localhost:8080/"
        }
      },
      "execution_count": 49,
      "outputs": [
        {
          "output_type": "stream",
          "name": "stdout",
          "text": [
            "Model: \"vgg16\"\n",
            "_________________________________________________________________\n",
            " Layer (type)                Output Shape              Param #   \n",
            "=================================================================\n",
            " input_1 (InputLayer)        [(None, 150, 150, 3)]     0         \n",
            "                                                                 \n",
            " block1_conv1 (Conv2D)       (None, 150, 150, 64)      1792      \n",
            "                                                                 \n",
            " block1_conv2 (Conv2D)       (None, 150, 150, 64)      36928     \n",
            "                                                                 \n",
            " block1_pool (MaxPooling2D)  (None, 75, 75, 64)        0         \n",
            "                                                                 \n",
            " block2_conv1 (Conv2D)       (None, 75, 75, 128)       73856     \n",
            "                                                                 \n",
            " block2_conv2 (Conv2D)       (None, 75, 75, 128)       147584    \n",
            "                                                                 \n",
            " block2_pool (MaxPooling2D)  (None, 37, 37, 128)       0         \n",
            "                                                                 \n",
            " block3_conv1 (Conv2D)       (None, 37, 37, 256)       295168    \n",
            "                                                                 \n",
            " block3_conv2 (Conv2D)       (None, 37, 37, 256)       590080    \n",
            "                                                                 \n",
            " block3_conv3 (Conv2D)       (None, 37, 37, 256)       590080    \n",
            "                                                                 \n",
            " block3_pool (MaxPooling2D)  (None, 18, 18, 256)       0         \n",
            "                                                                 \n",
            " block4_conv1 (Conv2D)       (None, 18, 18, 512)       1180160   \n",
            "                                                                 \n",
            " block4_conv2 (Conv2D)       (None, 18, 18, 512)       2359808   \n",
            "                                                                 \n",
            " block4_conv3 (Conv2D)       (None, 18, 18, 512)       2359808   \n",
            "                                                                 \n",
            " block4_pool (MaxPooling2D)  (None, 9, 9, 512)         0         \n",
            "                                                                 \n",
            " block5_conv1 (Conv2D)       (None, 9, 9, 512)         2359808   \n",
            "                                                                 \n",
            " block5_conv2 (Conv2D)       (None, 9, 9, 512)         2359808   \n",
            "                                                                 \n",
            " block5_conv3 (Conv2D)       (None, 9, 9, 512)         2359808   \n",
            "                                                                 \n",
            " block5_pool (MaxPooling2D)  (None, 4, 4, 512)         0         \n",
            "                                                                 \n",
            "=================================================================\n",
            "Total params: 14714688 (56.13 MB)\n",
            "Trainable params: 14714688 (56.13 MB)\n",
            "Non-trainable params: 0 (0.00 Byte)\n",
            "_________________________________________________________________\n"
          ]
        }
      ]
    },
    {
      "cell_type": "code",
      "source": [
        "train_dir = '/content/train/'\n",
        "validation_dir = '/content/validation/'\n",
        "test_dir = '/content/test/'\n",
        "\n",
        "datagen = ImageDataGenerator(rescale=1./255)\n",
        "#batch_size = 10\n",
        "\n",
        "def extract_features(directory, sample_count, batch_size):\n",
        "    features = np.zeros(shape=(sample_count, 4, 4, 512))\n",
        "    labels = np.zeros(shape=(sample_count, 3))\n",
        "    generator = datagen.flow_from_directory(\n",
        "        directory,\n",
        "        target_size=(150, 150),\n",
        "        batch_size=batch_size,\n",
        "        class_mode='categorical')\n",
        "    i = 0\n",
        "    for inputs_batch, labels_batch in generator:\n",
        "        features_batch = conv_base.predict(inputs_batch)\n",
        "        features[i * batch_size : (i + 1) * batch_size] = features_batch\n",
        "        labels[i * batch_size : (i + 1) * batch_size] = labels_batch\n",
        "        i += 1\n",
        "        if i * batch_size >= sample_count:\n",
        "            # Note that since generators yield data indefinitely in a loop,\n",
        "            # we must `break` after every image has been seen once.\n",
        "            break\n",
        "    return features, labels\n",
        "\n",
        "train_features, train_labels = extract_features(train_dir, 35, 5)\n",
        "validation_features, validation_labels = extract_features(validation_dir, 18, 9)\n",
        "test_features, test_labels = extract_features(test_dir, 17, 17)"
      ],
      "metadata": {
        "id": "buo3_dW6p7df",
        "outputId": "7522a43b-a142-43b8-e2e6-91b3a066c75a",
        "colab": {
          "base_uri": "https://localhost:8080/"
        }
      },
      "execution_count": 50,
      "outputs": [
        {
          "output_type": "stream",
          "name": "stdout",
          "text": [
            "Found 105 images belonging to 3 classes.\n",
            "1/1 [==============================] - 1s 1s/step\n",
            "1/1 [==============================] - 1s 1s/step\n",
            "1/1 [==============================] - 1s 1s/step\n",
            "1/1 [==============================] - 1s 1s/step\n",
            "1/1 [==============================] - 1s 1s/step\n",
            "1/1 [==============================] - 1s 1s/step\n",
            "1/1 [==============================] - 1s 1s/step\n",
            "Found 54 images belonging to 3 classes.\n",
            "1/1 [==============================] - 4s 4s/step\n",
            "1/1 [==============================] - 3s 3s/step\n",
            "Found 51 images belonging to 3 classes.\n",
            "1/1 [==============================] - 4s 4s/step\n"
          ]
        }
      ]
    },
    {
      "cell_type": "code",
      "source": [
        "train_features = np.reshape(train_features, (35, 4 * 4 * 512))\n",
        "validation_features = np.reshape(validation_features, (18, 4 * 4 * 512))\n",
        "test_features = np.reshape(test_features, (17, 4 * 4 * 512))"
      ],
      "metadata": {
        "id": "wf3qRB3btZn0"
      },
      "execution_count": 51,
      "outputs": []
    },
    {
      "cell_type": "code",
      "source": [
        "model = models.Sequential()\n",
        "model.add(layers.Dense(256, activation='relu', input_dim=4 * 4 * 512))\n",
        "model.add(layers.Dropout(0.5))\n",
        "model.add(layers.Dense(3, activation='softmax'))\n",
        "\n",
        "model.compile(optimizer=optimizers.RMSprop(lr=2e-5),\n",
        "              loss='categorical_crossentropy',\n",
        "              metrics=['acc'])\n",
        "\n",
        "history = model.fit(train_features, train_labels,\n",
        "                    epochs=30,\n",
        "                    batch_size=20,\n",
        "                    validation_data=(validation_features, validation_labels))"
      ],
      "metadata": {
        "id": "yi13MmFItl9S",
        "outputId": "33b49fee-e682-409b-9312-68b3d516a60b",
        "colab": {
          "base_uri": "https://localhost:8080/"
        }
      },
      "execution_count": 52,
      "outputs": [
        {
          "output_type": "stream",
          "name": "stderr",
          "text": [
            "WARNING:absl:`lr` is deprecated in Keras optimizer, please use `learning_rate` or use the legacy optimizer, e.g.,tf.keras.optimizers.legacy.RMSprop.\n"
          ]
        },
        {
          "output_type": "stream",
          "name": "stdout",
          "text": [
            "Epoch 1/30\n",
            "2/2 [==============================] - 1s 211ms/step - loss: 8.0275 - acc: 0.3429 - val_loss: 2.0482 - val_acc: 0.3333\n",
            "Epoch 2/30\n",
            "2/2 [==============================] - 0s 48ms/step - loss: 2.7527 - acc: 0.3714 - val_loss: 0.7808 - val_acc: 0.7222\n",
            "Epoch 3/30\n",
            "2/2 [==============================] - 0s 49ms/step - loss: 0.7390 - acc: 0.7429 - val_loss: 2.5664 - val_acc: 0.4444\n",
            "Epoch 4/30\n",
            "2/2 [==============================] - 0s 50ms/step - loss: 1.2577 - acc: 0.6286 - val_loss: 0.5727 - val_acc: 0.7778\n",
            "Epoch 5/30\n",
            "2/2 [==============================] - 0s 64ms/step - loss: 0.4510 - acc: 0.8571 - val_loss: 0.9576 - val_acc: 0.7222\n",
            "Epoch 6/30\n",
            "2/2 [==============================] - 0s 71ms/step - loss: 0.3479 - acc: 0.8571 - val_loss: 0.5351 - val_acc: 0.7222\n",
            "Epoch 7/30\n",
            "2/2 [==============================] - 0s 54ms/step - loss: 0.1893 - acc: 0.9143 - val_loss: 0.4788 - val_acc: 0.7778\n",
            "Epoch 8/30\n",
            "2/2 [==============================] - 0s 52ms/step - loss: 0.2647 - acc: 0.8857 - val_loss: 0.6876 - val_acc: 0.7222\n",
            "Epoch 9/30\n",
            "2/2 [==============================] - 0s 52ms/step - loss: 0.3353 - acc: 0.8857 - val_loss: 1.2163 - val_acc: 0.5000\n",
            "Epoch 10/30\n",
            "2/2 [==============================] - 0s 50ms/step - loss: 0.5157 - acc: 0.8000 - val_loss: 0.5213 - val_acc: 0.7778\n",
            "Epoch 11/30\n",
            "2/2 [==============================] - 0s 52ms/step - loss: 0.1278 - acc: 0.9714 - val_loss: 0.5705 - val_acc: 0.7778\n",
            "Epoch 12/30\n",
            "2/2 [==============================] - 0s 50ms/step - loss: 0.1001 - acc: 0.9714 - val_loss: 0.6389 - val_acc: 0.7222\n",
            "Epoch 13/30\n",
            "2/2 [==============================] - 0s 49ms/step - loss: 0.0951 - acc: 0.9429 - val_loss: 0.4590 - val_acc: 0.8333\n",
            "Epoch 14/30\n",
            "2/2 [==============================] - 0s 74ms/step - loss: 0.0894 - acc: 0.9714 - val_loss: 0.6606 - val_acc: 0.7778\n",
            "Epoch 15/30\n",
            "2/2 [==============================] - 0s 83ms/step - loss: 0.0882 - acc: 1.0000 - val_loss: 0.6582 - val_acc: 0.7778\n",
            "Epoch 16/30\n",
            "2/2 [==============================] - 0s 88ms/step - loss: 0.2576 - acc: 0.9143 - val_loss: 1.1404 - val_acc: 0.5556\n",
            "Epoch 17/30\n",
            "2/2 [==============================] - 0s 67ms/step - loss: 0.2473 - acc: 0.8857 - val_loss: 0.5397 - val_acc: 0.7222\n",
            "Epoch 18/30\n",
            "2/2 [==============================] - 0s 71ms/step - loss: 0.0611 - acc: 1.0000 - val_loss: 0.4448 - val_acc: 0.8333\n",
            "Epoch 19/30\n",
            "2/2 [==============================] - 0s 84ms/step - loss: 0.0311 - acc: 1.0000 - val_loss: 0.5360 - val_acc: 0.7778\n",
            "Epoch 20/30\n",
            "2/2 [==============================] - 0s 87ms/step - loss: 0.0301 - acc: 1.0000 - val_loss: 0.5233 - val_acc: 0.7222\n",
            "Epoch 21/30\n",
            "2/2 [==============================] - 0s 90ms/step - loss: 0.0191 - acc: 1.0000 - val_loss: 0.4698 - val_acc: 0.7778\n",
            "Epoch 22/30\n",
            "2/2 [==============================] - 0s 77ms/step - loss: 0.0194 - acc: 1.0000 - val_loss: 0.5269 - val_acc: 0.7222\n",
            "Epoch 23/30\n",
            "2/2 [==============================] - 0s 66ms/step - loss: 0.0438 - acc: 0.9714 - val_loss: 0.5569 - val_acc: 0.7778\n",
            "Epoch 24/30\n",
            "2/2 [==============================] - 0s 66ms/step - loss: 0.0415 - acc: 1.0000 - val_loss: 0.7599 - val_acc: 0.7222\n",
            "Epoch 25/30\n",
            "2/2 [==============================] - 0s 78ms/step - loss: 0.0628 - acc: 1.0000 - val_loss: 0.5462 - val_acc: 0.7222\n",
            "Epoch 26/30\n",
            "2/2 [==============================] - 0s 72ms/step - loss: 0.0256 - acc: 1.0000 - val_loss: 0.5581 - val_acc: 0.8333\n",
            "Epoch 27/30\n",
            "2/2 [==============================] - 0s 81ms/step - loss: 0.0177 - acc: 1.0000 - val_loss: 0.5167 - val_acc: 0.7222\n",
            "Epoch 28/30\n",
            "2/2 [==============================] - 0s 85ms/step - loss: 0.0405 - acc: 1.0000 - val_loss: 0.6058 - val_acc: 0.8333\n",
            "Epoch 29/30\n",
            "2/2 [==============================] - 0s 67ms/step - loss: 0.0153 - acc: 1.0000 - val_loss: 0.5415 - val_acc: 0.7778\n",
            "Epoch 30/30\n",
            "2/2 [==============================] - 0s 82ms/step - loss: 0.0264 - acc: 1.0000 - val_loss: 0.5085 - val_acc: 0.7778\n"
          ]
        }
      ]
    },
    {
      "cell_type": "code",
      "source": [
        "model.save('MODEL_3.h5')"
      ],
      "metadata": {
        "id": "I64U0JdsuZyq"
      },
      "execution_count": 53,
      "outputs": []
    },
    {
      "cell_type": "code",
      "source": [
        "import matplotlib.pyplot as plt\n",
        "\n",
        "acc = history.history['acc']\n",
        "val_acc = history.history['val_acc']\n",
        "loss = history.history['loss']\n",
        "val_loss = history.history['val_loss']\n",
        "\n",
        "epochs = range(len(acc))\n",
        "\n",
        "plt.plot(epochs, acc, 'bo', label='Training acc')\n",
        "plt.plot(epochs, val_acc, 'b', label='Validation acc')\n",
        "plt.title('Training and validation accuracy')\n",
        "plt.legend()\n",
        "\n",
        "plt.figure()\n",
        "\n",
        "plt.plot(epochs, loss, 'bo', label='Training loss')\n",
        "plt.plot(epochs, val_loss, 'b', label='Validation loss')\n",
        "plt.title('Training and validation loss')\n",
        "plt.legend()\n",
        "\n",
        "plt.show()"
      ],
      "metadata": {
        "id": "PQuil1WsuAHT",
        "outputId": "ed1d89e6-245a-406d-a13b-5ee49ce18b44",
        "colab": {
          "base_uri": "https://localhost:8080/",
          "height": 887
        }
      },
      "execution_count": 54,
      "outputs": [
        {
          "output_type": "display_data",
          "data": {
            "text/plain": [
              "<Figure size 640x480 with 1 Axes>"
            ],
            "image/png": "[encoded data removed]"
          },
          "metadata": {}
        },
        {
          "output_type": "display_data",
          "data": {
            "text/plain": [
              "<Figure size 640x480 with 1 Axes>"
            ],
            "image/png": "[encoded data removed]"
          },
          "metadata": {}
        }
      ]
    }
  ]
}