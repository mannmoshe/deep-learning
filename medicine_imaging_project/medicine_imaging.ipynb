{
  "nbformat": 4,
  "nbformat_minor": 0,
  "metadata": {
    "colab": {
      "provenance": [],
      "authorship_tag": "ABX9TyMnmivKqs+GENO51ishH6JT",
      "include_colab_link": true
    },
    "kernelspec": {
      "name": "python3",
      "display_name": "Python 3"
    },
    "language_info": {
      "name": "python"
    }
  },
  "cells": [
    {
      "cell_type": "markdown",
      "metadata": {
        "id": "view-in-github",
        "colab_type": "text"
      },
      "source": [
        "<a href=\"https://colab.research.google.com/github/mannmoshe/deep-learning/blob/main/medicine_imaging_project/medicine_imaging.ipynb\" target=\"_parent\"><img src=\"https://colab.research.google.com/assets/colab-badge.svg\" alt=\"Open In Colab\"/></a>"
      ]
    },
    {
      "cell_type": "code",
      "execution_count": 1,
      "metadata": {
        "colab": {
          "base_uri": "https://localhost:8080/"
        },
        "id": "lH-ru-Y9tLd5",
        "outputId": "b909c6a5-d4f0-4951-aca4-8d77d3dc235a"
      },
      "outputs": [
        {
          "output_type": "stream",
          "name": "stdout",
          "text": [
            "Mounted at /content/gdrive\n"
          ]
        }
      ],
      "source": [
        "from google.colab import drive\n",
        "drive.mount('/content/gdrive')"
      ]
    },
    {
      "cell_type": "code",
      "source": [
        "import pathlib\n",
        "import imageio\n",
        "import numpy as np"
      ],
      "metadata": {
        "id": "3rFlPRnv2Lia"
      },
      "execution_count": 2,
      "outputs": []
    },
    {
      "cell_type": "code",
      "source": [
        "# Glob the training data and load a single image path\n",
        "training_paths = pathlib.Path('/content/gdrive/MyDrive/M.sc Data Mining/Medicine imaging/data').glob('01/*.jpeg')\n",
        "training_sorted = sorted([x for x in training_paths])"
      ],
      "metadata": {
        "id": "5pIY4YB01F9i"
      },
      "execution_count": 7,
      "outputs": []
    },
    {
      "cell_type": "code",
      "source": [
        "training_sorted[:5]"
      ],
      "metadata": {
        "colab": {
          "base_uri": "https://localhost:8080/"
        },
        "id": "J6RLNT_x2DMP",
        "outputId": "64fe0b3c-6854-4aa1-d6d2-7cc076894e61"
      },
      "execution_count": 9,
      "outputs": [
        {
          "output_type": "execute_result",
          "data": {
            "text/plain": [
              "[PosixPath('/content/gdrive/MyDrive/M.sc Data Mining/Medicine imaging/data/01/01.jpeg'),\n",
              " PosixPath('/content/gdrive/MyDrive/M.sc Data Mining/Medicine imaging/data/01/010.jpeg'),\n",
              " PosixPath('/content/gdrive/MyDrive/M.sc Data Mining/Medicine imaging/data/01/011.jpeg'),\n",
              " PosixPath('/content/gdrive/MyDrive/M.sc Data Mining/Medicine imaging/data/01/012.jpeg'),\n",
              " PosixPath('/content/gdrive/MyDrive/M.sc Data Mining/Medicine imaging/data/01/013.jpeg')]"
            ]
          },
          "metadata": {},
          "execution_count": 9
        }
      ]
    },
    {
      "cell_type": "code",
      "source": [
        "im = imageio.imread(training_sorted[0])"
      ],
      "metadata": {
        "id": "cQ77TxPs2lQW",
        "outputId": "cf45fe53-1e08-4563-c329-a6f15f394c5d",
        "colab": {
          "base_uri": "https://localhost:8080/"
        }
      },
      "execution_count": 11,
      "outputs": [
        {
          "output_type": "stream",
          "name": "stderr",
          "text": [
            "<ipython-input-11-abd02c7cdc1f>:1: DeprecationWarning: Starting with ImageIO v3 the behavior of this function will switch to that of iio.v3.imread. To keep the current behavior (and make this warning disappear) use `import imageio.v2 as imageio` or call `imageio.v2.imread` directly.\n",
            "  im = imageio.imread(training_sorted[0])\n"
          ]
        }
      ]
    },
    {
      "cell_type": "code",
      "source": [
        "im.shape"
      ],
      "metadata": {
        "colab": {
          "base_uri": "https://localhost:8080/"
        },
        "id": "J1SixSSL2wJK",
        "outputId": "bfcdaa4f-c45e-4c37-90ea-a9d862449489"
      },
      "execution_count": 12,
      "outputs": [
        {
          "output_type": "execute_result",
          "data": {
            "text/plain": [
              "(1333, 1582, 3)"
            ]
          },
          "metadata": {},
          "execution_count": 12
        }
      ]
    },
    {
      "cell_type": "code",
      "source": [],
      "metadata": {
        "id": "nVH8LiT7rJNo"
      },
      "execution_count": null,
      "outputs": []
    }
  ]
}