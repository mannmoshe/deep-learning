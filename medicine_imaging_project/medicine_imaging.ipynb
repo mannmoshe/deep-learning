{
  "nbformat": 4,
  "nbformat_minor": 0,
  "metadata": {
    "colab": {
      "provenance": [],
      "authorship_tag": "ABX9TyMnc1bqSIuQ94M7tt35SEc2",
      "include_colab_link": true
    },
    "kernelspec": {
      "name": "python3",
      "display_name": "Python 3"
    },
    "language_info": {
      "name": "python"
    }
  },
  "cells": [
    {
      "cell_type": "markdown",
      "metadata": {
        "id": "view-in-github",
        "colab_type": "text"
      },
      "source": [
        "<a href=\"https://colab.research.google.com/github/mannmoshe/deep-learning/blob/main/medicine_imaging_project/medicine_imaging.ipynb\" target=\"_parent\"><img src=\"https://colab.research.google.com/assets/colab-badge.svg\" alt=\"Open In Colab\"/></a>"
      ]
    },
    {
      "cell_type": "code",
      "execution_count": 1,
      "metadata": {
        "colab": {
          "base_uri": "https://localhost:8080/"
        },
        "id": "lH-ru-Y9tLd5",
        "outputId": "2feadcfb-c5ba-43f0-c2c8-777d94e69e11"
      },
      "outputs": [
        {
          "output_type": "stream",
          "name": "stdout",
          "text": [
            "Mounted at /content/gdrive\n"
          ]
        }
      ],
      "source": [
        "from google.colab import drive\n",
        "drive.mount('/content/gdrive')"
      ]
    },
    {
      "cell_type": "code",
      "source": [
        "import os\n",
        "import shutil\n",
        "import pathlib\n",
        "import imageio\n",
        "import numpy as np\n",
        "import tensorflow as tf\n",
        "from keras.preprocessing.image import ImageDataGenerator"
      ],
      "metadata": {
        "id": "3rFlPRnv2Lia"
      },
      "execution_count": 2,
      "outputs": []
    },
    {
      "cell_type": "code",
      "source": [
        "tf.__version__"
      ],
      "metadata": {
        "id": "JnhDqWC_AJcW",
        "outputId": "8cc77f82-b9d8-48dd-f00c-594e46931072",
        "colab": {
          "base_uri": "https://localhost:8080/",
          "height": 35
        }
      },
      "execution_count": 3,
      "outputs": [
        {
          "output_type": "execute_result",
          "data": {
            "text/plain": [
              "'2.12.0'"
            ],
            "application/vnd.google.colaboratory.intrinsic+json": {
              "type": "string"
            }
          },
          "metadata": {},
          "execution_count": 3
        }
      ]
    },
    {
      "cell_type": "markdown",
      "source": [
        "create directories"
      ],
      "metadata": {
        "id": "ug_JCF89f2u3"
      }
    },
    {
      "cell_type": "code",
      "source": [
        "!mkdir train\n",
        "!mkdir validation\n",
        "!mkdir test"
      ],
      "metadata": {
        "id": "Z13-B89_fZ-b"
      },
      "execution_count": 4,
      "outputs": []
    },
    {
      "cell_type": "markdown",
      "source": [
        "create subdirectories for each class"
      ],
      "metadata": {
        "id": "04J6sx_QgVEs"
      }
    },
    {
      "cell_type": "code",
      "source": [
        "!mkdir train/01\n",
        "!mkdir train/02\n",
        "!mkdir train/03\n",
        "\n",
        "!mkdir validation/01\n",
        "!mkdir validation/02\n",
        "!mkdir validation/03\n",
        "\n",
        "!mkdir test/01\n",
        "!mkdir test/02\n",
        "!mkdir test/03"
      ],
      "metadata": {
        "id": "MprswvHyf7SW"
      },
      "execution_count": 5,
      "outputs": []
    },
    {
      "cell_type": "markdown",
      "source": [
        "NOTE: For running the model on your computer, please change the pathes below according to the location in your drive."
      ],
      "metadata": {
        "id": "lRzPNjX4Yf8l"
      }
    },
    {
      "cell_type": "code",
      "source": [
        "class1_path = '/content/gdrive/MyDrive/M.sc Data Mining/Medicine imaging/data/01/'\n",
        "class2_path = '/content/gdrive/MyDrive/M.sc Data Mining/Medicine imaging/data/02/'\n",
        "class3_path = '/content/gdrive/MyDrive/M.sc Data Mining/Medicine imaging/data/03/'"
      ],
      "metadata": {
        "id": "xhwua4rmtr5F"
      },
      "execution_count": 6,
      "outputs": []
    },
    {
      "cell_type": "code",
      "source": [
        "class1_files = os.listdir(class1_path)\n",
        "class2_files = os.listdir(class2_path)\n",
        "class3_files = os.listdir(class3_path)"
      ],
      "metadata": {
        "id": "Qi8Dlo8jqxtE"
      },
      "execution_count": 7,
      "outputs": []
    },
    {
      "cell_type": "code",
      "source": [
        "class1_files_sorted = sorted([x for x in class1_files])\n",
        "class2_files_sorted = sorted([x for x in class2_files])\n",
        "class3_files_sorted = sorted([x for x in class3_files])"
      ],
      "metadata": {
        "id": "RIyvAUfwrJxb"
      },
      "execution_count": 8,
      "outputs": []
    },
    {
      "cell_type": "code",
      "source": [
        "class1_files_sorted[:5]"
      ],
      "metadata": {
        "colab": {
          "base_uri": "https://localhost:8080/"
        },
        "id": "zKF9ho8kq3Vs",
        "outputId": "5d6cf6cb-bfd8-49e9-d9c7-b52e026f0a49"
      },
      "execution_count": 9,
      "outputs": [
        {
          "output_type": "execute_result",
          "data": {
            "text/plain": [
              "['01.jpeg', '010.jpeg', '011.jpeg', '012.jpeg', '013.jpeg']"
            ]
          },
          "metadata": {},
          "execution_count": 9
        }
      ]
    },
    {
      "cell_type": "code",
      "source": [
        "print(len(class1_files_sorted), len(class2_files_sorted), len(class3_files_sorted))"
      ],
      "metadata": {
        "colab": {
          "base_uri": "https://localhost:8080/"
        },
        "id": "fPE-ZxhcsijW",
        "outputId": "60327d96-e2b7-43e2-e991-035f9105e48a"
      },
      "execution_count": 10,
      "outputs": [
        {
          "output_type": "stream",
          "name": "stdout",
          "text": [
            "70 70 111\n"
          ]
        }
      ]
    },
    {
      "cell_type": "markdown",
      "source": [
        "split class 1 to train, validation and test"
      ],
      "metadata": {
        "id": "_pqOlA9UxN00"
      }
    },
    {
      "cell_type": "code",
      "source": [
        "for f in class1_files_sorted[:35]:\n",
        "  src = os.path.join(class1_path, f)\n",
        "  dst = os.path.join('/content/train/01/', f)\n",
        "  shutil.copyfile(src, dst)"
      ],
      "metadata": {
        "id": "JziNzpIVhSm8"
      },
      "execution_count": 11,
      "outputs": []
    },
    {
      "cell_type": "code",
      "source": [
        "for f in class1_files_sorted[35:53]:\n",
        "  src = os.path.join(class1_path, f)\n",
        "  dst = os.path.join('/content/validation/01/', f)\n",
        "  shutil.copyfile(src, dst)"
      ],
      "metadata": {
        "id": "hWiWoxRHvlJx"
      },
      "execution_count": 12,
      "outputs": []
    },
    {
      "cell_type": "code",
      "source": [
        "for f in class1_files_sorted[53:]:\n",
        "  src = os.path.join(class1_path, f)\n",
        "  dst = os.path.join('/content/test/01/', f)\n",
        "  shutil.copyfile(src, dst)"
      ],
      "metadata": {
        "id": "GT_QFsMVvmn5"
      },
      "execution_count": 13,
      "outputs": []
    },
    {
      "cell_type": "markdown",
      "source": [
        "split class 2 to train, validation and test"
      ],
      "metadata": {
        "id": "88kecgbexVkp"
      }
    },
    {
      "cell_type": "code",
      "source": [
        "for f in class2_files_sorted[:35]:\n",
        "  src = os.path.join(class2_path, f)\n",
        "  dst = os.path.join('/content/train/02/', f)\n",
        "  shutil.copyfile(src, dst)"
      ],
      "metadata": {
        "id": "eJoqFi6iwJOw"
      },
      "execution_count": 14,
      "outputs": []
    },
    {
      "cell_type": "code",
      "source": [
        "for f in class2_files_sorted[35:53]:\n",
        "  src = os.path.join(class2_path, f)\n",
        "  dst = os.path.join('/content/validation/02/', f)\n",
        "  shutil.copyfile(src, dst)"
      ],
      "metadata": {
        "id": "TFIN8icqwO_o"
      },
      "execution_count": 15,
      "outputs": []
    },
    {
      "cell_type": "code",
      "source": [
        "for f in class2_files_sorted[53:]:\n",
        "  src = os.path.join(class2_path, f)\n",
        "  dst = os.path.join('/content/test/02/', f)\n",
        "  shutil.copyfile(src, dst)"
      ],
      "metadata": {
        "id": "XYgoXAanwTci"
      },
      "execution_count": 16,
      "outputs": []
    },
    {
      "cell_type": "markdown",
      "source": [
        "split class 3 to train, validation and test"
      ],
      "metadata": {
        "id": "4hINMLRRxXcH"
      }
    },
    {
      "cell_type": "code",
      "source": [
        "for f in class3_files_sorted[:35]:\n",
        "  src = os.path.join(class3_path, f)\n",
        "  dst = os.path.join('/content/train/03/', f)\n",
        "  shutil.copyfile(src, dst)"
      ],
      "metadata": {
        "id": "jMB-cjrAwjTv"
      },
      "execution_count": 17,
      "outputs": []
    },
    {
      "cell_type": "code",
      "source": [
        "for f in class3_files_sorted[35:53]:\n",
        "  src = os.path.join(class3_path, f)\n",
        "  dst = os.path.join('/content/validation/03/', f)\n",
        "  shutil.copyfile(src, dst)"
      ],
      "metadata": {
        "id": "7yHm2CR1wrT9"
      },
      "execution_count": 18,
      "outputs": []
    },
    {
      "cell_type": "code",
      "source": [
        "for f in class3_files_sorted[53:70]:\n",
        "  src = os.path.join(class3_path, f)\n",
        "  dst = os.path.join('/content/test/03/', f)\n",
        "  shutil.copyfile(src, dst)"
      ],
      "metadata": {
        "id": "LGELr4FuwvGl"
      },
      "execution_count": 19,
      "outputs": []
    },
    {
      "cell_type": "code",
      "source": [
        "print(len(os.listdir('/content/train/01/')), len(os.listdir('/content/train/02/')), len(os.listdir('/content/train/03/')))"
      ],
      "metadata": {
        "colab": {
          "base_uri": "https://localhost:8080/"
        },
        "id": "bZVvLtUyyFzD",
        "outputId": "1aeb6437-c021-422a-cec4-29420073815a"
      },
      "execution_count": 20,
      "outputs": [
        {
          "output_type": "stream",
          "name": "stdout",
          "text": [
            "35 35 35\n"
          ]
        }
      ]
    },
    {
      "cell_type": "code",
      "source": [
        "print(len(os.listdir('/content/validation/01/')), len(os.listdir('/content/validation/02/')), len(os.listdir('/content/validation/03/')))"
      ],
      "metadata": {
        "colab": {
          "base_uri": "https://localhost:8080/"
        },
        "id": "RI0J_tFtyaUz",
        "outputId": "497bc40e-db3b-44bf-c07a-6a7ba589887f"
      },
      "execution_count": 21,
      "outputs": [
        {
          "output_type": "stream",
          "name": "stdout",
          "text": [
            "18 18 18\n"
          ]
        }
      ]
    },
    {
      "cell_type": "code",
      "source": [
        "print(len(os.listdir('/content/test/01/')), len(os.listdir('/content/test/02/')), len(os.listdir('/content/test/03/')))"
      ],
      "metadata": {
        "colab": {
          "base_uri": "https://localhost:8080/"
        },
        "id": "w2mpEiGOyiXi",
        "outputId": "cf30538f-4796-418a-9194-bac7ccd3b651"
      },
      "execution_count": 22,
      "outputs": [
        {
          "output_type": "stream",
          "name": "stdout",
          "text": [
            "17 17 17\n"
          ]
        }
      ]
    },
    {
      "cell_type": "markdown",
      "source": [
        "MODEL 1: Build network"
      ],
      "metadata": {
        "id": "Xa_vuTzAzaXz"
      }
    },
    {
      "cell_type": "code",
      "source": [
        "from keras import layers\n",
        "from keras import models\n",
        "\n",
        "model = models.Sequential()\n",
        "model.add(layers.Conv2D(32, (3, 3), activation='relu',\n",
        "                        input_shape=(150, 150, 3)))\n",
        "model.add(layers.MaxPooling2D((2, 2)))\n",
        "model.add(layers.Conv2D(64, (3, 3), activation='relu'))\n",
        "model.add(layers.MaxPooling2D((2, 2)))\n",
        "model.add(layers.Conv2D(128, (3, 3), activation='relu'))\n",
        "model.add(layers.MaxPooling2D((2, 2)))\n",
        "model.add(layers.Conv2D(128, (3, 3), activation='relu'))\n",
        "model.add(layers.MaxPooling2D((2, 2)))\n",
        "model.add(layers.Flatten())\n",
        "model.add(layers.Dense(512, activation='relu'))\n",
        "model.add(layers.Dense(3, activation='softmax'))"
      ],
      "metadata": {
        "id": "31R07pugzewN"
      },
      "execution_count": 23,
      "outputs": []
    },
    {
      "cell_type": "code",
      "source": [
        "model.summary()"
      ],
      "metadata": {
        "colab": {
          "base_uri": "https://localhost:8080/"
        },
        "id": "xvIVAPfyzp4B",
        "outputId": "a978f1fb-4411-4ce3-91b5-d13a923014a8"
      },
      "execution_count": 24,
      "outputs": [
        {
          "output_type": "stream",
          "name": "stdout",
          "text": [
            "Model: \"sequential\"\n",
            "_________________________________________________________________\n",
            " Layer (type)                Output Shape              Param #   \n",
            "=================================================================\n",
            " conv2d (Conv2D)             (None, 148, 148, 32)      896       \n",
            "                                                                 \n",
            " max_pooling2d (MaxPooling2D  (None, 74, 74, 32)       0         \n",
            " )                                                               \n",
            "                                                                 \n",
            " conv2d_1 (Conv2D)           (None, 72, 72, 64)        18496     \n",
            "                                                                 \n",
            " max_pooling2d_1 (MaxPooling  (None, 36, 36, 64)       0         \n",
            " 2D)                                                             \n",
            "                                                                 \n",
            " conv2d_2 (Conv2D)           (None, 34, 34, 128)       73856     \n",
            "                                                                 \n",
            " max_pooling2d_2 (MaxPooling  (None, 17, 17, 128)      0         \n",
            " 2D)                                                             \n",
            "                                                                 \n",
            " conv2d_3 (Conv2D)           (None, 15, 15, 128)       147584    \n",
            "                                                                 \n",
            " max_pooling2d_3 (MaxPooling  (None, 7, 7, 128)        0         \n",
            " 2D)                                                             \n",
            "                                                                 \n",
            " flatten (Flatten)           (None, 6272)              0         \n",
            "                                                                 \n",
            " dense (Dense)               (None, 512)               3211776   \n",
            "                                                                 \n",
            " dense_1 (Dense)             (None, 3)                 1539      \n",
            "                                                                 \n",
            "=================================================================\n",
            "Total params: 3,454,147\n",
            "Trainable params: 3,454,147\n",
            "Non-trainable params: 0\n",
            "_________________________________________________________________\n"
          ]
        }
      ]
    },
    {
      "cell_type": "code",
      "source": [
        "from keras import optimizers\n",
        "\n",
        "model.compile(loss='categorical_crossentropy',\n",
        "              optimizer=optimizers.RMSprop(lr=1e-4),\n",
        "              metrics=['acc'])"
      ],
      "metadata": {
        "id": "qB8pF5jVzsYW",
        "outputId": "7124cfdc-f7b7-418f-d7e5-fbfc5a6237be",
        "colab": {
          "base_uri": "https://localhost:8080/"
        }
      },
      "execution_count": 25,
      "outputs": [
        {
          "output_type": "stream",
          "name": "stderr",
          "text": [
            "/usr/local/lib/python3.10/dist-packages/keras/optimizers/legacy/rmsprop.py:143: UserWarning: The `lr` argument is deprecated, use `learning_rate` instead.\n",
            "  super().__init__(name, **kwargs)\n"
          ]
        }
      ]
    },
    {
      "cell_type": "code",
      "source": [
        "from keras.preprocessing.image import ImageDataGenerator\n",
        "\n",
        "# All images will be rescaled by 1./255\n",
        "train_datagen = ImageDataGenerator(rescale=1./255)\n",
        "test_datagen = ImageDataGenerator(rescale=1./255)\n",
        "\n",
        "train_generator = train_datagen.flow_from_directory(\n",
        "        # This is the target directory\n",
        "        '/content/train/',\n",
        "        # All images will be resized to 150x150\n",
        "        target_size=(150, 150),\n",
        "        batch_size=10,\n",
        "        # Since we use categorical_crossentropy loss, we need categorical labels\n",
        "        class_mode='categorical')\n",
        "\n",
        "validation_generator = test_datagen.flow_from_directory(\n",
        "        '/content/validation/',\n",
        "        target_size=(150, 150),\n",
        "        batch_size=10,\n",
        "        class_mode='categorical')"
      ],
      "metadata": {
        "colab": {
          "base_uri": "https://localhost:8080/"
        },
        "id": "cSX6w_br0rGE",
        "outputId": "0cdab1d4-3c27-4938-b8ab-bc0f64f536fc"
      },
      "execution_count": 26,
      "outputs": [
        {
          "output_type": "stream",
          "name": "stdout",
          "text": [
            "Found 105 images belonging to 3 classes.\n",
            "Found 54 images belonging to 3 classes.\n"
          ]
        }
      ]
    },
    {
      "cell_type": "code",
      "source": [
        "for data_batch, labels_batch in train_generator:\n",
        "    print('data batch shape:', data_batch.shape)\n",
        "    print('labels batch shape:', labels_batch.shape)\n",
        "    break"
      ],
      "metadata": {
        "colab": {
          "base_uri": "https://localhost:8080/"
        },
        "id": "OmN0-Yjk1ZqT",
        "outputId": "26ec763d-8890-45e4-c6a5-f85dcf69dc8a"
      },
      "execution_count": 27,
      "outputs": [
        {
          "output_type": "stream",
          "name": "stdout",
          "text": [
            "data batch shape: (10, 150, 150, 3)\n",
            "labels batch shape: (10, 3)\n"
          ]
        }
      ]
    },
    {
      "cell_type": "code",
      "source": [
        "history = model.fit_generator(\n",
        "      train_generator,\n",
        "      steps_per_epoch=10,\n",
        "      epochs=30,\n",
        "      validation_data=validation_generator,\n",
        "      validation_steps=5)"
      ],
      "metadata": {
        "colab": {
          "base_uri": "https://localhost:8080/"
        },
        "id": "Xxtn2gQD1bss",
        "outputId": "8a4cbc9e-6d6b-41d0-ab88-ddc011b08838"
      },
      "execution_count": 28,
      "outputs": [
        {
          "output_type": "stream",
          "name": "stderr",
          "text": [
            "<ipython-input-28-2883d3b95d37>:1: UserWarning: `Model.fit_generator` is deprecated and will be removed in a future version. Please use `Model.fit`, which supports generators.\n",
            "  history = model.fit_generator(\n"
          ]
        },
        {
          "output_type": "stream",
          "name": "stdout",
          "text": [
            "Epoch 1/30\n",
            "10/10 [==============================] - 21s 2s/step - loss: 1.1002 - acc: 0.4000 - val_loss: 1.0524 - val_acc: 0.3200\n",
            "Epoch 2/30\n",
            "10/10 [==============================] - 18s 2s/step - loss: 1.0016 - acc: 0.5158 - val_loss: 0.9328 - val_acc: 0.8200\n",
            "Epoch 3/30\n",
            "10/10 [==============================] - 17s 2s/step - loss: 0.8622 - acc: 0.6316 - val_loss: 1.0671 - val_acc: 0.3400\n",
            "Epoch 4/30\n",
            "10/10 [==============================] - 20s 2s/step - loss: 0.7721 - acc: 0.7158 - val_loss: 0.6118 - val_acc: 0.9200\n",
            "Epoch 5/30\n",
            "10/10 [==============================] - 17s 2s/step - loss: 0.6349 - acc: 0.8105 - val_loss: 0.4993 - val_acc: 0.8800\n",
            "Epoch 6/30\n",
            "10/10 [==============================] - 15s 1s/step - loss: 0.5020 - acc: 0.8105 - val_loss: 0.4633 - val_acc: 0.8400\n",
            "Epoch 7/30\n",
            "10/10 [==============================] - 17s 2s/step - loss: 0.4700 - acc: 0.8000 - val_loss: 0.4041 - val_acc: 0.8600\n",
            "Epoch 8/30\n",
            "10/10 [==============================] - 16s 1s/step - loss: 0.3736 - acc: 0.8842 - val_loss: 0.3743 - val_acc: 0.8000\n",
            "Epoch 9/30\n",
            "10/10 [==============================] - 16s 2s/step - loss: 0.3538 - acc: 0.8947 - val_loss: 0.2901 - val_acc: 0.8200\n",
            "Epoch 10/30\n",
            "10/10 [==============================] - 15s 2s/step - loss: 0.3051 - acc: 0.8842 - val_loss: 0.2823 - val_acc: 0.8800\n",
            "Epoch 11/30\n",
            "10/10 [==============================] - 15s 1s/step - loss: 0.2206 - acc: 0.9263 - val_loss: 0.2790 - val_acc: 0.8400\n",
            "Epoch 12/30\n",
            "10/10 [==============================] - 15s 2s/step - loss: 0.2058 - acc: 0.9053 - val_loss: 0.5317 - val_acc: 0.8200\n",
            "Epoch 13/30\n",
            "10/10 [==============================] - 17s 2s/step - loss: 0.1590 - acc: 0.9789 - val_loss: 0.2333 - val_acc: 0.8800\n",
            "Epoch 14/30\n",
            "10/10 [==============================] - 15s 1s/step - loss: 0.2378 - acc: 0.9263 - val_loss: 0.2747 - val_acc: 0.8200\n",
            "Epoch 15/30\n",
            "10/10 [==============================] - 17s 2s/step - loss: 0.1264 - acc: 0.9789 - val_loss: 0.4011 - val_acc: 0.8400\n",
            "Epoch 16/30\n",
            "10/10 [==============================] - 17s 2s/step - loss: 0.1765 - acc: 0.9263 - val_loss: 0.5504 - val_acc: 0.7800\n",
            "Epoch 17/30\n",
            "10/10 [==============================] - 15s 2s/step - loss: 0.1180 - acc: 0.9579 - val_loss: 0.3136 - val_acc: 0.8600\n",
            "Epoch 18/30\n",
            "10/10 [==============================] - 15s 1s/step - loss: 0.1668 - acc: 0.9263 - val_loss: 0.2568 - val_acc: 0.8600\n",
            "Epoch 19/30\n",
            "10/10 [==============================] - 17s 2s/step - loss: 0.0674 - acc: 0.9789 - val_loss: 0.2517 - val_acc: 0.9000\n",
            "Epoch 20/30\n",
            "10/10 [==============================] - 15s 2s/step - loss: 0.1375 - acc: 0.9474 - val_loss: 0.3194 - val_acc: 0.8600\n",
            "Epoch 21/30\n",
            "10/10 [==============================] - 15s 2s/step - loss: 0.0476 - acc: 1.0000 - val_loss: 0.2554 - val_acc: 0.9000\n",
            "Epoch 22/30\n",
            "10/10 [==============================] - 17s 2s/step - loss: 0.0954 - acc: 0.9684 - val_loss: 0.3752 - val_acc: 0.8600\n",
            "Epoch 23/30\n",
            "10/10 [==============================] - 15s 1s/step - loss: 0.0782 - acc: 0.9684 - val_loss: 0.2575 - val_acc: 0.8800\n",
            "Epoch 24/30\n",
            "10/10 [==============================] - 17s 2s/step - loss: 0.0531 - acc: 0.9789 - val_loss: 0.2966 - val_acc: 0.9000\n",
            "Epoch 25/30\n",
            "10/10 [==============================] - 16s 2s/step - loss: 0.0270 - acc: 1.0000 - val_loss: 0.2987 - val_acc: 0.8600\n",
            "Epoch 26/30\n",
            "10/10 [==============================] - 15s 1s/step - loss: 0.0313 - acc: 1.0000 - val_loss: 0.2597 - val_acc: 0.9000\n",
            "Epoch 27/30\n",
            "10/10 [==============================] - 17s 2s/step - loss: 0.0565 - acc: 0.9895 - val_loss: 0.2359 - val_acc: 0.9000\n",
            "Epoch 28/30\n",
            "10/10 [==============================] - 16s 2s/step - loss: 0.0209 - acc: 1.0000 - val_loss: 0.3130 - val_acc: 0.8800\n",
            "Epoch 29/30\n",
            "10/10 [==============================] - 15s 1s/step - loss: 0.0148 - acc: 1.0000 - val_loss: 0.4819 - val_acc: 0.8400\n",
            "Epoch 30/30\n",
            "10/10 [==============================] - 17s 2s/step - loss: 0.1059 - acc: 0.9368 - val_loss: 0.3562 - val_acc: 0.8400\n"
          ]
        }
      ]
    },
    {
      "cell_type": "code",
      "source": [
        "model.save('MODEL_1.h5')"
      ],
      "metadata": {
        "id": "LLbb1JwniAnm"
      },
      "execution_count": 29,
      "outputs": []
    },
    {
      "cell_type": "code",
      "source": [
        "import matplotlib.pyplot as plt\n",
        "\n",
        "acc = history.history['acc']\n",
        "val_acc = history.history['val_acc']\n",
        "loss = history.history['loss']\n",
        "val_loss = history.history['val_loss']\n",
        "\n",
        "epochs = range(len(acc))\n",
        "\n",
        "plt.plot(epochs, acc, 'bo', label='Training acc')\n",
        "plt.plot(epochs, val_acc, 'b', label='Validation acc')\n",
        "plt.title('Training and validation accuracy')\n",
        "plt.legend()\n",
        "\n",
        "plt.figure()\n",
        "\n",
        "plt.plot(epochs, loss, 'bo', label='Training loss')\n",
        "plt.plot(epochs, val_loss, 'b', label='Validation loss')\n",
        "plt.title('Training and validation loss')\n",
        "plt.legend()\n",
        "\n",
        "plt.show()"
      ],
      "metadata": {
        "colab": {
          "base_uri": "https://localhost:8080/",
          "height": 887
        },
        "id": "pZ3qHHb5iNWl",
        "outputId": "74040a9f-fe54-4697-bfe1-d88394aff7ef"
      },
      "execution_count": 30,
      "outputs": [
        {
          "output_type": "display_data",
          "data": {
            "text/plain": [
              "<Figure size 640x480 with 1 Axes>"
            ],
            "image/png": "[encoded data removed]"
          },
          "metadata": {}
        },
        {
          "output_type": "display_data",
          "data": {
            "text/plain": [
              "<Figure size 640x480 with 1 Axes>"
            ],
            "image/png": "[encoded data removed]"
          },
          "metadata": {}
        }
      ]
    },
    {
      "cell_type": "markdown",
      "source": [
        "MODEL 2: Data augmentation"
      ],
      "metadata": {
        "id": "hSY4ruhIlVmE"
      }
    },
    {
      "cell_type": "code",
      "source": [
        "model = models.Sequential()\n",
        "model.add(layers.Conv2D(32, (3, 3), activation='relu',\n",
        "                        input_shape=(150, 150, 3)))\n",
        "model.add(layers.MaxPooling2D((2, 2)))\n",
        "model.add(layers.Conv2D(64, (3, 3), activation='relu'))\n",
        "model.add(layers.MaxPooling2D((2, 2)))\n",
        "model.add(layers.Conv2D(128, (3, 3), activation='relu'))\n",
        "model.add(layers.MaxPooling2D((2, 2)))\n",
        "model.add(layers.Conv2D(128, (3, 3), activation='relu'))\n",
        "model.add(layers.MaxPooling2D((2, 2)))\n",
        "model.add(layers.Flatten())\n",
        "model.add(layers.Dense(512, activation='relu'))\n",
        "model.add(layers.Dense(3, activation='softmax'))\n",
        "\n",
        "model.compile(loss='categorical_crossentropy',\n",
        "              optimizer=optimizers.RMSprop(lr=1e-4),\n",
        "              metrics=['acc'])"
      ],
      "metadata": {
        "id": "29IqgQeRlh3s"
      },
      "execution_count": 33,
      "outputs": []
    },
    {
      "cell_type": "code",
      "source": [
        "train_datagen = ImageDataGenerator(\n",
        "    rescale=1./255,\n",
        "    rotation_range=40,\n",
        "    width_shift_range=0.2,\n",
        "    height_shift_range=0.2,\n",
        "    shear_range=0.2,\n",
        "    zoom_range=0.2,\n",
        "    horizontal_flip=True,)\n",
        "\n",
        "# Note that the validation data should not be augmented!\n",
        "test_datagen = ImageDataGenerator(rescale=1./255)\n",
        "\n",
        "train_generator = train_datagen.flow_from_directory(\n",
        "        # This is the target directory\n",
        "        '/content/train/',\n",
        "        # All images will be resized to 150x150\n",
        "        target_size=(150, 150),\n",
        "        batch_size=10,\n",
        "        # Since we use categorical_crossentropy loss, we need binary labels\n",
        "        class_mode='categorical')\n",
        "\n",
        "validation_generator = test_datagen.flow_from_directory(\n",
        "        '/content/validation/',\n",
        "        target_size=(150, 150),\n",
        "        batch_size=10,\n",
        "        class_mode='categorical')\n",
        "\n",
        "history = model.fit_generator(\n",
        "      train_generator,\n",
        "      steps_per_epoch=10,\n",
        "      epochs=30,\n",
        "      validation_data=validation_generator,\n",
        "      validation_steps=5)"
      ],
      "metadata": {
        "id": "TqQ2nL9ElycM",
        "outputId": "29057e42-6ba0-424a-c9c1-c0a12650cf09",
        "colab": {
          "base_uri": "https://localhost:8080/"
        }
      },
      "execution_count": 34,
      "outputs": [
        {
          "output_type": "stream",
          "name": "stdout",
          "text": [
            "Found 105 images belonging to 3 classes.\n",
            "Found 54 images belonging to 3 classes.\n"
          ]
        },
        {
          "output_type": "stream",
          "name": "stderr",
          "text": [
            "<ipython-input-34-dc5bba310df2>:28: UserWarning: `Model.fit_generator` is deprecated and will be removed in a future version. Please use `Model.fit`, which supports generators.\n",
            "  history = model.fit_generator(\n"
          ]
        },
        {
          "output_type": "stream",
          "name": "stdout",
          "text": [
            "Epoch 1/30\n",
            "10/10 [==============================] - 18s 2s/step - loss: 1.1092 - acc: 0.3474 - val_loss: 1.0727 - val_acc: 0.3400\n",
            "Epoch 2/30\n",
            "10/10 [==============================] - 16s 2s/step - loss: 1.0952 - acc: 0.2842 - val_loss: 1.0670 - val_acc: 0.3200\n",
            "Epoch 3/30\n",
            "10/10 [==============================] - 21s 2s/step - loss: 1.0726 - acc: 0.3789 - val_loss: 1.0177 - val_acc: 0.3600\n",
            "Epoch 4/30\n",
            "10/10 [==============================] - 16s 2s/step - loss: 1.0560 - acc: 0.4200 - val_loss: 0.9958 - val_acc: 0.5000\n",
            "Epoch 5/30\n",
            "10/10 [==============================] - 17s 2s/step - loss: 1.0262 - acc: 0.4211 - val_loss: 0.9463 - val_acc: 0.6400\n",
            "Epoch 6/30\n",
            "10/10 [==============================] - 15s 1s/step - loss: 1.0130 - acc: 0.4800 - val_loss: 0.8703 - val_acc: 0.7000\n",
            "Epoch 7/30\n",
            "10/10 [==============================] - 18s 2s/step - loss: 0.9682 - acc: 0.6000 - val_loss: 0.8265 - val_acc: 0.5600\n",
            "Epoch 8/30\n",
            "10/10 [==============================] - 18s 2s/step - loss: 0.9298 - acc: 0.5368 - val_loss: 0.7168 - val_acc: 0.7400\n",
            "Epoch 9/30\n",
            "10/10 [==============================] - 16s 2s/step - loss: 0.8443 - acc: 0.6947 - val_loss: 0.6814 - val_acc: 0.7200\n",
            "Epoch 10/30\n",
            "10/10 [==============================] - 17s 2s/step - loss: 0.8658 - acc: 0.6316 - val_loss: 0.7748 - val_acc: 0.5400\n",
            "Epoch 11/30\n",
            "10/10 [==============================] - 17s 2s/step - loss: 0.7369 - acc: 0.6947 - val_loss: 0.5501 - val_acc: 0.8200\n",
            "Epoch 12/30\n",
            "10/10 [==============================] - 16s 2s/step - loss: 0.7270 - acc: 0.6737 - val_loss: 0.4937 - val_acc: 0.8800\n",
            "Epoch 13/30\n",
            "10/10 [==============================] - 15s 1s/step - loss: 0.7560 - acc: 0.6842 - val_loss: 0.4793 - val_acc: 0.8400\n",
            "Epoch 14/30\n",
            "10/10 [==============================] - 15s 2s/step - loss: 0.7211 - acc: 0.6947 - val_loss: 0.4750 - val_acc: 0.8200\n",
            "Epoch 15/30\n",
            "10/10 [==============================] - 17s 2s/step - loss: 0.6895 - acc: 0.6737 - val_loss: 0.5401 - val_acc: 0.8200\n",
            "Epoch 16/30\n",
            "10/10 [==============================] - 17s 2s/step - loss: 0.7443 - acc: 0.6211 - val_loss: 0.4468 - val_acc: 0.8400\n",
            "Epoch 17/30\n",
            "10/10 [==============================] - 15s 1s/step - loss: 0.6157 - acc: 0.7600 - val_loss: 0.4277 - val_acc: 0.8400\n",
            "Epoch 18/30\n",
            "10/10 [==============================] - 17s 2s/step - loss: 0.6158 - acc: 0.7579 - val_loss: 0.4288 - val_acc: 0.8200\n",
            "Epoch 19/30\n",
            "10/10 [==============================] - 15s 1s/step - loss: 0.7374 - acc: 0.7263 - val_loss: 0.4360 - val_acc: 0.8400\n",
            "Epoch 20/30\n",
            "10/10 [==============================] - 15s 1s/step - loss: 0.6836 - acc: 0.6842 - val_loss: 0.3880 - val_acc: 0.8600\n",
            "Epoch 21/30\n",
            "10/10 [==============================] - 15s 2s/step - loss: 0.6963 - acc: 0.6842 - val_loss: 0.4081 - val_acc: 0.8600\n",
            "Epoch 22/30\n",
            "10/10 [==============================] - 17s 2s/step - loss: 0.5877 - acc: 0.7368 - val_loss: 0.4054 - val_acc: 0.9000\n",
            "Epoch 23/30\n",
            "10/10 [==============================] - 17s 2s/step - loss: 0.6360 - acc: 0.6947 - val_loss: 0.3250 - val_acc: 0.9000\n",
            "Epoch 24/30\n",
            "10/10 [==============================] - 15s 2s/step - loss: 0.4899 - acc: 0.8105 - val_loss: 0.4221 - val_acc: 0.8200\n",
            "Epoch 25/30\n",
            "10/10 [==============================] - 15s 2s/step - loss: 0.6279 - acc: 0.6737 - val_loss: 0.3299 - val_acc: 0.8800\n",
            "Epoch 26/30\n",
            "10/10 [==============================] - 15s 2s/step - loss: 0.5661 - acc: 0.7789 - val_loss: 0.3988 - val_acc: 0.8400\n",
            "Epoch 27/30\n",
            "10/10 [==============================] - 17s 2s/step - loss: 0.6027 - acc: 0.7368 - val_loss: 0.4293 - val_acc: 0.8200\n",
            "Epoch 28/30\n",
            "10/10 [==============================] - 17s 2s/step - loss: 0.6380 - acc: 0.7263 - val_loss: 0.3487 - val_acc: 0.8600\n",
            "Epoch 29/30\n",
            "10/10 [==============================] - 16s 2s/step - loss: 0.5919 - acc: 0.7579 - val_loss: 0.4476 - val_acc: 0.8200\n",
            "Epoch 30/30\n",
            "10/10 [==============================] - 15s 2s/step - loss: 0.6821 - acc: 0.7053 - val_loss: 0.3063 - val_acc: 0.8800\n"
          ]
        }
      ]
    },
    {
      "cell_type": "code",
      "source": [
        "model.save('MODEL_2.h5')"
      ],
      "metadata": {
        "id": "1E3nqTa5pKKw"
      },
      "execution_count": 35,
      "outputs": []
    },
    {
      "cell_type": "code",
      "source": [
        "acc = history.history['acc']\n",
        "val_acc = history.history['val_acc']\n",
        "loss = history.history['loss']\n",
        "val_loss = history.history['val_loss']\n",
        "\n",
        "epochs = range(len(acc))\n",
        "\n",
        "plt.plot(epochs, acc, 'bo', label='Training acc')\n",
        "plt.plot(epochs, val_acc, 'b', label='Validation acc')\n",
        "plt.title('Training and validation accuracy')\n",
        "plt.legend()\n",
        "\n",
        "plt.figure()\n",
        "\n",
        "plt.plot(epochs, loss, 'bo', label='Training loss')\n",
        "plt.plot(epochs, val_loss, 'b', label='Validation loss')\n",
        "plt.title('Training and validation loss')\n",
        "plt.legend()\n",
        "\n",
        "plt.show()"
      ],
      "metadata": {
        "id": "2cRYjf_LpQ9X",
        "outputId": "babebb0f-f312-462b-b4b1-315ac3a45f1b",
        "colab": {
          "base_uri": "https://localhost:8080/",
          "height": 887
        }
      },
      "execution_count": 36,
      "outputs": [
        {
          "output_type": "display_data",
          "data": {
            "text/plain": [
              "<Figure size 640x480 with 1 Axes>"
            ],
            "image/png": "[encoded data removed]"
          },
          "metadata": {}
        },
        {
          "output_type": "display_data",
          "data": {
            "text/plain": [
              "<Figure size 640x480 with 1 Axes>"
            ],
            "image/png": "[encoded data removed]"
          },
          "metadata": {}
        }
      ]
    },
    {
      "cell_type": "markdown",
      "source": [
        "MODEL 3"
      ],
      "metadata": {
        "id": "LIKBb0DvpwD_"
      }
    },
    {
      "cell_type": "code",
      "source": [
        "from keras.applications import VGG16\n",
        "\n",
        "conv_base = VGG16(weights='imagenet',\n",
        "                  include_top=False,\n",
        "                  input_shape=(150, 150, 3))"
      ],
      "metadata": {
        "id": "CvvLrC1mpyGu",
        "outputId": "3ebf6e49-9548-4546-e05e-c03d8bd70a7c",
        "colab": {
          "base_uri": "https://localhost:8080/"
        }
      },
      "execution_count": 37,
      "outputs": [
        {
          "output_type": "stream",
          "name": "stdout",
          "text": [
            "Downloading data from https://storage.googleapis.com/tensorflow/keras-applications/vgg16/vgg16_weights_tf_dim_ordering_tf_kernels_notop.h5\n",
            "58889256/58889256 [==============================] - 0s 0us/step\n"
          ]
        }
      ]
    },
    {
      "cell_type": "code",
      "source": [
        "conv_base.summary()"
      ],
      "metadata": {
        "id": "3Mo0pWo_p4b_",
        "outputId": "c296ec20-c77c-4615-f75c-b224e6aac279",
        "colab": {
          "base_uri": "https://localhost:8080/"
        }
      },
      "execution_count": 38,
      "outputs": [
        {
          "output_type": "stream",
          "name": "stdout",
          "text": [
            "Model: \"vgg16\"\n",
            "_________________________________________________________________\n",
            " Layer (type)                Output Shape              Param #   \n",
            "=================================================================\n",
            " input_1 (InputLayer)        [(None, 150, 150, 3)]     0         \n",
            "                                                                 \n",
            " block1_conv1 (Conv2D)       (None, 150, 150, 64)      1792      \n",
            "                                                                 \n",
            " block1_conv2 (Conv2D)       (None, 150, 150, 64)      36928     \n",
            "                                                                 \n",
            " block1_pool (MaxPooling2D)  (None, 75, 75, 64)        0         \n",
            "                                                                 \n",
            " block2_conv1 (Conv2D)       (None, 75, 75, 128)       73856     \n",
            "                                                                 \n",
            " block2_conv2 (Conv2D)       (None, 75, 75, 128)       147584    \n",
            "                                                                 \n",
            " block2_pool (MaxPooling2D)  (None, 37, 37, 128)       0         \n",
            "                                                                 \n",
            " block3_conv1 (Conv2D)       (None, 37, 37, 256)       295168    \n",
            "                                                                 \n",
            " block3_conv2 (Conv2D)       (None, 37, 37, 256)       590080    \n",
            "                                                                 \n",
            " block3_conv3 (Conv2D)       (None, 37, 37, 256)       590080    \n",
            "                                                                 \n",
            " block3_pool (MaxPooling2D)  (None, 18, 18, 256)       0         \n",
            "                                                                 \n",
            " block4_conv1 (Conv2D)       (None, 18, 18, 512)       1180160   \n",
            "                                                                 \n",
            " block4_conv2 (Conv2D)       (None, 18, 18, 512)       2359808   \n",
            "                                                                 \n",
            " block4_conv3 (Conv2D)       (None, 18, 18, 512)       2359808   \n",
            "                                                                 \n",
            " block4_pool (MaxPooling2D)  (None, 9, 9, 512)         0         \n",
            "                                                                 \n",
            " block5_conv1 (Conv2D)       (None, 9, 9, 512)         2359808   \n",
            "                                                                 \n",
            " block5_conv2 (Conv2D)       (None, 9, 9, 512)         2359808   \n",
            "                                                                 \n",
            " block5_conv3 (Conv2D)       (None, 9, 9, 512)         2359808   \n",
            "                                                                 \n",
            " block5_pool (MaxPooling2D)  (None, 4, 4, 512)         0         \n",
            "                                                                 \n",
            "=================================================================\n",
            "Total params: 14,714,688\n",
            "Trainable params: 14,714,688\n",
            "Non-trainable params: 0\n",
            "_________________________________________________________________\n"
          ]
        }
      ]
    },
    {
      "cell_type": "code",
      "source": [
        "train_dir = '/content/train/'\n",
        "validation_dir = '/content/validation/'\n",
        "test_dir = '/content/test/'\n",
        "\n",
        "datagen = ImageDataGenerator(rescale=1./255)\n",
        "#batch_size = 10\n",
        "\n",
        "def extract_features(directory, sample_count, batch_size):\n",
        "    features = np.zeros(shape=(sample_count, 4, 4, 512))\n",
        "    labels = np.zeros(shape=(sample_count, 3))\n",
        "    generator = datagen.flow_from_directory(\n",
        "        directory,\n",
        "        target_size=(150, 150),\n",
        "        batch_size=batch_size,\n",
        "        class_mode='categorical')\n",
        "    i = 0\n",
        "    for inputs_batch, labels_batch in generator:\n",
        "        features_batch = conv_base.predict(inputs_batch)\n",
        "        features[i * batch_size : (i + 1) * batch_size] = features_batch\n",
        "        labels[i * batch_size : (i + 1) * batch_size] = labels_batch\n",
        "        i += 1\n",
        "        if i * batch_size >= sample_count:\n",
        "            # Note that since generators yield data indefinitely in a loop,\n",
        "            # we must `break` after every image has been seen once.\n",
        "            break\n",
        "    return features, labels\n",
        "\n",
        "train_features, train_labels = extract_features(train_dir, 35, 5)\n",
        "validation_features, validation_labels = extract_features(validation_dir, 18, 9)\n",
        "test_features, test_labels = extract_features(test_dir, 17, 17)"
      ],
      "metadata": {
        "id": "buo3_dW6p7df",
        "outputId": "17d49453-8a6f-43d7-8480-7da5e65b0a84",
        "colab": {
          "base_uri": "https://localhost:8080/"
        }
      },
      "execution_count": 42,
      "outputs": [
        {
          "output_type": "stream",
          "name": "stdout",
          "text": [
            "Found 105 images belonging to 3 classes.\n",
            "1/1 [==============================] - 1s 1s/step\n",
            "1/1 [==============================] - 1s 1s/step\n",
            "1/1 [==============================] - 1s 1s/step\n",
            "1/1 [==============================] - 1s 1s/step\n",
            "1/1 [==============================] - 2s 2s/step\n",
            "1/1 [==============================] - 1s 1s/step\n",
            "1/1 [==============================] - 1s 1s/step\n",
            "Found 54 images belonging to 3 classes.\n",
            "1/1 [==============================] - 2s 2s/step\n",
            "1/1 [==============================] - 2s 2s/step\n",
            "Found 51 images belonging to 3 classes.\n",
            "1/1 [==============================] - 5s 5s/step\n"
          ]
        }
      ]
    },
    {
      "cell_type": "code",
      "source": [
        "train_features = np.reshape(train_features, (35, 4 * 4 * 512))\n",
        "validation_features = np.reshape(validation_features, (18, 4 * 4 * 512))\n",
        "test_features = np.reshape(test_features, (17, 4 * 4 * 512))"
      ],
      "metadata": {
        "id": "wf3qRB3btZn0"
      },
      "execution_count": 43,
      "outputs": []
    },
    {
      "cell_type": "code",
      "source": [
        "model = models.Sequential()\n",
        "model.add(layers.Dense(256, activation='relu', input_dim=4 * 4 * 512))\n",
        "model.add(layers.Dropout(0.5))\n",
        "model.add(layers.Dense(3, activation='softmax'))\n",
        "\n",
        "model.compile(optimizer=optimizers.RMSprop(lr=2e-5),\n",
        "              loss='categorical_crossentropy',\n",
        "              metrics=['acc'])\n",
        "\n",
        "history = model.fit(train_features, train_labels,\n",
        "                    epochs=30,\n",
        "                    batch_size=20,\n",
        "                    validation_data=(validation_features, validation_labels))"
      ],
      "metadata": {
        "id": "yi13MmFItl9S",
        "outputId": "b23a1b59-1378-4083-a940-462507f5538d",
        "colab": {
          "base_uri": "https://localhost:8080/"
        }
      },
      "execution_count": 44,
      "outputs": [
        {
          "output_type": "stream",
          "name": "stdout",
          "text": [
            "Epoch 1/30\n",
            "2/2 [==============================] - 2s 239ms/step - loss: 1.5487 - acc: 0.3143 - val_loss: 1.0540 - val_acc: 0.4444\n",
            "Epoch 2/30\n",
            "2/2 [==============================] - 0s 69ms/step - loss: 1.1570 - acc: 0.4571 - val_loss: 0.9207 - val_acc: 0.6667\n",
            "Epoch 3/30\n",
            "2/2 [==============================] - 0s 70ms/step - loss: 1.1566 - acc: 0.4571 - val_loss: 0.8617 - val_acc: 0.7778\n",
            "Epoch 4/30\n",
            "2/2 [==============================] - 0s 70ms/step - loss: 1.1420 - acc: 0.4571 - val_loss: 0.8477 - val_acc: 0.7778\n",
            "Epoch 5/30\n",
            "2/2 [==============================] - 0s 56ms/step - loss: 1.0449 - acc: 0.4000 - val_loss: 0.7983 - val_acc: 0.8333\n",
            "Epoch 6/30\n",
            "2/2 [==============================] - 0s 54ms/step - loss: 1.0360 - acc: 0.4857 - val_loss: 0.7798 - val_acc: 0.8333\n",
            "Epoch 7/30\n",
            "2/2 [==============================] - 0s 70ms/step - loss: 0.9212 - acc: 0.5143 - val_loss: 0.7516 - val_acc: 0.9444\n",
            "Epoch 8/30\n",
            "2/2 [==============================] - 0s 69ms/step - loss: 0.8315 - acc: 0.6857 - val_loss: 0.7130 - val_acc: 0.8889\n",
            "Epoch 9/30\n",
            "2/2 [==============================] - 0s 69ms/step - loss: 0.9436 - acc: 0.5714 - val_loss: 0.7041 - val_acc: 0.9444\n",
            "Epoch 10/30\n",
            "2/2 [==============================] - 0s 54ms/step - loss: 0.7360 - acc: 0.6571 - val_loss: 0.6762 - val_acc: 0.8889\n",
            "Epoch 11/30\n",
            "2/2 [==============================] - 0s 54ms/step - loss: 0.7249 - acc: 0.6857 - val_loss: 0.6657 - val_acc: 0.8889\n",
            "Epoch 12/30\n",
            "2/2 [==============================] - 0s 56ms/step - loss: 0.7644 - acc: 0.7143 - val_loss: 0.6543 - val_acc: 0.8889\n",
            "Epoch 13/30\n",
            "2/2 [==============================] - 0s 75ms/step - loss: 0.7280 - acc: 0.6286 - val_loss: 0.6319 - val_acc: 0.8889\n",
            "Epoch 14/30\n",
            "2/2 [==============================] - 0s 55ms/step - loss: 0.6255 - acc: 0.7714 - val_loss: 0.6402 - val_acc: 0.9444\n",
            "Epoch 15/30\n",
            "2/2 [==============================] - 0s 55ms/step - loss: 0.8363 - acc: 0.6286 - val_loss: 0.6191 - val_acc: 0.8889\n",
            "Epoch 16/30\n",
            "2/2 [==============================] - 0s 61ms/step - loss: 0.6512 - acc: 0.6857 - val_loss: 0.5978 - val_acc: 0.8889\n",
            "Epoch 17/30\n",
            "2/2 [==============================] - 0s 69ms/step - loss: 0.6452 - acc: 0.8000 - val_loss: 0.5965 - val_acc: 0.8889\n",
            "Epoch 18/30\n",
            "2/2 [==============================] - 0s 79ms/step - loss: 0.5974 - acc: 0.7429 - val_loss: 0.5739 - val_acc: 0.8889\n",
            "Epoch 19/30\n",
            "2/2 [==============================] - 0s 54ms/step - loss: 0.6639 - acc: 0.6571 - val_loss: 0.5619 - val_acc: 0.9444\n",
            "Epoch 20/30\n",
            "2/2 [==============================] - 0s 55ms/step - loss: 0.6191 - acc: 0.8000 - val_loss: 0.5520 - val_acc: 0.8889\n",
            "Epoch 21/30\n",
            "2/2 [==============================] - 0s 67ms/step - loss: 0.5030 - acc: 0.8857 - val_loss: 0.5453 - val_acc: 0.9444\n",
            "Epoch 22/30\n",
            "2/2 [==============================] - 0s 63ms/step - loss: 0.6159 - acc: 0.7143 - val_loss: 0.5153 - val_acc: 0.8333\n",
            "Epoch 23/30\n",
            "2/2 [==============================] - 0s 53ms/step - loss: 0.4578 - acc: 0.9143 - val_loss: 0.5122 - val_acc: 0.8889\n",
            "Epoch 24/30\n",
            "2/2 [==============================] - 0s 70ms/step - loss: 0.4891 - acc: 0.8857 - val_loss: 0.5140 - val_acc: 0.9444\n",
            "Epoch 25/30\n",
            "2/2 [==============================] - 0s 57ms/step - loss: 0.5456 - acc: 0.8571 - val_loss: 0.5089 - val_acc: 0.9444\n",
            "Epoch 26/30\n",
            "2/2 [==============================] - 0s 71ms/step - loss: 0.5684 - acc: 0.7714 - val_loss: 0.4951 - val_acc: 0.9444\n",
            "Epoch 27/30\n",
            "2/2 [==============================] - 0s 53ms/step - loss: 0.5726 - acc: 0.8000 - val_loss: 0.4885 - val_acc: 0.9444\n",
            "Epoch 28/30\n",
            "2/2 [==============================] - 0s 69ms/step - loss: 0.4329 - acc: 0.8857 - val_loss: 0.4773 - val_acc: 0.9444\n",
            "Epoch 29/30\n",
            "2/2 [==============================] - 0s 54ms/step - loss: 0.4400 - acc: 0.8857 - val_loss: 0.4673 - val_acc: 0.9444\n",
            "Epoch 30/30\n",
            "2/2 [==============================] - 0s 53ms/step - loss: 0.4856 - acc: 0.8286 - val_loss: 0.4575 - val_acc: 0.9444\n"
          ]
        }
      ]
    },
    {
      "cell_type": "code",
      "source": [
        "model.save('MODEL_3.h5')"
      ],
      "metadata": {
        "id": "I64U0JdsuZyq"
      },
      "execution_count": 46,
      "outputs": []
    },
    {
      "cell_type": "code",
      "source": [
        "import matplotlib.pyplot as plt\n",
        "\n",
        "acc = history.history['acc']\n",
        "val_acc = history.history['val_acc']\n",
        "loss = history.history['loss']\n",
        "val_loss = history.history['val_loss']\n",
        "\n",
        "epochs = range(len(acc))\n",
        "\n",
        "plt.plot(epochs, acc, 'bo', label='Training acc')\n",
        "plt.plot(epochs, val_acc, 'b', label='Validation acc')\n",
        "plt.title('Training and validation accuracy')\n",
        "plt.legend()\n",
        "\n",
        "plt.figure()\n",
        "\n",
        "plt.plot(epochs, loss, 'bo', label='Training loss')\n",
        "plt.plot(epochs, val_loss, 'b', label='Validation loss')\n",
        "plt.title('Training and validation loss')\n",
        "plt.legend()\n",
        "\n",
        "plt.show()"
      ],
      "metadata": {
        "id": "PQuil1WsuAHT",
        "outputId": "bb65a883-a1aa-468a-a7b1-eb6906e0c427",
        "colab": {
          "base_uri": "https://localhost:8080/",
          "height": 887
        }
      },
      "execution_count": 45,
      "outputs": [
        {
          "output_type": "display_data",
          "data": {
            "text/plain": [
              "<Figure size 640x480 with 1 Axes>"
            ],
            "image/png": "[encoded data removed]"
          },
          "metadata": {}
        },
        {
          "output_type": "display_data",
          "data": {
            "text/plain": [
              "<Figure size 640x480 with 1 Axes>"
            ],
            "image/png": "[encoded data removed]"
          },
          "metadata": {}
        }
      ]
    }
  ]
}