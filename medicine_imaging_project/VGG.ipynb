{
  "nbformat": 4,
  "nbformat_minor": 0,
  "metadata": {
    "colab": {
      "provenance": [],
      "authorship_tag": "ABX9TyP7HCVO9oCCx9BgiooP2pzA",
      "include_colab_link": true
    },
    "kernelspec": {
      "name": "python3",
      "display_name": "Python 3"
    },
    "language_info": {
      "name": "python"
    }
  },
  "cells": [
    {
      "cell_type": "markdown",
      "metadata": {
        "id": "view-in-github",
        "colab_type": "text"
      },
      "source": [
        "<a href=\"https://colab.research.google.com/github/mannmoshe/deep-learning/blob/main/medicine_imaging_project/VGG.ipynb\" target=\"_parent\"><img src=\"https://colab.research.google.com/assets/colab-badge.svg\" alt=\"Open In Colab\"/></a>"
      ]
    },
    {
      "cell_type": "code",
      "execution_count": 1,
      "metadata": {
        "colab": {
          "base_uri": "https://localhost:8080/"
        },
        "id": "lH-ru-Y9tLd5",
        "outputId": "b3b22207-2eba-450f-b2d7-60f6abc0422d"
      },
      "outputs": [
        {
          "output_type": "stream",
          "name": "stdout",
          "text": [
            "Mounted at /content/gdrive\n"
          ]
        }
      ],
      "source": [
        "from google.colab import drive\n",
        "drive.mount('/content/gdrive')"
      ]
    },
    {
      "cell_type": "code",
      "source": [
        "import os\n",
        "import shutil\n",
        "import pathlib\n",
        "import imageio\n",
        "import numpy as np\n",
        "import tensorflow as tf\n",
        "from keras.preprocessing.image import ImageDataGenerator\n",
        "from keras import optimizers\n",
        "from keras.preprocessing.image import ImageDataGenerator\n",
        "import matplotlib.pyplot as plt\n",
        "\n",
        "from keras import layers\n",
        "from keras import models"
      ],
      "metadata": {
        "id": "3rFlPRnv2Lia"
      },
      "execution_count": 30,
      "outputs": []
    },
    {
      "cell_type": "code",
      "source": [
        "tf.__version__"
      ],
      "metadata": {
        "id": "JnhDqWC_AJcW",
        "outputId": "ba7d67b5-a1f2-4444-bd47-77da361e7e98",
        "colab": {
          "base_uri": "https://localhost:8080/",
          "height": 35
        }
      },
      "execution_count": 3,
      "outputs": [
        {
          "output_type": "execute_result",
          "data": {
            "text/plain": [
              "'2.13.0'"
            ],
            "application/vnd.google.colaboratory.intrinsic+json": {
              "type": "string"
            }
          },
          "metadata": {},
          "execution_count": 3
        }
      ]
    },
    {
      "cell_type": "markdown",
      "source": [
        "create directories"
      ],
      "metadata": {
        "id": "ug_JCF89f2u3"
      }
    },
    {
      "cell_type": "code",
      "source": [
        "!mkdir train\n",
        "!mkdir validation\n",
        "!mkdir test"
      ],
      "metadata": {
        "id": "Z13-B89_fZ-b"
      },
      "execution_count": 4,
      "outputs": []
    },
    {
      "cell_type": "markdown",
      "source": [
        "create subdirectories for each class"
      ],
      "metadata": {
        "id": "04J6sx_QgVEs"
      }
    },
    {
      "cell_type": "code",
      "source": [
        "!mkdir train/01\n",
        "!mkdir train/02\n",
        "!mkdir train/03\n",
        "\n",
        "!mkdir validation/01\n",
        "!mkdir validation/02\n",
        "!mkdir validation/03\n",
        "\n",
        "!mkdir test/01\n",
        "!mkdir test/02\n",
        "!mkdir test/03"
      ],
      "metadata": {
        "id": "MprswvHyf7SW"
      },
      "execution_count": 5,
      "outputs": []
    },
    {
      "cell_type": "markdown",
      "source": [
        "NOTE: For running the model on your computer, please change the path below according to the location in your drive."
      ],
      "metadata": {
        "id": "lRzPNjX4Yf8l"
      }
    },
    {
      "cell_type": "code",
      "source": [
        "root_path = '/content/gdrive/MyDrive/M.sc Data Mining/Medicine imaging'"
      ],
      "metadata": {
        "id": "UFabrDTjjze8"
      },
      "execution_count": 6,
      "outputs": []
    },
    {
      "cell_type": "code",
      "source": [
        "class1_path = root_path + '/data/01/'\n",
        "class2_path = root_path + '/data/02/'\n",
        "class3_path = root_path + '/data/03/'"
      ],
      "metadata": {
        "id": "xhwua4rmtr5F"
      },
      "execution_count": 7,
      "outputs": []
    },
    {
      "cell_type": "code",
      "source": [
        "class1_files = os.listdir(class1_path)\n",
        "class2_files = os.listdir(class2_path)\n",
        "class3_files = os.listdir(class3_path)"
      ],
      "metadata": {
        "id": "Qi8Dlo8jqxtE"
      },
      "execution_count": 8,
      "outputs": []
    },
    {
      "cell_type": "code",
      "source": [
        "class1_files_sorted = sorted([x for x in class1_files])\n",
        "class2_files_sorted = sorted([x for x in class2_files])\n",
        "class3_files_sorted = sorted([x for x in class3_files])"
      ],
      "metadata": {
        "id": "RIyvAUfwrJxb"
      },
      "execution_count": 9,
      "outputs": []
    },
    {
      "cell_type": "code",
      "source": [
        "class1_files_sorted[:5]"
      ],
      "metadata": {
        "colab": {
          "base_uri": "https://localhost:8080/"
        },
        "id": "zKF9ho8kq3Vs",
        "outputId": "ab3ec907-f913-42fd-cb79-81fae4bb146f"
      },
      "execution_count": 10,
      "outputs": [
        {
          "output_type": "execute_result",
          "data": {
            "text/plain": [
              "['01.jpeg', '010.jpeg', '011.jpeg', '012.jpeg', '013.jpeg']"
            ]
          },
          "metadata": {},
          "execution_count": 10
        }
      ]
    },
    {
      "cell_type": "code",
      "source": [
        "print(len(class1_files_sorted), len(class2_files_sorted), len(class3_files_sorted))"
      ],
      "metadata": {
        "colab": {
          "base_uri": "https://localhost:8080/"
        },
        "id": "fPE-ZxhcsijW",
        "outputId": "8068f81a-cbee-4bd7-c75c-de49ab7eaa4a"
      },
      "execution_count": 11,
      "outputs": [
        {
          "output_type": "stream",
          "name": "stdout",
          "text": [
            "70 70 111\n"
          ]
        }
      ]
    },
    {
      "cell_type": "markdown",
      "source": [
        "split class 1 to train, validation and test"
      ],
      "metadata": {
        "id": "_pqOlA9UxN00"
      }
    },
    {
      "cell_type": "code",
      "source": [
        "for f in class1_files_sorted[:35]:\n",
        "  src = os.path.join(class1_path, f)\n",
        "  dst = os.path.join('/content/train/01/', f)\n",
        "  shutil.copyfile(src, dst)"
      ],
      "metadata": {
        "id": "JziNzpIVhSm8"
      },
      "execution_count": 12,
      "outputs": []
    },
    {
      "cell_type": "code",
      "source": [
        "for f in class1_files_sorted[35:53]:\n",
        "  src = os.path.join(class1_path, f)\n",
        "  dst = os.path.join('/content/validation/01/', f)\n",
        "  shutil.copyfile(src, dst)"
      ],
      "metadata": {
        "id": "hWiWoxRHvlJx"
      },
      "execution_count": 13,
      "outputs": []
    },
    {
      "cell_type": "code",
      "source": [
        "for f in class1_files_sorted[53:]:\n",
        "  src = os.path.join(class1_path, f)\n",
        "  dst = os.path.join('/content/test/01/', f)\n",
        "  shutil.copyfile(src, dst)"
      ],
      "metadata": {
        "id": "GT_QFsMVvmn5"
      },
      "execution_count": 14,
      "outputs": []
    },
    {
      "cell_type": "markdown",
      "source": [
        "split class 2 to train, validation and test"
      ],
      "metadata": {
        "id": "88kecgbexVkp"
      }
    },
    {
      "cell_type": "code",
      "source": [
        "for f in class2_files_sorted[:35]:\n",
        "  src = os.path.join(class2_path, f)\n",
        "  dst = os.path.join('/content/train/02/', f)\n",
        "  shutil.copyfile(src, dst)"
      ],
      "metadata": {
        "id": "eJoqFi6iwJOw"
      },
      "execution_count": 15,
      "outputs": []
    },
    {
      "cell_type": "code",
      "source": [
        "for f in class2_files_sorted[35:53]:\n",
        "  src = os.path.join(class2_path, f)\n",
        "  dst = os.path.join('/content/validation/02/', f)\n",
        "  shutil.copyfile(src, dst)"
      ],
      "metadata": {
        "id": "TFIN8icqwO_o"
      },
      "execution_count": 16,
      "outputs": []
    },
    {
      "cell_type": "code",
      "source": [
        "for f in class2_files_sorted[53:]:\n",
        "  src = os.path.join(class2_path, f)\n",
        "  dst = os.path.join('/content/test/02/', f)\n",
        "  shutil.copyfile(src, dst)"
      ],
      "metadata": {
        "id": "XYgoXAanwTci"
      },
      "execution_count": 17,
      "outputs": []
    },
    {
      "cell_type": "markdown",
      "source": [
        "split class 3 to train, validation and test"
      ],
      "metadata": {
        "id": "4hINMLRRxXcH"
      }
    },
    {
      "cell_type": "code",
      "source": [
        "for f in class3_files_sorted[:35]:\n",
        "  src = os.path.join(class3_path, f)\n",
        "  dst = os.path.join('/content/train/03/', f)\n",
        "  shutil.copyfile(src, dst)"
      ],
      "metadata": {
        "id": "jMB-cjrAwjTv"
      },
      "execution_count": 18,
      "outputs": []
    },
    {
      "cell_type": "code",
      "source": [
        "for f in class3_files_sorted[35:53]:\n",
        "  src = os.path.join(class3_path, f)\n",
        "  dst = os.path.join('/content/validation/03/', f)\n",
        "  shutil.copyfile(src, dst)"
      ],
      "metadata": {
        "id": "7yHm2CR1wrT9"
      },
      "execution_count": 19,
      "outputs": []
    },
    {
      "cell_type": "code",
      "source": [
        "for f in class3_files_sorted[53:70]:\n",
        "  src = os.path.join(class3_path, f)\n",
        "  dst = os.path.join('/content/test/03/', f)\n",
        "  shutil.copyfile(src, dst)"
      ],
      "metadata": {
        "id": "LGELr4FuwvGl"
      },
      "execution_count": 20,
      "outputs": []
    },
    {
      "cell_type": "code",
      "source": [
        "print(len(os.listdir('/content/train/01/')), len(os.listdir('/content/train/02/')), len(os.listdir('/content/train/03/')))"
      ],
      "metadata": {
        "colab": {
          "base_uri": "https://localhost:8080/"
        },
        "id": "bZVvLtUyyFzD",
        "outputId": "ca4bf3ce-d0cf-485c-d561-4e3cacba94a4"
      },
      "execution_count": 21,
      "outputs": [
        {
          "output_type": "stream",
          "name": "stdout",
          "text": [
            "35 35 35\n"
          ]
        }
      ]
    },
    {
      "cell_type": "code",
      "source": [
        "print(len(os.listdir('/content/validation/01/')), len(os.listdir('/content/validation/02/')), len(os.listdir('/content/validation/03/')))"
      ],
      "metadata": {
        "colab": {
          "base_uri": "https://localhost:8080/"
        },
        "id": "RI0J_tFtyaUz",
        "outputId": "fe93b33a-89cd-4b52-f3fd-4278bb157117"
      },
      "execution_count": 22,
      "outputs": [
        {
          "output_type": "stream",
          "name": "stdout",
          "text": [
            "18 18 18\n"
          ]
        }
      ]
    },
    {
      "cell_type": "code",
      "source": [
        "print(len(os.listdir('/content/test/01/')), len(os.listdir('/content/test/02/')), len(os.listdir('/content/test/03/')))"
      ],
      "metadata": {
        "colab": {
          "base_uri": "https://localhost:8080/"
        },
        "id": "w2mpEiGOyiXi",
        "outputId": "ef3c5319-6fa9-46ec-ef5a-79cc63bcbcf7"
      },
      "execution_count": 23,
      "outputs": [
        {
          "output_type": "stream",
          "name": "stdout",
          "text": [
            "17 17 17\n"
          ]
        }
      ]
    },
    {
      "cell_type": "markdown",
      "source": [
        "VGG MODEL"
      ],
      "metadata": {
        "id": "LIKBb0DvpwD_"
      }
    },
    {
      "cell_type": "code",
      "source": [
        "from keras.applications import VGG16\n",
        "\n",
        "conv_base = VGG16(weights='imagenet',\n",
        "                  include_top=False,\n",
        "                  input_shape=(150, 150, 3))"
      ],
      "metadata": {
        "id": "CvvLrC1mpyGu",
        "outputId": "70f442db-3302-4c0c-fde0-9af1bd9171d5",
        "colab": {
          "base_uri": "https://localhost:8080/"
        }
      },
      "execution_count": 25,
      "outputs": [
        {
          "output_type": "stream",
          "name": "stdout",
          "text": [
            "Downloading data from https://storage.googleapis.com/tensorflow/keras-applications/vgg16/vgg16_weights_tf_dim_ordering_tf_kernels_notop.h5\n",
            "58889256/58889256 [==============================] - 3s 0us/step\n"
          ]
        }
      ]
    },
    {
      "cell_type": "code",
      "source": [
        "conv_base.summary()"
      ],
      "metadata": {
        "id": "3Mo0pWo_p4b_",
        "outputId": "7b47a467-e676-4be8-e783-cedf28b5caf7",
        "colab": {
          "base_uri": "https://localhost:8080/"
        }
      },
      "execution_count": 26,
      "outputs": [
        {
          "output_type": "stream",
          "name": "stdout",
          "text": [
            "Model: \"vgg16\"\n",
            "_________________________________________________________________\n",
            " Layer (type)                Output Shape              Param #   \n",
            "=================================================================\n",
            " input_1 (InputLayer)        [(None, 150, 150, 3)]     0         \n",
            "                                                                 \n",
            " block1_conv1 (Conv2D)       (None, 150, 150, 64)      1792      \n",
            "                                                                 \n",
            " block1_conv2 (Conv2D)       (None, 150, 150, 64)      36928     \n",
            "                                                                 \n",
            " block1_pool (MaxPooling2D)  (None, 75, 75, 64)        0         \n",
            "                                                                 \n",
            " block2_conv1 (Conv2D)       (None, 75, 75, 128)       73856     \n",
            "                                                                 \n",
            " block2_conv2 (Conv2D)       (None, 75, 75, 128)       147584    \n",
            "                                                                 \n",
            " block2_pool (MaxPooling2D)  (None, 37, 37, 128)       0         \n",
            "                                                                 \n",
            " block3_conv1 (Conv2D)       (None, 37, 37, 256)       295168    \n",
            "                                                                 \n",
            " block3_conv2 (Conv2D)       (None, 37, 37, 256)       590080    \n",
            "                                                                 \n",
            " block3_conv3 (Conv2D)       (None, 37, 37, 256)       590080    \n",
            "                                                                 \n",
            " block3_pool (MaxPooling2D)  (None, 18, 18, 256)       0         \n",
            "                                                                 \n",
            " block4_conv1 (Conv2D)       (None, 18, 18, 512)       1180160   \n",
            "                                                                 \n",
            " block4_conv2 (Conv2D)       (None, 18, 18, 512)       2359808   \n",
            "                                                                 \n",
            " block4_conv3 (Conv2D)       (None, 18, 18, 512)       2359808   \n",
            "                                                                 \n",
            " block4_pool (MaxPooling2D)  (None, 9, 9, 512)         0         \n",
            "                                                                 \n",
            " block5_conv1 (Conv2D)       (None, 9, 9, 512)         2359808   \n",
            "                                                                 \n",
            " block5_conv2 (Conv2D)       (None, 9, 9, 512)         2359808   \n",
            "                                                                 \n",
            " block5_conv3 (Conv2D)       (None, 9, 9, 512)         2359808   \n",
            "                                                                 \n",
            " block5_pool (MaxPooling2D)  (None, 4, 4, 512)         0         \n",
            "                                                                 \n",
            "=================================================================\n",
            "Total params: 14714688 (56.13 MB)\n",
            "Trainable params: 14714688 (56.13 MB)\n",
            "Non-trainable params: 0 (0.00 Byte)\n",
            "_________________________________________________________________\n"
          ]
        }
      ]
    },
    {
      "cell_type": "code",
      "source": [
        "train_dir = '/content/train/'\n",
        "validation_dir = '/content/validation/'\n",
        "test_dir = '/content/test/'\n",
        "\n",
        "datagen = ImageDataGenerator(rescale=1./255)\n",
        "#batch_size = 10\n",
        "\n",
        "def extract_features(directory, sample_count, batch_size):\n",
        "    features = np.zeros(shape=(sample_count, 4, 4, 512))\n",
        "    labels = np.zeros(shape=(sample_count, 3))\n",
        "    generator = datagen.flow_from_directory(\n",
        "        directory,\n",
        "        target_size=(150, 150),\n",
        "        batch_size=batch_size,\n",
        "        class_mode='categorical')\n",
        "    i = 0\n",
        "    for inputs_batch, labels_batch in generator:\n",
        "        features_batch = conv_base.predict(inputs_batch)\n",
        "        features[i * batch_size : (i + 1) * batch_size] = features_batch\n",
        "        labels[i * batch_size : (i + 1) * batch_size] = labels_batch\n",
        "        i += 1\n",
        "        if i * batch_size >= sample_count:\n",
        "            # Note that since generators yield data indefinitely in a loop,\n",
        "            # we must `break` after every image has been seen once.\n",
        "            break\n",
        "    return features, labels\n",
        "\n",
        "train_features, train_labels = extract_features(train_dir, 35, 5)\n",
        "validation_features, validation_labels = extract_features(validation_dir, 18, 9)\n",
        "test_features, test_labels = extract_features(test_dir, 17, 17)"
      ],
      "metadata": {
        "id": "buo3_dW6p7df",
        "outputId": "f8c79fca-abe6-4005-9d2d-7b66d76f61b6",
        "colab": {
          "base_uri": "https://localhost:8080/"
        }
      },
      "execution_count": 27,
      "outputs": [
        {
          "output_type": "stream",
          "name": "stdout",
          "text": [
            "Found 105 images belonging to 3 classes.\n",
            "1/1 [==============================] - 3s 3s/step\n",
            "1/1 [==============================] - 2s 2s/step\n",
            "1/1 [==============================] - 2s 2s/step\n",
            "1/1 [==============================] - 2s 2s/step\n",
            "1/1 [==============================] - 2s 2s/step\n",
            "1/1 [==============================] - 2s 2s/step\n",
            "1/1 [==============================] - 1s 1s/step\n",
            "Found 54 images belonging to 3 classes.\n",
            "1/1 [==============================] - 2s 2s/step\n",
            "1/1 [==============================] - 2s 2s/step\n",
            "Found 51 images belonging to 3 classes.\n",
            "1/1 [==============================] - 4s 4s/step\n"
          ]
        }
      ]
    },
    {
      "cell_type": "code",
      "source": [
        "train_features = np.reshape(train_features, (35, 4 * 4 * 512))\n",
        "validation_features = np.reshape(validation_features, (18, 4 * 4 * 512))\n",
        "test_features = np.reshape(test_features, (17, 4 * 4 * 512))"
      ],
      "metadata": {
        "id": "wf3qRB3btZn0"
      },
      "execution_count": 28,
      "outputs": []
    },
    {
      "cell_type": "code",
      "source": [
        "model = models.Sequential()\n",
        "model.add(layers.Dense(512, activation='relu', input_dim=4 * 4 * 512))\n",
        "model.add(layers.Dropout(0.5))\n",
        "model.add(layers.Dense(256, activation='relu', input_dim=4 * 4 * 512))\n",
        "model.add(layers.Dropout(0.5))\n",
        "model.add(layers.Dense(128, activation='relu', input_dim=4 * 4 * 512))\n",
        "model.add(layers.Dropout(0.5))\n",
        "model.add(layers.Dense(3, activation='softmax'))\n",
        "\n",
        "model.compile(optimizer=optimizers.RMSprop(lr=2e-5),\n",
        "              loss='categorical_crossentropy',\n",
        "              metrics=['acc'])\n",
        "\n",
        "history = model.fit(train_features, train_labels,\n",
        "                    epochs=30,\n",
        "                    batch_size=20,\n",
        "                    validation_data=(validation_features, validation_labels))"
      ],
      "metadata": {
        "id": "yi13MmFItl9S",
        "outputId": "ebc4733b-5e8a-44fe-ddb5-8430d3c3fd2b",
        "colab": {
          "base_uri": "https://localhost:8080/"
        }
      },
      "execution_count": 49,
      "outputs": [
        {
          "output_type": "stream",
          "name": "stderr",
          "text": [
            "WARNING:absl:`lr` is deprecated in Keras optimizer, please use `learning_rate` or use the legacy optimizer, e.g.,tf.keras.optimizers.legacy.RMSprop.\n"
          ]
        },
        {
          "output_type": "stream",
          "name": "stdout",
          "text": [
            "Epoch 1/30\n",
            "2/2 [==============================] - 1s 260ms/step - loss: 2.3121 - acc: 0.4571 - val_loss: 2.0692 - val_acc: 0.4444\n",
            "Epoch 2/30\n",
            "2/2 [==============================] - 0s 86ms/step - loss: 4.6673 - acc: 0.3429 - val_loss: 2.2252 - val_acc: 0.3889\n",
            "Epoch 3/30\n",
            "2/2 [==============================] - 0s 82ms/step - loss: 3.0948 - acc: 0.4286 - val_loss: 1.4264 - val_acc: 0.1667\n",
            "Epoch 4/30\n",
            "2/2 [==============================] - 0s 78ms/step - loss: 3.1410 - acc: 0.3714 - val_loss: 1.1349 - val_acc: 0.5000\n",
            "Epoch 5/30\n",
            "2/2 [==============================] - 0s 86ms/step - loss: 2.0588 - acc: 0.5429 - val_loss: 1.0745 - val_acc: 0.2778\n",
            "Epoch 6/30\n",
            "2/2 [==============================] - 0s 69ms/step - loss: 2.2945 - acc: 0.4000 - val_loss: 0.9509 - val_acc: 0.3889\n",
            "Epoch 7/30\n",
            "2/2 [==============================] - 0s 98ms/step - loss: 1.7460 - acc: 0.4000 - val_loss: 0.7309 - val_acc: 0.6667\n",
            "Epoch 8/30\n",
            "2/2 [==============================] - 0s 68ms/step - loss: 2.1808 - acc: 0.2000 - val_loss: 0.7558 - val_acc: 0.7778\n",
            "Epoch 9/30\n",
            "2/2 [==============================] - 0s 70ms/step - loss: 1.1567 - acc: 0.5429 - val_loss: 0.8374 - val_acc: 0.5000\n",
            "Epoch 10/30\n",
            "2/2 [==============================] - 0s 72ms/step - loss: 0.9997 - acc: 0.5143 - val_loss: 0.7471 - val_acc: 0.8333\n",
            "Epoch 11/30\n",
            "2/2 [==============================] - 0s 66ms/step - loss: 1.8118 - acc: 0.3714 - val_loss: 0.8303 - val_acc: 0.6111\n",
            "Epoch 12/30\n",
            "2/2 [==============================] - 0s 71ms/step - loss: 0.9516 - acc: 0.6000 - val_loss: 0.6829 - val_acc: 0.7778\n",
            "Epoch 13/30\n",
            "2/2 [==============================] - 0s 107ms/step - loss: 1.0283 - acc: 0.6000 - val_loss: 0.6567 - val_acc: 0.7222\n",
            "Epoch 14/30\n",
            "2/2 [==============================] - 0s 156ms/step - loss: 0.7736 - acc: 0.7429 - val_loss: 0.6977 - val_acc: 0.7222\n",
            "Epoch 15/30\n",
            "2/2 [==============================] - 0s 264ms/step - loss: 0.7346 - acc: 0.6000 - val_loss: 0.5603 - val_acc: 0.8333\n",
            "Epoch 16/30\n",
            "2/2 [==============================] - 0s 131ms/step - loss: 0.9335 - acc: 0.5429 - val_loss: 0.5497 - val_acc: 0.8333\n",
            "Epoch 17/30\n",
            "2/2 [==============================] - 0s 144ms/step - loss: 0.8474 - acc: 0.6857 - val_loss: 0.5007 - val_acc: 0.8889\n",
            "Epoch 18/30\n",
            "2/2 [==============================] - 0s 77ms/step - loss: 0.8459 - acc: 0.6857 - val_loss: 0.4677 - val_acc: 0.8333\n",
            "Epoch 19/30\n",
            "2/2 [==============================] - 0s 75ms/step - loss: 0.8759 - acc: 0.6286 - val_loss: 0.4429 - val_acc: 0.8333\n",
            "Epoch 20/30\n",
            "2/2 [==============================] - 0s 100ms/step - loss: 0.4432 - acc: 0.8571 - val_loss: 0.3822 - val_acc: 0.7778\n",
            "Epoch 21/30\n",
            "2/2 [==============================] - 0s 70ms/step - loss: 0.5315 - acc: 0.7714 - val_loss: 0.3821 - val_acc: 0.8889\n",
            "Epoch 22/30\n",
            "2/2 [==============================] - 0s 87ms/step - loss: 0.3688 - acc: 0.8571 - val_loss: 0.4077 - val_acc: 0.8333\n",
            "Epoch 23/30\n",
            "2/2 [==============================] - 0s 101ms/step - loss: 0.4002 - acc: 0.8286 - val_loss: 0.3792 - val_acc: 0.8333\n",
            "Epoch 24/30\n",
            "2/2 [==============================] - 0s 90ms/step - loss: 0.3349 - acc: 0.8571 - val_loss: 0.3890 - val_acc: 0.7778\n",
            "Epoch 25/30\n",
            "2/2 [==============================] - 0s 99ms/step - loss: 0.3343 - acc: 0.8857 - val_loss: 0.3264 - val_acc: 0.8333\n",
            "Epoch 26/30\n",
            "2/2 [==============================] - 0s 85ms/step - loss: 0.3603 - acc: 0.8286 - val_loss: 0.4297 - val_acc: 0.8333\n",
            "Epoch 27/30\n",
            "2/2 [==============================] - 0s 89ms/step - loss: 0.3156 - acc: 0.8286 - val_loss: 0.4726 - val_acc: 0.8333\n",
            "Epoch 28/30\n",
            "2/2 [==============================] - 0s 85ms/step - loss: 0.1823 - acc: 0.9714 - val_loss: 0.4009 - val_acc: 0.8333\n",
            "Epoch 29/30\n",
            "2/2 [==============================] - 0s 84ms/step - loss: 0.8041 - acc: 0.7714 - val_loss: 0.4055 - val_acc: 0.9444\n",
            "Epoch 30/30\n",
            "2/2 [==============================] - 0s 133ms/step - loss: 0.4266 - acc: 0.8286 - val_loss: 0.3344 - val_acc: 0.8333\n"
          ]
        }
      ]
    },
    {
      "cell_type": "code",
      "source": [
        "model.save('MODEL_3.h5')"
      ],
      "metadata": {
        "id": "I64U0JdsuZyq"
      },
      "execution_count": 50,
      "outputs": []
    },
    {
      "cell_type": "code",
      "source": [
        "import matplotlib.pyplot as plt\n",
        "\n",
        "acc = history.history['acc']\n",
        "val_acc = history.history['val_acc']\n",
        "loss = history.history['loss']\n",
        "val_loss = history.history['val_loss']\n",
        "\n",
        "epochs = range(len(acc))\n",
        "\n",
        "plt.plot(epochs, acc, 'bo', label='Training acc')\n",
        "plt.plot(epochs, val_acc, 'b', label='Validation acc')\n",
        "plt.title('Training and validation accuracy')\n",
        "plt.legend()\n",
        "\n",
        "plt.figure()\n",
        "\n",
        "plt.plot(epochs, loss, 'bo', label='Training loss')\n",
        "plt.plot(epochs, val_loss, 'b', label='Validation loss')\n",
        "plt.title('Training and validation loss')\n",
        "plt.legend()\n",
        "\n",
        "plt.show()"
      ],
      "metadata": {
        "id": "PQuil1WsuAHT",
        "outputId": "0596b7d5-44fe-4335-bfd0-9ed96eb188aa",
        "colab": {
          "base_uri": "https://localhost:8080/",
          "height": 887
        }
      },
      "execution_count": 51,
      "outputs": [
        {
          "output_type": "display_data",
          "data": {
            "text/plain": [
              "<Figure size 640x480 with 1 Axes>"
            ],
            "image/png": "[encoded data removed]"
          },
          "metadata": {}
        },
        {
          "output_type": "display_data",
          "data": {
            "text/plain": [
              "<Figure size 640x480 with 1 Axes>"
            ],
            "image/png": "[encoded data removed]"
          },
          "metadata": {}
        }
      ]
    }
  ]
}