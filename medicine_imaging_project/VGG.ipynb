{
  "nbformat": 4,
  "nbformat_minor": 0,
  "metadata": {
    "colab": {
      "provenance": [],
      "authorship_tag": "ABX9TyP7HCVO9oCCx9BgiooP2pzA",
      "include_colab_link": true
    },
    "kernelspec": {
      "name": "python3",
      "display_name": "Python 3"
    },
    "language_info": {
      "name": "python"
    }
  },
  "cells": [
    {
      "cell_type": "markdown",
      "metadata": {
        "id": "view-in-github",
        "colab_type": "text"
      },
      "source": [
        "<a href=\"https://colab.research.google.com/github/mannmoshe/deep-learning/blob/main/medicine_imaging_project/VGG.ipynb\" target=\"_parent\"><img src=\"https://colab.research.google.com/assets/colab-badge.svg\" alt=\"Open In Colab\"/></a>"
      ]
    },
    {
      "cell_type": "code",
      "execution_count": 1,
      "metadata": {
        "colab": {
          "base_uri": "https://localhost:8080/"
        },
        "id": "lH-ru-Y9tLd5",
        "outputId": "0db4237b-3060-4f58-b29a-5ec63fee0431"
      },
      "outputs": [
        {
          "output_type": "stream",
          "name": "stdout",
          "text": [
            "Mounted at /content/gdrive\n"
          ]
        }
      ],
      "source": [
        "from google.colab import drive\n",
        "drive.mount('/content/gdrive')"
      ]
    },
    {
      "cell_type": "code",
      "source": [
        "import os\n",
        "import shutil\n",
        "import pathlib\n",
        "import imageio\n",
        "import numpy as np\n",
        "import tensorflow as tf\n",
        "from keras.preprocessing.image import ImageDataGenerator\n",
        "from keras import optimizers\n",
        "from keras.preprocessing.image import ImageDataGenerator\n",
        "import matplotlib.pyplot as plt\n",
        "\n",
        "from keras import layers\n",
        "from keras import models"
      ],
      "metadata": {
        "id": "3rFlPRnv2Lia"
      },
      "execution_count": 2,
      "outputs": []
    },
    {
      "cell_type": "code",
      "source": [
        "tf.__version__"
      ],
      "metadata": {
        "id": "JnhDqWC_AJcW",
        "outputId": "d556b781-9073-42ea-8cb4-4c6f0dca1f0d",
        "colab": {
          "base_uri": "https://localhost:8080/",
          "height": 35
        }
      },
      "execution_count": 3,
      "outputs": [
        {
          "output_type": "execute_result",
          "data": {
            "text/plain": [
              "'2.13.0'"
            ],
            "application/vnd.google.colaboratory.intrinsic+json": {
              "type": "string"
            }
          },
          "metadata": {},
          "execution_count": 3
        }
      ]
    },
    {
      "cell_type": "markdown",
      "source": [
        "create directories"
      ],
      "metadata": {
        "id": "ug_JCF89f2u3"
      }
    },
    {
      "cell_type": "code",
      "source": [
        "!mkdir train\n",
        "!mkdir validation\n",
        "!mkdir test"
      ],
      "metadata": {
        "id": "Z13-B89_fZ-b"
      },
      "execution_count": 4,
      "outputs": []
    },
    {
      "cell_type": "markdown",
      "source": [
        "create subdirectories for each class"
      ],
      "metadata": {
        "id": "04J6sx_QgVEs"
      }
    },
    {
      "cell_type": "code",
      "source": [
        "!mkdir train/01\n",
        "!mkdir train/02\n",
        "!mkdir train/03\n",
        "\n",
        "!mkdir validation/01\n",
        "!mkdir validation/02\n",
        "!mkdir validation/03\n",
        "\n",
        "!mkdir test/01\n",
        "!mkdir test/02\n",
        "!mkdir test/03"
      ],
      "metadata": {
        "id": "MprswvHyf7SW"
      },
      "execution_count": 5,
      "outputs": []
    },
    {
      "cell_type": "markdown",
      "source": [
        "NOTE: For running the model on your computer, please change the path below according to the location in your drive."
      ],
      "metadata": {
        "id": "lRzPNjX4Yf8l"
      }
    },
    {
      "cell_type": "code",
      "source": [
        "root_path = '/content/gdrive/MyDrive/M.sc Data Mining/Medicine imaging'"
      ],
      "metadata": {
        "id": "UFabrDTjjze8"
      },
      "execution_count": 6,
      "outputs": []
    },
    {
      "cell_type": "code",
      "source": [
        "class1_path = root_path + '/data/01/'\n",
        "class2_path = root_path + '/data/02/'\n",
        "class3_path = root_path + '/data/03/'"
      ],
      "metadata": {
        "id": "xhwua4rmtr5F"
      },
      "execution_count": 7,
      "outputs": []
    },
    {
      "cell_type": "code",
      "source": [
        "class1_files = os.listdir(class1_path)\n",
        "class2_files = os.listdir(class2_path)\n",
        "class3_files = os.listdir(class3_path)"
      ],
      "metadata": {
        "id": "Qi8Dlo8jqxtE"
      },
      "execution_count": 8,
      "outputs": []
    },
    {
      "cell_type": "code",
      "source": [
        "class1_files_sorted = sorted([x for x in class1_files])\n",
        "class2_files_sorted = sorted([x for x in class2_files])\n",
        "class3_files_sorted = sorted([x for x in class3_files])"
      ],
      "metadata": {
        "id": "RIyvAUfwrJxb"
      },
      "execution_count": 9,
      "outputs": []
    },
    {
      "cell_type": "code",
      "source": [
        "class1_files_sorted[:5]"
      ],
      "metadata": {
        "colab": {
          "base_uri": "https://localhost:8080/"
        },
        "id": "zKF9ho8kq3Vs",
        "outputId": "41ce53eb-cc62-4b38-921f-042dc4ae669e"
      },
      "execution_count": 10,
      "outputs": [
        {
          "output_type": "execute_result",
          "data": {
            "text/plain": [
              "['01.jpeg', '010.jpeg', '011.jpeg', '012.jpeg', '013.jpeg']"
            ]
          },
          "metadata": {},
          "execution_count": 10
        }
      ]
    },
    {
      "cell_type": "code",
      "source": [
        "print(len(class1_files_sorted), len(class2_files_sorted), len(class3_files_sorted))"
      ],
      "metadata": {
        "colab": {
          "base_uri": "https://localhost:8080/"
        },
        "id": "fPE-ZxhcsijW",
        "outputId": "43a8a139-5a8f-4904-a508-b5ea5903494a"
      },
      "execution_count": 11,
      "outputs": [
        {
          "output_type": "stream",
          "name": "stdout",
          "text": [
            "70 70 111\n"
          ]
        }
      ]
    },
    {
      "cell_type": "markdown",
      "source": [
        "split class 1 to train, validation and test"
      ],
      "metadata": {
        "id": "_pqOlA9UxN00"
      }
    },
    {
      "cell_type": "code",
      "source": [
        "for f in class1_files_sorted[:35]:\n",
        "  src = os.path.join(class1_path, f)\n",
        "  dst = os.path.join('/content/train/01/', f)\n",
        "  shutil.copyfile(src, dst)"
      ],
      "metadata": {
        "id": "JziNzpIVhSm8"
      },
      "execution_count": 12,
      "outputs": []
    },
    {
      "cell_type": "code",
      "source": [
        "for f in class1_files_sorted[35:53]:\n",
        "  src = os.path.join(class1_path, f)\n",
        "  dst = os.path.join('/content/validation/01/', f)\n",
        "  shutil.copyfile(src, dst)"
      ],
      "metadata": {
        "id": "hWiWoxRHvlJx"
      },
      "execution_count": 13,
      "outputs": []
    },
    {
      "cell_type": "code",
      "source": [
        "for f in class1_files_sorted[53:]:\n",
        "  src = os.path.join(class1_path, f)\n",
        "  dst = os.path.join('/content/test/01/', f)\n",
        "  shutil.copyfile(src, dst)"
      ],
      "metadata": {
        "id": "GT_QFsMVvmn5"
      },
      "execution_count": 14,
      "outputs": []
    },
    {
      "cell_type": "markdown",
      "source": [
        "split class 2 to train, validation and test"
      ],
      "metadata": {
        "id": "88kecgbexVkp"
      }
    },
    {
      "cell_type": "code",
      "source": [
        "for f in class2_files_sorted[:35]:\n",
        "  src = os.path.join(class2_path, f)\n",
        "  dst = os.path.join('/content/train/02/', f)\n",
        "  shutil.copyfile(src, dst)"
      ],
      "metadata": {
        "id": "eJoqFi6iwJOw"
      },
      "execution_count": 15,
      "outputs": []
    },
    {
      "cell_type": "code",
      "source": [
        "for f in class2_files_sorted[35:53]:\n",
        "  src = os.path.join(class2_path, f)\n",
        "  dst = os.path.join('/content/validation/02/', f)\n",
        "  shutil.copyfile(src, dst)"
      ],
      "metadata": {
        "id": "TFIN8icqwO_o"
      },
      "execution_count": 16,
      "outputs": []
    },
    {
      "cell_type": "code",
      "source": [
        "for f in class2_files_sorted[53:]:\n",
        "  src = os.path.join(class2_path, f)\n",
        "  dst = os.path.join('/content/test/02/', f)\n",
        "  shutil.copyfile(src, dst)"
      ],
      "metadata": {
        "id": "XYgoXAanwTci"
      },
      "execution_count": 17,
      "outputs": []
    },
    {
      "cell_type": "markdown",
      "source": [
        "split class 3 to train, validation and test"
      ],
      "metadata": {
        "id": "4hINMLRRxXcH"
      }
    },
    {
      "cell_type": "code",
      "source": [
        "for f in class3_files_sorted[:35]:\n",
        "  src = os.path.join(class3_path, f)\n",
        "  dst = os.path.join('/content/train/03/', f)\n",
        "  shutil.copyfile(src, dst)"
      ],
      "metadata": {
        "id": "jMB-cjrAwjTv"
      },
      "execution_count": 18,
      "outputs": []
    },
    {
      "cell_type": "code",
      "source": [
        "for f in class3_files_sorted[35:53]:\n",
        "  src = os.path.join(class3_path, f)\n",
        "  dst = os.path.join('/content/validation/03/', f)\n",
        "  shutil.copyfile(src, dst)"
      ],
      "metadata": {
        "id": "7yHm2CR1wrT9"
      },
      "execution_count": 19,
      "outputs": []
    },
    {
      "cell_type": "code",
      "source": [
        "for f in class3_files_sorted[53:70]:\n",
        "  src = os.path.join(class3_path, f)\n",
        "  dst = os.path.join('/content/test/03/', f)\n",
        "  shutil.copyfile(src, dst)"
      ],
      "metadata": {
        "id": "LGELr4FuwvGl"
      },
      "execution_count": 20,
      "outputs": []
    },
    {
      "cell_type": "code",
      "source": [
        "print(len(os.listdir('/content/train/01/')), len(os.listdir('/content/train/02/')), len(os.listdir('/content/train/03/')))"
      ],
      "metadata": {
        "colab": {
          "base_uri": "https://localhost:8080/"
        },
        "id": "bZVvLtUyyFzD",
        "outputId": "4309725c-032f-47a7-dcbc-b5059d63139f"
      },
      "execution_count": 21,
      "outputs": [
        {
          "output_type": "stream",
          "name": "stdout",
          "text": [
            "35 35 35\n"
          ]
        }
      ]
    },
    {
      "cell_type": "code",
      "source": [
        "print(len(os.listdir('/content/validation/01/')), len(os.listdir('/content/validation/02/')), len(os.listdir('/content/validation/03/')))"
      ],
      "metadata": {
        "colab": {
          "base_uri": "https://localhost:8080/"
        },
        "id": "RI0J_tFtyaUz",
        "outputId": "1b8a809f-773a-4a53-f364-dde5cc6c3235"
      },
      "execution_count": 22,
      "outputs": [
        {
          "output_type": "stream",
          "name": "stdout",
          "text": [
            "18 18 18\n"
          ]
        }
      ]
    },
    {
      "cell_type": "code",
      "source": [
        "print(len(os.listdir('/content/test/01/')), len(os.listdir('/content/test/02/')), len(os.listdir('/content/test/03/')))"
      ],
      "metadata": {
        "colab": {
          "base_uri": "https://localhost:8080/"
        },
        "id": "w2mpEiGOyiXi",
        "outputId": "eced90a1-c7b0-474c-8bde-60dd1bd242ef"
      },
      "execution_count": 23,
      "outputs": [
        {
          "output_type": "stream",
          "name": "stdout",
          "text": [
            "17 17 17\n"
          ]
        }
      ]
    },
    {
      "cell_type": "markdown",
      "source": [
        "VGG MODEL"
      ],
      "metadata": {
        "id": "LIKBb0DvpwD_"
      }
    },
    {
      "cell_type": "code",
      "source": [
        "from keras.applications import VGG16\n",
        "\n",
        "conv_base = VGG16(weights='imagenet',\n",
        "                  include_top=False,\n",
        "                  input_shape=(150, 150, 3))"
      ],
      "metadata": {
        "id": "CvvLrC1mpyGu"
      },
      "execution_count": 35,
      "outputs": []
    },
    {
      "cell_type": "code",
      "source": [
        "conv_base.summary()"
      ],
      "metadata": {
        "id": "3Mo0pWo_p4b_",
        "outputId": "0da8ef9b-6e4d-4980-c3ab-5a3a28457e70",
        "colab": {
          "base_uri": "https://localhost:8080/"
        }
      },
      "execution_count": 36,
      "outputs": [
        {
          "output_type": "stream",
          "name": "stdout",
          "text": [
            "Model: \"vgg16\"\n",
            "_________________________________________________________________\n",
            " Layer (type)                Output Shape              Param #   \n",
            "=================================================================\n",
            " input_3 (InputLayer)        [(None, 150, 150, 3)]     0         \n",
            "                                                                 \n",
            " block1_conv1 (Conv2D)       (None, 150, 150, 64)      1792      \n",
            "                                                                 \n",
            " block1_conv2 (Conv2D)       (None, 150, 150, 64)      36928     \n",
            "                                                                 \n",
            " block1_pool (MaxPooling2D)  (None, 75, 75, 64)        0         \n",
            "                                                                 \n",
            " block2_conv1 (Conv2D)       (None, 75, 75, 128)       73856     \n",
            "                                                                 \n",
            " block2_conv2 (Conv2D)       (None, 75, 75, 128)       147584    \n",
            "                                                                 \n",
            " block2_pool (MaxPooling2D)  (None, 37, 37, 128)       0         \n",
            "                                                                 \n",
            " block3_conv1 (Conv2D)       (None, 37, 37, 256)       295168    \n",
            "                                                                 \n",
            " block3_conv2 (Conv2D)       (None, 37, 37, 256)       590080    \n",
            "                                                                 \n",
            " block3_conv3 (Conv2D)       (None, 37, 37, 256)       590080    \n",
            "                                                                 \n",
            " block3_pool (MaxPooling2D)  (None, 18, 18, 256)       0         \n",
            "                                                                 \n",
            " block4_conv1 (Conv2D)       (None, 18, 18, 512)       1180160   \n",
            "                                                                 \n",
            " block4_conv2 (Conv2D)       (None, 18, 18, 512)       2359808   \n",
            "                                                                 \n",
            " block4_conv3 (Conv2D)       (None, 18, 18, 512)       2359808   \n",
            "                                                                 \n",
            " block4_pool (MaxPooling2D)  (None, 9, 9, 512)         0         \n",
            "                                                                 \n",
            " block5_conv1 (Conv2D)       (None, 9, 9, 512)         2359808   \n",
            "                                                                 \n",
            " block5_conv2 (Conv2D)       (None, 9, 9, 512)         2359808   \n",
            "                                                                 \n",
            " block5_conv3 (Conv2D)       (None, 9, 9, 512)         2359808   \n",
            "                                                                 \n",
            " block5_pool (MaxPooling2D)  (None, 4, 4, 512)         0         \n",
            "                                                                 \n",
            "=================================================================\n",
            "Total params: 14714688 (56.13 MB)\n",
            "Trainable params: 14714688 (56.13 MB)\n",
            "Non-trainable params: 0 (0.00 Byte)\n",
            "_________________________________________________________________\n"
          ]
        }
      ]
    },
    {
      "cell_type": "code",
      "source": [
        "train_dir = '/content/train/'\n",
        "validation_dir = '/content/validation/'\n",
        "test_dir = '/content/test/'\n",
        "\n",
        "datagen = ImageDataGenerator(rescale=1./255)\n",
        "#batch_size = 10\n",
        "\n",
        "def extract_features(directory, sample_count, batch_size):\n",
        "    features = np.zeros(shape=(sample_count, 4, 4, 512))\n",
        "    labels = np.zeros(shape=(sample_count, 3))\n",
        "    generator = datagen.flow_from_directory(\n",
        "        directory,\n",
        "        target_size=(150, 150),\n",
        "        batch_size=batch_size,\n",
        "        class_mode='categorical')\n",
        "    i = 0\n",
        "    for inputs_batch, labels_batch in generator:\n",
        "        features_batch = conv_base.predict(inputs_batch)\n",
        "        features[i * batch_size : (i + 1) * batch_size] = features_batch\n",
        "        labels[i * batch_size : (i + 1) * batch_size] = labels_batch\n",
        "        i += 1\n",
        "        if i * batch_size >= sample_count:\n",
        "            # Note that since generators yield data indefinitely in a loop,\n",
        "            # we must `break` after every image has been seen once.\n",
        "            break\n",
        "    return features, labels\n",
        "\n",
        "train_features, train_labels = extract_features(train_dir, 35, 5)\n",
        "validation_features, validation_labels = extract_features(validation_dir, 18, 9)\n",
        "test_features, test_labels = extract_features(test_dir, 17, 17)"
      ],
      "metadata": {
        "id": "buo3_dW6p7df",
        "outputId": "8e688c3a-0085-465f-f87e-da906b6de9b0",
        "colab": {
          "base_uri": "https://localhost:8080/"
        }
      },
      "execution_count": 37,
      "outputs": [
        {
          "output_type": "stream",
          "name": "stdout",
          "text": [
            "Found 105 images belonging to 3 classes.\n",
            "1/1 [==============================] - 1s 1s/step\n",
            "1/1 [==============================] - 2s 2s/step\n",
            "1/1 [==============================] - 2s 2s/step\n",
            "1/1 [==============================] - 1s 1s/step\n",
            "1/1 [==============================] - 1s 1s/step\n",
            "1/1 [==============================] - 1s 1s/step\n",
            "1/1 [==============================] - 1s 995ms/step\n",
            "Found 54 images belonging to 3 classes.\n",
            "1/1 [==============================] - 2s 2s/step\n",
            "1/1 [==============================] - 2s 2s/step\n",
            "Found 51 images belonging to 3 classes.\n",
            "1/1 [==============================] - 5s 5s/step\n"
          ]
        }
      ]
    },
    {
      "cell_type": "code",
      "source": [
        "train_features = np.reshape(train_features, (35, 4 * 4 * 512))\n",
        "validation_features = np.reshape(validation_features, (18, 4 * 4 * 512))\n",
        "test_features = np.reshape(test_features, (17, 4 * 4 * 512))"
      ],
      "metadata": {
        "id": "wf3qRB3btZn0"
      },
      "execution_count": 38,
      "outputs": []
    },
    {
      "cell_type": "code",
      "source": [
        "model = models.Sequential()\n",
        "model.add(layers.Dense(512, activation='relu', input_dim=4 * 4 * 512))\n",
        "model.add(layers.Dropout(0.5))\n",
        "model.add(layers.Dense(256, activation='relu', input_dim=4 * 4 * 512))\n",
        "model.add(layers.Dropout(0.5))\n",
        "model.add(layers.Dense(128, activation='relu', input_dim=4 * 4 * 512))\n",
        "model.add(layers.Dropout(0.5))\n",
        "model.add(layers.Dense(3, activation='softmax'))\n",
        "\n",
        "model.compile(optimizer=optimizers.RMSprop(lr=2e-5),\n",
        "              loss='categorical_crossentropy',\n",
        "              metrics=['acc'])\n",
        "\n",
        "history = model.fit(train_features, train_labels,\n",
        "                    epochs=30,\n",
        "                    batch_size=20,\n",
        "                    validation_data=(validation_features, validation_labels))"
      ],
      "metadata": {
        "id": "yi13MmFItl9S",
        "outputId": "167b4a3d-3afa-403b-eed7-ce1bfd7cecef",
        "colab": {
          "base_uri": "https://localhost:8080/"
        }
      },
      "execution_count": 39,
      "outputs": [
        {
          "output_type": "stream",
          "name": "stderr",
          "text": [
            "WARNING:absl:`lr` is deprecated in Keras optimizer, please use `learning_rate` or use the legacy optimizer, e.g.,tf.keras.optimizers.legacy.RMSprop.\n"
          ]
        },
        {
          "output_type": "stream",
          "name": "stdout",
          "text": [
            "Epoch 1/30\n",
            "2/2 [==============================] - 1s 274ms/step - loss: 2.0848 - acc: 0.4286 - val_loss: 1.3695 - val_acc: 0.5556\n",
            "Epoch 2/30\n",
            "2/2 [==============================] - 0s 72ms/step - loss: 2.1645 - acc: 0.6571 - val_loss: 2.4475 - val_acc: 0.2778\n",
            "Epoch 3/30\n",
            "2/2 [==============================] - 0s 75ms/step - loss: 4.2922 - acc: 0.3429 - val_loss: 0.9827 - val_acc: 0.6667\n",
            "Epoch 4/30\n",
            "2/2 [==============================] - 0s 82ms/step - loss: 4.1354 - acc: 0.3429 - val_loss: 1.5017 - val_acc: 0.3889\n",
            "Epoch 5/30\n",
            "2/2 [==============================] - 0s 83ms/step - loss: 2.1670 - acc: 0.4286 - val_loss: 0.6996 - val_acc: 0.7222\n",
            "Epoch 6/30\n",
            "2/2 [==============================] - 0s 93ms/step - loss: 2.3571 - acc: 0.5143 - val_loss: 0.9087 - val_acc: 0.6111\n",
            "Epoch 7/30\n",
            "2/2 [==============================] - 0s 75ms/step - loss: 1.1721 - acc: 0.5143 - val_loss: 0.8772 - val_acc: 0.6111\n",
            "Epoch 8/30\n",
            "2/2 [==============================] - 0s 98ms/step - loss: 0.9228 - acc: 0.6571 - val_loss: 0.8278 - val_acc: 0.5556\n",
            "Epoch 9/30\n",
            "2/2 [==============================] - 0s 69ms/step - loss: 1.1784 - acc: 0.6000 - val_loss: 1.1983 - val_acc: 0.3333\n",
            "Epoch 10/30\n",
            "2/2 [==============================] - 0s 118ms/step - loss: 2.1941 - acc: 0.3714 - val_loss: 0.7125 - val_acc: 0.7778\n",
            "Epoch 11/30\n",
            "2/2 [==============================] - 0s 137ms/step - loss: 1.1172 - acc: 0.7143 - val_loss: 0.9947 - val_acc: 0.5000\n",
            "Epoch 12/30\n",
            "2/2 [==============================] - 0s 150ms/step - loss: 0.9591 - acc: 0.6286 - val_loss: 0.7240 - val_acc: 0.5556\n",
            "Epoch 13/30\n",
            "2/2 [==============================] - 0s 123ms/step - loss: 1.0522 - acc: 0.6571 - val_loss: 0.7096 - val_acc: 0.6111\n",
            "Epoch 14/30\n",
            "2/2 [==============================] - 0s 194ms/step - loss: 0.9504 - acc: 0.6857 - val_loss: 0.5870 - val_acc: 0.8333\n",
            "Epoch 15/30\n",
            "2/2 [==============================] - 0s 163ms/step - loss: 0.9302 - acc: 0.5714 - val_loss: 0.6566 - val_acc: 0.7222\n",
            "Epoch 16/30\n",
            "2/2 [==============================] - 0s 71ms/step - loss: 1.0927 - acc: 0.6286 - val_loss: 0.6127 - val_acc: 0.7778\n",
            "Epoch 17/30\n",
            "2/2 [==============================] - 0s 73ms/step - loss: 0.8975 - acc: 0.6857 - val_loss: 0.5432 - val_acc: 0.8333\n",
            "Epoch 18/30\n",
            "2/2 [==============================] - 0s 83ms/step - loss: 0.5512 - acc: 0.8286 - val_loss: 0.5819 - val_acc: 0.8333\n",
            "Epoch 19/30\n",
            "2/2 [==============================] - 0s 75ms/step - loss: 0.4066 - acc: 0.8857 - val_loss: 0.5446 - val_acc: 0.8333\n",
            "Epoch 20/30\n",
            "2/2 [==============================] - 0s 102ms/step - loss: 0.3207 - acc: 0.9429 - val_loss: 0.7191 - val_acc: 0.7222\n",
            "Epoch 21/30\n",
            "2/2 [==============================] - 0s 88ms/step - loss: 0.3913 - acc: 0.9143 - val_loss: 0.5147 - val_acc: 0.8333\n",
            "Epoch 22/30\n",
            "2/2 [==============================] - 0s 73ms/step - loss: 0.3036 - acc: 0.8571 - val_loss: 0.5484 - val_acc: 0.8889\n",
            "Epoch 23/30\n",
            "2/2 [==============================] - 0s 70ms/step - loss: 0.1517 - acc: 1.0000 - val_loss: 0.4794 - val_acc: 0.7778\n",
            "Epoch 24/30\n",
            "2/2 [==============================] - 0s 74ms/step - loss: 0.5119 - acc: 0.8000 - val_loss: 0.5203 - val_acc: 0.8333\n",
            "Epoch 25/30\n",
            "2/2 [==============================] - 0s 77ms/step - loss: 0.3207 - acc: 0.8571 - val_loss: 1.0029 - val_acc: 0.6667\n",
            "Epoch 26/30\n",
            "2/2 [==============================] - 0s 84ms/step - loss: 0.4783 - acc: 0.8571 - val_loss: 0.4648 - val_acc: 0.8333\n",
            "Epoch 27/30\n",
            "2/2 [==============================] - 0s 82ms/step - loss: 0.2160 - acc: 0.9429 - val_loss: 0.4549 - val_acc: 0.8333\n",
            "Epoch 28/30\n",
            "2/2 [==============================] - 0s 89ms/step - loss: 0.2726 - acc: 0.9143 - val_loss: 0.4675 - val_acc: 0.8333\n",
            "Epoch 29/30\n",
            "2/2 [==============================] - 0s 73ms/step - loss: 0.1758 - acc: 0.8857 - val_loss: 0.6238 - val_acc: 0.7778\n",
            "Epoch 30/30\n",
            "2/2 [==============================] - 0s 81ms/step - loss: 0.1272 - acc: 0.9714 - val_loss: 0.4579 - val_acc: 0.8333\n"
          ]
        }
      ]
    },
    {
      "cell_type": "code",
      "source": [
        "model.save('MODEL_3.h5')"
      ],
      "metadata": {
        "id": "I64U0JdsuZyq",
        "outputId": "1f21b165-9366-4c34-81f6-077d779879e5",
        "colab": {
          "base_uri": "https://localhost:8080/"
        }
      },
      "execution_count": 40,
      "outputs": [
        {
          "output_type": "stream",
          "name": "stderr",
          "text": [
            "/usr/local/lib/python3.10/dist-packages/keras/src/engine/training.py:3000: UserWarning: You are saving your model as an HDF5 file via `model.save()`. This file format is considered legacy. We recommend using instead the native Keras format, e.g. `model.save('my_model.keras')`.\n",
            "  saving_api.save_model(\n"
          ]
        }
      ]
    },
    {
      "cell_type": "code",
      "source": [
        "import matplotlib.pyplot as plt\n",
        "\n",
        "acc = history.history['acc']\n",
        "val_acc = history.history['val_acc']\n",
        "loss = history.history['loss']\n",
        "val_loss = history.history['val_loss']\n",
        "\n",
        "epochs = range(len(acc))\n",
        "\n",
        "plt.plot(epochs, acc, 'bo', label='Training acc')\n",
        "plt.plot(epochs, val_acc, 'b', label='Validation acc')\n",
        "plt.title('Training and validation accuracy')\n",
        "plt.legend()\n",
        "\n",
        "plt.figure()\n",
        "\n",
        "plt.plot(epochs, loss, 'bo', label='Training loss')\n",
        "plt.plot(epochs, val_loss, 'b', label='Validation loss')\n",
        "plt.title('Training and validation loss')\n",
        "plt.legend()\n",
        "\n",
        "plt.show()"
      ],
      "metadata": {
        "id": "PQuil1WsuAHT",
        "outputId": "d3e89dcc-8b2a-4b33-d11e-66b9209ded98",
        "colab": {
          "base_uri": "https://localhost:8080/",
          "height": 887
        }
      },
      "execution_count": 41,
      "outputs": [
        {
          "output_type": "display_data",
          "data": {
            "text/plain": [
              "<Figure size 640x480 with 1 Axes>"
            ],
            "image/png": "[encoded data removed]"
          },
          "metadata": {}
        },
        {
          "output_type": "display_data",
          "data": {
            "text/plain": [
              "<Figure size 640x480 with 1 Axes>"
            ],
            "image/png": "[encoded data removed]"
          },
          "metadata": {}
        }
      ]
    }
  ]
}